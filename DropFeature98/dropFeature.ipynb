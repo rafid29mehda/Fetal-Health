{
  "nbformat": 4,
  "nbformat_minor": 0,
  "metadata": {
    "colab": {
      "provenance": []
    },
    "kernelspec": {
      "name": "python3",
      "display_name": "Python 3"
    },
    "language_info": {
      "name": "python"
    }
  },
  "cells": [
    {
      "cell_type": "code",
      "source": [
        "# Install pytorch-tabnet\n",
        "!pip install pytorch-tabnet\n",
        "\n",
        "# Install LightGBM\n",
        "!pip install lightgbm\n",
        "\n",
        "# Optional: Install scikit-learn-contrib for any additional functionalities\n",
        "!pip install scikit-learn-contrib\n",
        "\n",
        "# Install dask-expr\n",
        "!pip install dask-expr\n",
        "\n",
        "# Install imbalanced-learn for SMOTE (if not already installed)\n",
        "!pip install imbalanced-learn\n"
      ],
      "metadata": {
        "id": "rCIKYcjSjoV6",
        "colab": {
          "base_uri": "https://localhost:8080/"
        },
        "outputId": "47066467-5b87-40de-b14b-371637dfbb1e"
      },
      "execution_count": 19,
      "outputs": [
        {
          "output_type": "stream",
          "name": "stdout",
          "text": [
            "Requirement already satisfied: pytorch-tabnet in /usr/local/lib/python3.10/dist-packages (4.1.0)\n",
            "Requirement already satisfied: numpy>=1.17 in /usr/local/lib/python3.10/dist-packages (from pytorch-tabnet) (1.26.4)\n",
            "Requirement already satisfied: scikit_learn>0.21 in /usr/local/lib/python3.10/dist-packages (from pytorch-tabnet) (1.6.0)\n",
            "Requirement already satisfied: scipy>1.4 in /usr/local/lib/python3.10/dist-packages (from pytorch-tabnet) (1.13.1)\n",
            "Requirement already satisfied: torch>=1.3 in /usr/local/lib/python3.10/dist-packages (from pytorch-tabnet) (2.5.1+cu121)\n",
            "Requirement already satisfied: tqdm>=4.36 in /usr/local/lib/python3.10/dist-packages (from pytorch-tabnet) (4.67.1)\n",
            "Requirement already satisfied: joblib>=1.2.0 in /usr/local/lib/python3.10/dist-packages (from scikit_learn>0.21->pytorch-tabnet) (1.4.2)\n",
            "Requirement already satisfied: threadpoolctl>=3.1.0 in /usr/local/lib/python3.10/dist-packages (from scikit_learn>0.21->pytorch-tabnet) (3.5.0)\n",
            "Requirement already satisfied: filelock in /usr/local/lib/python3.10/dist-packages (from torch>=1.3->pytorch-tabnet) (3.16.1)\n",
            "Requirement already satisfied: typing-extensions>=4.8.0 in /usr/local/lib/python3.10/dist-packages (from torch>=1.3->pytorch-tabnet) (4.12.2)\n",
            "Requirement already satisfied: networkx in /usr/local/lib/python3.10/dist-packages (from torch>=1.3->pytorch-tabnet) (3.4.2)\n",
            "Requirement already satisfied: jinja2 in /usr/local/lib/python3.10/dist-packages (from torch>=1.3->pytorch-tabnet) (3.1.4)\n",
            "Requirement already satisfied: fsspec in /usr/local/lib/python3.10/dist-packages (from torch>=1.3->pytorch-tabnet) (2024.10.0)\n",
            "Requirement already satisfied: sympy==1.13.1 in /usr/local/lib/python3.10/dist-packages (from torch>=1.3->pytorch-tabnet) (1.13.1)\n",
            "Requirement already satisfied: mpmath<1.4,>=1.1.0 in /usr/local/lib/python3.10/dist-packages (from sympy==1.13.1->torch>=1.3->pytorch-tabnet) (1.3.0)\n",
            "Requirement already satisfied: MarkupSafe>=2.0 in /usr/local/lib/python3.10/dist-packages (from jinja2->torch>=1.3->pytorch-tabnet) (3.0.2)\n",
            "Requirement already satisfied: lightgbm in /usr/local/lib/python3.10/dist-packages (4.5.0)\n",
            "Requirement already satisfied: numpy>=1.17.0 in /usr/local/lib/python3.10/dist-packages (from lightgbm) (1.26.4)\n",
            "Requirement already satisfied: scipy in /usr/local/lib/python3.10/dist-packages (from lightgbm) (1.13.1)\n",
            "\u001b[31mERROR: Could not find a version that satisfies the requirement scikit-learn-contrib (from versions: none)\u001b[0m\u001b[31m\n",
            "\u001b[0m\u001b[31mERROR: No matching distribution found for scikit-learn-contrib\u001b[0m\u001b[31m\n",
            "\u001b[0mCollecting dask-expr\n",
            "  Downloading dask_expr-1.1.21-py3-none-any.whl.metadata (2.6 kB)\n",
            "Collecting dask==2024.12.1 (from dask-expr)\n",
            "  Downloading dask-2024.12.1-py3-none-any.whl.metadata (3.7 kB)\n",
            "Requirement already satisfied: pyarrow>=14.0.1 in /usr/local/lib/python3.10/dist-packages (from dask-expr) (17.0.0)\n",
            "Requirement already satisfied: pandas>=2 in /usr/local/lib/python3.10/dist-packages (from dask-expr) (2.2.2)\n",
            "Requirement already satisfied: click>=8.1 in /usr/local/lib/python3.10/dist-packages (from dask==2024.12.1->dask-expr) (8.1.7)\n",
            "Requirement already satisfied: cloudpickle>=3.0.0 in /usr/local/lib/python3.10/dist-packages (from dask==2024.12.1->dask-expr) (3.1.0)\n",
            "Requirement already satisfied: fsspec>=2021.09.0 in /usr/local/lib/python3.10/dist-packages (from dask==2024.12.1->dask-expr) (2024.10.0)\n",
            "Requirement already satisfied: packaging>=20.0 in /usr/local/lib/python3.10/dist-packages (from dask==2024.12.1->dask-expr) (24.2)\n",
            "Requirement already satisfied: partd>=1.4.0 in /usr/local/lib/python3.10/dist-packages (from dask==2024.12.1->dask-expr) (1.4.2)\n",
            "Requirement already satisfied: pyyaml>=5.3.1 in /usr/local/lib/python3.10/dist-packages (from dask==2024.12.1->dask-expr) (6.0.2)\n",
            "Requirement already satisfied: toolz>=0.10.0 in /usr/local/lib/python3.10/dist-packages (from dask==2024.12.1->dask-expr) (0.12.1)\n",
            "Requirement already satisfied: importlib_metadata>=4.13.0 in /usr/local/lib/python3.10/dist-packages (from dask==2024.12.1->dask-expr) (8.5.0)\n",
            "Requirement already satisfied: numpy>=1.22.4 in /usr/local/lib/python3.10/dist-packages (from pandas>=2->dask-expr) (1.26.4)\n",
            "Requirement already satisfied: python-dateutil>=2.8.2 in /usr/local/lib/python3.10/dist-packages (from pandas>=2->dask-expr) (2.8.2)\n",
            "Requirement already satisfied: pytz>=2020.1 in /usr/local/lib/python3.10/dist-packages (from pandas>=2->dask-expr) (2024.2)\n",
            "Requirement already satisfied: tzdata>=2022.7 in /usr/local/lib/python3.10/dist-packages (from pandas>=2->dask-expr) (2024.2)\n",
            "Requirement already satisfied: zipp>=3.20 in /usr/local/lib/python3.10/dist-packages (from importlib_metadata>=4.13.0->dask==2024.12.1->dask-expr) (3.21.0)\n",
            "Requirement already satisfied: locket in /usr/local/lib/python3.10/dist-packages (from partd>=1.4.0->dask==2024.12.1->dask-expr) (1.0.0)\n",
            "Requirement already satisfied: six>=1.5 in /usr/local/lib/python3.10/dist-packages (from python-dateutil>=2.8.2->pandas>=2->dask-expr) (1.17.0)\n",
            "Downloading dask_expr-1.1.21-py3-none-any.whl (244 kB)\n",
            "\u001b[2K   \u001b[90m━━━━━━━━━━━━━━━━━━━━━━━━━━━━━━━━━━━━━━━━\u001b[0m \u001b[32m244.3/244.3 kB\u001b[0m \u001b[31m13.1 MB/s\u001b[0m eta \u001b[36m0:00:00\u001b[0m\n",
            "\u001b[?25hDownloading dask-2024.12.1-py3-none-any.whl (1.3 MB)\n",
            "\u001b[2K   \u001b[90m━━━━━━━━━━━━━━━━━━━━━━━━━━━━━━━━━━━━━━━━\u001b[0m \u001b[32m1.3/1.3 MB\u001b[0m \u001b[31m56.9 MB/s\u001b[0m eta \u001b[36m0:00:00\u001b[0m\n",
            "\u001b[?25hInstalling collected packages: dask, dask-expr\n",
            "  Attempting uninstall: dask\n",
            "    Found existing installation: dask 2024.10.0\n",
            "    Uninstalling dask-2024.10.0:\n",
            "      Successfully uninstalled dask-2024.10.0\n",
            "Successfully installed dask-2024.12.1 dask-expr-1.1.21\n",
            "Requirement already satisfied: imbalanced-learn in /usr/local/lib/python3.10/dist-packages (0.12.4)\n",
            "Requirement already satisfied: numpy>=1.17.3 in /usr/local/lib/python3.10/dist-packages (from imbalanced-learn) (1.26.4)\n",
            "Requirement already satisfied: scipy>=1.5.0 in /usr/local/lib/python3.10/dist-packages (from imbalanced-learn) (1.13.1)\n",
            "Requirement already satisfied: scikit-learn>=1.0.2 in /usr/local/lib/python3.10/dist-packages (from imbalanced-learn) (1.6.0)\n",
            "Requirement already satisfied: joblib>=1.1.1 in /usr/local/lib/python3.10/dist-packages (from imbalanced-learn) (1.4.2)\n",
            "Requirement already satisfied: threadpoolctl>=2.0.0 in /usr/local/lib/python3.10/dist-packages (from imbalanced-learn) (3.5.0)\n"
          ]
        }
      ]
    },
    {
      "cell_type": "code",
      "source": [
        "# Data manipulation and analysis\n",
        "import pandas as pd\n",
        "import numpy as np\n",
        "\n",
        "# Visualization\n",
        "import matplotlib.pyplot as plt\n",
        "import seaborn as sns\n",
        "\n",
        "# Preprocessing and modeling\n",
        "from sklearn.model_selection import train_test_split, StratifiedKFold\n",
        "from sklearn.preprocessing import StandardScaler\n",
        "from sklearn.ensemble import RandomForestClassifier\n",
        "from sklearn.metrics import classification_report, confusion_matrix, accuracy_score\n",
        "from sklearn.linear_model import LogisticRegression\n",
        "\n",
        "# Handling imbalanced data\n",
        "from imblearn.over_sampling import SMOTE\n",
        "\n",
        "# Traditional ML\n",
        "import lightgbm as lgb\n",
        "\n",
        "# Deep Learning Model\n",
        "from pytorch_tabnet.tab_model import TabNetClassifier\n",
        "\n",
        "# Explainable AI\n",
        "import shap\n",
        "\n",
        "# Meta-Learner\n",
        "from sklearn.linear_model import LogisticRegression\n",
        "\n",
        "# Suppress warnings for cleaner output\n",
        "import warnings\n",
        "warnings.filterwarnings('ignore')\n",
        "\n",
        "# For model saving and loading\n",
        "import joblib\n",
        "\n",
        "# Import torch for TabNet\n",
        "import torch\n"
      ],
      "metadata": {
        "id": "avvsbgBijoYO"
      },
      "execution_count": 20,
      "outputs": []
    },
    {
      "cell_type": "code",
      "source": [
        "# Replace 'fetal_health.csv' with your actual file path if different\n",
        "data = pd.read_csv('/content/fetal_health.csv')\n",
        "\n",
        "# Display the first five rows to verify\n",
        "print(\"First five rows of the dataset:\")\n",
        "print(data.head())\n",
        "\n",
        "# Check the shape of the dataset\n",
        "print(f\"Dataset Shape: {data.shape}\")\n"
      ],
      "metadata": {
        "id": "235S4Xdsjoae",
        "colab": {
          "base_uri": "https://localhost:8080/"
        },
        "outputId": "1c535faa-a832-4498-ae86-360675fdba78"
      },
      "execution_count": 51,
      "outputs": [
        {
          "output_type": "stream",
          "name": "stdout",
          "text": [
            "First five rows of the dataset:\n",
            "   baseline value  accelerations  fetal_movement  uterine_contractions  \\\n",
            "0           120.0          0.000             0.0                 0.000   \n",
            "1           132.0          0.006             0.0                 0.006   \n",
            "2           133.0          0.003             0.0                 0.008   \n",
            "3           134.0          0.003             0.0                 0.008   \n",
            "4           132.0          0.007             0.0                 0.008   \n",
            "\n",
            "   light_decelerations  severe_decelerations  prolongued_decelerations  \\\n",
            "0                0.000                   0.0                       0.0   \n",
            "1                0.003                   0.0                       0.0   \n",
            "2                0.003                   0.0                       0.0   \n",
            "3                0.003                   0.0                       0.0   \n",
            "4                0.000                   0.0                       0.0   \n",
            "\n",
            "   abnormal_short_term_variability  mean_value_of_short_term_variability  \\\n",
            "0                             73.0                                   0.5   \n",
            "1                             17.0                                   2.1   \n",
            "2                             16.0                                   2.1   \n",
            "3                             16.0                                   2.4   \n",
            "4                             16.0                                   2.4   \n",
            "\n",
            "   percentage_of_time_with_abnormal_long_term_variability  ...  histogram_min  \\\n",
            "0                                               43.0       ...           62.0   \n",
            "1                                                0.0       ...           68.0   \n",
            "2                                                0.0       ...           68.0   \n",
            "3                                                0.0       ...           53.0   \n",
            "4                                                0.0       ...           53.0   \n",
            "\n",
            "   histogram_max  histogram_number_of_peaks  histogram_number_of_zeroes  \\\n",
            "0          126.0                        2.0                         0.0   \n",
            "1          198.0                        6.0                         1.0   \n",
            "2          198.0                        5.0                         1.0   \n",
            "3          170.0                       11.0                         0.0   \n",
            "4          170.0                        9.0                         0.0   \n",
            "\n",
            "   histogram_mode  histogram_mean  histogram_median  histogram_variance  \\\n",
            "0           120.0           137.0             121.0                73.0   \n",
            "1           141.0           136.0             140.0                12.0   \n",
            "2           141.0           135.0             138.0                13.0   \n",
            "3           137.0           134.0             137.0                13.0   \n",
            "4           137.0           136.0             138.0                11.0   \n",
            "\n",
            "   histogram_tendency  fetal_health  \n",
            "0                 1.0           2.0  \n",
            "1                 0.0           1.0  \n",
            "2                 0.0           1.0  \n",
            "3                 1.0           1.0  \n",
            "4                 1.0           1.0  \n",
            "\n",
            "[5 rows x 22 columns]\n",
            "Dataset Shape: (2126, 22)\n"
          ]
        }
      ]
    },
    {
      "cell_type": "code",
      "source": [
        "# Features to drop based on SHAP importance\n",
        "features_to_drop = [\n",
        "    'fetal_movement',\n",
        "    'histogram_width',\n",
        "    'histogram_max',\n",
        "    'mean_value_of_long_term_variability',\n",
        "    'histogram_number_of_peaks',\n",
        "    'light_decelerations',\n",
        "    'histogram_tendency',\n",
        "    'histogram_number_of_zeroes',\n",
        "    'severe_decelerations',\n",
        "    # Optional: Uncomment the following lines to drop additional low-importance features\n",
        "    'baseline value',\n",
        "    'histogram_min'\n",
        "]\n",
        "\n",
        "# Drop the specified features\n",
        "data_dropped = data.drop(columns=features_to_drop)\n",
        "\n",
        "# Verify the remaining features\n",
        "print(\"\\nFeatures after dropping less important ones:\")\n",
        "print(data_dropped.columns.tolist())\n",
        "\n",
        "# Check the new shape of the dataset\n",
        "print(f\"\\nNew Dataset Shape after dropping features: {data_dropped.shape}\")\n"
      ],
      "metadata": {
        "id": "BKCwA8TXjocf",
        "colab": {
          "base_uri": "https://localhost:8080/"
        },
        "outputId": "352ddbc8-f3bc-45c0-a3e6-fe4ea69fc6df"
      },
      "execution_count": 52,
      "outputs": [
        {
          "output_type": "stream",
          "name": "stdout",
          "text": [
            "\n",
            "Features after dropping less important ones:\n",
            "['accelerations', 'uterine_contractions', 'prolongued_decelerations', 'abnormal_short_term_variability', 'mean_value_of_short_term_variability', 'percentage_of_time_with_abnormal_long_term_variability', 'histogram_mode', 'histogram_mean', 'histogram_median', 'histogram_variance', 'fetal_health']\n",
            "\n",
            "New Dataset Shape after dropping features: (2126, 11)\n"
          ]
        }
      ]
    },
    {
      "cell_type": "code",
      "source": [
        "# Convert 'fetal_health' to integer\n",
        "data_dropped['fetal_health'] = data_dropped['fetal_health'].astype(int)\n",
        "\n",
        "# Mapping numerical classes to descriptive labels\n",
        "health_mapping = {1: 'Normal', 2: 'Suspect', 3: 'Pathological'}\n",
        "data_dropped['fetal_health_label'] = data_dropped['fetal_health'].map(health_mapping)\n",
        "\n",
        "# Features (all columns except 'fetal_health' and 'fetal_health_label')\n",
        "X = data_dropped.drop(['fetal_health', 'fetal_health_label'], axis=1)\n",
        "\n",
        "# Target variable\n",
        "y = data_dropped['fetal_health']\n",
        "\n",
        "# Display the first five rows after dropping features\n",
        "print(\"\\nFirst five rows after dropping features:\")\n",
        "print(data_dropped.head())\n"
      ],
      "metadata": {
        "id": "GhD8EMvdiAVK",
        "colab": {
          "base_uri": "https://localhost:8080/"
        },
        "outputId": "1ff34966-2699-40a6-942c-d7cf7a47c1db"
      },
      "execution_count": 53,
      "outputs": [
        {
          "output_type": "stream",
          "name": "stdout",
          "text": [
            "\n",
            "First five rows after dropping features:\n",
            "   accelerations  uterine_contractions  prolongued_decelerations  \\\n",
            "0          0.000                 0.000                       0.0   \n",
            "1          0.006                 0.006                       0.0   \n",
            "2          0.003                 0.008                       0.0   \n",
            "3          0.003                 0.008                       0.0   \n",
            "4          0.007                 0.008                       0.0   \n",
            "\n",
            "   abnormal_short_term_variability  mean_value_of_short_term_variability  \\\n",
            "0                             73.0                                   0.5   \n",
            "1                             17.0                                   2.1   \n",
            "2                             16.0                                   2.1   \n",
            "3                             16.0                                   2.4   \n",
            "4                             16.0                                   2.4   \n",
            "\n",
            "   percentage_of_time_with_abnormal_long_term_variability  histogram_mode  \\\n",
            "0                                               43.0                120.0   \n",
            "1                                                0.0                141.0   \n",
            "2                                                0.0                141.0   \n",
            "3                                                0.0                137.0   \n",
            "4                                                0.0                137.0   \n",
            "\n",
            "   histogram_mean  histogram_median  histogram_variance  fetal_health  \\\n",
            "0           137.0             121.0                73.0             2   \n",
            "1           136.0             140.0                12.0             1   \n",
            "2           135.0             138.0                13.0             1   \n",
            "3           134.0             137.0                13.0             1   \n",
            "4           136.0             138.0                11.0             1   \n",
            "\n",
            "  fetal_health_label  \n",
            "0            Suspect  \n",
            "1             Normal  \n",
            "2             Normal  \n",
            "3             Normal  \n",
            "4             Normal  \n"
          ]
        }
      ]
    },
    {
      "cell_type": "code",
      "source": [
        "# Initialize SMOTE with 'auto' strategy to resample all classes to the same size\n",
        "smote = SMOTE(sampling_strategy='auto', random_state=42)\n",
        "\n",
        "# Apply SMOTE to the entire dataset\n",
        "X_resampled, y_resampled = smote.fit_resample(X, y)\n",
        "\n",
        "# Display the shape of the resampled dataset and class distribution\n",
        "print(f\"\\nResampled X shape: {X_resampled.shape}\")\n",
        "print(f\"Resampled y distribution:\\n{y_resampled.value_counts()}\")\n"
      ],
      "metadata": {
        "colab": {
          "base_uri": "https://localhost:8080/"
        },
        "id": "dq03gWwB3W2r",
        "outputId": "9c84f0e7-7d1b-4f1a-9f53-ca502508c3bb"
      },
      "execution_count": 54,
      "outputs": [
        {
          "output_type": "stream",
          "name": "stdout",
          "text": [
            "\n",
            "Resampled X shape: (4965, 10)\n",
            "Resampled y distribution:\n",
            "fetal_health\n",
            "2    1655\n",
            "1    1655\n",
            "3    1655\n",
            "Name: count, dtype: int64\n"
          ]
        }
      ]
    },
    {
      "cell_type": "code",
      "source": [
        "# Split the resampled data (70% train, 30% test) with stratification\n",
        "X_train, X_test, y_train, y_test = train_test_split(\n",
        "    X_resampled, y_resampled, test_size=0.3, random_state=42, stratify=y_resampled\n",
        ")\n",
        "\n",
        "# Display the shapes of the training and testing sets\n",
        "print(f\"\\nTraining set shape: {X_train.shape}\")\n",
        "print(f\"Testing set shape: {X_test.shape}\")\n"
      ],
      "metadata": {
        "colab": {
          "base_uri": "https://localhost:8080/"
        },
        "id": "EsTrbTPV-KkH",
        "outputId": "c3c059d1-5d44-479d-ec69-69f606d90ddd"
      },
      "execution_count": 55,
      "outputs": [
        {
          "output_type": "stream",
          "name": "stdout",
          "text": [
            "\n",
            "Training set shape: (3475, 10)\n",
            "Testing set shape: (1490, 10)\n"
          ]
        }
      ]
    },
    {
      "cell_type": "code",
      "source": [
        "from sklearn.preprocessing import MinMaxScaler\n",
        "# Initialize the MinMaxScaler\n",
        "scaler = MinMaxScaler()\n",
        "\n",
        "# Fit the scaler on the training data and transform\n",
        "X_train_scaled = scaler.fit_transform(X_train)\n",
        "\n",
        "# Transform the testing data\n",
        "X_test_scaled = scaler.transform(X_test)\n",
        "\n",
        "# Convert the scaled arrays back to DataFrames for easier handling\n",
        "X_train_scaled = pd.DataFrame(X_train_scaled, columns=X.columns, index=X_train.index)\n",
        "X_test_scaled = pd.DataFrame(X_test_scaled, columns=X.columns, index=X_test.index)\n",
        "\n",
        "# Verify scaling by checking min and max values\n",
        "print(\"\\nMin of Scaled Training Features (Should be 0):\")\n",
        "print(X_train_scaled.min())\n",
        "\n",
        "print(\"\\nMax of Scaled Training Features (Should be 1):\")\n",
        "print(X_train_scaled.max())\n"
      ],
      "metadata": {
        "colab": {
          "base_uri": "https://localhost:8080/"
        },
        "id": "W2c1M7Xm3W7d",
        "outputId": "68825848-463c-40c5-9777-3866dbea34ac"
      },
      "execution_count": 58,
      "outputs": [
        {
          "output_type": "stream",
          "name": "stdout",
          "text": [
            "\n",
            "Min of Scaled Training Features (Should be 0):\n",
            "accelerations                                             0.0\n",
            "uterine_contractions                                      0.0\n",
            "prolongued_decelerations                                  0.0\n",
            "abnormal_short_term_variability                           0.0\n",
            "mean_value_of_short_term_variability                      0.0\n",
            "percentage_of_time_with_abnormal_long_term_variability    0.0\n",
            "histogram_mode                                            0.0\n",
            "histogram_mean                                            0.0\n",
            "histogram_median                                          0.0\n",
            "histogram_variance                                        0.0\n",
            "dtype: float64\n",
            "\n",
            "Max of Scaled Training Features (Should be 1):\n",
            "accelerations                                             1.0\n",
            "uterine_contractions                                      1.0\n",
            "prolongued_decelerations                                  1.0\n",
            "abnormal_short_term_variability                           1.0\n",
            "mean_value_of_short_term_variability                      1.0\n",
            "percentage_of_time_with_abnormal_long_term_variability    1.0\n",
            "histogram_mode                                            1.0\n",
            "histogram_mean                                            1.0\n",
            "histogram_median                                          1.0\n",
            "histogram_variance                                        1.0\n",
            "dtype: float64\n"
          ]
        }
      ]
    },
    {
      "cell_type": "code",
      "source": [
        "# Adjust the target values so they start from 0\n",
        "y_train = y_train - 1\n",
        "y_test = y_test - 1\n",
        "\n",
        "# Display the adjusted target distributions\n",
        "print(\"\\nAdjusted y_train distribution:\")\n",
        "print(pd.Series(y_train).value_counts())\n",
        "\n",
        "print(\"\\nAdjusted y_test distribution:\")\n",
        "print(pd.Series(y_test).value_counts())\n"
      ],
      "metadata": {
        "id": "9-vj6_4giAeF",
        "colab": {
          "base_uri": "https://localhost:8080/"
        },
        "outputId": "c6b887f5-aa26-47af-c1ba-b1d5decb9539"
      },
      "execution_count": 59,
      "outputs": [
        {
          "output_type": "stream",
          "name": "stdout",
          "text": [
            "\n",
            "Adjusted y_train distribution:\n",
            "fetal_health\n",
            "0    1159\n",
            "1    1158\n",
            "2    1158\n",
            "Name: count, dtype: int64\n",
            "\n",
            "Adjusted y_test distribution:\n",
            "fetal_health\n",
            "1    497\n",
            "2    497\n",
            "0    496\n",
            "Name: count, dtype: int64\n"
          ]
        }
      ]
    },
    {
      "cell_type": "code",
      "source": [
        "# Initialize the LightGBM Classifier\n",
        "lgb_classifier = lgb.LGBMClassifier(\n",
        "    n_estimators=100,\n",
        "    learning_rate=0.05,\n",
        "    num_leaves=31,\n",
        "    objective='multiclass',\n",
        "    class_weight='balanced',\n",
        "    random_state=42\n",
        ")\n",
        "\n",
        "# Train the LightGBM model on the resampled and scaled training data\n",
        "lgb_classifier.fit(X_train_scaled, y_train)\n",
        "\n",
        "# Make predictions on the test set\n",
        "y_pred_lgb = lgb_classifier.predict(X_test_scaled)\n",
        "\n",
        "# Evaluate LightGBM performance\n",
        "print(\"\\nLightGBM Classification Report:\")\n",
        "print(classification_report(y_test, y_pred_lgb, target_names=['Normal', 'Suspect', 'Pathological']))\n",
        "\n",
        "# Confusion Matrix for LightGBM\n",
        "conf_matrix_lgb = confusion_matrix(y_test, y_pred_lgb)\n",
        "plt.figure(figsize=(8, 6))\n",
        "sns.heatmap(conf_matrix_lgb, annot=True, fmt='d', cmap='Blues',\n",
        "            xticklabels=['Normal', 'Suspect', 'Pathological'],\n",
        "            yticklabels=['Normal', 'Suspect', 'Pathological'])\n",
        "plt.title('LightGBM Confusion Matrix')\n",
        "plt.xlabel('Predicted Label')\n",
        "plt.ylabel('True Label')\n",
        "plt.show()\n"
      ],
      "metadata": {
        "colab": {
          "base_uri": "https://localhost:8080/",
          "height": 939
        },
        "id": "wUVFt4qT_l5i",
        "outputId": "c0a0f15d-a968-4633-8460-5aff80d8f98f"
      },
      "execution_count": 60,
      "outputs": [
        {
          "output_type": "stream",
          "name": "stdout",
          "text": [
            "[LightGBM] [Info] Auto-choosing row-wise multi-threading, the overhead of testing was 0.000451 seconds.\n",
            "You can set `force_row_wise=true` to remove the overhead.\n",
            "And if memory is not enough, you can set `force_col_wise=true`.\n",
            "[LightGBM] [Info] Total Bins 2546\n",
            "[LightGBM] [Info] Number of data points in the train set: 3475, number of used features: 10\n",
            "[LightGBM] [Info] Start training from score -1.098612\n",
            "[LightGBM] [Info] Start training from score -1.098612\n",
            "[LightGBM] [Info] Start training from score -1.098612\n",
            "[LightGBM] [Warning] No further splits with positive gain, best gain: -inf\n",
            "\n",
            "LightGBM Classification Report:\n",
            "              precision    recall  f1-score   support\n",
            "\n",
            "      Normal       0.99      0.96      0.98       496\n",
            "     Suspect       0.97      0.99      0.98       497\n",
            "Pathological       0.99      1.00      0.99       497\n",
            "\n",
            "    accuracy                           0.98      1490\n",
            "   macro avg       0.98      0.98      0.98      1490\n",
            "weighted avg       0.98      0.98      0.98      1490\n",
            "\n"
          ]
        },
        {
          "output_type": "display_data",
          "data": {
            "text/plain": [
              "<Figure size 800x600 with 2 Axes>"
            ],
            "image/png": "[encoded data removed]"
          },
          "metadata": {}
        }
      ]
    },
    {
      "cell_type": "code",
      "source": [
        "# Initialize the TabNet Classifier\n",
        "tabnet_classifier = TabNetClassifier(\n",
        "    n_d=64,                # Dimension of the decision step\n",
        "    n_a=64,                # Dimension of the attention step\n",
        "    n_steps=5,             # Number of steps in the architecture\n",
        "    gamma=1.3,             # Relaxation parameter\n",
        "    lambda_sparse=1e-3,    # Sparse regularization\n",
        "    optimizer_fn=torch.optim.Adam,\n",
        "    optimizer_params=dict(lr=2e-2),\n",
        "    mask_type='sparsemax', # \"sparsemax\" or \"entmax\"\n",
        "    verbose=1\n",
        ")\n",
        "\n",
        "# Train the TabNet model on the resampled and scaled training data\n",
        "tabnet_classifier.fit(\n",
        "    X_train=X_train_scaled.values,\n",
        "    y_train=y_train.values,\n",
        "    eval_set=[(X_train_scaled.values, y_train.values), (X_test_scaled.values, y_test.values)],\n",
        "    eval_name=['train', 'valid'],\n",
        "    eval_metric=['accuracy'],\n",
        "    max_epochs=100,\n",
        "    patience=20,\n",
        "    batch_size=256,\n",
        "    virtual_batch_size=128\n",
        ")\n",
        "\n",
        "# Make predictions on the test set\n",
        "y_pred_tabnet = tabnet_classifier.predict(X_test_scaled.values)\n",
        "\n",
        "# Evaluate TabNet performance\n",
        "print(\"\\nTabNet Classification Report:\")\n",
        "print(classification_report(y_test, y_pred_tabnet, target_names=['Normal', 'Suspect', 'Pathological']))\n",
        "\n",
        "# Confusion Matrix for TabNet\n",
        "conf_matrix_tabnet = confusion_matrix(y_test, y_pred_tabnet)\n",
        "plt.figure(figsize=(8, 6))\n",
        "sns.heatmap(conf_matrix_tabnet, annot=True, fmt='d', cmap='Greens',\n",
        "            xticklabels=['Normal', 'Suspect', 'Pathological'],\n",
        "            yticklabels=['Normal', 'Suspect', 'Pathological'])\n",
        "plt.title('TabNet Confusion Matrix')\n",
        "plt.xlabel('Predicted Label')\n",
        "plt.ylabel('True Label')\n",
        "plt.show()\n"
      ],
      "metadata": {
        "colab": {
          "base_uri": "https://localhost:8080/",
          "height": 1000
        },
        "id": "qV9gbO5Q_l7w",
        "outputId": "34ae2b32-278a-4390-ee42-f928fc2d03ea"
      },
      "execution_count": 61,
      "outputs": [
        {
          "output_type": "stream",
          "name": "stdout",
          "text": [
            "epoch 0  | loss: 0.78495 | train_accuracy: 0.61381 | valid_accuracy: 0.60738 |  0:00:01s\n",
            "epoch 1  | loss: 0.47248 | train_accuracy: 0.43424 | valid_accuracy: 0.42617 |  0:00:03s\n",
            "epoch 2  | loss: 0.3452  | train_accuracy: 0.59453 | valid_accuracy: 0.58121 |  0:00:04s\n",
            "epoch 3  | loss: 0.35175 | train_accuracy: 0.56432 | valid_accuracy: 0.56107 |  0:00:06s\n",
            "epoch 4  | loss: 0.3292  | train_accuracy: 0.56547 | valid_accuracy: 0.55772 |  0:00:07s\n",
            "epoch 5  | loss: 0.29018 | train_accuracy: 0.50964 | valid_accuracy: 0.50134 |  0:00:09s\n",
            "epoch 6  | loss: 0.28325 | train_accuracy: 0.55741 | valid_accuracy: 0.54094 |  0:00:12s\n",
            "epoch 7  | loss: 0.254   | train_accuracy: 0.59971 | valid_accuracy: 0.58859 |  0:00:13s\n",
            "epoch 8  | loss: 0.24113 | train_accuracy: 0.65525 | valid_accuracy: 0.64698 |  0:00:16s\n",
            "epoch 9  | loss: 0.23    | train_accuracy: 0.68029 | valid_accuracy: 0.67047 |  0:00:18s\n",
            "epoch 10 | loss: 0.23739 | train_accuracy: 0.62129 | valid_accuracy: 0.60604 |  0:00:20s\n",
            "epoch 11 | loss: 0.31239 | train_accuracy: 0.75626 | valid_accuracy: 0.76107 |  0:00:22s\n",
            "epoch 12 | loss: 0.30443 | train_accuracy: 0.71281 | valid_accuracy: 0.71141 |  0:00:24s\n",
            "epoch 13 | loss: 0.3022  | train_accuracy: 0.71683 | valid_accuracy: 0.70403 |  0:00:26s\n",
            "epoch 14 | loss: 0.24749 | train_accuracy: 0.77439 | valid_accuracy: 0.7745  |  0:00:28s\n",
            "epoch 15 | loss: 0.2227  | train_accuracy: 0.77007 | valid_accuracy: 0.75906 |  0:00:29s\n",
            "epoch 16 | loss: 0.21946 | train_accuracy: 0.72604 | valid_accuracy: 0.7047  |  0:00:31s\n",
            "epoch 17 | loss: 0.21572 | train_accuracy: 0.75942 | valid_accuracy: 0.74966 |  0:00:32s\n",
            "epoch 18 | loss: 0.23695 | train_accuracy: 0.80115 | valid_accuracy: 0.80604 |  0:00:34s\n",
            "epoch 19 | loss: 0.20848 | train_accuracy: 0.82302 | valid_accuracy: 0.81208 |  0:00:35s\n",
            "epoch 20 | loss: 0.19586 | train_accuracy: 0.84201 | valid_accuracy: 0.83624 |  0:00:37s\n",
            "epoch 21 | loss: 0.16663 | train_accuracy: 0.8259  | valid_accuracy: 0.81812 |  0:00:42s\n",
            "epoch 22 | loss: 0.18361 | train_accuracy: 0.84633 | valid_accuracy: 0.83423 |  0:00:46s\n",
            "epoch 23 | loss: 0.19079 | train_accuracy: 0.85007 | valid_accuracy: 0.83624 |  0:00:48s\n",
            "epoch 24 | loss: 0.17833 | train_accuracy: 0.88777 | valid_accuracy: 0.87651 |  0:00:49s\n",
            "epoch 25 | loss: 0.17211 | train_accuracy: 0.90014 | valid_accuracy: 0.89597 |  0:00:51s\n",
            "epoch 26 | loss: 0.16536 | train_accuracy: 0.87482 | valid_accuracy: 0.86174 |  0:00:53s\n",
            "epoch 27 | loss: 0.17736 | train_accuracy: 0.92978 | valid_accuracy: 0.91611 |  0:00:55s\n",
            "epoch 28 | loss: 0.17581 | train_accuracy: 0.92374 | valid_accuracy: 0.91007 |  0:00:56s\n",
            "epoch 29 | loss: 0.17631 | train_accuracy: 0.89813 | valid_accuracy: 0.89732 |  0:00:58s\n",
            "epoch 30 | loss: 0.19077 | train_accuracy: 0.91309 | valid_accuracy: 0.90201 |  0:00:59s\n",
            "epoch 31 | loss: 0.213   | train_accuracy: 0.92863 | valid_accuracy: 0.90738 |  0:01:01s\n",
            "epoch 32 | loss: 0.18333 | train_accuracy: 0.94245 | valid_accuracy: 0.92483 |  0:01:02s\n",
            "epoch 33 | loss: 0.18257 | train_accuracy: 0.94245 | valid_accuracy: 0.93154 |  0:01:04s\n",
            "epoch 34 | loss: 0.16932 | train_accuracy: 0.90647 | valid_accuracy: 0.89195 |  0:01:06s\n",
            "epoch 35 | loss: 0.2153  | train_accuracy: 0.92604 | valid_accuracy: 0.91342 |  0:01:08s\n",
            "epoch 36 | loss: 0.19324 | train_accuracy: 0.92489 | valid_accuracy: 0.91208 |  0:01:10s\n",
            "epoch 37 | loss: 0.19783 | train_accuracy: 0.93094 | valid_accuracy: 0.92215 |  0:01:12s\n",
            "epoch 38 | loss: 0.17993 | train_accuracy: 0.93784 | valid_accuracy: 0.92819 |  0:01:15s\n",
            "epoch 39 | loss: 0.17889 | train_accuracy: 0.94705 | valid_accuracy: 0.92819 |  0:01:16s\n",
            "epoch 40 | loss: 0.15677 | train_accuracy: 0.92777 | valid_accuracy: 0.91678 |  0:01:17s\n",
            "epoch 41 | loss: 0.16497 | train_accuracy: 0.94302 | valid_accuracy: 0.93826 |  0:01:19s\n",
            "epoch 42 | loss: 0.16601 | train_accuracy: 0.95108 | valid_accuracy: 0.94631 |  0:01:21s\n",
            "epoch 43 | loss: 0.15785 | train_accuracy: 0.95655 | valid_accuracy: 0.94631 |  0:01:23s\n",
            "epoch 44 | loss: 0.15836 | train_accuracy: 0.94964 | valid_accuracy: 0.93423 |  0:01:26s\n",
            "epoch 45 | loss: 0.17701 | train_accuracy: 0.9223  | valid_accuracy: 0.91678 |  0:01:29s\n",
            "epoch 46 | loss: 0.15845 | train_accuracy: 0.93899 | valid_accuracy: 0.9302  |  0:01:31s\n",
            "epoch 47 | loss: 0.16398 | train_accuracy: 0.96    | valid_accuracy: 0.94765 |  0:01:34s\n",
            "epoch 48 | loss: 0.15532 | train_accuracy: 0.95252 | valid_accuracy: 0.94497 |  0:01:36s\n",
            "epoch 49 | loss: 0.14911 | train_accuracy: 0.94705 | valid_accuracy: 0.9396  |  0:01:38s\n",
            "epoch 50 | loss: 0.17104 | train_accuracy: 0.94763 | valid_accuracy: 0.94362 |  0:01:40s\n",
            "epoch 51 | loss: 0.17382 | train_accuracy: 0.91741 | valid_accuracy: 0.90604 |  0:01:41s\n",
            "epoch 52 | loss: 0.17396 | train_accuracy: 0.93871 | valid_accuracy: 0.92483 |  0:01:43s\n",
            "epoch 53 | loss: 0.16485 | train_accuracy: 0.95281 | valid_accuracy: 0.94161 |  0:01:44s\n",
            "epoch 54 | loss: 0.14081 | train_accuracy: 0.92719 | valid_accuracy: 0.92013 |  0:01:45s\n",
            "epoch 55 | loss: 0.16171 | train_accuracy: 0.94561 | valid_accuracy: 0.9302  |  0:01:47s\n",
            "epoch 56 | loss: 0.14866 | train_accuracy: 0.95252 | valid_accuracy: 0.94228 |  0:01:49s\n",
            "epoch 57 | loss: 0.14606 | train_accuracy: 0.95252 | valid_accuracy: 0.94027 |  0:01:51s\n",
            "epoch 58 | loss: 0.14876 | train_accuracy: 0.94417 | valid_accuracy: 0.93691 |  0:01:53s\n",
            "epoch 59 | loss: 0.13542 | train_accuracy: 0.9295  | valid_accuracy: 0.90872 |  0:01:54s\n",
            "epoch 60 | loss: 0.1401  | train_accuracy: 0.96288 | valid_accuracy: 0.94631 |  0:01:56s\n",
            "epoch 61 | loss: 0.14358 | train_accuracy: 0.96058 | valid_accuracy: 0.95168 |  0:01:57s\n",
            "epoch 62 | loss: 0.14763 | train_accuracy: 0.94935 | valid_accuracy: 0.93691 |  0:01:58s\n",
            "epoch 63 | loss: 0.13889 | train_accuracy: 0.96432 | valid_accuracy: 0.94966 |  0:02:00s\n",
            "epoch 64 | loss: 0.13531 | train_accuracy: 0.94935 | valid_accuracy: 0.9443  |  0:02:01s\n",
            "epoch 65 | loss: 0.15581 | train_accuracy: 0.96201 | valid_accuracy: 0.95369 |  0:02:04s\n",
            "epoch 66 | loss: 0.14279 | train_accuracy: 0.9554  | valid_accuracy: 0.94564 |  0:02:06s\n",
            "epoch 67 | loss: 0.12689 | train_accuracy: 0.96691 | valid_accuracy: 0.95906 |  0:02:07s\n",
            "epoch 68 | loss: 0.13104 | train_accuracy: 0.96288 | valid_accuracy: 0.95235 |  0:02:09s\n",
            "epoch 69 | loss: 0.11857 | train_accuracy: 0.96317 | valid_accuracy: 0.95705 |  0:02:10s\n",
            "epoch 70 | loss: 0.11317 | train_accuracy: 0.96777 | valid_accuracy: 0.95973 |  0:02:12s\n",
            "epoch 71 | loss: 0.11493 | train_accuracy: 0.96518 | valid_accuracy: 0.96174 |  0:02:13s\n",
            "epoch 72 | loss: 0.12806 | train_accuracy: 0.96288 | valid_accuracy: 0.95839 |  0:02:15s\n",
            "epoch 73 | loss: 0.10967 | train_accuracy: 0.97065 | valid_accuracy: 0.96711 |  0:02:16s\n",
            "epoch 74 | loss: 0.13007 | train_accuracy: 0.96317 | valid_accuracy: 0.95705 |  0:02:18s\n",
            "epoch 75 | loss: 0.12641 | train_accuracy: 0.95741 | valid_accuracy: 0.95235 |  0:02:20s\n",
            "epoch 76 | loss: 0.12184 | train_accuracy: 0.95741 | valid_accuracy: 0.95168 |  0:02:22s\n",
            "epoch 77 | loss: 0.11638 | train_accuracy: 0.96547 | valid_accuracy: 0.95369 |  0:02:23s\n",
            "epoch 78 | loss: 0.12274 | train_accuracy: 0.97122 | valid_accuracy: 0.96376 |  0:02:25s\n",
            "epoch 79 | loss: 0.11283 | train_accuracy: 0.96489 | valid_accuracy: 0.95436 |  0:02:26s\n",
            "epoch 80 | loss: 0.11156 | train_accuracy: 0.96691 | valid_accuracy: 0.94966 |  0:02:28s\n",
            "epoch 81 | loss: 0.13508 | train_accuracy: 0.96978 | valid_accuracy: 0.96174 |  0:02:29s\n",
            "epoch 82 | loss: 0.1285  | train_accuracy: 0.96547 | valid_accuracy: 0.95503 |  0:02:31s\n",
            "epoch 83 | loss: 0.11068 | train_accuracy: 0.96173 | valid_accuracy: 0.95235 |  0:02:33s\n",
            "epoch 84 | loss: 0.1296  | train_accuracy: 0.97266 | valid_accuracy: 0.95906 |  0:02:35s\n",
            "epoch 85 | loss: 0.12927 | train_accuracy: 0.96432 | valid_accuracy: 0.95705 |  0:02:37s\n",
            "epoch 86 | loss: 0.11725 | train_accuracy: 0.95914 | valid_accuracy: 0.94899 |  0:02:38s\n",
            "epoch 87 | loss: 0.11935 | train_accuracy: 0.96173 | valid_accuracy: 0.95235 |  0:02:39s\n",
            "epoch 88 | loss: 0.10977 | train_accuracy: 0.96748 | valid_accuracy: 0.95705 |  0:02:41s\n",
            "epoch 89 | loss: 0.11007 | train_accuracy: 0.95885 | valid_accuracy: 0.94564 |  0:02:42s\n",
            "epoch 90 | loss: 0.1305  | train_accuracy: 0.96576 | valid_accuracy: 0.95369 |  0:02:44s\n",
            "epoch 91 | loss: 0.14684 | train_accuracy: 0.96777 | valid_accuracy: 0.95705 |  0:02:46s\n",
            "epoch 92 | loss: 0.13271 | train_accuracy: 0.96201 | valid_accuracy: 0.95638 |  0:02:48s\n",
            "epoch 93 | loss: 0.13044 | train_accuracy: 0.9623  | valid_accuracy: 0.95839 |  0:02:50s\n",
            "\n",
            "Early stopping occurred at epoch 93 with best_epoch = 73 and best_valid_accuracy = 0.96711\n",
            "\n",
            "TabNet Classification Report:\n",
            "              precision    recall  f1-score   support\n",
            "\n",
            "      Normal       0.97      0.95      0.96       496\n",
            "     Suspect       0.95      0.96      0.95       497\n",
            "Pathological       0.99      0.99      0.99       497\n",
            "\n",
            "    accuracy                           0.97      1490\n",
            "   macro avg       0.97      0.97      0.97      1490\n",
            "weighted avg       0.97      0.97      0.97      1490\n",
            "\n"
          ]
        },
        {
          "output_type": "display_data",
          "data": {
            "text/plain": [
              "<Figure size 800x600 with 2 Axes>"
            ],
            "image/png": "[encoded data removed]"
          },
          "metadata": {}
        }
      ]
    },
    {
      "cell_type": "code",
      "source": [
        "# Initialize StratifiedKFold\n",
        "n_folds = 5\n",
        "kf = StratifiedKFold(n_splits=n_folds, shuffle=True, random_state=42)\n",
        "\n",
        "# Initialize arrays to hold out-of-fold predictions for training data\n",
        "oof_preds_lgb = np.zeros((X_train_scaled.shape[0], 3))  # 3 classes\n",
        "oof_preds_tabnet = np.zeros((X_train_scaled.shape[0], 3))  # 3 classes\n",
        "\n",
        "# Initialize arrays to hold test set predictions\n",
        "test_preds_lgb = np.zeros((X_test_scaled.shape[0], 3))\n",
        "test_preds_tabnet = np.zeros((X_test_scaled.shape[0], 3))\n",
        "\n",
        "print(\"Generating out-of-fold predictions...\")\n",
        "\n",
        "for fold, (train_idx, valid_idx) in enumerate(kf.split(X_train_scaled, y_train)):\n",
        "    print(f\"Fold {fold + 1}\")\n",
        "\n",
        "    # Split data\n",
        "    X_tr, X_val = X_train_scaled.iloc[train_idx], X_train_scaled.iloc[valid_idx]\n",
        "    y_tr, y_val = y_train.iloc[train_idx], y_train.iloc[valid_idx]\n",
        "\n",
        "    # LightGBM\n",
        "    lgb_fold = lgb.LGBMClassifier(\n",
        "        n_estimators=100,\n",
        "        learning_rate=0.05,\n",
        "        num_leaves=31,\n",
        "        objective='multiclass',\n",
        "        class_weight='balanced',\n",
        "        random_state=42\n",
        "    )\n",
        "    lgb_fold.fit(X_tr, y_tr)\n",
        "    oof_preds_lgb[valid_idx] = lgb_fold.predict_proba(X_val)\n",
        "    test_preds_lgb += lgb_fold.predict_proba(X_test_scaled) / n_folds\n",
        "\n",
        "    # TabNet\n",
        "    tabnet_fold = TabNetClassifier(\n",
        "        n_d=64,\n",
        "        n_a=64,\n",
        "        n_steps=5,\n",
        "        gamma=1.3,\n",
        "        lambda_sparse=1e-3,\n",
        "        optimizer_fn=torch.optim.Adam,\n",
        "        optimizer_params=dict(lr=2e-2),\n",
        "        mask_type='sparsemax',\n",
        "        verbose=0\n",
        "    )\n",
        "    tabnet_fold.fit(\n",
        "        X_train=X_tr.values,\n",
        "        y_train=y_tr.values,\n",
        "        eval_set=[(X_val.values, y_val.values)],\n",
        "        eval_name=['valid'],\n",
        "        eval_metric=['accuracy'],\n",
        "        max_epochs=100,\n",
        "        patience=20,\n",
        "        batch_size=256,\n",
        "        virtual_batch_size=128\n",
        "    )\n",
        "    oof_preds_tabnet[valid_idx] = tabnet_fold.predict_proba(X_val.values)\n",
        "    test_preds_tabnet += tabnet_fold.predict_proba(X_test_scaled.values) / n_folds\n",
        "\n",
        "print(\"Out-of-fold predictions generated.\")\n"
      ],
      "metadata": {
        "colab": {
          "base_uri": "https://localhost:8080/"
        },
        "id": "A5BfP_L9_l-N",
        "outputId": "8832e359-cd1c-4381-cb6b-086a4a8bde2e"
      },
      "execution_count": 62,
      "outputs": [
        {
          "output_type": "stream",
          "name": "stdout",
          "text": [
            "Generating out-of-fold predictions...\n",
            "Fold 1\n",
            "[LightGBM] [Info] Auto-choosing row-wise multi-threading, the overhead of testing was 0.000401 seconds.\n",
            "You can set `force_row_wise=true` to remove the overhead.\n",
            "And if memory is not enough, you can set `force_col_wise=true`.\n",
            "[LightGBM] [Info] Total Bins 2502\n",
            "[LightGBM] [Info] Number of data points in the train set: 2780, number of used features: 10\n",
            "[LightGBM] [Info] Start training from score -1.098612\n",
            "[LightGBM] [Info] Start training from score -1.098612\n",
            "[LightGBM] [Info] Start training from score -1.098612\n",
            "[LightGBM] [Warning] No further splits with positive gain, best gain: -inf\n",
            "\n",
            "Early stopping occurred at epoch 84 with best_epoch = 64 and best_valid_accuracy = 0.96115\n",
            "Fold 2\n",
            "[LightGBM] [Info] Auto-choosing row-wise multi-threading, the overhead of testing was 0.000252 seconds.\n",
            "You can set `force_row_wise=true` to remove the overhead.\n",
            "And if memory is not enough, you can set `force_col_wise=true`.\n",
            "[LightGBM] [Info] Total Bins 2498\n",
            "[LightGBM] [Info] Number of data points in the train set: 2780, number of used features: 10\n",
            "[LightGBM] [Info] Start training from score -1.098612\n",
            "[LightGBM] [Info] Start training from score -1.098612\n",
            "[LightGBM] [Info] Start training from score -1.098612\n",
            "[LightGBM] [Warning] No further splits with positive gain, best gain: -inf\n",
            "\n",
            "Early stopping occurred at epoch 99 with best_epoch = 79 and best_valid_accuracy = 0.95683\n",
            "Fold 3\n",
            "[LightGBM] [Info] Auto-choosing row-wise multi-threading, the overhead of testing was 0.000420 seconds.\n",
            "You can set `force_row_wise=true` to remove the overhead.\n",
            "And if memory is not enough, you can set `force_col_wise=true`.\n",
            "[LightGBM] [Info] Total Bins 2500\n",
            "[LightGBM] [Info] Number of data points in the train set: 2780, number of used features: 10\n",
            "[LightGBM] [Info] Start training from score -1.098612\n",
            "[LightGBM] [Info] Start training from score -1.098612\n",
            "[LightGBM] [Info] Start training from score -1.098612\n",
            "[LightGBM] [Warning] No further splits with positive gain, best gain: -inf\n",
            "Stop training because you reached max_epochs = 100 with best_epoch = 85 and best_valid_accuracy = 0.95396\n",
            "Fold 4\n",
            "[LightGBM] [Info] Auto-choosing row-wise multi-threading, the overhead of testing was 0.000271 seconds.\n",
            "You can set `force_row_wise=true` to remove the overhead.\n",
            "And if memory is not enough, you can set `force_col_wise=true`.\n",
            "[LightGBM] [Info] Total Bins 2497\n",
            "[LightGBM] [Info] Number of data points in the train set: 2780, number of used features: 10\n",
            "[LightGBM] [Info] Start training from score -1.098612\n",
            "[LightGBM] [Info] Start training from score -1.098612\n",
            "[LightGBM] [Info] Start training from score -1.098612\n",
            "[LightGBM] [Warning] No further splits with positive gain, best gain: -inf\n",
            "\n",
            "Early stopping occurred at epoch 71 with best_epoch = 51 and best_valid_accuracy = 0.94388\n",
            "Fold 5\n",
            "[LightGBM] [Info] Auto-choosing row-wise multi-threading, the overhead of testing was 0.000261 seconds.\n",
            "You can set `force_row_wise=true` to remove the overhead.\n",
            "And if memory is not enough, you can set `force_col_wise=true`.\n",
            "[LightGBM] [Info] Total Bins 2503\n",
            "[LightGBM] [Info] Number of data points in the train set: 2780, number of used features: 10\n",
            "[LightGBM] [Info] Start training from score -1.098612\n",
            "[LightGBM] [Info] Start training from score -1.098612\n",
            "[LightGBM] [Info] Start training from score -1.098612\n",
            "[LightGBM] [Warning] No further splits with positive gain, best gain: -inf\n",
            "Stop training because you reached max_epochs = 100 with best_epoch = 88 and best_valid_accuracy = 0.96403\n",
            "Out-of-fold predictions generated.\n"
          ]
        }
      ]
    },
    {
      "cell_type": "code",
      "source": [
        "# Create meta-features for the training set\n",
        "meta_X_train = np.hstack((oof_preds_lgb, oof_preds_tabnet))\n",
        "\n",
        "# Create meta-features for the test set\n",
        "meta_X_test = np.hstack((test_preds_lgb, test_preds_tabnet))\n",
        "\n",
        "# Define the meta-learner target\n",
        "meta_y_train = y_train.values\n",
        "\n",
        "# Initialize the Logistic Regression meta-learner\n",
        "meta_learner = LogisticRegression(\n",
        "    multi_class='multinomial',\n",
        "    solver='lbfgs',\n",
        "    max_iter=1000,\n",
        "    random_state=42\n",
        ")\n",
        "\n",
        "# Train the meta-learner on the meta-features\n",
        "meta_learner.fit(meta_X_train, meta_y_train)\n",
        "\n",
        "# Make predictions on the test set meta-features\n",
        "y_pred_ensemble = meta_learner.predict(meta_X_test)\n",
        "\n",
        "# Evaluate the Ensemble Model\n",
        "print(\"\\nEnsemble Model Classification Report:\")\n",
        "print(classification_report(y_test, y_pred_ensemble, target_names=['Normal', 'Suspect', 'Pathological']))\n",
        "\n",
        "# Confusion Matrix for Ensemble Model\n",
        "conf_matrix_ensemble = confusion_matrix(y_test, y_pred_ensemble)\n",
        "plt.figure(figsize=(8, 6))\n",
        "sns.heatmap(conf_matrix_ensemble, annot=True, fmt='d', cmap='Oranges',\n",
        "            xticklabels=['Normal', 'Suspect', 'Pathological'],\n",
        "            yticklabels=['Normal', 'Suspect', 'Pathological'])\n",
        "plt.title('Ensemble Model Confusion Matrix')\n",
        "plt.xlabel('Predicted Label')\n",
        "plt.ylabel('True Label')\n",
        "plt.show()\n",
        "\n",
        "# Overall Accuracy\n",
        "accuracy = accuracy_score(y_test, y_pred_ensemble)\n",
        "print(f\"Ensemble Model Accuracy: {accuracy:.4f}\")\n",
        "\n",
        "# Individual Models' Accuracy\n",
        "accuracy_lgb = accuracy_score(y_test, y_pred_lgb)\n",
        "accuracy_tabnet = accuracy_score(y_test, y_pred_tabnet)\n",
        "\n",
        "print(f\"LightGBM Accuracy: {accuracy_lgb:.4f}\")\n",
        "print(f\"TabNet Accuracy: {accuracy_tabnet:.4f}\")\n",
        "print(f\"Ensemble Model Accuracy: {accuracy:.4f}\")\n"
      ],
      "metadata": {
        "colab": {
          "base_uri": "https://localhost:8080/",
          "height": 850
        },
        "id": "bwVUhxp6_mAj",
        "outputId": "3f841a0e-a152-4d83-b1b8-26ccc11ce623"
      },
      "execution_count": 63,
      "outputs": [
        {
          "output_type": "stream",
          "name": "stdout",
          "text": [
            "\n",
            "Ensemble Model Classification Report:\n",
            "              precision    recall  f1-score   support\n",
            "\n",
            "      Normal       0.99      0.96      0.98       496\n",
            "     Suspect       0.97      0.99      0.98       497\n",
            "Pathological       0.99      1.00      0.99       497\n",
            "\n",
            "    accuracy                           0.98      1490\n",
            "   macro avg       0.98      0.98      0.98      1490\n",
            "weighted avg       0.98      0.98      0.98      1490\n",
            "\n"
          ]
        },
        {
          "output_type": "display_data",
          "data": {
            "text/plain": [
              "<Figure size 800x600 with 2 Axes>"
            ],
            "image/png": "[encoded data removed]"
          },
          "metadata": {}
        },
        {
          "output_type": "stream",
          "name": "stdout",
          "text": [
            "Ensemble Model Accuracy: 0.9839\n",
            "LightGBM Accuracy: 0.9832\n",
            "TabNet Accuracy: 0.9671\n",
            "Ensemble Model Accuracy: 0.9839\n"
          ]
        }
      ]
    },
    {
      "cell_type": "code",
      "source": [
        "# Coefficients of the meta-learner\n",
        "meta_coefficients = meta_learner.coef_\n",
        "\n",
        "# Create a DataFrame to display the coefficients\n",
        "coeff_df = pd.DataFrame(meta_coefficients, columns=[\n",
        "    'LightGBM_Normal', 'LightGBM_Suspect', 'LightGBM_Pathological',\n",
        "    'TabNet_Normal', 'TabNet_Suspect', 'TabNet_Pathological'\n",
        "], index=['Normal', 'Suspect', 'Pathological'])\n",
        "\n",
        "print(\"\\nMeta-Learner Coefficients:\")\n",
        "print(coeff_df)\n",
        "\n",
        "# Plot the coefficients\n",
        "coeff_df.plot(kind='bar', figsize=(10, 6))\n",
        "plt.title('Meta-Learner Coefficients')\n",
        "plt.ylabel('Coefficient Value')\n",
        "plt.xticks(rotation=0)\n",
        "plt.legend(title='Base Model Predictions')\n",
        "plt.show()\n"
      ],
      "metadata": {
        "colab": {
          "base_uri": "https://localhost:8080/",
          "height": 741
        },
        "id": "T8nsPGwH_mCw",
        "outputId": "0783789f-fd0e-457f-c7d2-62e8317080d8"
      },
      "execution_count": 64,
      "outputs": [
        {
          "output_type": "stream",
          "name": "stdout",
          "text": [
            "\n",
            "Meta-Learner Coefficients:\n",
            "              LightGBM_Normal  LightGBM_Suspect  LightGBM_Pathological  \\\n",
            "Normal               2.457584         -1.020521              -1.268880   \n",
            "Suspect             -0.979864          2.344068              -1.248584   \n",
            "Pathological        -1.477720         -1.323546               2.517464   \n",
            "\n",
            "              TabNet_Normal  TabNet_Suspect  TabNet_Pathological  \n",
            "Normal             1.485042       -0.222906            -1.093953  \n",
            "Suspect           -0.128838        0.834372            -0.589915  \n",
            "Pathological      -1.356205       -0.611466             1.683869  \n"
          ]
        },
        {
          "output_type": "display_data",
          "data": {
            "text/plain": [
              "<Figure size 1000x600 with 1 Axes>"
            ],
            "image/png": "[encoded data removed]"
          },
          "metadata": {}
        }
      ]
    },
    {
      "cell_type": "code",
      "source": [
        "# Save the meta-learner\n",
        "joblib.dump(meta_learner, 'meta_learner.pkl')\n",
        "\n",
        "# Save the scaler\n",
        "joblib.dump(scaler, 'scaler.pkl')\n",
        "\n",
        "# Save the LightGBM model\n",
        "joblib.dump(lgb_classifier, 'lightgbm_model.pkl')\n",
        "\n",
        "# Save the TabNet model\n",
        "tabnet_classifier.save_model('tabnet_model.zip')\n",
        "\n",
        "print(\"Models have been saved successfully.\")\n"
      ],
      "metadata": {
        "colab": {
          "base_uri": "https://localhost:8080/"
        },
        "id": "9VkBJpud_mFH",
        "outputId": "e7198e8e-2dbb-4b58-eba1-328311f06e55"
      },
      "execution_count": 65,
      "outputs": [
        {
          "output_type": "stream",
          "name": "stdout",
          "text": [
            "Successfully saved model at tabnet_model.zip.zip\n",
            "Models have been saved successfully.\n"
          ]
        }
      ]
    },
    {
      "cell_type": "code",
      "source": [],
      "metadata": {
        "id": "NG-qa2fh_mG9"
      },
      "execution_count": null,
      "outputs": []
    }
  ]
}