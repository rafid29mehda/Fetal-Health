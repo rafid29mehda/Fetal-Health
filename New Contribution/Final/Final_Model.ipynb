{
  "nbformat": 4,
  "nbformat_minor": 0,
  "metadata": {
    "colab": {
      "provenance": [],
      "gpuType": "T4"
    },
    "kernelspec": {
      "name": "python3",
      "display_name": "Python 3"
    },
    "language_info": {
      "name": "python"
    },
    "accelerator": "GPU"
  },
  "cells": [
    {
      "cell_type": "code",
      "execution_count": 8,
      "metadata": {
        "colab": {
          "base_uri": "https://localhost:8080/"
        },
        "id": "DM5rY681dftk",
        "outputId": "f69a1728-070a-4029-d019-4afbf58600c4"
      },
      "outputs": [
        {
          "output_type": "stream",
          "name": "stdout",
          "text": [
            "Requirement already satisfied: pytorch-tabnet in /usr/local/lib/python3.11/dist-packages (4.1.0)\n",
            "Requirement already satisfied: ctgan in /usr/local/lib/python3.11/dist-packages (0.11.0)\n",
            "Requirement already satisfied: optuna in /usr/local/lib/python3.11/dist-packages (4.2.1)\n",
            "Requirement already satisfied: imbalanced-learn in /usr/local/lib/python3.11/dist-packages (0.13.0)\n",
            "Requirement already satisfied: torch in /usr/local/lib/python3.11/dist-packages (2.5.1+cu124)\n",
            "Requirement already satisfied: pandas in /usr/local/lib/python3.11/dist-packages (2.2.2)\n",
            "Requirement already satisfied: numpy in /usr/local/lib/python3.11/dist-packages (1.26.4)\n",
            "Requirement already satisfied: scikit-learn in /usr/local/lib/python3.11/dist-packages (1.6.1)\n",
            "Requirement already satisfied: matplotlib in /usr/local/lib/python3.11/dist-packages (3.10.0)\n",
            "Requirement already satisfied: seaborn in /usr/local/lib/python3.11/dist-packages (0.13.2)\n",
            "Requirement already satisfied: scipy>1.4 in /usr/local/lib/python3.11/dist-packages (from pytorch-tabnet) (1.13.1)\n",
            "Requirement already satisfied: tqdm>=4.36 in /usr/local/lib/python3.11/dist-packages (from pytorch-tabnet) (4.67.1)\n",
            "Requirement already satisfied: rdt>=1.14.0 in /usr/local/lib/python3.11/dist-packages (from ctgan) (1.14.0)\n",
            "Requirement already satisfied: alembic>=1.5.0 in /usr/local/lib/python3.11/dist-packages (from optuna) (1.15.1)\n",
            "Requirement already satisfied: colorlog in /usr/local/lib/python3.11/dist-packages (from optuna) (6.9.0)\n",
            "Requirement already satisfied: packaging>=20.0 in /usr/local/lib/python3.11/dist-packages (from optuna) (24.2)\n",
            "Requirement already satisfied: sqlalchemy>=1.4.2 in /usr/local/lib/python3.11/dist-packages (from optuna) (2.0.38)\n",
            "Requirement already satisfied: PyYAML in /usr/local/lib/python3.11/dist-packages (from optuna) (6.0.2)\n",
            "Requirement already satisfied: sklearn-compat<1,>=0.1 in /usr/local/lib/python3.11/dist-packages (from imbalanced-learn) (0.1.3)\n",
            "Requirement already satisfied: joblib<2,>=1.1.1 in /usr/local/lib/python3.11/dist-packages (from imbalanced-learn) (1.4.2)\n",
            "Requirement already satisfied: threadpoolctl<4,>=2.0.0 in /usr/local/lib/python3.11/dist-packages (from imbalanced-learn) (3.5.0)\n",
            "Requirement already satisfied: filelock in /usr/local/lib/python3.11/dist-packages (from torch) (3.17.0)\n",
            "Requirement already satisfied: typing-extensions>=4.8.0 in /usr/local/lib/python3.11/dist-packages (from torch) (4.12.2)\n",
            "Requirement already satisfied: networkx in /usr/local/lib/python3.11/dist-packages (from torch) (3.4.2)\n",
            "Requirement already satisfied: jinja2 in /usr/local/lib/python3.11/dist-packages (from torch) (3.1.5)\n",
            "Requirement already satisfied: fsspec in /usr/local/lib/python3.11/dist-packages (from torch) (2024.10.0)\n",
            "Requirement already satisfied: nvidia-cuda-nvrtc-cu12==12.4.127 in /usr/local/lib/python3.11/dist-packages (from torch) (12.4.127)\n",
            "Requirement already satisfied: nvidia-cuda-runtime-cu12==12.4.127 in /usr/local/lib/python3.11/dist-packages (from torch) (12.4.127)\n",
            "Requirement already satisfied: nvidia-cuda-cupti-cu12==12.4.127 in /usr/local/lib/python3.11/dist-packages (from torch) (12.4.127)\n",
            "Requirement already satisfied: nvidia-cudnn-cu12==9.1.0.70 in /usr/local/lib/python3.11/dist-packages (from torch) (9.1.0.70)\n",
            "Requirement already satisfied: nvidia-cublas-cu12==12.4.5.8 in /usr/local/lib/python3.11/dist-packages (from torch) (12.4.5.8)\n",
            "Requirement already satisfied: nvidia-cufft-cu12==11.2.1.3 in /usr/local/lib/python3.11/dist-packages (from torch) (11.2.1.3)\n",
            "Requirement already satisfied: nvidia-curand-cu12==10.3.5.147 in /usr/local/lib/python3.11/dist-packages (from torch) (10.3.5.147)\n",
            "Requirement already satisfied: nvidia-cusolver-cu12==11.6.1.9 in /usr/local/lib/python3.11/dist-packages (from torch) (11.6.1.9)\n",
            "Requirement already satisfied: nvidia-cusparse-cu12==12.3.1.170 in /usr/local/lib/python3.11/dist-packages (from torch) (12.3.1.170)\n",
            "Requirement already satisfied: nvidia-nccl-cu12==2.21.5 in /usr/local/lib/python3.11/dist-packages (from torch) (2.21.5)\n",
            "Requirement already satisfied: nvidia-nvtx-cu12==12.4.127 in /usr/local/lib/python3.11/dist-packages (from torch) (12.4.127)\n",
            "Requirement already satisfied: nvidia-nvjitlink-cu12==12.4.127 in /usr/local/lib/python3.11/dist-packages (from torch) (12.4.127)\n",
            "Requirement already satisfied: triton==3.1.0 in /usr/local/lib/python3.11/dist-packages (from torch) (3.1.0)\n",
            "Requirement already satisfied: sympy==1.13.1 in /usr/local/lib/python3.11/dist-packages (from torch) (1.13.1)\n",
            "Requirement already satisfied: mpmath<1.4,>=1.1.0 in /usr/local/lib/python3.11/dist-packages (from sympy==1.13.1->torch) (1.3.0)\n",
            "Requirement already satisfied: python-dateutil>=2.8.2 in /usr/local/lib/python3.11/dist-packages (from pandas) (2.8.2)\n",
            "Requirement already satisfied: pytz>=2020.1 in /usr/local/lib/python3.11/dist-packages (from pandas) (2025.1)\n",
            "Requirement already satisfied: tzdata>=2022.7 in /usr/local/lib/python3.11/dist-packages (from pandas) (2025.1)\n",
            "Requirement already satisfied: contourpy>=1.0.1 in /usr/local/lib/python3.11/dist-packages (from matplotlib) (1.3.1)\n",
            "Requirement already satisfied: cycler>=0.10 in /usr/local/lib/python3.11/dist-packages (from matplotlib) (0.12.1)\n",
            "Requirement already satisfied: fonttools>=4.22.0 in /usr/local/lib/python3.11/dist-packages (from matplotlib) (4.56.0)\n",
            "Requirement already satisfied: kiwisolver>=1.3.1 in /usr/local/lib/python3.11/dist-packages (from matplotlib) (1.4.8)\n",
            "Requirement already satisfied: pillow>=8 in /usr/local/lib/python3.11/dist-packages (from matplotlib) (11.1.0)\n",
            "Requirement already satisfied: pyparsing>=2.3.1 in /usr/local/lib/python3.11/dist-packages (from matplotlib) (3.2.1)\n",
            "Requirement already satisfied: Mako in /usr/local/lib/python3.11/dist-packages (from alembic>=1.5.0->optuna) (1.3.9)\n",
            "Requirement already satisfied: six>=1.5 in /usr/local/lib/python3.11/dist-packages (from python-dateutil>=2.8.2->pandas) (1.17.0)\n",
            "Requirement already satisfied: Faker>=17 in /usr/local/lib/python3.11/dist-packages (from rdt>=1.14.0->ctgan) (36.2.2)\n",
            "Requirement already satisfied: greenlet!=0.4.17 in /usr/local/lib/python3.11/dist-packages (from sqlalchemy>=1.4.2->optuna) (3.1.1)\n",
            "Requirement already satisfied: MarkupSafe>=2.0 in /usr/local/lib/python3.11/dist-packages (from jinja2->torch) (3.0.2)\n",
            "Using device: cuda\n"
          ]
        }
      ],
      "source": [
        "# Install libraries\n",
        "!pip install pytorch-tabnet ctgan optuna imbalanced-learn torch pandas numpy scikit-learn matplotlib seaborn\n",
        "\n",
        "# Imports\n",
        "import pandas as pd\n",
        "import numpy as np\n",
        "import matplotlib.pyplot as plt\n",
        "import seaborn as sns\n",
        "from sklearn.model_selection import train_test_split\n",
        "from sklearn.preprocessing import MinMaxScaler\n",
        "from sklearn.metrics import classification_report, confusion_matrix, accuracy_score\n",
        "from pytorch_tabnet.tab_model import TabNetClassifier\n",
        "import optuna\n",
        "from optuna import Trial\n",
        "import torch\n",
        "import torch.nn as nn\n",
        "from ctgan import CTGAN\n",
        "import pickle\n",
        "\n",
        "# Set seeds\n",
        "torch.manual_seed(42)\n",
        "np.random.seed(42)\n",
        "device = torch.device(\"cuda\" if torch.cuda.is_available() else \"cpu\")\n",
        "print(f\"Using device: {device}\")"
      ]
    },
    {
      "cell_type": "code",
      "source": [
        "# Load and preprocess\n",
        "data = pd.read_csv('/content/fetal_health.csv')\n",
        "features_to_drop = [\n",
        "    'fetal_movement', 'histogram_width', 'histogram_max', 'mean_value_of_long_term_variability',\n",
        "    'histogram_number_of_peaks', 'light_decelerations', 'histogram_tendency',\n",
        "    'histogram_number_of_zeroes', 'severe_decelerations', 'baseline value', 'histogram_min'\n",
        "]\n",
        "data_dropped = data.drop(columns=features_to_drop)\n",
        "data_dropped['fetal_health'] = data_dropped['fetal_health'].astype(int)\n",
        "X = data_dropped.drop(['fetal_health'], axis=1)\n",
        "y = data_dropped['fetal_health']\n",
        "\n",
        "# Scale and simulate temporal data\n",
        "scaler = MinMaxScaler()\n",
        "X_scaled = scaler.fit_transform(X)\n",
        "X_scaled = pd.DataFrame(X_scaled, columns=X.columns)\n",
        "n_time_steps = 5\n",
        "X_temporal = []\n",
        "y_temporal = []\n",
        "for i in range(len(X_scaled)):\n",
        "    sample = X_scaled.iloc[i].values\n",
        "    time_series = []\n",
        "    for t in range(n_time_steps):\n",
        "        noise = np.random.uniform(-0.05, 0.05, size=sample.shape)\n",
        "        noisy_sample = np.clip(sample + noise, 0, 1)\n",
        "        time_series.append(noisy_sample)\n",
        "    X_temporal.append(time_series)\n",
        "    y_temporal.append(y.iloc[i])\n",
        "X_temporal = np.array(X_temporal)\n",
        "y_temporal = np.array(y_temporal)"
      ],
      "metadata": {
        "id": "pOzrlYsCd1Fs"
      },
      "execution_count": 9,
      "outputs": []
    },
    {
      "cell_type": "code",
      "source": [
        "# Temporal CTGAN\n",
        "minority_mask = np.isin(y_temporal, [2, 3])\n",
        "X_minority_temporal = X_temporal[minority_mask]\n",
        "y_minority_temporal = y_temporal[minority_mask]\n",
        "X_minority_flat = X_minority_temporal.reshape(len(X_minority_temporal), -1)\n",
        "feature_names = [f'f{t}_{col}' for t in range(n_time_steps) for col in X.columns]\n",
        "data_minority_flat = pd.DataFrame(X_minority_flat, columns=feature_names)\n",
        "data_minority_flat['fetal_health'] = y_minority_temporal\n",
        "n_samples_adjusted = (len(data_minority_flat) // 10) * 10\n",
        "data_minority_trimmed = data_minority_flat.iloc[:n_samples_adjusted]\n",
        "suspect_data = data_minority_trimmed[data_minority_trimmed['fetal_health'] == 2]\n",
        "pathological_data = data_minority_trimmed[data_minority_trimmed['fetal_health'] == 3]\n",
        "ctgan_suspect = CTGAN(epochs=500, batch_size=50, verbose=True, cuda=True)\n",
        "ctgan_suspect.fit(suspect_data, discrete_columns=['fetal_health'])\n",
        "ctgan_pathological = CTGAN(epochs=500, batch_size=50, verbose=True, cuda=True)\n",
        "ctgan_pathological.fit(pathological_data, discrete_columns=['fetal_health'])\n",
        "n_suspect = 1655 - 295\n",
        "n_pathological = 1655 - 176\n",
        "synthetic_suspect = ctgan_suspect.sample(n_suspect)\n",
        "synthetic_pathological = ctgan_pathological.sample(n_pathological)\n",
        "synthetic_data = pd.concat([synthetic_suspect, synthetic_pathological], ignore_index=True)\n",
        "synthetic_flat = synthetic_data.drop('fetal_health', axis=1).values\n",
        "synthetic_labels = synthetic_data['fetal_health'].values\n",
        "X_synthetic_temporal = synthetic_flat.reshape(-1, n_time_steps, X_scaled.shape[1])\n",
        "X_gan_temporal = np.vstack([X_temporal, X_synthetic_temporal])\n",
        "y_gan_temporal = np.hstack([y_temporal, synthetic_labels])"
      ],
      "metadata": {
        "colab": {
          "base_uri": "https://localhost:8080/"
        },
        "id": "onyv-e1yd1H6",
        "outputId": "37aa73bb-06f3-45f2-b68e-11d72f72f9f3"
      },
      "execution_count": 10,
      "outputs": [
        {
          "output_type": "stream",
          "name": "stderr",
          "text": [
            "Gen. (-7.67) | Discrim. (2.85): 100%|██████████| 500/500 [03:02<00:00,  2.74it/s]\n",
            "Gen. (-3.05) | Discrim. (0.66): 100%|██████████| 500/500 [01:43<00:00,  4.83it/s]\n"
          ]
        }
      ]
    },
    {
      "cell_type": "code",
      "source": [
        "# Split and flatten\n",
        "X_train, X_test, y_train, y_test = train_test_split(\n",
        "    X_gan_temporal, y_gan_temporal, test_size=0.3, random_state=42, stratify=y_gan_temporal\n",
        ")\n",
        "X_train_final, X_valid, y_train_final, y_valid = train_test_split(\n",
        "    X_train, y_train, test_size=0.2, random_state=42, stratify=y_train\n",
        ")\n",
        "X_train_flat = X_train_final.reshape(-1, n_time_steps * X_scaled.shape[1])\n",
        "X_valid_flat = X_valid.reshape(-1, n_time_steps * X_scaled.shape[1])\n",
        "X_test_flat = X_test.reshape(-1, n_time_steps * X_scaled.shape[1])"
      ],
      "metadata": {
        "id": "JLRzv6lrd1Mq"
      },
      "execution_count": 11,
      "outputs": []
    },
    {
      "cell_type": "code",
      "source": [
        "# Optuna tuning (keep your original function)\n",
        "def objective(trial: Trial):\n",
        "    n_d = trial.suggest_int('n_d', 32, 128)\n",
        "    n_a = trial.suggest_int('n_a', 32, 128)\n",
        "    n_steps = trial.suggest_int('n_steps', 3, 10)\n",
        "    gamma = trial.suggest_float('gamma', 1.0, 2.0)\n",
        "    lambda_sparse = trial.suggest_float('lambda_sparse', 1e-4, 1e-2, log=True)\n",
        "    learning_rate = trial.suggest_float('learning_rate', 1e-3, 1e-1, log=True)\n",
        "    batch_size = trial.suggest_categorical('batch_size', [128, 256, 512])\n",
        "    tabnet = UncertaintyTabNet(\n",
        "        input_dim=n_time_steps * X_scaled.shape[1],\n",
        "        output_dim=3,\n",
        "        n_d=n_d, n_a=n_a, n_steps=n_steps, gamma=gamma,\n",
        "        lambda_sparse=lambda_sparse, optimizer_fn=torch.optim.Adam,\n",
        "        optimizer_params=dict(lr=learning_rate), mask_type='sparsemax', verbose=0\n",
        "    )\n",
        "    tabnet.fit(X_train_flat, y_train_final, eval_set=[(X_valid_flat, y_valid)], max_epochs=100, patience=20, batch_size=batch_size)\n",
        "    y_pred = np.argmax(tabnet.predict_proba(X_valid_flat)[0], axis=1) + 1\n",
        "    return accuracy_score(y_valid, y_pred)\n",
        "\n",
        "study = optuna.create_study(direction='maximize')\n",
        "study.optimize(objective, n_trials=50)"
      ],
      "metadata": {
        "colab": {
          "base_uri": "https://localhost:8080/"
        },
        "id": "O5IdrZeid1O4",
        "outputId": "bbf1af93-c400-4cb2-8982-3aaa9a98fd97"
      },
      "execution_count": 12,
      "outputs": [
        {
          "output_type": "stream",
          "name": "stderr",
          "text": [
            "[I 2025-03-07 02:55:22,784] A new study created in memory with name: no-name-97dea92b-dc8d-4038-9312-42f4908fd035\n"
          ]
        },
        {
          "output_type": "stream",
          "name": "stdout",
          "text": [
            "\n",
            "Early stopping occurred at epoch 61 with best_epoch = 41 and best_val_0_accuracy = 0.96115\n"
          ]
        },
        {
          "output_type": "stream",
          "name": "stderr",
          "text": [
            "/usr/local/lib/python3.11/dist-packages/pytorch_tabnet/callbacks.py:172: UserWarning: Best weights from best epoch are automatically used!\n",
            "  warnings.warn(wrn_msg)\n",
            "<ipython-input-7-0eb623f98781>:23: UserWarning: To copy construct from a tensor, it is recommended to use sourceTensor.clone().detach() or sourceTensor.clone().detach().requires_grad_(True), rather than torch.tensor(sourceTensor).\n",
            "  x = torch.tensor(x, dtype=torch.float32).to(self.device)\n",
            "[I 2025-03-07 02:55:44,117] Trial 0 finished with value: 0.9194244604316547 and parameters: {'n_d': 124, 'n_a': 65, 'n_steps': 3, 'gamma': 1.9630249468244363, 'lambda_sparse': 0.0005042765167811175, 'learning_rate': 0.03010336640258786, 'batch_size': 256}. Best is trial 0 with value: 0.9194244604316547.\n"
          ]
        },
        {
          "output_type": "stream",
          "name": "stdout",
          "text": [
            "\n",
            "Early stopping occurred at epoch 81 with best_epoch = 61 and best_val_0_accuracy = 0.95683\n"
          ]
        },
        {
          "output_type": "stream",
          "name": "stderr",
          "text": [
            "/usr/local/lib/python3.11/dist-packages/pytorch_tabnet/callbacks.py:172: UserWarning: Best weights from best epoch are automatically used!\n",
            "  warnings.warn(wrn_msg)\n",
            "<ipython-input-7-0eb623f98781>:23: UserWarning: To copy construct from a tensor, it is recommended to use sourceTensor.clone().detach() or sourceTensor.clone().detach().requires_grad_(True), rather than torch.tensor(sourceTensor).\n",
            "  x = torch.tensor(x, dtype=torch.float32).to(self.device)\n",
            "[I 2025-03-07 02:57:50,038] Trial 1 finished with value: 0.9223021582733812 and parameters: {'n_d': 34, 'n_a': 63, 'n_steps': 10, 'gamma': 1.3340807236336336, 'lambda_sparse': 0.0017945006834948739, 'learning_rate': 0.013709541533710467, 'batch_size': 128}. Best is trial 1 with value: 0.9223021582733812.\n"
          ]
        },
        {
          "output_type": "stream",
          "name": "stdout",
          "text": [
            "\n",
            "Early stopping occurred at epoch 79 with best_epoch = 59 and best_val_0_accuracy = 0.95827\n"
          ]
        },
        {
          "output_type": "stream",
          "name": "stderr",
          "text": [
            "/usr/local/lib/python3.11/dist-packages/pytorch_tabnet/callbacks.py:172: UserWarning: Best weights from best epoch are automatically used!\n",
            "  warnings.warn(wrn_msg)\n",
            "<ipython-input-7-0eb623f98781>:23: UserWarning: To copy construct from a tensor, it is recommended to use sourceTensor.clone().detach() or sourceTensor.clone().detach().requires_grad_(True), rather than torch.tensor(sourceTensor).\n",
            "  x = torch.tensor(x, dtype=torch.float32).to(self.device)\n",
            "[I 2025-03-07 02:58:34,363] Trial 2 finished with value: 0.9194244604316547 and parameters: {'n_d': 90, 'n_a': 66, 'n_steps': 6, 'gamma': 1.5009343242709567, 'lambda_sparse': 0.004866672178797903, 'learning_rate': 0.0041001491118923825, 'batch_size': 256}. Best is trial 1 with value: 0.9223021582733812.\n"
          ]
        },
        {
          "output_type": "stream",
          "name": "stdout",
          "text": [
            "Stop training because you reached max_epochs = 100 with best_epoch = 82 and best_val_0_accuracy = 0.93957\n"
          ]
        },
        {
          "output_type": "stream",
          "name": "stderr",
          "text": [
            "/usr/local/lib/python3.11/dist-packages/pytorch_tabnet/callbacks.py:172: UserWarning: Best weights from best epoch are automatically used!\n",
            "  warnings.warn(wrn_msg)\n",
            "<ipython-input-7-0eb623f98781>:23: UserWarning: To copy construct from a tensor, it is recommended to use sourceTensor.clone().detach() or sourceTensor.clone().detach().requires_grad_(True), rather than torch.tensor(sourceTensor).\n",
            "  x = torch.tensor(x, dtype=torch.float32).to(self.device)\n",
            "[I 2025-03-07 02:59:25,291] Trial 3 finished with value: 0.8805755395683453 and parameters: {'n_d': 58, 'n_a': 115, 'n_steps': 9, 'gamma': 1.1453635547124041, 'lambda_sparse': 0.0003144356108325272, 'learning_rate': 0.0024939943818654627, 'batch_size': 512}. Best is trial 1 with value: 0.9223021582733812.\n"
          ]
        },
        {
          "output_type": "stream",
          "name": "stdout",
          "text": [
            "\n",
            "Early stopping occurred at epoch 81 with best_epoch = 61 and best_val_0_accuracy = 0.95827\n"
          ]
        },
        {
          "output_type": "stream",
          "name": "stderr",
          "text": [
            "/usr/local/lib/python3.11/dist-packages/pytorch_tabnet/callbacks.py:172: UserWarning: Best weights from best epoch are automatically used!\n",
            "  warnings.warn(wrn_msg)\n",
            "<ipython-input-7-0eb623f98781>:23: UserWarning: To copy construct from a tensor, it is recommended to use sourceTensor.clone().detach() or sourceTensor.clone().detach().requires_grad_(True), rather than torch.tensor(sourceTensor).\n",
            "  x = torch.tensor(x, dtype=torch.float32).to(self.device)\n",
            "[I 2025-03-07 03:00:16,609] Trial 4 finished with value: 0.9007194244604316 and parameters: {'n_d': 71, 'n_a': 68, 'n_steps': 7, 'gamma': 1.568216331210424, 'lambda_sparse': 0.0004244325810457374, 'learning_rate': 0.01719760456821651, 'batch_size': 256}. Best is trial 1 with value: 0.9223021582733812.\n"
          ]
        },
        {
          "output_type": "stream",
          "name": "stdout",
          "text": [
            "Stop training because you reached max_epochs = 100 with best_epoch = 95 and best_val_0_accuracy = 0.96403\n"
          ]
        },
        {
          "output_type": "stream",
          "name": "stderr",
          "text": [
            "/usr/local/lib/python3.11/dist-packages/pytorch_tabnet/callbacks.py:172: UserWarning: Best weights from best epoch are automatically used!\n",
            "  warnings.warn(wrn_msg)\n",
            "<ipython-input-7-0eb623f98781>:23: UserWarning: To copy construct from a tensor, it is recommended to use sourceTensor.clone().detach() or sourceTensor.clone().detach().requires_grad_(True), rather than torch.tensor(sourceTensor).\n",
            "  x = torch.tensor(x, dtype=torch.float32).to(self.device)\n",
            "[I 2025-03-07 03:01:27,281] Trial 5 finished with value: 0.9035971223021583 and parameters: {'n_d': 94, 'n_a': 111, 'n_steps': 8, 'gamma': 1.0137454041777603, 'lambda_sparse': 0.00016296782276411124, 'learning_rate': 0.0067964854080733005, 'batch_size': 256}. Best is trial 1 with value: 0.9223021582733812.\n"
          ]
        },
        {
          "output_type": "stream",
          "name": "stdout",
          "text": [
            "\n",
            "Early stopping occurred at epoch 86 with best_epoch = 66 and best_val_0_accuracy = 0.94964\n"
          ]
        },
        {
          "output_type": "stream",
          "name": "stderr",
          "text": [
            "/usr/local/lib/python3.11/dist-packages/pytorch_tabnet/callbacks.py:172: UserWarning: Best weights from best epoch are automatically used!\n",
            "  warnings.warn(wrn_msg)\n",
            "<ipython-input-7-0eb623f98781>:23: UserWarning: To copy construct from a tensor, it is recommended to use sourceTensor.clone().detach() or sourceTensor.clone().detach().requires_grad_(True), rather than torch.tensor(sourceTensor).\n",
            "  x = torch.tensor(x, dtype=torch.float32).to(self.device)\n",
            "[I 2025-03-07 03:02:36,379] Trial 6 finished with value: 0.9237410071942446 and parameters: {'n_d': 87, 'n_a': 72, 'n_steps': 9, 'gamma': 1.6944940725885331, 'lambda_sparse': 0.002578175420119197, 'learning_rate': 0.007582636874942687, 'batch_size': 256}. Best is trial 6 with value: 0.9237410071942446.\n"
          ]
        },
        {
          "output_type": "stream",
          "name": "stdout",
          "text": [
            "\n",
            "Early stopping occurred at epoch 67 with best_epoch = 47 and best_val_0_accuracy = 0.95827\n"
          ]
        },
        {
          "output_type": "stream",
          "name": "stderr",
          "text": [
            "/usr/local/lib/python3.11/dist-packages/pytorch_tabnet/callbacks.py:172: UserWarning: Best weights from best epoch are automatically used!\n",
            "  warnings.warn(wrn_msg)\n",
            "<ipython-input-7-0eb623f98781>:23: UserWarning: To copy construct from a tensor, it is recommended to use sourceTensor.clone().detach() or sourceTensor.clone().detach().requires_grad_(True), rather than torch.tensor(sourceTensor).\n",
            "  x = torch.tensor(x, dtype=torch.float32).to(self.device)\n",
            "[I 2025-03-07 03:03:14,380] Trial 7 finished with value: 0.9294964028776979 and parameters: {'n_d': 108, 'n_a': 126, 'n_steps': 6, 'gamma': 1.2980492007975326, 'lambda_sparse': 0.009777585109528013, 'learning_rate': 0.00708404067797675, 'batch_size': 256}. Best is trial 7 with value: 0.9294964028776979.\n"
          ]
        },
        {
          "output_type": "stream",
          "name": "stdout",
          "text": [
            "Stop training because you reached max_epochs = 100 with best_epoch = 87 and best_val_0_accuracy = 0.93094\n"
          ]
        },
        {
          "output_type": "stream",
          "name": "stderr",
          "text": [
            "/usr/local/lib/python3.11/dist-packages/pytorch_tabnet/callbacks.py:172: UserWarning: Best weights from best epoch are automatically used!\n",
            "  warnings.warn(wrn_msg)\n",
            "<ipython-input-7-0eb623f98781>:23: UserWarning: To copy construct from a tensor, it is recommended to use sourceTensor.clone().detach() or sourceTensor.clone().detach().requires_grad_(True), rather than torch.tensor(sourceTensor).\n",
            "  x = torch.tensor(x, dtype=torch.float32).to(self.device)\n",
            "[I 2025-03-07 03:03:50,158] Trial 8 finished with value: 0.8820143884892087 and parameters: {'n_d': 63, 'n_a': 88, 'n_steps': 6, 'gamma': 1.426833280512413, 'lambda_sparse': 0.00010912910343871081, 'learning_rate': 0.002438161936521401, 'batch_size': 512}. Best is trial 7 with value: 0.9294964028776979.\n"
          ]
        },
        {
          "output_type": "stream",
          "name": "stdout",
          "text": [
            "\n",
            "Early stopping occurred at epoch 65 with best_epoch = 45 and best_val_0_accuracy = 0.96259\n"
          ]
        },
        {
          "output_type": "stream",
          "name": "stderr",
          "text": [
            "/usr/local/lib/python3.11/dist-packages/pytorch_tabnet/callbacks.py:172: UserWarning: Best weights from best epoch are automatically used!\n",
            "  warnings.warn(wrn_msg)\n",
            "<ipython-input-7-0eb623f98781>:23: UserWarning: To copy construct from a tensor, it is recommended to use sourceTensor.clone().detach() or sourceTensor.clone().detach().requires_grad_(True), rather than torch.tensor(sourceTensor).\n",
            "  x = torch.tensor(x, dtype=torch.float32).to(self.device)\n",
            "[I 2025-03-07 03:04:32,260] Trial 9 finished with value: 0.9237410071942446 and parameters: {'n_d': 56, 'n_a': 107, 'n_steps': 7, 'gamma': 1.7094500814347806, 'lambda_sparse': 0.00017376086197339182, 'learning_rate': 0.08756631792557358, 'batch_size': 256}. Best is trial 7 with value: 0.9294964028776979.\n"
          ]
        },
        {
          "output_type": "stream",
          "name": "stdout",
          "text": [
            "\n",
            "Early stopping occurred at epoch 79 with best_epoch = 59 and best_val_0_accuracy = 0.96403\n"
          ]
        },
        {
          "output_type": "stream",
          "name": "stderr",
          "text": [
            "/usr/local/lib/python3.11/dist-packages/pytorch_tabnet/callbacks.py:172: UserWarning: Best weights from best epoch are automatically used!\n",
            "  warnings.warn(wrn_msg)\n",
            "<ipython-input-7-0eb623f98781>:23: UserWarning: To copy construct from a tensor, it is recommended to use sourceTensor.clone().detach() or sourceTensor.clone().detach().requires_grad_(True), rather than torch.tensor(sourceTensor).\n",
            "  x = torch.tensor(x, dtype=torch.float32).to(self.device)\n",
            "[I 2025-03-07 03:05:30,465] Trial 10 finished with value: 0.9093525179856116 and parameters: {'n_d': 124, 'n_a': 34, 'n_steps': 4, 'gamma': 1.2548361729417232, 'lambda_sparse': 0.008940664052242869, 'learning_rate': 0.0014033827160205381, 'batch_size': 128}. Best is trial 7 with value: 0.9294964028776979.\n"
          ]
        },
        {
          "output_type": "stream",
          "name": "stdout",
          "text": [
            "\n",
            "Early stopping occurred at epoch 84 with best_epoch = 64 and best_val_0_accuracy = 0.96259\n"
          ]
        },
        {
          "output_type": "stream",
          "name": "stderr",
          "text": [
            "/usr/local/lib/python3.11/dist-packages/pytorch_tabnet/callbacks.py:172: UserWarning: Best weights from best epoch are automatically used!\n",
            "  warnings.warn(wrn_msg)\n",
            "<ipython-input-7-0eb623f98781>:23: UserWarning: To copy construct from a tensor, it is recommended to use sourceTensor.clone().detach() or sourceTensor.clone().detach().requires_grad_(True), rather than torch.tensor(sourceTensor).\n",
            "  x = torch.tensor(x, dtype=torch.float32).to(self.device)\n",
            "[I 2025-03-07 03:06:11,360] Trial 11 finished with value: 0.9366906474820144 and parameters: {'n_d': 106, 'n_a': 94, 'n_steps': 5, 'gamma': 1.7973039867640046, 'lambda_sparse': 0.002030353387074685, 'learning_rate': 0.007161810317674455, 'batch_size': 256}. Best is trial 11 with value: 0.9366906474820144.\n"
          ]
        },
        {
          "output_type": "stream",
          "name": "stdout",
          "text": [
            "\n",
            "Early stopping occurred at epoch 41 with best_epoch = 21 and best_val_0_accuracy = 0.95252\n"
          ]
        },
        {
          "output_type": "stream",
          "name": "stderr",
          "text": [
            "/usr/local/lib/python3.11/dist-packages/pytorch_tabnet/callbacks.py:172: UserWarning: Best weights from best epoch are automatically used!\n",
            "  warnings.warn(wrn_msg)\n",
            "<ipython-input-7-0eb623f98781>:23: UserWarning: To copy construct from a tensor, it is recommended to use sourceTensor.clone().detach() or sourceTensor.clone().detach().requires_grad_(True), rather than torch.tensor(sourceTensor).\n",
            "  x = torch.tensor(x, dtype=torch.float32).to(self.device)\n",
            "[I 2025-03-07 03:06:31,759] Trial 12 finished with value: 0.935251798561151 and parameters: {'n_d': 108, 'n_a': 128, 'n_steps': 5, 'gamma': 1.9867027363006597, 'lambda_sparse': 0.0011528108536512044, 'learning_rate': 0.02963482593627118, 'batch_size': 256}. Best is trial 11 with value: 0.9366906474820144.\n"
          ]
        },
        {
          "output_type": "stream",
          "name": "stdout",
          "text": [
            "\n",
            "Early stopping occurred at epoch 48 with best_epoch = 28 and best_val_0_accuracy = 0.96259\n"
          ]
        },
        {
          "output_type": "stream",
          "name": "stderr",
          "text": [
            "/usr/local/lib/python3.11/dist-packages/pytorch_tabnet/callbacks.py:172: UserWarning: Best weights from best epoch are automatically used!\n",
            "  warnings.warn(wrn_msg)\n",
            "<ipython-input-7-0eb623f98781>:23: UserWarning: To copy construct from a tensor, it is recommended to use sourceTensor.clone().detach() or sourceTensor.clone().detach().requires_grad_(True), rather than torch.tensor(sourceTensor).\n",
            "  x = torch.tensor(x, dtype=torch.float32).to(self.device)\n",
            "[I 2025-03-07 03:07:07,538] Trial 13 finished with value: 0.9467625899280575 and parameters: {'n_d': 107, 'n_a': 91, 'n_steps': 4, 'gamma': 1.9862819354663797, 'lambda_sparse': 0.001075111739678473, 'learning_rate': 0.038645230585066505, 'batch_size': 128}. Best is trial 13 with value: 0.9467625899280575.\n"
          ]
        },
        {
          "output_type": "stream",
          "name": "stdout",
          "text": [
            "\n",
            "Early stopping occurred at epoch 48 with best_epoch = 28 and best_val_0_accuracy = 0.95683\n"
          ]
        },
        {
          "output_type": "stream",
          "name": "stderr",
          "text": [
            "/usr/local/lib/python3.11/dist-packages/pytorch_tabnet/callbacks.py:172: UserWarning: Best weights from best epoch are automatically used!\n",
            "  warnings.warn(wrn_msg)\n",
            "<ipython-input-7-0eb623f98781>:23: UserWarning: To copy construct from a tensor, it is recommended to use sourceTensor.clone().detach() or sourceTensor.clone().detach().requires_grad_(True), rather than torch.tensor(sourceTensor).\n",
            "  x = torch.tensor(x, dtype=torch.float32).to(self.device)\n",
            "[I 2025-03-07 03:07:36,844] Trial 14 finished with value: 0.9482014388489208 and parameters: {'n_d': 105, 'n_a': 91, 'n_steps': 3, 'gamma': 1.8138986388704432, 'lambda_sparse': 0.0008616669322260091, 'learning_rate': 0.09341153714462574, 'batch_size': 128}. Best is trial 14 with value: 0.9482014388489208.\n"
          ]
        },
        {
          "output_type": "stream",
          "name": "stdout",
          "text": [
            "\n",
            "Early stopping occurred at epoch 84 with best_epoch = 64 and best_val_0_accuracy = 0.96691\n"
          ]
        },
        {
          "output_type": "stream",
          "name": "stderr",
          "text": [
            "/usr/local/lib/python3.11/dist-packages/pytorch_tabnet/callbacks.py:172: UserWarning: Best weights from best epoch are automatically used!\n",
            "  warnings.warn(wrn_msg)\n",
            "<ipython-input-7-0eb623f98781>:23: UserWarning: To copy construct from a tensor, it is recommended to use sourceTensor.clone().detach() or sourceTensor.clone().detach().requires_grad_(True), rather than torch.tensor(sourceTensor).\n",
            "  x = torch.tensor(x, dtype=torch.float32).to(self.device)\n",
            "[I 2025-03-07 03:08:27,313] Trial 15 finished with value: 0.9453237410071943 and parameters: {'n_d': 102, 'n_a': 93, 'n_steps': 3, 'gamma': 1.8516741236058816, 'lambda_sparse': 0.0007533447218152833, 'learning_rate': 0.07697329653437242, 'batch_size': 128}. Best is trial 14 with value: 0.9482014388489208.\n"
          ]
        },
        {
          "output_type": "stream",
          "name": "stdout",
          "text": [
            "\n",
            "Early stopping occurred at epoch 44 with best_epoch = 24 and best_val_0_accuracy = 0.96403\n"
          ]
        },
        {
          "output_type": "stream",
          "name": "stderr",
          "text": [
            "/usr/local/lib/python3.11/dist-packages/pytorch_tabnet/callbacks.py:172: UserWarning: Best weights from best epoch are automatically used!\n",
            "  warnings.warn(wrn_msg)\n",
            "<ipython-input-7-0eb623f98781>:23: UserWarning: To copy construct from a tensor, it is recommended to use sourceTensor.clone().detach() or sourceTensor.clone().detach().requires_grad_(True), rather than torch.tensor(sourceTensor).\n",
            "  x = torch.tensor(x, dtype=torch.float32).to(self.device)\n",
            "[I 2025-03-07 03:09:00,413] Trial 16 finished with value: 0.9410071942446043 and parameters: {'n_d': 79, 'n_a': 49, 'n_steps': 4, 'gamma': 1.8628515588763475, 'lambda_sparse': 0.0010569293582312245, 'learning_rate': 0.045069782036480384, 'batch_size': 128}. Best is trial 14 with value: 0.9482014388489208.\n"
          ]
        },
        {
          "output_type": "stream",
          "name": "stdout",
          "text": [
            "\n",
            "Early stopping occurred at epoch 43 with best_epoch = 23 and best_val_0_accuracy = 0.96835\n"
          ]
        },
        {
          "output_type": "stream",
          "name": "stderr",
          "text": [
            "/usr/local/lib/python3.11/dist-packages/pytorch_tabnet/callbacks.py:172: UserWarning: Best weights from best epoch are automatically used!\n",
            "  warnings.warn(wrn_msg)\n",
            "<ipython-input-7-0eb623f98781>:23: UserWarning: To copy construct from a tensor, it is recommended to use sourceTensor.clone().detach() or sourceTensor.clone().detach().requires_grad_(True), rather than torch.tensor(sourceTensor).\n",
            "  x = torch.tensor(x, dtype=torch.float32).to(self.device)\n",
            "[I 2025-03-07 03:09:32,605] Trial 17 finished with value: 0.939568345323741 and parameters: {'n_d': 117, 'n_a': 82, 'n_steps': 4, 'gamma': 1.6666434969044166, 'lambda_sparse': 0.003698730941666416, 'learning_rate': 0.050755753554490475, 'batch_size': 128}. Best is trial 14 with value: 0.9482014388489208.\n"
          ]
        },
        {
          "output_type": "stream",
          "name": "stdout",
          "text": [
            "\n",
            "Early stopping occurred at epoch 50 with best_epoch = 30 and best_val_0_accuracy = 0.95396\n"
          ]
        },
        {
          "output_type": "stream",
          "name": "stderr",
          "text": [
            "/usr/local/lib/python3.11/dist-packages/pytorch_tabnet/callbacks.py:172: UserWarning: Best weights from best epoch are automatically used!\n",
            "  warnings.warn(wrn_msg)\n",
            "<ipython-input-7-0eb623f98781>:23: UserWarning: To copy construct from a tensor, it is recommended to use sourceTensor.clone().detach() or sourceTensor.clone().detach().requires_grad_(True), rather than torch.tensor(sourceTensor).\n",
            "  x = torch.tensor(x, dtype=torch.float32).to(self.device)\n",
            "[I 2025-03-07 03:10:02,910] Trial 18 finished with value: 0.9482014388489208 and parameters: {'n_d': 94, 'n_a': 101, 'n_steps': 3, 'gamma': 1.9125404466285452, 'lambda_sparse': 0.0006826603550649701, 'learning_rate': 0.09622567235748893, 'batch_size': 128}. Best is trial 14 with value: 0.9482014388489208.\n"
          ]
        },
        {
          "output_type": "stream",
          "name": "stdout",
          "text": [
            "\n",
            "Early stopping occurred at epoch 39 with best_epoch = 19 and best_val_0_accuracy = 0.95827\n"
          ]
        },
        {
          "output_type": "stream",
          "name": "stderr",
          "text": [
            "/usr/local/lib/python3.11/dist-packages/pytorch_tabnet/callbacks.py:172: UserWarning: Best weights from best epoch are automatically used!\n",
            "  warnings.warn(wrn_msg)\n",
            "<ipython-input-7-0eb623f98781>:23: UserWarning: To copy construct from a tensor, it is recommended to use sourceTensor.clone().detach() or sourceTensor.clone().detach().requires_grad_(True), rather than torch.tensor(sourceTensor).\n",
            "  x = torch.tensor(x, dtype=torch.float32).to(self.device)\n",
            "[I 2025-03-07 03:10:26,720] Trial 19 finished with value: 0.9496402877697842 and parameters: {'n_d': 80, 'n_a': 103, 'n_steps': 3, 'gamma': 1.7754600590221106, 'lambda_sparse': 0.0006762710167411346, 'learning_rate': 0.09740040556227401, 'batch_size': 128}. Best is trial 19 with value: 0.9496402877697842.\n"
          ]
        },
        {
          "output_type": "stream",
          "name": "stdout",
          "text": [
            "Stop training because you reached max_epochs = 100 with best_epoch = 94 and best_val_0_accuracy = 0.96978\n"
          ]
        },
        {
          "output_type": "stream",
          "name": "stderr",
          "text": [
            "/usr/local/lib/python3.11/dist-packages/pytorch_tabnet/callbacks.py:172: UserWarning: Best weights from best epoch are automatically used!\n",
            "  warnings.warn(wrn_msg)\n",
            "<ipython-input-7-0eb623f98781>:23: UserWarning: To copy construct from a tensor, it is recommended to use sourceTensor.clone().detach() or sourceTensor.clone().detach().requires_grad_(True), rather than torch.tensor(sourceTensor).\n",
            "  x = torch.tensor(x, dtype=torch.float32).to(self.device)\n",
            "[I 2025-03-07 03:10:57,104] Trial 20 finished with value: 0.9366906474820144 and parameters: {'n_d': 41, 'n_a': 117, 'n_steps': 5, 'gamma': 1.5960184809868543, 'lambda_sparse': 0.00025727963765251235, 'learning_rate': 0.02038540215131327, 'batch_size': 512}. Best is trial 19 with value: 0.9496402877697842.\n"
          ]
        },
        {
          "output_type": "stream",
          "name": "stdout",
          "text": [
            "\n",
            "Early stopping occurred at epoch 57 with best_epoch = 37 and best_val_0_accuracy = 0.96547\n"
          ]
        },
        {
          "output_type": "stream",
          "name": "stderr",
          "text": [
            "/usr/local/lib/python3.11/dist-packages/pytorch_tabnet/callbacks.py:172: UserWarning: Best weights from best epoch are automatically used!\n",
            "  warnings.warn(wrn_msg)\n",
            "<ipython-input-7-0eb623f98781>:23: UserWarning: To copy construct from a tensor, it is recommended to use sourceTensor.clone().detach() or sourceTensor.clone().detach().requires_grad_(True), rather than torch.tensor(sourceTensor).\n",
            "  x = torch.tensor(x, dtype=torch.float32).to(self.device)\n",
            "[I 2025-03-07 03:11:32,068] Trial 21 finished with value: 0.9424460431654677 and parameters: {'n_d': 74, 'n_a': 104, 'n_steps': 3, 'gamma': 1.7918873206139336, 'lambda_sparse': 0.0006492375782753446, 'learning_rate': 0.09910573553256893, 'batch_size': 128}. Best is trial 19 with value: 0.9496402877697842.\n"
          ]
        },
        {
          "output_type": "stream",
          "name": "stdout",
          "text": [
            "\n",
            "Early stopping occurred at epoch 51 with best_epoch = 31 and best_val_0_accuracy = 0.96259\n"
          ]
        },
        {
          "output_type": "stream",
          "name": "stderr",
          "text": [
            "/usr/local/lib/python3.11/dist-packages/pytorch_tabnet/callbacks.py:172: UserWarning: Best weights from best epoch are automatically used!\n",
            "  warnings.warn(wrn_msg)\n",
            "<ipython-input-7-0eb623f98781>:23: UserWarning: To copy construct from a tensor, it is recommended to use sourceTensor.clone().detach() or sourceTensor.clone().detach().requires_grad_(True), rather than torch.tensor(sourceTensor).\n",
            "  x = torch.tensor(x, dtype=torch.float32).to(self.device)\n",
            "[I 2025-03-07 03:12:02,943] Trial 22 finished with value: 0.9482014388489208 and parameters: {'n_d': 96, 'n_a': 96, 'n_steps': 3, 'gamma': 1.864595894994061, 'lambda_sparse': 0.0007144841056334167, 'learning_rate': 0.06611033406612978, 'batch_size': 128}. Best is trial 19 with value: 0.9496402877697842.\n"
          ]
        },
        {
          "output_type": "stream",
          "name": "stdout",
          "text": [
            "\n",
            "Early stopping occurred at epoch 46 with best_epoch = 26 and best_val_0_accuracy = 0.96835\n"
          ]
        },
        {
          "output_type": "stream",
          "name": "stderr",
          "text": [
            "/usr/local/lib/python3.11/dist-packages/pytorch_tabnet/callbacks.py:172: UserWarning: Best weights from best epoch are automatically used!\n",
            "  warnings.warn(wrn_msg)\n",
            "<ipython-input-7-0eb623f98781>:23: UserWarning: To copy construct from a tensor, it is recommended to use sourceTensor.clone().detach() or sourceTensor.clone().detach().requires_grad_(True), rather than torch.tensor(sourceTensor).\n",
            "  x = torch.tensor(x, dtype=torch.float32).to(self.device)\n",
            "[I 2025-03-07 03:12:30,730] Trial 23 finished with value: 0.9366906474820144 and parameters: {'n_d': 84, 'n_a': 103, 'n_steps': 3, 'gamma': 1.7722346971150233, 'lambda_sparse': 0.0015795157043735429, 'learning_rate': 0.06049415317917969, 'batch_size': 128}. Best is trial 19 with value: 0.9496402877697842.\n"
          ]
        },
        {
          "output_type": "stream",
          "name": "stdout",
          "text": [
            "\n",
            "Early stopping occurred at epoch 41 with best_epoch = 21 and best_val_0_accuracy = 0.95971\n"
          ]
        },
        {
          "output_type": "stream",
          "name": "stderr",
          "text": [
            "/usr/local/lib/python3.11/dist-packages/pytorch_tabnet/callbacks.py:172: UserWarning: Best weights from best epoch are automatically used!\n",
            "  warnings.warn(wrn_msg)\n",
            "<ipython-input-7-0eb623f98781>:23: UserWarning: To copy construct from a tensor, it is recommended to use sourceTensor.clone().detach() or sourceTensor.clone().detach().requires_grad_(True), rather than torch.tensor(sourceTensor).\n",
            "  x = torch.tensor(x, dtype=torch.float32).to(self.device)\n",
            "[I 2025-03-07 03:13:02,501] Trial 24 finished with value: 0.9280575539568345 and parameters: {'n_d': 97, 'n_a': 80, 'n_steps': 4, 'gamma': 1.9122799165984983, 'lambda_sparse': 0.0003816428073926918, 'learning_rate': 0.03198700015603835, 'batch_size': 128}. Best is trial 19 with value: 0.9496402877697842.\n"
          ]
        },
        {
          "output_type": "stream",
          "name": "stdout",
          "text": [
            "\n",
            "Early stopping occurred at epoch 66 with best_epoch = 46 and best_val_0_accuracy = 0.96403\n"
          ]
        },
        {
          "output_type": "stream",
          "name": "stderr",
          "text": [
            "/usr/local/lib/python3.11/dist-packages/pytorch_tabnet/callbacks.py:172: UserWarning: Best weights from best epoch are automatically used!\n",
            "  warnings.warn(wrn_msg)\n",
            "<ipython-input-7-0eb623f98781>:23: UserWarning: To copy construct from a tensor, it is recommended to use sourceTensor.clone().detach() or sourceTensor.clone().detach().requires_grad_(True), rather than torch.tensor(sourceTensor).\n",
            "  x = torch.tensor(x, dtype=torch.float32).to(self.device)\n",
            "[I 2025-03-07 03:13:41,791] Trial 25 finished with value: 0.9410071942446043 and parameters: {'n_d': 115, 'n_a': 100, 'n_steps': 3, 'gamma': 1.7178499350107472, 'lambda_sparse': 0.0006338813217619956, 'learning_rate': 0.0924840851988296, 'batch_size': 128}. Best is trial 19 with value: 0.9496402877697842.\n"
          ]
        },
        {
          "output_type": "stream",
          "name": "stdout",
          "text": [
            "\n",
            "Early stopping occurred at epoch 86 with best_epoch = 66 and best_val_0_accuracy = 0.96547\n"
          ]
        },
        {
          "output_type": "stream",
          "name": "stderr",
          "text": [
            "/usr/local/lib/python3.11/dist-packages/pytorch_tabnet/callbacks.py:172: UserWarning: Best weights from best epoch are automatically used!\n",
            "  warnings.warn(wrn_msg)\n",
            "<ipython-input-7-0eb623f98781>:23: UserWarning: To copy construct from a tensor, it is recommended to use sourceTensor.clone().detach() or sourceTensor.clone().detach().requires_grad_(True), rather than torch.tensor(sourceTensor).\n",
            "  x = torch.tensor(x, dtype=torch.float32).to(self.device)\n",
            "[I 2025-03-07 03:14:57,836] Trial 26 finished with value: 0.939568345323741 and parameters: {'n_d': 78, 'n_a': 83, 'n_steps': 5, 'gamma': 1.579413121409532, 'lambda_sparse': 0.00024584563083297165, 'learning_rate': 0.05458518310573015, 'batch_size': 128}. Best is trial 19 with value: 0.9496402877697842.\n"
          ]
        },
        {
          "output_type": "stream",
          "name": "stdout",
          "text": [
            "\n",
            "Early stopping occurred at epoch 57 with best_epoch = 37 and best_val_0_accuracy = 0.96547\n"
          ]
        },
        {
          "output_type": "stream",
          "name": "stderr",
          "text": [
            "/usr/local/lib/python3.11/dist-packages/pytorch_tabnet/callbacks.py:172: UserWarning: Best weights from best epoch are automatically used!\n",
            "  warnings.warn(wrn_msg)\n",
            "<ipython-input-7-0eb623f98781>:23: UserWarning: To copy construct from a tensor, it is recommended to use sourceTensor.clone().detach() or sourceTensor.clone().detach().requires_grad_(True), rather than torch.tensor(sourceTensor).\n",
            "  x = torch.tensor(x, dtype=torch.float32).to(self.device)\n",
            "[I 2025-03-07 03:15:40,927] Trial 27 finished with value: 0.943884892086331 and parameters: {'n_d': 68, 'n_a': 119, 'n_steps': 4, 'gamma': 1.8888943459463756, 'lambda_sparse': 0.0013970854114794648, 'learning_rate': 0.021385532410360054, 'batch_size': 128}. Best is trial 19 with value: 0.9496402877697842.\n"
          ]
        },
        {
          "output_type": "stream",
          "name": "stdout",
          "text": [
            "Stop training because you reached max_epochs = 100 with best_epoch = 88 and best_val_0_accuracy = 0.96259\n"
          ]
        },
        {
          "output_type": "stream",
          "name": "stderr",
          "text": [
            "/usr/local/lib/python3.11/dist-packages/pytorch_tabnet/callbacks.py:172: UserWarning: Best weights from best epoch are automatically used!\n",
            "  warnings.warn(wrn_msg)\n",
            "<ipython-input-7-0eb623f98781>:23: UserWarning: To copy construct from a tensor, it is recommended to use sourceTensor.clone().detach() or sourceTensor.clone().detach().requires_grad_(True), rather than torch.tensor(sourceTensor).\n",
            "  x = torch.tensor(x, dtype=torch.float32).to(self.device)\n",
            "[I 2025-03-07 03:16:01,443] Trial 28 finished with value: 0.9424460431654677 and parameters: {'n_d': 85, 'n_a': 75, 'n_steps': 3, 'gamma': 1.791463159540924, 'lambda_sparse': 0.000517795511565343, 'learning_rate': 0.0676505819135273, 'batch_size': 512}. Best is trial 19 with value: 0.9496402877697842.\n"
          ]
        },
        {
          "output_type": "stream",
          "name": "stdout",
          "text": [
            "\n",
            "Early stopping occurred at epoch 54 with best_epoch = 34 and best_val_0_accuracy = 0.96403\n"
          ]
        },
        {
          "output_type": "stream",
          "name": "stderr",
          "text": [
            "/usr/local/lib/python3.11/dist-packages/pytorch_tabnet/callbacks.py:172: UserWarning: Best weights from best epoch are automatically used!\n",
            "  warnings.warn(wrn_msg)\n",
            "<ipython-input-7-0eb623f98781>:23: UserWarning: To copy construct from a tensor, it is recommended to use sourceTensor.clone().detach() or sourceTensor.clone().detach().requires_grad_(True), rather than torch.tensor(sourceTensor).\n",
            "  x = torch.tensor(x, dtype=torch.float32).to(self.device)\n",
            "[I 2025-03-07 03:16:34,187] Trial 29 finished with value: 0.9381294964028777 and parameters: {'n_d': 126, 'n_a': 58, 'n_steps': 3, 'gamma': 1.6591612055778722, 'lambda_sparse': 0.0009041450025732648, 'learning_rate': 0.02961645233930599, 'batch_size': 128}. Best is trial 19 with value: 0.9496402877697842.\n"
          ]
        },
        {
          "output_type": "stream",
          "name": "stdout",
          "text": [
            "\n",
            "Early stopping occurred at epoch 45 with best_epoch = 25 and best_val_0_accuracy = 0.96403\n"
          ]
        },
        {
          "output_type": "stream",
          "name": "stderr",
          "text": [
            "/usr/local/lib/python3.11/dist-packages/pytorch_tabnet/callbacks.py:172: UserWarning: Best weights from best epoch are automatically used!\n",
            "  warnings.warn(wrn_msg)\n",
            "<ipython-input-7-0eb623f98781>:23: UserWarning: To copy construct from a tensor, it is recommended to use sourceTensor.clone().detach() or sourceTensor.clone().detach().requires_grad_(True), rather than torch.tensor(sourceTensor).\n",
            "  x = torch.tensor(x, dtype=torch.float32).to(self.device)\n",
            "[I 2025-03-07 03:17:15,131] Trial 30 finished with value: 0.9338129496402877 and parameters: {'n_d': 101, 'n_a': 111, 'n_steps': 5, 'gamma': 1.9277841394180741, 'lambda_sparse': 0.00047305907518084035, 'learning_rate': 0.039953287116600664, 'batch_size': 128}. Best is trial 19 with value: 0.9496402877697842.\n"
          ]
        },
        {
          "output_type": "stream",
          "name": "stdout",
          "text": [
            "\n",
            "Early stopping occurred at epoch 51 with best_epoch = 31 and best_val_0_accuracy = 0.96835\n"
          ]
        },
        {
          "output_type": "stream",
          "name": "stderr",
          "text": [
            "/usr/local/lib/python3.11/dist-packages/pytorch_tabnet/callbacks.py:172: UserWarning: Best weights from best epoch are automatically used!\n",
            "  warnings.warn(wrn_msg)\n",
            "<ipython-input-7-0eb623f98781>:23: UserWarning: To copy construct from a tensor, it is recommended to use sourceTensor.clone().detach() or sourceTensor.clone().detach().requires_grad_(True), rather than torch.tensor(sourceTensor).\n",
            "  x = torch.tensor(x, dtype=torch.float32).to(self.device)\n",
            "[I 2025-03-07 03:17:46,846] Trial 31 finished with value: 0.9381294964028777 and parameters: {'n_d': 92, 'n_a': 98, 'n_steps': 3, 'gamma': 1.8437447306692927, 'lambda_sparse': 0.0007796897713502987, 'learning_rate': 0.06864566353248276, 'batch_size': 128}. Best is trial 19 with value: 0.9496402877697842.\n"
          ]
        },
        {
          "output_type": "stream",
          "name": "stdout",
          "text": [
            "\n",
            "Early stopping occurred at epoch 72 with best_epoch = 52 and best_val_0_accuracy = 0.9554\n"
          ]
        },
        {
          "output_type": "stream",
          "name": "stderr",
          "text": [
            "/usr/local/lib/python3.11/dist-packages/pytorch_tabnet/callbacks.py:172: UserWarning: Best weights from best epoch are automatically used!\n",
            "  warnings.warn(wrn_msg)\n",
            "<ipython-input-7-0eb623f98781>:23: UserWarning: To copy construct from a tensor, it is recommended to use sourceTensor.clone().detach() or sourceTensor.clone().detach().requires_grad_(True), rather than torch.tensor(sourceTensor).\n",
            "  x = torch.tensor(x, dtype=torch.float32).to(self.device)\n",
            "[I 2025-03-07 03:18:40,142] Trial 32 finished with value: 0.9309352517985612 and parameters: {'n_d': 98, 'n_a': 87, 'n_steps': 4, 'gamma': 1.9304438355088847, 'lambda_sparse': 0.0005567259895269818, 'learning_rate': 0.07664375590197794, 'batch_size': 128}. Best is trial 19 with value: 0.9496402877697842.\n"
          ]
        },
        {
          "output_type": "stream",
          "name": "stdout",
          "text": [
            "\n",
            "Early stopping occurred at epoch 35 with best_epoch = 15 and best_val_0_accuracy = 0.95396\n"
          ]
        },
        {
          "output_type": "stream",
          "name": "stderr",
          "text": [
            "/usr/local/lib/python3.11/dist-packages/pytorch_tabnet/callbacks.py:172: UserWarning: Best weights from best epoch are automatically used!\n",
            "  warnings.warn(wrn_msg)\n",
            "<ipython-input-7-0eb623f98781>:23: UserWarning: To copy construct from a tensor, it is recommended to use sourceTensor.clone().detach() or sourceTensor.clone().detach().requires_grad_(True), rather than torch.tensor(sourceTensor).\n",
            "  x = torch.tensor(x, dtype=torch.float32).to(self.device)\n",
            "[I 2025-03-07 03:19:01,833] Trial 33 finished with value: 0.9424460431654677 and parameters: {'n_d': 116, 'n_a': 98, 'n_steps': 3, 'gamma': 1.7581713219369053, 'lambda_sparse': 0.0008208804589228011, 'learning_rate': 0.09814937457238325, 'batch_size': 128}. Best is trial 19 with value: 0.9496402877697842.\n"
          ]
        },
        {
          "output_type": "stream",
          "name": "stdout",
          "text": [
            "\n",
            "Early stopping occurred at epoch 73 with best_epoch = 53 and best_val_0_accuracy = 0.96547\n"
          ]
        },
        {
          "output_type": "stream",
          "name": "stderr",
          "text": [
            "/usr/local/lib/python3.11/dist-packages/pytorch_tabnet/callbacks.py:172: UserWarning: Best weights from best epoch are automatically used!\n",
            "  warnings.warn(wrn_msg)\n",
            "<ipython-input-7-0eb623f98781>:23: UserWarning: To copy construct from a tensor, it is recommended to use sourceTensor.clone().detach() or sourceTensor.clone().detach().requires_grad_(True), rather than torch.tensor(sourceTensor).\n",
            "  x = torch.tensor(x, dtype=torch.float32).to(self.device)\n",
            "[I 2025-03-07 03:19:45,789] Trial 34 finished with value: 0.9424460431654677 and parameters: {'n_d': 93, 'n_a': 96, 'n_steps': 3, 'gamma': 1.8649562428272706, 'lambda_sparse': 0.002002201861093394, 'learning_rate': 0.055356344866363844, 'batch_size': 128}. Best is trial 19 with value: 0.9496402877697842.\n"
          ]
        },
        {
          "output_type": "stream",
          "name": "stdout",
          "text": [
            "\n",
            "Early stopping occurred at epoch 57 with best_epoch = 37 and best_val_0_accuracy = 0.96403\n"
          ]
        },
        {
          "output_type": "stream",
          "name": "stderr",
          "text": [
            "/usr/local/lib/python3.11/dist-packages/pytorch_tabnet/callbacks.py:172: UserWarning: Best weights from best epoch are automatically used!\n",
            "  warnings.warn(wrn_msg)\n",
            "<ipython-input-7-0eb623f98781>:23: UserWarning: To copy construct from a tensor, it is recommended to use sourceTensor.clone().detach() or sourceTensor.clone().detach().requires_grad_(True), rather than torch.tensor(sourceTensor).\n",
            "  x = torch.tensor(x, dtype=torch.float32).to(self.device)\n",
            "[I 2025-03-07 03:21:20,368] Trial 35 finished with value: 0.9453237410071943 and parameters: {'n_d': 88, 'n_a': 107, 'n_steps': 10, 'gamma': 1.9969403508000727, 'lambda_sparse': 0.0003713830501678633, 'learning_rate': 0.013258456224676517, 'batch_size': 128}. Best is trial 19 with value: 0.9496402877697842.\n"
          ]
        },
        {
          "output_type": "stream",
          "name": "stdout",
          "text": [
            "Stop training because you reached max_epochs = 100 with best_epoch = 95 and best_val_0_accuracy = 0.96259\n"
          ]
        },
        {
          "output_type": "stream",
          "name": "stderr",
          "text": [
            "/usr/local/lib/python3.11/dist-packages/pytorch_tabnet/callbacks.py:172: UserWarning: Best weights from best epoch are automatically used!\n",
            "  warnings.warn(wrn_msg)\n",
            "<ipython-input-7-0eb623f98781>:23: UserWarning: To copy construct from a tensor, it is recommended to use sourceTensor.clone().detach() or sourceTensor.clone().detach().requires_grad_(True), rather than torch.tensor(sourceTensor).\n",
            "  x = torch.tensor(x, dtype=torch.float32).to(self.device)\n",
            "[I 2025-03-07 03:21:46,636] Trial 36 finished with value: 0.9424460431654677 and parameters: {'n_d': 81, 'n_a': 111, 'n_steps': 4, 'gamma': 1.5040092580795539, 'lambda_sparse': 0.0012422088100647907, 'learning_rate': 0.06578456384097821, 'batch_size': 512}. Best is trial 19 with value: 0.9496402877697842.\n"
          ]
        },
        {
          "output_type": "stream",
          "name": "stdout",
          "text": [
            "\n",
            "Early stopping occurred at epoch 61 with best_epoch = 41 and best_val_0_accuracy = 0.95971\n"
          ]
        },
        {
          "output_type": "stream",
          "name": "stderr",
          "text": [
            "/usr/local/lib/python3.11/dist-packages/pytorch_tabnet/callbacks.py:172: UserWarning: Best weights from best epoch are automatically used!\n",
            "  warnings.warn(wrn_msg)\n",
            "<ipython-input-7-0eb623f98781>:23: UserWarning: To copy construct from a tensor, it is recommended to use sourceTensor.clone().detach() or sourceTensor.clone().detach().requires_grad_(True), rather than torch.tensor(sourceTensor).\n",
            "  x = torch.tensor(x, dtype=torch.float32).to(self.device)\n",
            "[I 2025-03-07 03:23:08,059] Trial 37 finished with value: 0.9323741007194245 and parameters: {'n_d': 112, 'n_a': 122, 'n_steps': 8, 'gamma': 1.8111269156969307, 'lambda_sparse': 0.0028458799949591905, 'learning_rate': 0.03852231130594281, 'batch_size': 128}. Best is trial 19 with value: 0.9496402877697842.\n"
          ]
        },
        {
          "output_type": "stream",
          "name": "stdout",
          "text": [
            "\n",
            "Early stopping occurred at epoch 87 with best_epoch = 67 and best_val_0_accuracy = 0.96978\n"
          ]
        },
        {
          "output_type": "stream",
          "name": "stderr",
          "text": [
            "/usr/local/lib/python3.11/dist-packages/pytorch_tabnet/callbacks.py:172: UserWarning: Best weights from best epoch are automatically used!\n",
            "  warnings.warn(wrn_msg)\n",
            "<ipython-input-7-0eb623f98781>:23: UserWarning: To copy construct from a tensor, it is recommended to use sourceTensor.clone().detach() or sourceTensor.clone().detach().requires_grad_(True), rather than torch.tensor(sourceTensor).\n",
            "  x = torch.tensor(x, dtype=torch.float32).to(self.device)\n",
            "[I 2025-03-07 03:23:59,699] Trial 38 finished with value: 0.920863309352518 and parameters: {'n_d': 49, 'n_a': 75, 'n_steps': 3, 'gamma': 1.424840378727949, 'lambda_sparse': 0.00031284036442492437, 'learning_rate': 0.004741755881836303, 'batch_size': 128}. Best is trial 19 with value: 0.9496402877697842.\n"
          ]
        },
        {
          "output_type": "stream",
          "name": "stdout",
          "text": [
            "\n",
            "Early stopping occurred at epoch 64 with best_epoch = 44 and best_val_0_accuracy = 0.96835\n"
          ]
        },
        {
          "output_type": "stream",
          "name": "stderr",
          "text": [
            "/usr/local/lib/python3.11/dist-packages/pytorch_tabnet/callbacks.py:172: UserWarning: Best weights from best epoch are automatically used!\n",
            "  warnings.warn(wrn_msg)\n",
            "<ipython-input-7-0eb623f98781>:23: UserWarning: To copy construct from a tensor, it is recommended to use sourceTensor.clone().detach() or sourceTensor.clone().detach().requires_grad_(True), rather than torch.tensor(sourceTensor).\n",
            "  x = torch.tensor(x, dtype=torch.float32).to(self.device)\n",
            "[I 2025-03-07 03:24:47,033] Trial 39 finished with value: 0.9223021582733812 and parameters: {'n_d': 100, 'n_a': 88, 'n_steps': 4, 'gamma': 1.7446030502514458, 'lambda_sparse': 0.0006726159347336368, 'learning_rate': 0.010692174635868445, 'batch_size': 128}. Best is trial 19 with value: 0.9496402877697842.\n"
          ]
        },
        {
          "output_type": "stream",
          "name": "stdout",
          "text": [
            "\n",
            "Early stopping occurred at epoch 95 with best_epoch = 75 and best_val_0_accuracy = 0.96115\n"
          ]
        },
        {
          "output_type": "stream",
          "name": "stderr",
          "text": [
            "/usr/local/lib/python3.11/dist-packages/pytorch_tabnet/callbacks.py:172: UserWarning: Best weights from best epoch are automatically used!\n",
            "  warnings.warn(wrn_msg)\n",
            "<ipython-input-7-0eb623f98781>:23: UserWarning: To copy construct from a tensor, it is recommended to use sourceTensor.clone().detach() or sourceTensor.clone().detach().requires_grad_(True), rather than torch.tensor(sourceTensor).\n",
            "  x = torch.tensor(x, dtype=torch.float32).to(self.device)\n",
            "[I 2025-03-07 03:25:21,480] Trial 40 finished with value: 0.9410071942446043 and parameters: {'n_d': 75, 'n_a': 102, 'n_steps': 6, 'gamma': 1.6306799406719226, 'lambda_sparse': 0.00158145263343359, 'learning_rate': 0.07808096997022873, 'batch_size': 512}. Best is trial 19 with value: 0.9496402877697842.\n"
          ]
        },
        {
          "output_type": "stream",
          "name": "stdout",
          "text": [
            "\n",
            "Early stopping occurred at epoch 35 with best_epoch = 15 and best_val_0_accuracy = 0.95683\n"
          ]
        },
        {
          "output_type": "stream",
          "name": "stderr",
          "text": [
            "/usr/local/lib/python3.11/dist-packages/pytorch_tabnet/callbacks.py:172: UserWarning: Best weights from best epoch are automatically used!\n",
            "  warnings.warn(wrn_msg)\n",
            "<ipython-input-7-0eb623f98781>:23: UserWarning: To copy construct from a tensor, it is recommended to use sourceTensor.clone().detach() or sourceTensor.clone().detach().requires_grad_(True), rather than torch.tensor(sourceTensor).\n",
            "  x = torch.tensor(x, dtype=torch.float32).to(self.device)\n",
            "[I 2025-03-07 03:25:42,644] Trial 41 finished with value: 0.9323741007194245 and parameters: {'n_d': 107, 'n_a': 91, 'n_steps': 3, 'gamma': 1.9538970680936867, 'lambda_sparse': 0.0009840080910412097, 'learning_rate': 0.048373306293195834, 'batch_size': 128}. Best is trial 19 with value: 0.9496402877697842.\n"
          ]
        },
        {
          "output_type": "stream",
          "name": "stdout",
          "text": [
            "\n",
            "Early stopping occurred at epoch 57 with best_epoch = 37 and best_val_0_accuracy = 0.95683\n"
          ]
        },
        {
          "output_type": "stream",
          "name": "stderr",
          "text": [
            "/usr/local/lib/python3.11/dist-packages/pytorch_tabnet/callbacks.py:172: UserWarning: Best weights from best epoch are automatically used!\n",
            "  warnings.warn(wrn_msg)\n",
            "<ipython-input-7-0eb623f98781>:23: UserWarning: To copy construct from a tensor, it is recommended to use sourceTensor.clone().detach() or sourceTensor.clone().detach().requires_grad_(True), rather than torch.tensor(sourceTensor).\n",
            "  x = torch.tensor(x, dtype=torch.float32).to(self.device)\n",
            "[I 2025-03-07 03:26:25,269] Trial 42 finished with value: 0.9496402877697842 and parameters: {'n_d': 95, 'n_a': 90, 'n_steps': 4, 'gamma': 1.9472937088578544, 'lambda_sparse': 0.0010069482985211105, 'learning_rate': 0.0379532181924021, 'batch_size': 128}. Best is trial 19 with value: 0.9496402877697842.\n"
          ]
        },
        {
          "output_type": "stream",
          "name": "stdout",
          "text": [
            "\n",
            "Early stopping occurred at epoch 57 with best_epoch = 37 and best_val_0_accuracy = 0.96403\n"
          ]
        },
        {
          "output_type": "stream",
          "name": "stderr",
          "text": [
            "/usr/local/lib/python3.11/dist-packages/pytorch_tabnet/callbacks.py:172: UserWarning: Best weights from best epoch are automatically used!\n",
            "  warnings.warn(wrn_msg)\n",
            "<ipython-input-7-0eb623f98781>:23: UserWarning: To copy construct from a tensor, it is recommended to use sourceTensor.clone().detach() or sourceTensor.clone().detach().requires_grad_(True), rather than torch.tensor(sourceTensor).\n",
            "  x = torch.tensor(x, dtype=torch.float32).to(self.device)\n",
            "[I 2025-03-07 03:27:00,116] Trial 43 finished with value: 0.9568345323741008 and parameters: {'n_d': 90, 'n_a': 86, 'n_steps': 3, 'gamma': 1.9080694902662798, 'lambda_sparse': 0.0005477009039361701, 'learning_rate': 0.09931532317631023, 'batch_size': 128}. Best is trial 43 with value: 0.9568345323741008.\n"
          ]
        },
        {
          "output_type": "stream",
          "name": "stdout",
          "text": [
            "\n",
            "Early stopping occurred at epoch 49 with best_epoch = 29 and best_val_0_accuracy = 0.95683\n"
          ]
        },
        {
          "output_type": "stream",
          "name": "stderr",
          "text": [
            "/usr/local/lib/python3.11/dist-packages/pytorch_tabnet/callbacks.py:172: UserWarning: Best weights from best epoch are automatically used!\n",
            "  warnings.warn(wrn_msg)\n",
            "<ipython-input-7-0eb623f98781>:23: UserWarning: To copy construct from a tensor, it is recommended to use sourceTensor.clone().detach() or sourceTensor.clone().detach().requires_grad_(True), rather than torch.tensor(sourceTensor).\n",
            "  x = torch.tensor(x, dtype=torch.float32).to(self.device)\n",
            "[I 2025-03-07 03:27:37,024] Trial 44 finished with value: 0.9309352517985612 and parameters: {'n_d': 89, 'n_a': 85, 'n_steps': 4, 'gamma': 1.9347238590796434, 'lambda_sparse': 0.00047616556348112593, 'learning_rate': 0.09921483477612107, 'batch_size': 128}. Best is trial 43 with value: 0.9568345323741008.\n"
          ]
        },
        {
          "output_type": "stream",
          "name": "stdout",
          "text": [
            "\n",
            "Early stopping occurred at epoch 43 with best_epoch = 23 and best_val_0_accuracy = 0.95971\n"
          ]
        },
        {
          "output_type": "stream",
          "name": "stderr",
          "text": [
            "/usr/local/lib/python3.11/dist-packages/pytorch_tabnet/callbacks.py:172: UserWarning: Best weights from best epoch are automatically used!\n",
            "  warnings.warn(wrn_msg)\n",
            "<ipython-input-7-0eb623f98781>:23: UserWarning: To copy construct from a tensor, it is recommended to use sourceTensor.clone().detach() or sourceTensor.clone().detach().requires_grad_(True), rather than torch.tensor(sourceTensor).\n",
            "  x = torch.tensor(x, dtype=torch.float32).to(self.device)\n",
            "[I 2025-03-07 03:28:28,537] Trial 45 finished with value: 0.9453237410071943 and parameters: {'n_d': 66, 'n_a': 79, 'n_steps': 7, 'gamma': 1.8260391346367566, 'lambda_sparse': 0.0005775307145482362, 'learning_rate': 0.08222297723625399, 'batch_size': 128}. Best is trial 43 with value: 0.9568345323741008.\n"
          ]
        },
        {
          "output_type": "stream",
          "name": "stdout",
          "text": [
            "\n",
            "Early stopping occurred at epoch 84 with best_epoch = 64 and best_val_0_accuracy = 0.96547\n"
          ]
        },
        {
          "output_type": "stream",
          "name": "stderr",
          "text": [
            "/usr/local/lib/python3.11/dist-packages/pytorch_tabnet/callbacks.py:172: UserWarning: Best weights from best epoch are automatically used!\n",
            "  warnings.warn(wrn_msg)\n",
            "<ipython-input-7-0eb623f98781>:23: UserWarning: To copy construct from a tensor, it is recommended to use sourceTensor.clone().detach() or sourceTensor.clone().detach().requires_grad_(True), rather than torch.tensor(sourceTensor).\n",
            "  x = torch.tensor(x, dtype=torch.float32).to(self.device)\n",
            "[I 2025-03-07 03:28:55,847] Trial 46 finished with value: 0.9280575539568345 and parameters: {'n_d': 84, 'n_a': 67, 'n_steps': 3, 'gamma': 1.0570234112781778, 'lambda_sparse': 0.00031043460807718984, 'learning_rate': 0.025842869597522355, 'batch_size': 256}. Best is trial 43 with value: 0.9568345323741008.\n"
          ]
        },
        {
          "output_type": "stream",
          "name": "stdout",
          "text": [
            "\n",
            "Early stopping occurred at epoch 41 with best_epoch = 21 and best_val_0_accuracy = 0.95827\n"
          ]
        },
        {
          "output_type": "stream",
          "name": "stderr",
          "text": [
            "/usr/local/lib/python3.11/dist-packages/pytorch_tabnet/callbacks.py:172: UserWarning: Best weights from best epoch are automatically used!\n",
            "  warnings.warn(wrn_msg)\n",
            "<ipython-input-7-0eb623f98781>:23: UserWarning: To copy construct from a tensor, it is recommended to use sourceTensor.clone().detach() or sourceTensor.clone().detach().requires_grad_(True), rather than torch.tensor(sourceTensor).\n",
            "  x = torch.tensor(x, dtype=torch.float32).to(self.device)\n",
            "[I 2025-03-07 03:29:33,235] Trial 47 finished with value: 0.935251798561151 and parameters: {'n_d': 103, 'n_a': 112, 'n_steps': 5, 'gamma': 1.8974662442248775, 'lambda_sparse': 0.000922112878217201, 'learning_rate': 0.04571178006854396, 'batch_size': 128}. Best is trial 43 with value: 0.9568345323741008.\n"
          ]
        },
        {
          "output_type": "stream",
          "name": "stdout",
          "text": [
            "\n",
            "Early stopping occurred at epoch 81 with best_epoch = 61 and best_val_0_accuracy = 0.95971\n"
          ]
        },
        {
          "output_type": "stream",
          "name": "stderr",
          "text": [
            "/usr/local/lib/python3.11/dist-packages/pytorch_tabnet/callbacks.py:172: UserWarning: Best weights from best epoch are automatically used!\n",
            "  warnings.warn(wrn_msg)\n",
            "<ipython-input-7-0eb623f98781>:23: UserWarning: To copy construct from a tensor, it is recommended to use sourceTensor.clone().detach() or sourceTensor.clone().detach().requires_grad_(True), rather than torch.tensor(sourceTensor).\n",
            "  x = torch.tensor(x, dtype=torch.float32).to(self.device)\n",
            "[I 2025-03-07 03:31:30,837] Trial 48 finished with value: 0.9424460431654677 and parameters: {'n_d': 121, 'n_a': 106, 'n_steps': 9, 'gamma': 1.9719731125333773, 'lambda_sparse': 0.001285098987230846, 'learning_rate': 0.08029628578529649, 'batch_size': 128}. Best is trial 43 with value: 0.9568345323741008.\n"
          ]
        },
        {
          "output_type": "stream",
          "name": "stdout",
          "text": [
            "\n",
            "Early stopping occurred at epoch 82 with best_epoch = 62 and best_val_0_accuracy = 0.95827\n"
          ]
        },
        {
          "output_type": "stream",
          "name": "stderr",
          "text": [
            "/usr/local/lib/python3.11/dist-packages/pytorch_tabnet/callbacks.py:172: UserWarning: Best weights from best epoch are automatically used!\n",
            "  warnings.warn(wrn_msg)\n",
            "<ipython-input-7-0eb623f98781>:23: UserWarning: To copy construct from a tensor, it is recommended to use sourceTensor.clone().detach() or sourceTensor.clone().detach().requires_grad_(True), rather than torch.tensor(sourceTensor).\n",
            "  x = torch.tensor(x, dtype=torch.float32).to(self.device)\n",
            "[I 2025-03-07 03:32:04,146] Trial 49 finished with value: 0.9035971223021583 and parameters: {'n_d': 94, 'n_a': 61, 'n_steps': 4, 'gamma': 1.7149074499650465, 'lambda_sparse': 0.00019380709621412556, 'learning_rate': 0.0013717896244188701, 'batch_size': 256}. Best is trial 43 with value: 0.9568345323741008.\n"
          ]
        }
      ]
    },
    {
      "cell_type": "code",
      "source": [
        "import numpy as np\n",
        "import torch\n",
        "import torch.nn as nn\n",
        "from pytorch_tabnet.tab_model import TabNetClassifier\n",
        "from sklearn.metrics import classification_report, confusion_matrix\n",
        "import matplotlib.pyplot as plt\n",
        "import seaborn as sns\n",
        "\n",
        "# Assuming device, study.best_params, X_train_flat, y_train_final, X_valid_flat, y_valid, X_test_flat, y_test are defined earlier\n",
        "device = torch.device(\"cuda\" if torch.cuda.is_available() else \"cpu\")\n",
        "\n",
        "# Define the augment_data function (from your original ModelAttentionMask.py)\n",
        "def augment_data(X, y, permutation_prob=0.1):\n",
        "    \"\"\"\n",
        "    Augment the dataset by randomly permuting feature orders with a given probability.\n",
        "\n",
        "    Parameters:\n",
        "    - X (numpy.ndarray): Feature matrix (e.g., shape (samples, 50) for 5 time steps × 10 features).\n",
        "    - y (numpy.ndarray): Target vector.\n",
        "    - permutation_prob (float): Probability of permuting each sample.\n",
        "\n",
        "    Returns:\n",
        "    - X_augmented (numpy.ndarray): Augmented feature matrix.\n",
        "    - y_augmented (numpy.ndarray): Augmented target vector.\n",
        "    \"\"\"\n",
        "    X_augmented = []\n",
        "    y_augmented = []\n",
        "    for sample, label in zip(X, y):\n",
        "        if np.random.rand() < permutation_prob:\n",
        "            perm = np.random.permutation(sample.shape[0])  # Permute the 50 features\n",
        "            sample = sample[perm]\n",
        "        X_augmented.append(sample)\n",
        "        y_augmented.append(label)\n",
        "    return np.array(X_augmented), np.array(y_augmented)\n",
        "\n",
        "# Define UncertaintyTabNet\n",
        "class UncertaintyTabNet(TabNetClassifier):\n",
        "    def __init__(self, *args, **kwargs):\n",
        "        super().__init__(*args, **kwargs)\n",
        "        self.dropout = nn.Dropout(p=0.3).to(device)\n",
        "        self.training = True\n",
        "        self.device = device\n",
        "\n",
        "    def forward(self, x):\n",
        "        x = torch.tensor(x, dtype=torch.float32).to(self.device)\n",
        "        if self.training or self.dropout.training:\n",
        "            x = self.dropout(x)\n",
        "        return self.network(x)\n",
        "\n",
        "    def predict_proba(self, X):\n",
        "        self.network.eval()\n",
        "        with torch.no_grad():\n",
        "            X_tensor = torch.tensor(X, dtype=torch.float32).to(self.device)\n",
        "            probs = []\n",
        "            for _ in range(50):\n",
        "                self.network.train()\n",
        "                logits, _ = self.forward(X_tensor)\n",
        "                prob = torch.softmax(logits, dim=1).cpu().numpy()\n",
        "                probs.append(prob)\n",
        "            probs = np.stack(probs, axis=0)\n",
        "        return np.mean(probs, axis=0), np.std(probs, axis=0)\n",
        "\n",
        "# Train with best params (assuming study.best_params is from your Optuna tuning)\n",
        "perm_reg_tabnet = UncertaintyTabNet(\n",
        "    input_dim=n_time_steps * X_scaled.shape[1],  # e.g., 50 (5 time steps × 10 features)\n",
        "    output_dim=3,\n",
        "    n_d=study.best_params['n_d'],\n",
        "    n_a=study.best_params['n_a'],\n",
        "    n_steps=study.best_params['n_steps'],\n",
        "    gamma=study.best_params['gamma'],\n",
        "    lambda_sparse=study.best_params['lambda_sparse'],\n",
        "    optimizer_fn=torch.optim.Adam,\n",
        "    optimizer_params={'lr': study.best_params['learning_rate']},\n",
        "    mask_type='sparsemax',\n",
        "    verbose=1,\n",
        "    seed=42\n",
        ")\n",
        "\n",
        "# Apply data augmentation\n",
        "X_train_augmented, y_train_augmented = augment_data(X_train_flat, y_train_final, permutation_prob=0.1)\n",
        "\n",
        "# Train the model\n",
        "perm_reg_tabnet.fit(\n",
        "    X_train=X_train_augmented,\n",
        "    y_train=y_train_augmented,\n",
        "    eval_set=[(X_valid_flat, y_valid)],\n",
        "    eval_name=['valid'],\n",
        "    eval_metric=['accuracy'],\n",
        "    max_epochs=100,\n",
        "    patience=20,\n",
        "    batch_size=study.best_params['batch_size'],\n",
        "    virtual_batch_size=128\n",
        ")\n",
        "\n",
        "# Evaluate\n",
        "probs_mean, probs_std = perm_reg_tabnet.predict_proba(X_test_flat)\n",
        "y_pred_mean = np.argmax(probs_mean, axis=1) + 1  # Adjust back to 1, 2, 3\n",
        "y_pred_uncertainty = np.max(probs_std, axis=1)\n",
        "\n",
        "print(\"\\nTemporal Uncertainty-Aware TabNet Classification Report:\")\n",
        "print(classification_report(y_test, y_pred_mean, target_names=['Normal', 'Suspect', 'Pathological']))\n",
        "print(f\"Mean uncertainty: {np.mean(y_pred_uncertainty):.4f}\")\n",
        "\n",
        "# Confusion matrix\n",
        "plt.figure(figsize=(8, 6))\n",
        "sns.heatmap(confusion_matrix(y_test, y_pred_mean), annot=True, fmt='d', cmap='Blues',\n",
        "            xticklabels=['Normal', 'Suspect', 'Pathological'],\n",
        "            yticklabels=['Normal', 'Suspect', 'Pathological'])\n",
        "plt.title('Confusion Matrix')\n",
        "plt.xlabel('Predicted')\n",
        "plt.ylabel('True')\n",
        "plt.show()\n",
        "\n",
        "# Uncertainty distribution\n",
        "plt.figure(figsize=(8, 6))\n",
        "sns.histplot(y_pred_uncertainty, bins=20, color='purple')\n",
        "plt.title('Prediction Uncertainty Distribution')\n",
        "plt.xlabel('Max Standard Deviation')\n",
        "plt.show()"
      ],
      "metadata": {
        "colab": {
          "base_uri": "https://localhost:8080/",
          "height": 1000
        },
        "id": "pIRGdoFhd1RP",
        "outputId": "79cf298f-6dd2-4e1d-f10a-99507ac45a1d"
      },
      "execution_count": 14,
      "outputs": [
        {
          "output_type": "stream",
          "name": "stderr",
          "text": [
            "/usr/local/lib/python3.11/dist-packages/pytorch_tabnet/abstract_model.py:82: UserWarning: Device used : cuda\n",
            "  warnings.warn(f\"Device used : {self.device}\")\n"
          ]
        },
        {
          "output_type": "stream",
          "name": "stdout",
          "text": [
            "epoch 0  | loss: 1.29399 | valid_accuracy: 0.66475 |  0:00:03s\n",
            "epoch 1  | loss: 0.47326 | valid_accuracy: 0.60288 |  0:00:04s\n",
            "epoch 2  | loss: 0.36569 | valid_accuracy: 0.87626 |  0:00:05s\n",
            "epoch 3  | loss: 0.38026 | valid_accuracy: 0.82878 |  0:00:06s\n",
            "epoch 4  | loss: 0.36027 | valid_accuracy: 0.82734 |  0:00:07s\n",
            "epoch 5  | loss: 0.36852 | valid_accuracy: 0.92806 |  0:00:07s\n",
            "epoch 6  | loss: 0.33633 | valid_accuracy: 0.93094 |  0:00:08s\n",
            "epoch 7  | loss: 0.34548 | valid_accuracy: 0.88777 |  0:00:08s\n",
            "epoch 8  | loss: 0.34305 | valid_accuracy: 0.87338 |  0:00:09s\n",
            "epoch 9  | loss: 0.30961 | valid_accuracy: 0.91942 |  0:00:09s\n",
            "epoch 10 | loss: 0.30153 | valid_accuracy: 0.91511 |  0:00:10s\n",
            "epoch 11 | loss: 0.32439 | valid_accuracy: 0.93525 |  0:00:10s\n",
            "epoch 12 | loss: 0.31323 | valid_accuracy: 0.9295  |  0:00:11s\n",
            "epoch 13 | loss: 0.28025 | valid_accuracy: 0.92518 |  0:00:11s\n",
            "epoch 14 | loss: 0.29375 | valid_accuracy: 0.92086 |  0:00:12s\n",
            "epoch 15 | loss: 0.2721  | valid_accuracy: 0.94532 |  0:00:13s\n",
            "epoch 16 | loss: 0.27281 | valid_accuracy: 0.94388 |  0:00:14s\n",
            "epoch 17 | loss: 0.30999 | valid_accuracy: 0.95108 |  0:00:14s\n",
            "epoch 18 | loss: 0.26961 | valid_accuracy: 0.94101 |  0:00:15s\n",
            "epoch 19 | loss: 0.26979 | valid_accuracy: 0.93381 |  0:00:15s\n",
            "epoch 20 | loss: 0.2622  | valid_accuracy: 0.94245 |  0:00:16s\n",
            "epoch 21 | loss: 0.25566 | valid_accuracy: 0.94964 |  0:00:16s\n",
            "epoch 22 | loss: 0.24754 | valid_accuracy: 0.95396 |  0:00:17s\n",
            "epoch 23 | loss: 0.2628  | valid_accuracy: 0.94388 |  0:00:18s\n",
            "epoch 24 | loss: 0.28004 | valid_accuracy: 0.93381 |  0:00:18s\n",
            "epoch 25 | loss: 0.25936 | valid_accuracy: 0.94676 |  0:00:19s\n",
            "epoch 26 | loss: 0.27318 | valid_accuracy: 0.93381 |  0:00:19s\n",
            "epoch 27 | loss: 0.24817 | valid_accuracy: 0.95108 |  0:00:20s\n",
            "epoch 28 | loss: 0.25527 | valid_accuracy: 0.96115 |  0:00:20s\n",
            "epoch 29 | loss: 0.23351 | valid_accuracy: 0.9482  |  0:00:21s\n",
            "epoch 30 | loss: 0.31342 | valid_accuracy: 0.92806 |  0:00:21s\n",
            "epoch 31 | loss: 0.25643 | valid_accuracy: 0.95396 |  0:00:22s\n",
            "epoch 32 | loss: 0.25232 | valid_accuracy: 0.95971 |  0:00:23s\n",
            "epoch 33 | loss: 0.25672 | valid_accuracy: 0.95252 |  0:00:23s\n",
            "epoch 34 | loss: 0.23902 | valid_accuracy: 0.9554  |  0:00:24s\n",
            "epoch 35 | loss: 0.23102 | valid_accuracy: 0.94676 |  0:00:24s\n",
            "epoch 36 | loss: 0.24631 | valid_accuracy: 0.94964 |  0:00:25s\n",
            "epoch 37 | loss: 0.25684 | valid_accuracy: 0.9482  |  0:00:26s\n",
            "epoch 38 | loss: 0.25361 | valid_accuracy: 0.96115 |  0:00:26s\n",
            "epoch 39 | loss: 0.25783 | valid_accuracy: 0.94964 |  0:00:27s\n",
            "epoch 40 | loss: 0.25786 | valid_accuracy: 0.94532 |  0:00:27s\n",
            "epoch 41 | loss: 0.23947 | valid_accuracy: 0.95683 |  0:00:28s\n",
            "epoch 42 | loss: 0.23885 | valid_accuracy: 0.95108 |  0:00:29s\n",
            "epoch 43 | loss: 0.24746 | valid_accuracy: 0.94676 |  0:00:29s\n",
            "epoch 44 | loss: 0.22372 | valid_accuracy: 0.94964 |  0:00:30s\n",
            "epoch 45 | loss: 0.21817 | valid_accuracy: 0.94676 |  0:00:30s\n",
            "epoch 46 | loss: 0.22979 | valid_accuracy: 0.91655 |  0:00:31s\n",
            "epoch 47 | loss: 0.25566 | valid_accuracy: 0.95827 |  0:00:32s\n",
            "epoch 48 | loss: 0.23599 | valid_accuracy: 0.95396 |  0:00:32s\n",
            "\n",
            "Early stopping occurred at epoch 48 with best_epoch = 28 and best_valid_accuracy = 0.96115\n"
          ]
        },
        {
          "output_type": "stream",
          "name": "stderr",
          "text": [
            "/usr/local/lib/python3.11/dist-packages/pytorch_tabnet/callbacks.py:172: UserWarning: Best weights from best epoch are automatically used!\n",
            "  warnings.warn(wrn_msg)\n",
            "<ipython-input-14-3f657da0463c>:45: UserWarning: To copy construct from a tensor, it is recommended to use sourceTensor.clone().detach() or sourceTensor.clone().detach().requires_grad_(True), rather than torch.tensor(sourceTensor).\n",
            "  x = torch.tensor(x, dtype=torch.float32).to(self.device)\n"
          ]
        },
        {
          "output_type": "stream",
          "name": "stdout",
          "text": [
            "\n",
            "Temporal Uncertainty-Aware TabNet Classification Report:\n",
            "              precision    recall  f1-score   support\n",
            "\n",
            "      Normal       0.95      0.93      0.94       496\n",
            "     Suspect       0.91      0.97      0.94       497\n",
            "Pathological       1.00      0.96      0.98       497\n",
            "\n",
            "    accuracy                           0.95      1490\n",
            "   macro avg       0.95      0.95      0.95      1490\n",
            "weighted avg       0.95      0.95      0.95      1490\n",
            "\n",
            "Mean uncertainty: 0.2533\n"
          ]
        },
        {
          "output_type": "display_data",
          "data": {
            "text/plain": [
              "<Figure size 800x600 with 2 Axes>"
            ],
            "image/png": "[encoded data removed]"
          },
          "metadata": {}
        },
        {
          "output_type": "display_data",
          "data": {
            "text/plain": [
              "<Figure size 800x600 with 1 Axes>"
            ],
            "image/png": "[encoded data removed]"
          },
          "metadata": {}
        }
      ]
    },
    {
      "cell_type": "code",
      "source": [],
      "metadata": {
        "id": "yiRXzbpSd1TV"
      },
      "execution_count": null,
      "outputs": []
    },
    {
      "cell_type": "code",
      "source": [],
      "metadata": {
        "id": "qn0Q5ESzd1Vb"
      },
      "execution_count": null,
      "outputs": []
    },
    {
      "cell_type": "code",
      "source": [],
      "metadata": {
        "id": "xdYH4Od3d1Xh"
      },
      "execution_count": null,
      "outputs": []
    },
    {
      "cell_type": "code",
      "source": [],
      "metadata": {
        "id": "DuqhKwhbd1Z-"
      },
      "execution_count": null,
      "outputs": []
    },
    {
      "cell_type": "code",
      "source": [],
      "metadata": {
        "id": "WLgrjqNEd1cF"
      },
      "execution_count": null,
      "outputs": []
    },
    {
      "cell_type": "code",
      "source": [],
      "metadata": {
        "id": "K1unnG4Zdw92"
      },
      "execution_count": null,
      "outputs": []
    },
    {
      "cell_type": "code",
      "source": [],
      "metadata": {
        "id": "N0_hFHzZdxAF"
      },
      "execution_count": null,
      "outputs": []
    },
    {
      "cell_type": "code",
      "source": [],
      "metadata": {
        "id": "sCLQJQx7dxCl"
      },
      "execution_count": null,
      "outputs": []
    },
    {
      "cell_type": "code",
      "source": [],
      "metadata": {
        "id": "X6BpKSnfdxEw"
      },
      "execution_count": null,
      "outputs": []
    },
    {
      "cell_type": "code",
      "source": [],
      "metadata": {
        "id": "JGkZ1jezdxHO"
      },
      "execution_count": null,
      "outputs": []
    },
    {
      "cell_type": "code",
      "source": [],
      "metadata": {
        "id": "SQZgp3aTdxJS"
      },
      "execution_count": null,
      "outputs": []
    }
  ]
}