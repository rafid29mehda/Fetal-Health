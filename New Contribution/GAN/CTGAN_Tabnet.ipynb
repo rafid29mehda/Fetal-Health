{
  "nbformat": 4,
  "nbformat_minor": 0,
  "metadata": {
    "colab": {
      "provenance": [],
      "gpuType": "T4"
    },
    "kernelspec": {
      "name": "python3",
      "display_name": "Python 3"
    },
    "language_info": {
      "name": "python"
    },
    "accelerator": "GPU"
  },
  "cells": [
    {
      "cell_type": "code",
      "execution_count": 4,
      "metadata": {
        "colab": {
          "base_uri": "https://localhost:8080/"
        },
        "id": "NFjtCN7ACc0q",
        "outputId": "8cf6c269-1ed3-405e-a2df-8eacd7c09094"
      },
      "outputs": [
        {
          "output_type": "stream",
          "name": "stdout",
          "text": [
            "Requirement already satisfied: pytorch-tabnet in /usr/local/lib/python3.11/dist-packages (4.1.0)\n",
            "Requirement already satisfied: numpy>=1.17 in /usr/local/lib/python3.11/dist-packages (from pytorch-tabnet) (1.26.4)\n",
            "Requirement already satisfied: scikit_learn>0.21 in /usr/local/lib/python3.11/dist-packages (from pytorch-tabnet) (1.6.1)\n",
            "Requirement already satisfied: scipy>1.4 in /usr/local/lib/python3.11/dist-packages (from pytorch-tabnet) (1.13.1)\n",
            "Requirement already satisfied: torch>=1.3 in /usr/local/lib/python3.11/dist-packages (from pytorch-tabnet) (2.5.1+cu124)\n",
            "Requirement already satisfied: tqdm>=4.36 in /usr/local/lib/python3.11/dist-packages (from pytorch-tabnet) (4.67.1)\n",
            "Requirement already satisfied: joblib>=1.2.0 in /usr/local/lib/python3.11/dist-packages (from scikit_learn>0.21->pytorch-tabnet) (1.4.2)\n",
            "Requirement already satisfied: threadpoolctl>=3.1.0 in /usr/local/lib/python3.11/dist-packages (from scikit_learn>0.21->pytorch-tabnet) (3.5.0)\n",
            "Requirement already satisfied: filelock in /usr/local/lib/python3.11/dist-packages (from torch>=1.3->pytorch-tabnet) (3.17.0)\n",
            "Requirement already satisfied: typing-extensions>=4.8.0 in /usr/local/lib/python3.11/dist-packages (from torch>=1.3->pytorch-tabnet) (4.12.2)\n",
            "Requirement already satisfied: networkx in /usr/local/lib/python3.11/dist-packages (from torch>=1.3->pytorch-tabnet) (3.4.2)\n",
            "Requirement already satisfied: jinja2 in /usr/local/lib/python3.11/dist-packages (from torch>=1.3->pytorch-tabnet) (3.1.5)\n",
            "Requirement already satisfied: fsspec in /usr/local/lib/python3.11/dist-packages (from torch>=1.3->pytorch-tabnet) (2024.10.0)\n",
            "Requirement already satisfied: nvidia-cuda-nvrtc-cu12==12.4.127 in /usr/local/lib/python3.11/dist-packages (from torch>=1.3->pytorch-tabnet) (12.4.127)\n",
            "Requirement already satisfied: nvidia-cuda-runtime-cu12==12.4.127 in /usr/local/lib/python3.11/dist-packages (from torch>=1.3->pytorch-tabnet) (12.4.127)\n",
            "Requirement already satisfied: nvidia-cuda-cupti-cu12==12.4.127 in /usr/local/lib/python3.11/dist-packages (from torch>=1.3->pytorch-tabnet) (12.4.127)\n",
            "Requirement already satisfied: nvidia-cudnn-cu12==9.1.0.70 in /usr/local/lib/python3.11/dist-packages (from torch>=1.3->pytorch-tabnet) (9.1.0.70)\n",
            "Requirement already satisfied: nvidia-cublas-cu12==12.4.5.8 in /usr/local/lib/python3.11/dist-packages (from torch>=1.3->pytorch-tabnet) (12.4.5.8)\n",
            "Requirement already satisfied: nvidia-cufft-cu12==11.2.1.3 in /usr/local/lib/python3.11/dist-packages (from torch>=1.3->pytorch-tabnet) (11.2.1.3)\n",
            "Requirement already satisfied: nvidia-curand-cu12==10.3.5.147 in /usr/local/lib/python3.11/dist-packages (from torch>=1.3->pytorch-tabnet) (10.3.5.147)\n",
            "Requirement already satisfied: nvidia-cusolver-cu12==11.6.1.9 in /usr/local/lib/python3.11/dist-packages (from torch>=1.3->pytorch-tabnet) (11.6.1.9)\n",
            "Requirement already satisfied: nvidia-cusparse-cu12==12.3.1.170 in /usr/local/lib/python3.11/dist-packages (from torch>=1.3->pytorch-tabnet) (12.3.1.170)\n",
            "Requirement already satisfied: nvidia-nccl-cu12==2.21.5 in /usr/local/lib/python3.11/dist-packages (from torch>=1.3->pytorch-tabnet) (2.21.5)\n",
            "Requirement already satisfied: nvidia-nvtx-cu12==12.4.127 in /usr/local/lib/python3.11/dist-packages (from torch>=1.3->pytorch-tabnet) (12.4.127)\n",
            "Requirement already satisfied: nvidia-nvjitlink-cu12==12.4.127 in /usr/local/lib/python3.11/dist-packages (from torch>=1.3->pytorch-tabnet) (12.4.127)\n",
            "Requirement already satisfied: triton==3.1.0 in /usr/local/lib/python3.11/dist-packages (from torch>=1.3->pytorch-tabnet) (3.1.0)\n",
            "Requirement already satisfied: sympy==1.13.1 in /usr/local/lib/python3.11/dist-packages (from torch>=1.3->pytorch-tabnet) (1.13.1)\n",
            "Requirement already satisfied: mpmath<1.4,>=1.1.0 in /usr/local/lib/python3.11/dist-packages (from sympy==1.13.1->torch>=1.3->pytorch-tabnet) (1.3.0)\n",
            "Requirement already satisfied: MarkupSafe>=2.0 in /usr/local/lib/python3.11/dist-packages (from jinja2->torch>=1.3->pytorch-tabnet) (3.0.2)\n",
            "Requirement already satisfied: captum in /usr/local/lib/python3.11/dist-packages (0.7.0)\n",
            "Requirement already satisfied: matplotlib in /usr/local/lib/python3.11/dist-packages (from captum) (3.10.0)\n",
            "Requirement already satisfied: numpy in /usr/local/lib/python3.11/dist-packages (from captum) (1.26.4)\n",
            "Requirement already satisfied: torch>=1.6 in /usr/local/lib/python3.11/dist-packages (from captum) (2.5.1+cu124)\n",
            "Requirement already satisfied: tqdm in /usr/local/lib/python3.11/dist-packages (from captum) (4.67.1)\n",
            "Requirement already satisfied: filelock in /usr/local/lib/python3.11/dist-packages (from torch>=1.6->captum) (3.17.0)\n",
            "Requirement already satisfied: typing-extensions>=4.8.0 in /usr/local/lib/python3.11/dist-packages (from torch>=1.6->captum) (4.12.2)\n",
            "Requirement already satisfied: networkx in /usr/local/lib/python3.11/dist-packages (from torch>=1.6->captum) (3.4.2)\n",
            "Requirement already satisfied: jinja2 in /usr/local/lib/python3.11/dist-packages (from torch>=1.6->captum) (3.1.5)\n",
            "Requirement already satisfied: fsspec in /usr/local/lib/python3.11/dist-packages (from torch>=1.6->captum) (2024.10.0)\n",
            "Requirement already satisfied: nvidia-cuda-nvrtc-cu12==12.4.127 in /usr/local/lib/python3.11/dist-packages (from torch>=1.6->captum) (12.4.127)\n",
            "Requirement already satisfied: nvidia-cuda-runtime-cu12==12.4.127 in /usr/local/lib/python3.11/dist-packages (from torch>=1.6->captum) (12.4.127)\n",
            "Requirement already satisfied: nvidia-cuda-cupti-cu12==12.4.127 in /usr/local/lib/python3.11/dist-packages (from torch>=1.6->captum) (12.4.127)\n",
            "Requirement already satisfied: nvidia-cudnn-cu12==9.1.0.70 in /usr/local/lib/python3.11/dist-packages (from torch>=1.6->captum) (9.1.0.70)\n",
            "Requirement already satisfied: nvidia-cublas-cu12==12.4.5.8 in /usr/local/lib/python3.11/dist-packages (from torch>=1.6->captum) (12.4.5.8)\n",
            "Requirement already satisfied: nvidia-cufft-cu12==11.2.1.3 in /usr/local/lib/python3.11/dist-packages (from torch>=1.6->captum) (11.2.1.3)\n",
            "Requirement already satisfied: nvidia-curand-cu12==10.3.5.147 in /usr/local/lib/python3.11/dist-packages (from torch>=1.6->captum) (10.3.5.147)\n",
            "Requirement already satisfied: nvidia-cusolver-cu12==11.6.1.9 in /usr/local/lib/python3.11/dist-packages (from torch>=1.6->captum) (11.6.1.9)\n",
            "Requirement already satisfied: nvidia-cusparse-cu12==12.3.1.170 in /usr/local/lib/python3.11/dist-packages (from torch>=1.6->captum) (12.3.1.170)\n",
            "Requirement already satisfied: nvidia-nccl-cu12==2.21.5 in /usr/local/lib/python3.11/dist-packages (from torch>=1.6->captum) (2.21.5)\n",
            "Requirement already satisfied: nvidia-nvtx-cu12==12.4.127 in /usr/local/lib/python3.11/dist-packages (from torch>=1.6->captum) (12.4.127)\n",
            "Requirement already satisfied: nvidia-nvjitlink-cu12==12.4.127 in /usr/local/lib/python3.11/dist-packages (from torch>=1.6->captum) (12.4.127)\n",
            "Requirement already satisfied: triton==3.1.0 in /usr/local/lib/python3.11/dist-packages (from torch>=1.6->captum) (3.1.0)\n",
            "Requirement already satisfied: sympy==1.13.1 in /usr/local/lib/python3.11/dist-packages (from torch>=1.6->captum) (1.13.1)\n",
            "Requirement already satisfied: mpmath<1.4,>=1.1.0 in /usr/local/lib/python3.11/dist-packages (from sympy==1.13.1->torch>=1.6->captum) (1.3.0)\n",
            "Requirement already satisfied: contourpy>=1.0.1 in /usr/local/lib/python3.11/dist-packages (from matplotlib->captum) (1.3.1)\n",
            "Requirement already satisfied: cycler>=0.10 in /usr/local/lib/python3.11/dist-packages (from matplotlib->captum) (0.12.1)\n",
            "Requirement already satisfied: fonttools>=4.22.0 in /usr/local/lib/python3.11/dist-packages (from matplotlib->captum) (4.56.0)\n",
            "Requirement already satisfied: kiwisolver>=1.3.1 in /usr/local/lib/python3.11/dist-packages (from matplotlib->captum) (1.4.8)\n",
            "Requirement already satisfied: packaging>=20.0 in /usr/local/lib/python3.11/dist-packages (from matplotlib->captum) (24.2)\n",
            "Requirement already satisfied: pillow>=8 in /usr/local/lib/python3.11/dist-packages (from matplotlib->captum) (11.1.0)\n",
            "Requirement already satisfied: pyparsing>=2.3.1 in /usr/local/lib/python3.11/dist-packages (from matplotlib->captum) (3.2.1)\n",
            "Requirement already satisfied: python-dateutil>=2.7 in /usr/local/lib/python3.11/dist-packages (from matplotlib->captum) (2.8.2)\n",
            "Requirement already satisfied: six>=1.5 in /usr/local/lib/python3.11/dist-packages (from python-dateutil>=2.7->matplotlib->captum) (1.17.0)\n",
            "Requirement already satisfied: MarkupSafe>=2.0 in /usr/local/lib/python3.11/dist-packages (from jinja2->torch>=1.6->captum) (3.0.2)\n",
            "Requirement already satisfied: optuna in /usr/local/lib/python3.11/dist-packages (4.2.1)\n",
            "Requirement already satisfied: alembic>=1.5.0 in /usr/local/lib/python3.11/dist-packages (from optuna) (1.14.1)\n",
            "Requirement already satisfied: colorlog in /usr/local/lib/python3.11/dist-packages (from optuna) (6.9.0)\n",
            "Requirement already satisfied: numpy in /usr/local/lib/python3.11/dist-packages (from optuna) (1.26.4)\n",
            "Requirement already satisfied: packaging>=20.0 in /usr/local/lib/python3.11/dist-packages (from optuna) (24.2)\n",
            "Requirement already satisfied: sqlalchemy>=1.4.2 in /usr/local/lib/python3.11/dist-packages (from optuna) (2.0.38)\n",
            "Requirement already satisfied: tqdm in /usr/local/lib/python3.11/dist-packages (from optuna) (4.67.1)\n",
            "Requirement already satisfied: PyYAML in /usr/local/lib/python3.11/dist-packages (from optuna) (6.0.2)\n",
            "Requirement already satisfied: Mako in /usr/local/lib/python3.11/dist-packages (from alembic>=1.5.0->optuna) (1.3.9)\n",
            "Requirement already satisfied: typing-extensions>=4 in /usr/local/lib/python3.11/dist-packages (from alembic>=1.5.0->optuna) (4.12.2)\n",
            "Requirement already satisfied: greenlet!=0.4.17 in /usr/local/lib/python3.11/dist-packages (from sqlalchemy>=1.4.2->optuna) (3.1.1)\n",
            "Requirement already satisfied: MarkupSafe>=0.9.2 in /usr/local/lib/python3.11/dist-packages (from Mako->alembic>=1.5.0->optuna) (3.0.2)\n",
            "Requirement already satisfied: imbalanced-learn in /usr/local/lib/python3.11/dist-packages (0.13.0)\n",
            "Requirement already satisfied: numpy<3,>=1.24.3 in /usr/local/lib/python3.11/dist-packages (from imbalanced-learn) (1.26.4)\n",
            "Requirement already satisfied: scipy<2,>=1.10.1 in /usr/local/lib/python3.11/dist-packages (from imbalanced-learn) (1.13.1)\n",
            "Requirement already satisfied: scikit-learn<2,>=1.3.2 in /usr/local/lib/python3.11/dist-packages (from imbalanced-learn) (1.6.1)\n",
            "Requirement already satisfied: sklearn-compat<1,>=0.1 in /usr/local/lib/python3.11/dist-packages (from imbalanced-learn) (0.1.3)\n",
            "Requirement already satisfied: joblib<2,>=1.1.1 in /usr/local/lib/python3.11/dist-packages (from imbalanced-learn) (1.4.2)\n",
            "Requirement already satisfied: threadpoolctl<4,>=2.0.0 in /usr/local/lib/python3.11/dist-packages (from imbalanced-learn) (3.5.0)\n",
            "Requirement already satisfied: dask-expr in /usr/local/lib/python3.11/dist-packages (1.1.19)\n",
            "Requirement already satisfied: dask==2024.11.2 in /usr/local/lib/python3.11/dist-packages (from dask-expr) (2024.11.2)\n",
            "Requirement already satisfied: pyarrow>=14.0.1 in /usr/local/lib/python3.11/dist-packages (from dask-expr) (18.1.0)\n",
            "Requirement already satisfied: pandas>=2 in /usr/local/lib/python3.11/dist-packages (from dask-expr) (2.2.2)\n",
            "Requirement already satisfied: click>=8.1 in /usr/local/lib/python3.11/dist-packages (from dask==2024.11.2->dask-expr) (8.1.8)\n",
            "Requirement already satisfied: cloudpickle>=3.0.0 in /usr/local/lib/python3.11/dist-packages (from dask==2024.11.2->dask-expr) (3.1.1)\n",
            "Requirement already satisfied: fsspec>=2021.09.0 in /usr/local/lib/python3.11/dist-packages (from dask==2024.11.2->dask-expr) (2024.10.0)\n",
            "Requirement already satisfied: packaging>=20.0 in /usr/local/lib/python3.11/dist-packages (from dask==2024.11.2->dask-expr) (24.2)\n",
            "Requirement already satisfied: partd>=1.4.0 in /usr/local/lib/python3.11/dist-packages (from dask==2024.11.2->dask-expr) (1.4.2)\n",
            "Requirement already satisfied: pyyaml>=5.3.1 in /usr/local/lib/python3.11/dist-packages (from dask==2024.11.2->dask-expr) (6.0.2)\n",
            "Requirement already satisfied: toolz>=0.10.0 in /usr/local/lib/python3.11/dist-packages (from dask==2024.11.2->dask-expr) (0.12.1)\n",
            "Requirement already satisfied: importlib-metadata>=4.13.0 in /usr/local/lib/python3.11/dist-packages (from dask==2024.11.2->dask-expr) (8.6.1)\n",
            "Requirement already satisfied: numpy>=1.23.2 in /usr/local/lib/python3.11/dist-packages (from pandas>=2->dask-expr) (1.26.4)\n",
            "Requirement already satisfied: python-dateutil>=2.8.2 in /usr/local/lib/python3.11/dist-packages (from pandas>=2->dask-expr) (2.8.2)\n",
            "Requirement already satisfied: pytz>=2020.1 in /usr/local/lib/python3.11/dist-packages (from pandas>=2->dask-expr) (2025.1)\n",
            "Requirement already satisfied: tzdata>=2022.7 in /usr/local/lib/python3.11/dist-packages (from pandas>=2->dask-expr) (2025.1)\n",
            "Requirement already satisfied: zipp>=3.20 in /usr/local/lib/python3.11/dist-packages (from importlib-metadata>=4.13.0->dask==2024.11.2->dask-expr) (3.21.0)\n",
            "Requirement already satisfied: locket in /usr/local/lib/python3.11/dist-packages (from partd>=1.4.0->dask==2024.11.2->dask-expr) (1.0.0)\n",
            "Requirement already satisfied: six>=1.5 in /usr/local/lib/python3.11/dist-packages (from python-dateutil>=2.8.2->pandas>=2->dask-expr) (1.17.0)\n",
            "\u001b[31mERROR: Could not find a version that satisfies the requirement scikit-learn-contrib (from versions: none)\u001b[0m\u001b[31m\n",
            "\u001b[0m\u001b[31mERROR: No matching distribution found for scikit-learn-contrib\u001b[0m\u001b[31m\n",
            "\u001b[0mRequirement already satisfied: lightgbm in /usr/local/lib/python3.11/dist-packages (4.5.0)\n",
            "Requirement already satisfied: numpy>=1.17.0 in /usr/local/lib/python3.11/dist-packages (from lightgbm) (1.26.4)\n",
            "Requirement already satisfied: scipy in /usr/local/lib/python3.11/dist-packages (from lightgbm) (1.13.1)\n",
            "Requirement already satisfied: ctgan in /usr/local/lib/python3.11/dist-packages (0.11.0)\n",
            "Requirement already satisfied: numpy>=1.23.3 in /usr/local/lib/python3.11/dist-packages (from ctgan) (1.26.4)\n",
            "Requirement already satisfied: pandas>=1.5.0 in /usr/local/lib/python3.11/dist-packages (from ctgan) (2.2.2)\n",
            "Requirement already satisfied: torch>=2.0.0 in /usr/local/lib/python3.11/dist-packages (from ctgan) (2.5.1+cu124)\n",
            "Requirement already satisfied: tqdm<5,>=4.29 in /usr/local/lib/python3.11/dist-packages (from ctgan) (4.67.1)\n",
            "Requirement already satisfied: rdt>=1.14.0 in /usr/local/lib/python3.11/dist-packages (from ctgan) (1.14.0)\n",
            "Requirement already satisfied: python-dateutil>=2.8.2 in /usr/local/lib/python3.11/dist-packages (from pandas>=1.5.0->ctgan) (2.8.2)\n",
            "Requirement already satisfied: pytz>=2020.1 in /usr/local/lib/python3.11/dist-packages (from pandas>=1.5.0->ctgan) (2025.1)\n",
            "Requirement already satisfied: tzdata>=2022.7 in /usr/local/lib/python3.11/dist-packages (from pandas>=1.5.0->ctgan) (2025.1)\n",
            "Requirement already satisfied: scipy>=1.9.2 in /usr/local/lib/python3.11/dist-packages (from rdt>=1.14.0->ctgan) (1.13.1)\n",
            "Requirement already satisfied: scikit-learn>=1.1.3 in /usr/local/lib/python3.11/dist-packages (from rdt>=1.14.0->ctgan) (1.6.1)\n",
            "Requirement already satisfied: Faker>=17 in /usr/local/lib/python3.11/dist-packages (from rdt>=1.14.0->ctgan) (36.1.1)\n",
            "Requirement already satisfied: filelock in /usr/local/lib/python3.11/dist-packages (from torch>=2.0.0->ctgan) (3.17.0)\n",
            "Requirement already satisfied: typing-extensions>=4.8.0 in /usr/local/lib/python3.11/dist-packages (from torch>=2.0.0->ctgan) (4.12.2)\n",
            "Requirement already satisfied: networkx in /usr/local/lib/python3.11/dist-packages (from torch>=2.0.0->ctgan) (3.4.2)\n",
            "Requirement already satisfied: jinja2 in /usr/local/lib/python3.11/dist-packages (from torch>=2.0.0->ctgan) (3.1.5)\n",
            "Requirement already satisfied: fsspec in /usr/local/lib/python3.11/dist-packages (from torch>=2.0.0->ctgan) (2024.10.0)\n",
            "Requirement already satisfied: nvidia-cuda-nvrtc-cu12==12.4.127 in /usr/local/lib/python3.11/dist-packages (from torch>=2.0.0->ctgan) (12.4.127)\n",
            "Requirement already satisfied: nvidia-cuda-runtime-cu12==12.4.127 in /usr/local/lib/python3.11/dist-packages (from torch>=2.0.0->ctgan) (12.4.127)\n",
            "Requirement already satisfied: nvidia-cuda-cupti-cu12==12.4.127 in /usr/local/lib/python3.11/dist-packages (from torch>=2.0.0->ctgan) (12.4.127)\n",
            "Requirement already satisfied: nvidia-cudnn-cu12==9.1.0.70 in /usr/local/lib/python3.11/dist-packages (from torch>=2.0.0->ctgan) (9.1.0.70)\n",
            "Requirement already satisfied: nvidia-cublas-cu12==12.4.5.8 in /usr/local/lib/python3.11/dist-packages (from torch>=2.0.0->ctgan) (12.4.5.8)\n",
            "Requirement already satisfied: nvidia-cufft-cu12==11.2.1.3 in /usr/local/lib/python3.11/dist-packages (from torch>=2.0.0->ctgan) (11.2.1.3)\n",
            "Requirement already satisfied: nvidia-curand-cu12==10.3.5.147 in /usr/local/lib/python3.11/dist-packages (from torch>=2.0.0->ctgan) (10.3.5.147)\n",
            "Requirement already satisfied: nvidia-cusolver-cu12==11.6.1.9 in /usr/local/lib/python3.11/dist-packages (from torch>=2.0.0->ctgan) (11.6.1.9)\n",
            "Requirement already satisfied: nvidia-cusparse-cu12==12.3.1.170 in /usr/local/lib/python3.11/dist-packages (from torch>=2.0.0->ctgan) (12.3.1.170)\n",
            "Requirement already satisfied: nvidia-nccl-cu12==2.21.5 in /usr/local/lib/python3.11/dist-packages (from torch>=2.0.0->ctgan) (2.21.5)\n",
            "Requirement already satisfied: nvidia-nvtx-cu12==12.4.127 in /usr/local/lib/python3.11/dist-packages (from torch>=2.0.0->ctgan) (12.4.127)\n",
            "Requirement already satisfied: nvidia-nvjitlink-cu12==12.4.127 in /usr/local/lib/python3.11/dist-packages (from torch>=2.0.0->ctgan) (12.4.127)\n",
            "Requirement already satisfied: triton==3.1.0 in /usr/local/lib/python3.11/dist-packages (from torch>=2.0.0->ctgan) (3.1.0)\n",
            "Requirement already satisfied: sympy==1.13.1 in /usr/local/lib/python3.11/dist-packages (from torch>=2.0.0->ctgan) (1.13.1)\n",
            "Requirement already satisfied: mpmath<1.4,>=1.1.0 in /usr/local/lib/python3.11/dist-packages (from sympy==1.13.1->torch>=2.0.0->ctgan) (1.3.0)\n",
            "Requirement already satisfied: six>=1.5 in /usr/local/lib/python3.11/dist-packages (from python-dateutil>=2.8.2->pandas>=1.5.0->ctgan) (1.17.0)\n",
            "Requirement already satisfied: joblib>=1.2.0 in /usr/local/lib/python3.11/dist-packages (from scikit-learn>=1.1.3->rdt>=1.14.0->ctgan) (1.4.2)\n",
            "Requirement already satisfied: threadpoolctl>=3.1.0 in /usr/local/lib/python3.11/dist-packages (from scikit-learn>=1.1.3->rdt>=1.14.0->ctgan) (3.5.0)\n",
            "Requirement already satisfied: MarkupSafe>=2.0 in /usr/local/lib/python3.11/dist-packages (from jinja2->torch>=2.0.0->ctgan) (3.0.2)\n"
          ]
        }
      ],
      "source": [
        "# Install necessary libraries\n",
        "!pip install pytorch-tabnet\n",
        "!pip install captum\n",
        "!pip install optuna\n",
        "!pip install imbalanced-learn\n",
        "!pip install dask-expr\n",
        "!pip install scikit-learn-contrib\n",
        "!pip install lightgbm\n",
        "!pip install ctgan  # Add this for CTGAN\n",
        "\n",
        "# Data manipulation and analysis\n",
        "import pandas as pd\n",
        "import numpy as np\n",
        "\n",
        "# Visualization\n",
        "import matplotlib.pyplot as plt\n",
        "import seaborn as sns\n",
        "\n",
        "# Preprocessing and modeling\n",
        "from sklearn.model_selection import train_test_split, StratifiedKFold\n",
        "from sklearn.preprocessing import MinMaxScaler\n",
        "from sklearn.metrics import classification_report, confusion_matrix, accuracy_score\n",
        "\n",
        "# Deep Learning Model\n",
        "from pytorch_tabnet.tab_model import TabNetClassifier\n",
        "\n",
        "# Explainable AI\n",
        "import shap\n",
        "\n",
        "# Hyperparameter Optimization\n",
        "import optuna\n",
        "from optuna import Trial\n",
        "\n",
        "# Suppress warnings\n",
        "import warnings\n",
        "warnings.filterwarnings('ignore')\n",
        "\n",
        "# For model saving and loading\n",
        "import joblib\n",
        "import pickle  # Add pickle for CTGAN loading\n",
        "\n",
        "# Import torch for TabNet\n",
        "import torch\n",
        "\n",
        "# Additional imports for Permutation Regularization\n",
        "import torch.nn as nn"
      ]
    },
    {
      "cell_type": "code",
      "source": [
        "# -------------------\n",
        "# 3. Load and Preprocess the Dataset\n",
        "# -------------------\n",
        "# Load the dataset\n",
        "data = pd.read_csv('/content/fetal_health.csv')  # Update path if needed\n",
        "\n",
        "# Display the first five rows to verify\n",
        "print(\"First five rows of the dataset:\")\n",
        "print(data.head())\n",
        "\n",
        "# Check the shape of the dataset\n",
        "print(f\"\\nDataset Shape: {data.shape}\")\n",
        "\n",
        "# Features to drop based on prior analysis (same as original)\n",
        "features_to_drop = [\n",
        "    'fetal_movement', 'histogram_width', 'histogram_max', 'mean_value_of_long_term_variability',\n",
        "    'histogram_number_of_peaks', 'light_decelerations', 'histogram_tendency',\n",
        "    'histogram_number_of_zeroes', 'severe_decelerations', 'baseline value', 'histogram_min'\n",
        "]\n",
        "\n",
        "# Drop the specified features\n",
        "data_dropped = data.drop(columns=features_to_drop)\n",
        "\n",
        "# Verify the remaining features\n",
        "print(\"\\nFeatures after dropping less important ones:\")\n",
        "print(data_dropped.columns.tolist())\n",
        "\n",
        "# Check the new shape of the dataset\n",
        "print(f\"\\nNew Dataset Shape after dropping features: {data_dropped.shape}\")\n",
        "\n",
        "# Convert 'fetal_health' to integer\n",
        "data_dropped['fetal_health'] = data_dropped['fetal_health'].astype(int)\n",
        "\n",
        "# Mapping numerical classes to descriptive labels\n",
        "health_mapping = {1: 'Normal', 2: 'Suspect', 3: 'Pathological'}\n",
        "data_dropped['fetal_health_label'] = data_dropped['fetal_health'].map(health_mapping)\n",
        "\n",
        "# Display the mapping\n",
        "print(\"\\nDataset with Mapped Labels:\")\n",
        "print(data_dropped[['fetal_health', 'fetal_health_label']].head())\n",
        "\n",
        "# Features and target\n",
        "X = data_dropped.drop(['fetal_health', 'fetal_health_label'], axis=1)\n",
        "y = data_dropped['fetal_health']\n",
        "\n",
        "# --- Replace ADASYN + Tomek with CTGAN ---\n",
        "# Load pre-trained CTGAN models (upload ctgan_suspect.pkl and ctgan_pathological.pkl to Colab first)\n",
        "with open('/content/ctgan_suspect.pkl', 'rb') as f:\n",
        "    ctgan_suspect = pickle.load(f)\n",
        "with open('/content/ctgan_pathological.pkl', 'rb') as f:\n",
        "    ctgan_pathological = pickle.load(f)\n",
        "\n",
        "# Scale original features (CTGAN models were trained on scaled data)\n",
        "scaler = MinMaxScaler()\n",
        "X_scaled = scaler.fit_transform(X)\n",
        "X_scaled = pd.DataFrame(X_scaled, columns=X.columns)\n",
        "\n",
        "# Number of synthetic samples to balance with Normal (1655)\n",
        "n_suspect = 1655 - 295  # 1360\n",
        "n_pathological = 1655 - 176  # 1479\n",
        "\n",
        "# Generate synthetic samples using CTGAN\n",
        "synthetic_suspect = ctgan_suspect.sample(n_suspect)\n",
        "synthetic_pathological = ctgan_pathological.sample(n_pathological)\n",
        "\n",
        "# Combine synthetic data\n",
        "synthetic_data = pd.concat([synthetic_suspect, synthetic_pathological], ignore_index=True)\n",
        "synthetic_df = synthetic_data.drop('fetal_health', axis=1)\n",
        "synthetic_labels = synthetic_data['fetal_health']\n",
        "\n",
        "# Combine with original data\n",
        "X_resampled = pd.concat([X_scaled, synthetic_df], ignore_index=True)\n",
        "y_resampled = pd.concat([y, synthetic_labels], ignore_index=True)\n",
        "\n",
        "# Display the shape and class distribution\n",
        "print(f\"\\nResampled X shape after CTGAN: {X_resampled.shape}\")\n",
        "print(f\"Resampled y distribution after CTGAN:\\n{y_resampled.value_counts()}\")\n",
        "\n",
        "# Visualize the resampled class distribution\n",
        "plt.figure(figsize=(8, 6))\n",
        "sns.countplot(x=y_resampled, palette='viridis')\n",
        "plt.title('Class Distribution After CTGAN')\n",
        "plt.xlabel('Fetal Health')\n",
        "plt.ylabel('Count')\n",
        "plt.show()"
      ],
      "metadata": {
        "colab": {
          "base_uri": "https://localhost:8080/",
          "height": 1000
        },
        "id": "PJm0K2WBC44r",
        "outputId": "99959150-2615-41f8-8fd3-4f8b1c1f1f73"
      },
      "execution_count": 5,
      "outputs": [
        {
          "output_type": "stream",
          "name": "stdout",
          "text": [
            "First five rows of the dataset:\n",
            "   baseline value  accelerations  fetal_movement  uterine_contractions  \\\n",
            "0           120.0          0.000             0.0                 0.000   \n",
            "1           132.0          0.006             0.0                 0.006   \n",
            "2           133.0          0.003             0.0                 0.008   \n",
            "3           134.0          0.003             0.0                 0.008   \n",
            "4           132.0          0.007             0.0                 0.008   \n",
            "\n",
            "   light_decelerations  severe_decelerations  prolongued_decelerations  \\\n",
            "0                0.000                   0.0                       0.0   \n",
            "1                0.003                   0.0                       0.0   \n",
            "2                0.003                   0.0                       0.0   \n",
            "3                0.003                   0.0                       0.0   \n",
            "4                0.000                   0.0                       0.0   \n",
            "\n",
            "   abnormal_short_term_variability  mean_value_of_short_term_variability  \\\n",
            "0                             73.0                                   0.5   \n",
            "1                             17.0                                   2.1   \n",
            "2                             16.0                                   2.1   \n",
            "3                             16.0                                   2.4   \n",
            "4                             16.0                                   2.4   \n",
            "\n",
            "   percentage_of_time_with_abnormal_long_term_variability  ...  histogram_min  \\\n",
            "0                                               43.0       ...           62.0   \n",
            "1                                                0.0       ...           68.0   \n",
            "2                                                0.0       ...           68.0   \n",
            "3                                                0.0       ...           53.0   \n",
            "4                                                0.0       ...           53.0   \n",
            "\n",
            "   histogram_max  histogram_number_of_peaks  histogram_number_of_zeroes  \\\n",
            "0          126.0                        2.0                         0.0   \n",
            "1          198.0                        6.0                         1.0   \n",
            "2          198.0                        5.0                         1.0   \n",
            "3          170.0                       11.0                         0.0   \n",
            "4          170.0                        9.0                         0.0   \n",
            "\n",
            "   histogram_mode  histogram_mean  histogram_median  histogram_variance  \\\n",
            "0           120.0           137.0             121.0                73.0   \n",
            "1           141.0           136.0             140.0                12.0   \n",
            "2           141.0           135.0             138.0                13.0   \n",
            "3           137.0           134.0             137.0                13.0   \n",
            "4           137.0           136.0             138.0                11.0   \n",
            "\n",
            "   histogram_tendency  fetal_health  \n",
            "0                 1.0           2.0  \n",
            "1                 0.0           1.0  \n",
            "2                 0.0           1.0  \n",
            "3                 1.0           1.0  \n",
            "4                 1.0           1.0  \n",
            "\n",
            "[5 rows x 22 columns]\n",
            "\n",
            "Dataset Shape: (2126, 22)\n",
            "\n",
            "Features after dropping less important ones:\n",
            "['accelerations', 'uterine_contractions', 'prolongued_decelerations', 'abnormal_short_term_variability', 'mean_value_of_short_term_variability', 'percentage_of_time_with_abnormal_long_term_variability', 'histogram_mode', 'histogram_mean', 'histogram_median', 'histogram_variance', 'fetal_health']\n",
            "\n",
            "New Dataset Shape after dropping features: (2126, 11)\n",
            "\n",
            "Dataset with Mapped Labels:\n",
            "   fetal_health fetal_health_label\n",
            "0             2            Suspect\n",
            "1             1             Normal\n",
            "2             1             Normal\n",
            "3             1             Normal\n",
            "4             1             Normal\n",
            "\n",
            "Resampled X shape after CTGAN: (4965, 10)\n",
            "Resampled y distribution after CTGAN:\n",
            "fetal_health\n",
            "2    1655\n",
            "1    1655\n",
            "3    1655\n",
            "Name: count, dtype: int64\n"
          ]
        },
        {
          "output_type": "display_data",
          "data": {
            "text/plain": [
              "<Figure size 800x600 with 1 Axes>"
            ],
            "image/png": "[encoded data removed]"
          },
          "metadata": {}
        }
      ]
    },
    {
      "cell_type": "code",
      "source": [
        "# Split the resampled data (70% train, 30% test) with stratification\n",
        "X_train, X_test, y_train, y_test = train_test_split(\n",
        "    X_resampled, y_resampled, test_size=0.3, random_state=42, stratify=y_resampled\n",
        ")\n",
        "\n",
        "# Display the shapes of the training and testing sets\n",
        "print(f\"\\nTraining set shape: {X_train.shape}\")\n",
        "print(f\"Testing set shape: {X_test.shape}\")\n",
        "\n",
        "# Initialize the MinMaxScaler (already scaled, but reassign for consistency)\n",
        "X_train_scaled = pd.DataFrame(X_train, columns=X.columns)\n",
        "X_test_scaled = pd.DataFrame(X_test, columns=X.columns)\n",
        "\n",
        "# Verify scaling by checking min and max values\n",
        "print(\"\\nMin of Scaled Training Features (Should be 0):\")\n",
        "print(X_train_scaled.min())\n",
        "print(\"\\nMax of Scaled Training Features (Should be 1):\")\n",
        "print(X_train_scaled.max())\n",
        "\n",
        "# Adjust the target values so they start from 0\n",
        "y_train = y_train - 1\n",
        "y_test = y_test - 1\n",
        "\n",
        "# Display the adjusted target distributions\n",
        "print(\"\\nAdjusted y_train distribution:\")\n",
        "print(pd.Series(y_train).value_counts())\n",
        "print(\"\\nAdjusted y_test distribution:\")\n",
        "print(pd.Series(y_test).value_counts())\n",
        "\n",
        "# Further split the training data into training and validation sets (80% train, 20% validation)\n",
        "X_train_final, X_valid, y_train_final, y_valid = train_test_split(\n",
        "    X_train_scaled, y_train, test_size=0.2, random_state=42, stratify=y_train\n",
        ")\n",
        "\n",
        "# Display the shapes of the final training and validation sets\n",
        "print(f\"\\nFinal Training set shape: {X_train_final.shape}\")\n",
        "print(f\"Validation set shape: {X_valid.shape}\")"
      ],
      "metadata": {
        "colab": {
          "base_uri": "https://localhost:8080/"
        },
        "id": "LGbS2Q4hC46q",
        "outputId": "db3c9a16-d21a-4ba1-c5b4-6b1d46a2fd3b"
      },
      "execution_count": 6,
      "outputs": [
        {
          "output_type": "stream",
          "name": "stdout",
          "text": [
            "\n",
            "Training set shape: (3475, 10)\n",
            "Testing set shape: (1490, 10)\n",
            "\n",
            "Min of Scaled Training Features (Should be 0):\n",
            "accelerations                                            -0.114280\n",
            "uterine_contractions                                     -0.337867\n",
            "prolongued_decelerations                                 -0.252885\n",
            "abnormal_short_term_variability                          -0.123320\n",
            "mean_value_of_short_term_variability                     -0.146603\n",
            "percentage_of_time_with_abnormal_long_term_variability   -0.166119\n",
            "histogram_mode                                           -0.268054\n",
            "histogram_mean                                           -0.122386\n",
            "histogram_median                                         -0.156802\n",
            "histogram_variance                                       -0.299106\n",
            "dtype: float64\n",
            "\n",
            "Max of Scaled Training Features (Should be 1):\n",
            "accelerations                                             0.947368\n",
            "uterine_contractions                                      1.183233\n",
            "prolongued_decelerations                                  1.179175\n",
            "abnormal_short_term_variability                           1.132907\n",
            "mean_value_of_short_term_variability                      1.540372\n",
            "percentage_of_time_with_abnormal_long_term_variability    1.373118\n",
            "histogram_mode                                            1.000000\n",
            "histogram_mean                                            1.000000\n",
            "histogram_median                                          1.000000\n",
            "histogram_variance                                        1.506365\n",
            "dtype: float64\n",
            "\n",
            "Adjusted y_train distribution:\n",
            "fetal_health\n",
            "0    1159\n",
            "1    1158\n",
            "2    1158\n",
            "Name: count, dtype: int64\n",
            "\n",
            "Adjusted y_test distribution:\n",
            "fetal_health\n",
            "1    497\n",
            "2    497\n",
            "0    496\n",
            "Name: count, dtype: int64\n",
            "\n",
            "Final Training set shape: (2780, 10)\n",
            "Validation set shape: (695, 10)\n"
          ]
        }
      ]
    },
    {
      "cell_type": "code",
      "source": [
        "# Define the objective function for Optuna\n",
        "def objective(trial: Trial):\n",
        "    # Define the hyperparameter space\n",
        "    n_d = trial.suggest_int('n_d', 32, 128)\n",
        "    n_a = trial.suggest_int('n_a', 32, 128)\n",
        "    n_steps = trial.suggest_int('n_steps', 3, 10)\n",
        "    gamma = trial.suggest_float('gamma', 1.0, 2.0)\n",
        "    lambda_sparse = trial.suggest_float('lambda_sparse', 1e-4, 1e-2, log=True)\n",
        "    learning_rate = trial.suggest_float('learning_rate', 1e-3, 1e-1, log=True)\n",
        "    batch_size = trial.suggest_categorical('batch_size', [128, 256, 512])\n",
        "\n",
        "    # Initialize TabNet with current hyperparameters\n",
        "    tabnet = TabNetClassifier(\n",
        "        n_d=n_d,\n",
        "        n_a=n_a,\n",
        "        n_steps=n_steps,\n",
        "        gamma=gamma,\n",
        "        lambda_sparse=lambda_sparse,\n",
        "        optimizer_fn=torch.optim.Adam,\n",
        "        optimizer_params=dict(lr=learning_rate),\n",
        "        mask_type='sparsemax',\n",
        "        verbose=0\n",
        "    )\n",
        "\n",
        "    # Train the model on the final training set\n",
        "    tabnet.fit(\n",
        "        X_train=X_train_final.values,\n",
        "        y_train=y_train_final.values,\n",
        "        eval_set=[(X_valid.values, y_valid.values)],\n",
        "        eval_name=['valid'],\n",
        "        eval_metric=['accuracy'],\n",
        "        max_epochs=100,\n",
        "        patience=20,\n",
        "        batch_size=batch_size,\n",
        "        virtual_batch_size=128,\n",
        "        num_workers=0,\n",
        "        drop_last=False\n",
        "    )\n",
        "\n",
        "    # Predict on the validation set\n",
        "    y_pred = tabnet.predict(X_valid.values)\n",
        "    accuracy = accuracy_score(y_valid, y_pred)\n",
        "\n",
        "    return accuracy\n",
        "\n",
        "# Create and optimize the Optuna study\n",
        "study = optuna.create_study(direction='maximize', study_name='TabNet Hyperparameter Optimization')\n",
        "study.optimize(objective, n_trials=50, timeout=3600)  # Adjust n_trials and timeout as needed\n",
        "\n",
        "# Display the best hyperparameters and validation accuracy\n",
        "print(\"Best Hyperparameters: \", study.best_params)\n",
        "print(\"Best Validation Accuracy: \", study.best_value)"
      ],
      "metadata": {
        "colab": {
          "base_uri": "https://localhost:8080/"
        },
        "id": "W5WLPGMeMFpY",
        "outputId": "b63009ca-dd93-4f63-cee5-5f06802fb76b"
      },
      "execution_count": 7,
      "outputs": [
        {
          "output_type": "stream",
          "name": "stderr",
          "text": [
            "[I 2025-03-01 05:32:07,545] A new study created in memory with name: TabNet Hyperparameter Optimization\n"
          ]
        },
        {
          "output_type": "stream",
          "name": "stdout",
          "text": [
            "Stop training because you reached max_epochs = 100 with best_epoch = 96 and best_valid_accuracy = 0.94676\n"
          ]
        },
        {
          "output_type": "stream",
          "name": "stderr",
          "text": [
            "[I 2025-03-01 05:33:28,564] Trial 0 finished with value: 0.9467625899280575 and parameters: {'n_d': 69, 'n_a': 108, 'n_steps': 7, 'gamma': 1.8130168201748105, 'lambda_sparse': 0.000593536406492887, 'learning_rate': 0.02007527513864254, 'batch_size': 256}. Best is trial 0 with value: 0.9467625899280575.\n"
          ]
        },
        {
          "output_type": "stream",
          "name": "stdout",
          "text": [
            "\n",
            "Early stopping occurred at epoch 85 with best_epoch = 65 and best_valid_accuracy = 0.9223\n"
          ]
        },
        {
          "output_type": "stream",
          "name": "stderr",
          "text": [
            "[I 2025-03-01 05:34:10,249] Trial 1 finished with value: 0.9223021582733812 and parameters: {'n_d': 59, 'n_a': 52, 'n_steps': 8, 'gamma': 1.6585383753433987, 'lambda_sparse': 0.0002047708040076128, 'learning_rate': 0.0256740883732765, 'batch_size': 512}. Best is trial 0 with value: 0.9467625899280575.\n",
            "[I 2025-03-01 05:34:38,830] Trial 2 finished with value: 0.9251798561151079 and parameters: {'n_d': 39, 'n_a': 53, 'n_steps': 4, 'gamma': 1.5218765611554943, 'lambda_sparse': 0.00010847642191020549, 'learning_rate': 0.0033485269614736447, 'batch_size': 512}. Best is trial 0 with value: 0.9467625899280575.\n"
          ]
        },
        {
          "output_type": "stream",
          "name": "stdout",
          "text": [
            "Stop training because you reached max_epochs = 100 with best_epoch = 97 and best_valid_accuracy = 0.92518\n"
          ]
        },
        {
          "output_type": "stream",
          "name": "stderr",
          "text": [
            "[I 2025-03-01 05:35:11,988] Trial 3 finished with value: 0.9280575539568345 and parameters: {'n_d': 70, 'n_a': 69, 'n_steps': 3, 'gamma': 1.4208144754779668, 'lambda_sparse': 0.006040621736588851, 'learning_rate': 0.001178566855644744, 'batch_size': 256}. Best is trial 0 with value: 0.9467625899280575.\n"
          ]
        },
        {
          "output_type": "stream",
          "name": "stdout",
          "text": [
            "\n",
            "Early stopping occurred at epoch 84 with best_epoch = 64 and best_valid_accuracy = 0.92806\n",
            "Stop training because you reached max_epochs = 100 with best_epoch = 96 and best_valid_accuracy = 0.91799\n"
          ]
        },
        {
          "output_type": "stream",
          "name": "stderr",
          "text": [
            "[I 2025-03-01 05:36:05,645] Trial 4 finished with value: 0.9179856115107914 and parameters: {'n_d': 115, 'n_a': 82, 'n_steps': 8, 'gamma': 1.537978032139152, 'lambda_sparse': 0.00032895542567258515, 'learning_rate': 0.0025860895795922485, 'batch_size': 512}. Best is trial 0 with value: 0.9467625899280575.\n"
          ]
        },
        {
          "output_type": "stream",
          "name": "stdout",
          "text": [
            "Stop training because you reached max_epochs = 100 with best_epoch = 91 and best_valid_accuracy = 0.90216\n"
          ]
        },
        {
          "output_type": "stream",
          "name": "stderr",
          "text": [
            "[I 2025-03-01 05:36:48,530] Trial 5 finished with value: 0.902158273381295 and parameters: {'n_d': 119, 'n_a': 74, 'n_steps': 7, 'gamma': 1.6714321376989836, 'lambda_sparse': 0.001095232971957352, 'learning_rate': 0.0010061437834230566, 'batch_size': 512}. Best is trial 0 with value: 0.9467625899280575.\n"
          ]
        },
        {
          "output_type": "stream",
          "name": "stdout",
          "text": [
            "Stop training because you reached max_epochs = 100 with best_epoch = 99 and best_valid_accuracy = 0.92662\n"
          ]
        },
        {
          "output_type": "stream",
          "name": "stderr",
          "text": [
            "[I 2025-03-01 05:37:31,988] Trial 6 finished with value: 0.9266187050359712 and parameters: {'n_d': 115, 'n_a': 91, 'n_steps': 7, 'gamma': 1.2636874282156965, 'lambda_sparse': 0.0057957737186864, 'learning_rate': 0.010382098278671694, 'batch_size': 512}. Best is trial 0 with value: 0.9467625899280575.\n"
          ]
        },
        {
          "output_type": "stream",
          "name": "stdout",
          "text": [
            "\n",
            "Early stopping occurred at epoch 80 with best_epoch = 60 and best_valid_accuracy = 0.93669\n"
          ]
        },
        {
          "output_type": "stream",
          "name": "stderr",
          "text": [
            "[I 2025-03-01 05:38:30,962] Trial 7 finished with value: 0.9366906474820144 and parameters: {'n_d': 33, 'n_a': 83, 'n_steps': 8, 'gamma': 1.030945696534022, 'lambda_sparse': 0.00011255479592218362, 'learning_rate': 0.0019276632725064044, 'batch_size': 256}. Best is trial 0 with value: 0.9467625899280575.\n"
          ]
        },
        {
          "output_type": "stream",
          "name": "stdout",
          "text": [
            "\n",
            "Early stopping occurred at epoch 86 with best_epoch = 66 and best_valid_accuracy = 0.94388\n"
          ]
        },
        {
          "output_type": "stream",
          "name": "stderr",
          "text": [
            "[I 2025-03-01 05:39:14,127] Trial 8 finished with value: 0.943884892086331 and parameters: {'n_d': 92, 'n_a': 66, 'n_steps': 5, 'gamma': 1.7928900152681244, 'lambda_sparse': 0.00268009477839061, 'learning_rate': 0.026631735451122854, 'batch_size': 256}. Best is trial 0 with value: 0.9467625899280575.\n"
          ]
        },
        {
          "output_type": "stream",
          "name": "stdout",
          "text": [
            "\n",
            "Early stopping occurred at epoch 97 with best_epoch = 77 and best_valid_accuracy = 0.91942\n"
          ]
        },
        {
          "output_type": "stream",
          "name": "stderr",
          "text": [
            "[I 2025-03-01 05:39:56,690] Trial 9 finished with value: 0.9194244604316547 and parameters: {'n_d': 44, 'n_a': 71, 'n_steps': 7, 'gamma': 1.975073896411791, 'lambda_sparse': 0.0005323455316685954, 'learning_rate': 0.01284212909731312, 'batch_size': 512}. Best is trial 0 with value: 0.9467625899280575.\n"
          ]
        },
        {
          "output_type": "stream",
          "name": "stdout",
          "text": [
            "\n",
            "Early stopping occurred at epoch 81 with best_epoch = 61 and best_valid_accuracy = 0.93381\n"
          ]
        },
        {
          "output_type": "stream",
          "name": "stderr",
          "text": [
            "[I 2025-03-01 05:42:05,356] Trial 10 finished with value: 0.9338129496402877 and parameters: {'n_d': 93, 'n_a': 121, 'n_steps': 10, 'gamma': 1.9849671831300837, 'lambda_sparse': 0.0011899379823264013, 'learning_rate': 0.09016342096667075, 'batch_size': 128}. Best is trial 0 with value: 0.9467625899280575.\n"
          ]
        },
        {
          "output_type": "stream",
          "name": "stdout",
          "text": [
            "\n",
            "Early stopping occurred at epoch 64 with best_epoch = 44 and best_valid_accuracy = 0.92374\n"
          ]
        },
        {
          "output_type": "stream",
          "name": "stderr",
          "text": [
            "[I 2025-03-01 05:42:38,433] Trial 11 finished with value: 0.9237410071942446 and parameters: {'n_d': 90, 'n_a': 106, 'n_steps': 5, 'gamma': 1.7948788815304966, 'lambda_sparse': 0.0026487784200583185, 'learning_rate': 0.033610993069671524, 'batch_size': 256}. Best is trial 0 with value: 0.9467625899280575.\n"
          ]
        },
        {
          "output_type": "stream",
          "name": "stdout",
          "text": [
            "Stop training because you reached max_epochs = 100 with best_epoch = 82 and best_valid_accuracy = 0.9482\n"
          ]
        },
        {
          "output_type": "stream",
          "name": "stderr",
          "text": [
            "[I 2025-03-01 05:43:28,304] Trial 12 finished with value: 0.9482014388489208 and parameters: {'n_d': 82, 'n_a': 39, 'n_steps': 5, 'gamma': 1.8199525370756227, 'lambda_sparse': 0.002110417717319748, 'learning_rate': 0.029058894037876853, 'batch_size': 256}. Best is trial 12 with value: 0.9482014388489208.\n"
          ]
        },
        {
          "output_type": "stream",
          "name": "stdout",
          "text": [
            "\n",
            "Early stopping occurred at epoch 27 with best_epoch = 7 and best_valid_accuracy = 0.84317\n"
          ]
        },
        {
          "output_type": "stream",
          "name": "stderr",
          "text": [
            "[I 2025-03-01 05:43:42,389] Trial 13 finished with value: 0.8431654676258993 and parameters: {'n_d': 72, 'n_a': 34, 'n_steps': 5, 'gamma': 1.7984650260751982, 'lambda_sparse': 0.0006110981776147322, 'learning_rate': 0.07031276877618949, 'batch_size': 256}. Best is trial 12 with value: 0.9482014388489208.\n"
          ]
        },
        {
          "output_type": "stream",
          "name": "stdout",
          "text": [
            "\n",
            "Early stopping occurred at epoch 86 with best_epoch = 66 and best_valid_accuracy = 0.93957\n"
          ]
        },
        {
          "output_type": "stream",
          "name": "stderr",
          "text": [
            "[I 2025-03-01 05:45:10,918] Trial 14 finished with value: 0.939568345323741 and parameters: {'n_d': 58, 'n_a': 123, 'n_steps': 6, 'gamma': 1.8635970604718013, 'lambda_sparse': 0.002204397590901215, 'learning_rate': 0.007502098559629983, 'batch_size': 128}. Best is trial 12 with value: 0.9482014388489208.\n"
          ]
        },
        {
          "output_type": "stream",
          "name": "stdout",
          "text": [
            "\n",
            "Early stopping occurred at epoch 82 with best_epoch = 62 and best_valid_accuracy = 0.91511\n"
          ]
        },
        {
          "output_type": "stream",
          "name": "stderr",
          "text": [
            "[I 2025-03-01 05:46:24,278] Trial 15 finished with value: 0.9151079136690647 and parameters: {'n_d': 83, 'n_a': 104, 'n_steps': 10, 'gamma': 1.6575075832741788, 'lambda_sparse': 0.009858398776915163, 'learning_rate': 0.03993680651956455, 'batch_size': 256}. Best is trial 12 with value: 0.9482014388489208.\n",
            "[I 2025-03-01 05:46:54,199] Trial 16 finished with value: 0.9467625899280575 and parameters: {'n_d': 103, 'n_a': 37, 'n_steps': 3, 'gamma': 1.3267658077689395, 'lambda_sparse': 0.0014853710465568084, 'learning_rate': 0.016498931144576595, 'batch_size': 256}. Best is trial 12 with value: 0.9482014388489208.\n"
          ]
        },
        {
          "output_type": "stream",
          "name": "stdout",
          "text": [
            "\n",
            "Early stopping occurred at epoch 87 with best_epoch = 67 and best_valid_accuracy = 0.94676\n",
            "Stop training because you reached max_epochs = 100 with best_epoch = 93 and best_valid_accuracy = 0.9223\n"
          ]
        },
        {
          "output_type": "stream",
          "name": "stderr",
          "text": [
            "[I 2025-03-01 05:47:51,811] Trial 17 finished with value: 0.9223021582733812 and parameters: {'n_d': 56, 'n_a': 103, 'n_steps': 6, 'gamma': 1.8777450385582528, 'lambda_sparse': 0.0005860698746981756, 'learning_rate': 0.005401089622465986, 'batch_size': 256}. Best is trial 12 with value: 0.9482014388489208.\n"
          ]
        },
        {
          "output_type": "stream",
          "name": "stdout",
          "text": [
            "\n",
            "Early stopping occurred at epoch 53 with best_epoch = 33 and best_valid_accuracy = 0.9223\n"
          ]
        },
        {
          "output_type": "stream",
          "name": "stderr",
          "text": [
            "[I 2025-03-01 05:49:08,146] Trial 18 finished with value: 0.9223021582733812 and parameters: {'n_d': 70, 'n_a': 51, 'n_steps': 9, 'gamma': 1.6955828761262328, 'lambda_sparse': 0.0002793117285600803, 'learning_rate': 0.051021863743632934, 'batch_size': 128}. Best is trial 12 with value: 0.9482014388489208.\n"
          ]
        },
        {
          "output_type": "stream",
          "name": "stdout",
          "text": [
            "\n",
            "Early stopping occurred at epoch 68 with best_epoch = 48 and best_valid_accuracy = 0.93525\n"
          ]
        },
        {
          "output_type": "stream",
          "name": "stderr",
          "text": [
            "[I 2025-03-01 05:49:37,690] Trial 19 finished with value: 0.935251798561151 and parameters: {'n_d': 80, 'n_a': 94, 'n_steps': 4, 'gamma': 1.57085196809894, 'lambda_sparse': 0.0019065623341612654, 'learning_rate': 0.022419354738293533, 'batch_size': 256}. Best is trial 12 with value: 0.9482014388489208.\n"
          ]
        },
        {
          "output_type": "stream",
          "name": "stdout",
          "text": [
            "\n",
            "Early stopping occurred at epoch 95 with best_epoch = 75 and best_valid_accuracy = 0.94676\n"
          ]
        },
        {
          "output_type": "stream",
          "name": "stderr",
          "text": [
            "[I 2025-03-01 05:50:32,955] Trial 20 finished with value: 0.9467625899280575 and parameters: {'n_d': 104, 'n_a': 114, 'n_steps': 6, 'gamma': 1.1110246351971762, 'lambda_sparse': 0.0036641569166262398, 'learning_rate': 0.018204795634213688, 'batch_size': 256}. Best is trial 12 with value: 0.9482014388489208.\n",
            "[I 2025-03-01 05:50:54,906] Trial 21 finished with value: 0.9381294964028777 and parameters: {'n_d': 100, 'n_a': 35, 'n_steps': 3, 'gamma': 1.3349825893672285, 'lambda_sparse': 0.0014804490218860349, 'learning_rate': 0.01528083040342535, 'batch_size': 256}. Best is trial 12 with value: 0.9482014388489208.\n"
          ]
        },
        {
          "output_type": "stream",
          "name": "stdout",
          "text": [
            "\n",
            "Early stopping occurred at epoch 63 with best_epoch = 43 and best_valid_accuracy = 0.93813\n",
            "\n",
            "Early stopping occurred at epoch 54 with best_epoch = 34 and best_valid_accuracy = 0.9223\n"
          ]
        },
        {
          "output_type": "stream",
          "name": "stderr",
          "text": [
            "[I 2025-03-01 05:51:17,801] Trial 22 finished with value: 0.9223021582733812 and parameters: {'n_d': 80, 'n_a': 44, 'n_steps': 4, 'gamma': 1.189458441773203, 'lambda_sparse': 0.0008222604418608145, 'learning_rate': 0.007167264971724088, 'batch_size': 256}. Best is trial 12 with value: 0.9482014388489208.\n",
            "[I 2025-03-01 05:51:41,860] Trial 23 finished with value: 0.9381294964028777 and parameters: {'n_d': 105, 'n_a': 59, 'n_steps': 3, 'gamma': 1.4029500916395077, 'lambda_sparse': 0.0008537870529334091, 'learning_rate': 0.05377357218515587, 'batch_size': 256}. Best is trial 12 with value: 0.9482014388489208.\n"
          ]
        },
        {
          "output_type": "stream",
          "name": "stdout",
          "text": [
            "\n",
            "Early stopping occurred at epoch 70 with best_epoch = 50 and best_valid_accuracy = 0.93813\n",
            "\n",
            "Early stopping occurred at epoch 58 with best_epoch = 38 and best_valid_accuracy = 0.92374\n"
          ]
        },
        {
          "output_type": "stream",
          "name": "stderr",
          "text": [
            "[I 2025-03-01 05:52:11,397] Trial 24 finished with value: 0.9237410071942446 and parameters: {'n_d': 127, 'n_a': 42, 'n_steps': 5, 'gamma': 1.4580194825712287, 'lambda_sparse': 0.0014388604490439228, 'learning_rate': 0.017146308533032506, 'batch_size': 256}. Best is trial 12 with value: 0.9482014388489208.\n"
          ]
        },
        {
          "output_type": "stream",
          "name": "stdout",
          "text": [
            "\n",
            "Early stopping occurred at epoch 56 with best_epoch = 36 and best_valid_accuracy = 0.9295\n"
          ]
        },
        {
          "output_type": "stream",
          "name": "stderr",
          "text": [
            "[I 2025-03-01 05:52:53,285] Trial 25 finished with value: 0.9294964028776979 and parameters: {'n_d': 65, 'n_a': 42, 'n_steps': 4, 'gamma': 1.3059559258472329, 'lambda_sparse': 0.003456450914494032, 'learning_rate': 0.03402653844344627, 'batch_size': 128}. Best is trial 12 with value: 0.9482014388489208.\n"
          ]
        },
        {
          "output_type": "stream",
          "name": "stdout",
          "text": [
            "\n",
            "Early stopping occurred at epoch 67 with best_epoch = 47 and best_valid_accuracy = 0.90791\n"
          ]
        },
        {
          "output_type": "stream",
          "name": "stderr",
          "text": [
            "[I 2025-03-01 05:53:32,182] Trial 26 finished with value: 0.9079136690647482 and parameters: {'n_d': 51, 'n_a': 32, 'n_steps': 6, 'gamma': 1.891014519601094, 'lambda_sparse': 0.00042158754124955593, 'learning_rate': 0.009897063400083977, 'batch_size': 256}. Best is trial 12 with value: 0.9482014388489208.\n",
            "[I 2025-03-01 05:54:02,541] Trial 27 finished with value: 0.9453237410071943 and parameters: {'n_d': 84, 'n_a': 60, 'n_steps': 3, 'gamma': 1.602268878675042, 'lambda_sparse': 0.0016171238565492168, 'learning_rate': 0.021547862908002233, 'batch_size': 256}. Best is trial 12 with value: 0.9482014388489208.\n"
          ]
        },
        {
          "output_type": "stream",
          "name": "stdout",
          "text": [
            "\n",
            "Early stopping occurred at epoch 90 with best_epoch = 70 and best_valid_accuracy = 0.94532\n",
            "\n",
            "Early stopping occurred at epoch 89 with best_epoch = 69 and best_valid_accuracy = 0.92662\n"
          ]
        },
        {
          "output_type": "stream",
          "name": "stderr",
          "text": [
            "[I 2025-03-01 05:55:15,144] Trial 28 finished with value: 0.9266187050359712 and parameters: {'n_d': 96, 'n_a': 94, 'n_steps': 9, 'gamma': 1.7303404743381579, 'lambda_sparse': 0.0008190097871612558, 'learning_rate': 0.013040530520969684, 'batch_size': 256}. Best is trial 12 with value: 0.9482014388489208.\n"
          ]
        },
        {
          "output_type": "stream",
          "name": "stdout",
          "text": [
            "\n",
            "Early stopping occurred at epoch 61 with best_epoch = 41 and best_valid_accuracy = 0.93813\n"
          ]
        },
        {
          "output_type": "stream",
          "name": "stderr",
          "text": [
            "[I 2025-03-01 05:56:35,559] Trial 29 finished with value: 0.9381294964028777 and parameters: {'n_d': 108, 'n_a': 52, 'n_steps': 8, 'gamma': 1.2276395709485195, 'lambda_sparse': 0.0001903542795017346, 'learning_rate': 0.027035724056136703, 'batch_size': 128}. Best is trial 12 with value: 0.9482014388489208.\n"
          ]
        },
        {
          "output_type": "stream",
          "name": "stdout",
          "text": [
            "\n",
            "Early stopping occurred at epoch 64 with best_epoch = 44 and best_valid_accuracy = 0.94101\n"
          ]
        },
        {
          "output_type": "stream",
          "name": "stderr",
          "text": [
            "[I 2025-03-01 05:57:03,214] Trial 30 finished with value: 0.9410071942446043 and parameters: {'n_d': 76, 'n_a': 128, 'n_steps': 4, 'gamma': 1.3589239214669202, 'lambda_sparse': 0.0045147497080449545, 'learning_rate': 0.00503408592496595, 'batch_size': 256}. Best is trial 12 with value: 0.9482014388489208.\n"
          ]
        },
        {
          "output_type": "stream",
          "name": "stdout",
          "text": [
            "Stop training because you reached max_epochs = 100 with best_epoch = 90 and best_valid_accuracy = 0.94532\n"
          ]
        },
        {
          "output_type": "stream",
          "name": "stderr",
          "text": [
            "[I 2025-03-01 05:58:01,321] Trial 31 finished with value: 0.9453237410071943 and parameters: {'n_d': 106, 'n_a': 116, 'n_steps': 6, 'gamma': 1.096073148695938, 'lambda_sparse': 0.003411577376532353, 'learning_rate': 0.01877634396489933, 'batch_size': 256}. Best is trial 12 with value: 0.9482014388489208.\n"
          ]
        },
        {
          "output_type": "stream",
          "name": "stdout",
          "text": [
            "\n",
            "Early stopping occurred at epoch 71 with best_epoch = 51 and best_valid_accuracy = 0.94101\n"
          ]
        },
        {
          "output_type": "stream",
          "name": "stderr",
          "text": [
            "[I 2025-03-01 05:58:48,223] Trial 32 finished with value: 0.9410071942446043 and parameters: {'n_d': 100, 'n_a': 115, 'n_steps': 7, 'gamma': 1.1061603786327756, 'lambda_sparse': 0.002024688613321335, 'learning_rate': 0.043889955495168616, 'batch_size': 256}. Best is trial 12 with value: 0.9482014388489208.\n"
          ]
        },
        {
          "output_type": "stream",
          "name": "stdout",
          "text": [
            "\n",
            "Early stopping occurred at epoch 82 with best_epoch = 62 and best_valid_accuracy = 0.94245\n"
          ]
        },
        {
          "output_type": "stream",
          "name": "stderr",
          "text": [
            "[I 2025-03-01 05:59:29,310] Trial 33 finished with value: 0.9424460431654677 and parameters: {'n_d': 87, 'n_a': 111, 'n_steps': 5, 'gamma': 1.169539805898824, 'lambda_sparse': 0.004026871862489076, 'learning_rate': 0.029292675237687166, 'batch_size': 256}. Best is trial 12 with value: 0.9482014388489208.\n"
          ]
        },
        {
          "output_type": "stream",
          "name": "stdout",
          "text": [
            "\n",
            "Early stopping occurred at epoch 85 with best_epoch = 65 and best_valid_accuracy = 0.9223\n"
          ]
        },
        {
          "output_type": "stream",
          "name": "stderr",
          "text": [
            "[I 2025-03-01 06:00:18,534] Trial 34 finished with value: 0.9223021582733812 and parameters: {'n_d': 67, 'n_a': 100, 'n_steps': 6, 'gamma': 1.4825990523215373, 'lambda_sparse': 0.008393173213857501, 'learning_rate': 0.010488175236177467, 'batch_size': 256}. Best is trial 12 with value: 0.9482014388489208.\n"
          ]
        },
        {
          "output_type": "stream",
          "name": "stdout",
          "text": [
            "Stop training because you reached max_epochs = 100 with best_epoch = 91 and best_valid_accuracy = 0.9482\n"
          ]
        },
        {
          "output_type": "stream",
          "name": "stderr",
          "text": [
            "[I 2025-03-01 06:01:01,995] Trial 35 finished with value: 0.9482014388489208 and parameters: {'n_d': 127, 'n_a': 78, 'n_steps': 7, 'gamma': 1.0935183107679007, 'lambda_sparse': 0.005607343256354971, 'learning_rate': 0.017203598142651978, 'batch_size': 512}. Best is trial 12 with value: 0.9482014388489208.\n"
          ]
        },
        {
          "output_type": "stream",
          "name": "stdout",
          "text": [
            "Stop training because you reached max_epochs = 100 with best_epoch = 84 and best_valid_accuracy = 0.94388\n"
          ]
        },
        {
          "output_type": "stream",
          "name": "stderr",
          "text": [
            "[I 2025-03-01 06:01:50,519] Trial 36 finished with value: 0.943884892086331 and parameters: {'n_d': 128, 'n_a': 47, 'n_steps': 8, 'gamma': 1.0256674944992834, 'lambda_sparse': 0.006889211735659215, 'learning_rate': 0.013851617419082342, 'batch_size': 512}. Best is trial 12 with value: 0.9482014388489208.\n"
          ]
        },
        {
          "output_type": "stream",
          "name": "stdout",
          "text": [
            "Stop training because you reached max_epochs = 100 with best_epoch = 87 and best_valid_accuracy = 0.8964\n"
          ]
        },
        {
          "output_type": "stream",
          "name": "stderr",
          "text": [
            "[I 2025-03-01 06:02:33,939] Trial 37 finished with value: 0.8964028776978418 and parameters: {'n_d': 118, 'n_a': 85, 'n_steps': 7, 'gamma': 1.6239580702531322, 'lambda_sparse': 0.005306693774595824, 'learning_rate': 0.008710136236495126, 'batch_size': 512}. Best is trial 12 with value: 0.9482014388489208.\n"
          ]
        },
        {
          "output_type": "stream",
          "name": "stdout",
          "text": [
            "Stop training because you reached max_epochs = 100 with best_epoch = 94 and best_valid_accuracy = 0.93669\n"
          ]
        },
        {
          "output_type": "stream",
          "name": "stderr",
          "text": [
            "[I 2025-03-01 06:03:16,861] Trial 38 finished with value: 0.9366906474820144 and parameters: {'n_d': 112, 'n_a': 76, 'n_steps': 7, 'gamma': 1.5358181264844626, 'lambda_sparse': 0.001064210023499235, 'learning_rate': 0.02123576143599012, 'batch_size': 512}. Best is trial 12 with value: 0.9482014388489208.\n"
          ]
        },
        {
          "output_type": "stream",
          "name": "stdout",
          "text": [
            "Stop training because you reached max_epochs = 100 with best_epoch = 86 and best_valid_accuracy = 0.91223\n"
          ]
        },
        {
          "output_type": "stream",
          "name": "stderr",
          "text": [
            "[I 2025-03-01 06:04:05,336] Trial 39 finished with value: 0.9122302158273381 and parameters: {'n_d': 123, 'n_a': 62, 'n_steps': 8, 'gamma': 1.744257814185068, 'lambda_sparse': 0.0003869943818516412, 'learning_rate': 0.004080208482668854, 'batch_size': 512}. Best is trial 12 with value: 0.9482014388489208.\n"
          ]
        },
        {
          "output_type": "stream",
          "name": "stdout",
          "text": [
            "Stop training because you reached max_epochs = 100 with best_epoch = 90 and best_valid_accuracy = 0.9295\n"
          ]
        },
        {
          "output_type": "stream",
          "name": "stderr",
          "text": [
            "[I 2025-03-01 06:04:59,556] Trial 40 finished with value: 0.9294964028776979 and parameters: {'n_d': 51, 'n_a': 87, 'n_steps': 9, 'gamma': 1.9460872048355529, 'lambda_sparse': 0.0026648224639779622, 'learning_rate': 0.011917449802311204, 'batch_size': 512}. Best is trial 12 with value: 0.9482014388489208.\n"
          ]
        },
        {
          "output_type": "stream",
          "name": "stdout",
          "text": [
            "Stop training because you reached max_epochs = 100 with best_epoch = 90 and best_valid_accuracy = 0.93957\n"
          ]
        },
        {
          "output_type": "stream",
          "name": "stderr",
          "text": [
            "[I 2025-03-01 06:05:43,208] Trial 41 finished with value: 0.939568345323741 and parameters: {'n_d': 113, 'n_a': 78, 'n_steps': 7, 'gamma': 1.1040150867611835, 'lambda_sparse': 0.004395756963682241, 'learning_rate': 0.017657345330279937, 'batch_size': 512}. Best is trial 12 with value: 0.9482014388489208.\n"
          ]
        },
        {
          "output_type": "stream",
          "name": "stdout",
          "text": [
            "\n",
            "Early stopping occurred at epoch 93 with best_epoch = 73 and best_valid_accuracy = 0.93669\n"
          ]
        },
        {
          "output_type": "stream",
          "name": "stderr",
          "text": [
            "[I 2025-03-01 06:06:37,681] Trial 42 finished with value: 0.9366906474820144 and parameters: {'n_d': 62, 'n_a': 39, 'n_steps': 6, 'gamma': 1.270891240561045, 'lambda_sparse': 0.003268816698760669, 'learning_rate': 0.02471049420598083, 'batch_size': 256}. Best is trial 12 with value: 0.9482014388489208.\n"
          ]
        },
        {
          "output_type": "stream",
          "name": "stdout",
          "text": [
            "\n",
            "Early stopping occurred at epoch 68 with best_epoch = 48 and best_valid_accuracy = 0.93813\n"
          ]
        },
        {
          "output_type": "stream",
          "name": "stderr",
          "text": [
            "[I 2025-03-01 06:07:12,682] Trial 43 finished with value: 0.9381294964028777 and parameters: {'n_d': 75, 'n_a': 111, 'n_steps': 5, 'gamma': 1.1495185728487205, 'lambda_sparse': 0.007169501568029148, 'learning_rate': 0.03433081749751209, 'batch_size': 256}. Best is trial 12 with value: 0.9482014388489208.\n"
          ]
        },
        {
          "output_type": "stream",
          "name": "stdout",
          "text": [
            "Stop training because you reached max_epochs = 100 with best_epoch = 88 and best_valid_accuracy = 0.9482\n"
          ]
        },
        {
          "output_type": "stream",
          "name": "stderr",
          "text": [
            "[I 2025-03-01 06:08:01,454] Trial 44 finished with value: 0.9482014388489208 and parameters: {'n_d': 120, 'n_a': 67, 'n_steps': 8, 'gamma': 1.0476052843886314, 'lambda_sparse': 0.0052926154859915175, 'learning_rate': 0.01620057054360051, 'batch_size': 512}. Best is trial 12 with value: 0.9482014388489208.\n"
          ]
        },
        {
          "output_type": "stream",
          "name": "stdout",
          "text": [
            "\n",
            "Early stopping occurred at epoch 87 with best_epoch = 67 and best_valid_accuracy = 0.93669\n"
          ]
        },
        {
          "output_type": "stream",
          "name": "stderr",
          "text": [
            "[I 2025-03-01 06:08:44,758] Trial 45 finished with value: 0.9366906474820144 and parameters: {'n_d': 122, 'n_a': 68, 'n_steps': 8, 'gamma': 1.0126540437711897, 'lambda_sparse': 0.005337271261262433, 'learning_rate': 0.01521481843267545, 'batch_size': 512}. Best is trial 12 with value: 0.9482014388489208.\n"
          ]
        },
        {
          "output_type": "stream",
          "name": "stdout",
          "text": [
            "Stop training because you reached max_epochs = 100 with best_epoch = 99 and best_valid_accuracy = 0.94101\n"
          ]
        },
        {
          "output_type": "stream",
          "name": "stderr",
          "text": [
            "[I 2025-03-01 06:09:28,653] Trial 46 finished with value: 0.9410071942446043 and parameters: {'n_d': 118, 'n_a': 71, 'n_steps': 7, 'gamma': 1.0605522056681387, 'lambda_sparse': 0.0006821819620452867, 'learning_rate': 0.007467923079831372, 'batch_size': 512}. Best is trial 12 with value: 0.9482014388489208.\n"
          ]
        },
        {
          "output_type": "stream",
          "name": "stdout",
          "text": [
            "Stop training because you reached max_epochs = 100 with best_epoch = 88 and best_valid_accuracy = 0.91942\n"
          ]
        },
        {
          "output_type": "stream",
          "name": "stderr",
          "text": [
            "[I 2025-03-01 06:10:22,917] Trial 47 finished with value: 0.9194244604316547 and parameters: {'n_d': 124, 'n_a': 55, 'n_steps': 9, 'gamma': 1.2356442602805082, 'lambda_sparse': 0.001267681149325903, 'learning_rate': 0.0020428451670107175, 'batch_size': 512}. Best is trial 12 with value: 0.9482014388489208.\n"
          ]
        },
        {
          "output_type": "stream",
          "name": "stdout",
          "text": [
            "\n",
            "Early stopping occurred at epoch 98 with best_epoch = 78 and best_valid_accuracy = 0.9223\n"
          ]
        },
        {
          "output_type": "stream",
          "name": "stderr",
          "text": [
            "[I 2025-03-01 06:11:11,606] Trial 48 finished with value: 0.9223021582733812 and parameters: {'n_d': 111, 'n_a': 64, 'n_steps': 8, 'gamma': 1.9283504382850438, 'lambda_sparse': 0.002359024790218105, 'learning_rate': 0.030123677898072236, 'batch_size': 512}. Best is trial 12 with value: 0.9482014388489208.\n"
          ]
        },
        {
          "output_type": "stream",
          "name": "stdout",
          "text": [
            "Stop training because you reached max_epochs = 100 with best_epoch = 82 and best_valid_accuracy = 0.94964\n"
          ]
        },
        {
          "output_type": "stream",
          "name": "stderr",
          "text": [
            "[I 2025-03-01 06:11:55,603] Trial 49 finished with value: 0.9496402877697842 and parameters: {'n_d': 95, 'n_a': 82, 'n_steps': 7, 'gamma': 1.0604035581458195, 'lambda_sparse': 0.00023309579931048954, 'learning_rate': 0.06385200251604904, 'batch_size': 512}. Best is trial 49 with value: 0.9496402877697842.\n"
          ]
        },
        {
          "output_type": "stream",
          "name": "stdout",
          "text": [
            "Best Hyperparameters:  {'n_d': 95, 'n_a': 82, 'n_steps': 7, 'gamma': 1.0604035581458195, 'lambda_sparse': 0.00023309579931048954, 'learning_rate': 0.06385200251604904, 'batch_size': 512}\n",
            "Best Validation Accuracy:  0.9496402877697842\n"
          ]
        }
      ]
    },
    {
      "cell_type": "code",
      "source": [
        "# -------------------\n",
        "# Part 1: Data Augmentation Function\n",
        "# -------------------\n",
        "def augment_data(X, y, permutation_prob=0.1):\n",
        "    \"\"\"\n",
        "    Augment the dataset by randomly permuting feature orders with a given probability.\n",
        "\n",
        "    Parameters:\n",
        "    - X (numpy.ndarray or pandas.DataFrame): Feature matrix.\n",
        "    - y (numpy.ndarray or pandas.Series): Target vector.\n",
        "    - permutation_prob (float): Probability of permuting each sample.\n",
        "\n",
        "    Returns:\n",
        "    - X_augmented (numpy.ndarray): Augmented feature matrix.\n",
        "    - y_augmented (numpy.ndarray): Augmented target vector.\n",
        "    \"\"\"\n",
        "    X_augmented = []\n",
        "    y_augmented = []\n",
        "    for sample, label in zip(X, y):\n",
        "        if np.random.rand() < permutation_prob:\n",
        "            perm = np.random.permutation(sample.shape[0])\n",
        "            sample = sample[perm]\n",
        "        X_augmented.append(sample)\n",
        "        y_augmented.append(label)\n",
        "    return np.array(X_augmented), np.array(y_augmented)\n",
        "\n",
        "# -------------------\n",
        "# Part 2: Apply Data Augmentation\n",
        "# -------------------\n",
        "permutation_probability = 0.1\n",
        "X_train_augmented, y_train_augmented = augment_data(\n",
        "    X_train_final.values,\n",
        "    y_train_final.values,\n",
        "    permutation_prob=permutation_probability\n",
        ")\n",
        "\n",
        "print(f\"Original Training Set Shape: {X_train_final.shape}\")\n",
        "print(f\"Augmented Training Set Shape: {X_train_augmented.shape}\")\n",
        "\n",
        "# -------------------\n",
        "# Part 3: Initialize and Train TabNet with Augmented Data\n",
        "# -------------------\n",
        "perm_reg_tabnet = TabNetClassifier(\n",
        "    input_dim=X_train_final.shape[1],    # Number of features (10)\n",
        "    output_dim=3,                        # Number of classes: Normal, Suspect, Pathological\n",
        "    n_d=study.best_params['n_d'],\n",
        "    n_a=study.best_params['n_a'],\n",
        "    n_steps=study.best_params['n_steps'],\n",
        "    gamma=study.best_params['gamma'],\n",
        "    lambda_sparse=study.best_params['lambda_sparse'],\n",
        "    optimizer_fn=torch.optim.Adam,\n",
        "    optimizer_params={'lr': study.best_params['learning_rate']},\n",
        "    mask_type='sparsemax',\n",
        "    verbose=1,\n",
        "    seed=42\n",
        ")\n",
        "\n",
        "perm_reg_tabnet.fit(\n",
        "    X_train=X_train_augmented,\n",
        "    y_train=y_train_augmented,\n",
        "    eval_set=[(X_valid.values, y_valid.values), (X_test_scaled.values, y_test.values)],\n",
        "    eval_name=['train', 'valid'],\n",
        "    eval_metric=['accuracy'],\n",
        "    max_epochs=100,\n",
        "    patience=20,\n",
        "    batch_size=study.best_params['batch_size'],\n",
        "    virtual_batch_size=128,\n",
        "    num_workers=0,\n",
        "    drop_last=False\n",
        ")"
      ],
      "metadata": {
        "colab": {
          "base_uri": "https://localhost:8080/"
        },
        "id": "9i0WttyXMFrU",
        "outputId": "8c7e97d0-f030-45d6-9b2a-a8dcadd44f9c"
      },
      "execution_count": 8,
      "outputs": [
        {
          "output_type": "stream",
          "name": "stdout",
          "text": [
            "Original Training Set Shape: (2780, 10)\n",
            "Augmented Training Set Shape: (2780, 10)\n",
            "epoch 0  | loss: 3.14036 | train_accuracy: 0.34676 | valid_accuracy: 0.34631 |  0:00:00s\n",
            "epoch 1  | loss: 2.06169 | train_accuracy: 0.41439 | valid_accuracy: 0.42215 |  0:00:01s\n",
            "epoch 2  | loss: 0.857   | train_accuracy: 0.39856 | valid_accuracy: 0.4255  |  0:00:01s\n",
            "epoch 3  | loss: 0.59457 | train_accuracy: 0.52662 | valid_accuracy: 0.54698 |  0:00:02s\n",
            "epoch 4  | loss: 0.55823 | train_accuracy: 0.71511 | valid_accuracy: 0.72416 |  0:00:02s\n",
            "epoch 5  | loss: 0.56698 | train_accuracy: 0.57842 | valid_accuracy: 0.5906  |  0:00:03s\n",
            "epoch 6  | loss: 0.50694 | train_accuracy: 0.61727 | valid_accuracy: 0.6255  |  0:00:03s\n",
            "epoch 7  | loss: 0.4583  | train_accuracy: 0.76691 | valid_accuracy: 0.73893 |  0:00:04s\n",
            "epoch 8  | loss: 0.43688 | train_accuracy: 0.70504 | valid_accuracy: 0.68658 |  0:00:04s\n",
            "epoch 9  | loss: 0.43313 | train_accuracy: 0.77986 | valid_accuracy: 0.74832 |  0:00:05s\n",
            "epoch 10 | loss: 0.43383 | train_accuracy: 0.65899 | valid_accuracy: 0.6651  |  0:00:05s\n",
            "epoch 11 | loss: 0.41572 | train_accuracy: 0.75252 | valid_accuracy: 0.76107 |  0:00:06s\n",
            "epoch 12 | loss: 0.41804 | train_accuracy: 0.77266 | valid_accuracy: 0.75772 |  0:00:06s\n",
            "epoch 13 | loss: 0.40461 | train_accuracy: 0.76403 | valid_accuracy: 0.74698 |  0:00:07s\n",
            "epoch 14 | loss: 0.39998 | train_accuracy: 0.71511 | valid_accuracy: 0.7255  |  0:00:07s\n",
            "epoch 15 | loss: 0.37535 | train_accuracy: 0.72662 | valid_accuracy: 0.72349 |  0:00:08s\n",
            "epoch 16 | loss: 0.39262 | train_accuracy: 0.7223  | valid_accuracy: 0.71611 |  0:00:08s\n",
            "epoch 17 | loss: 0.39031 | train_accuracy: 0.70504 | valid_accuracy: 0.70872 |  0:00:09s\n",
            "epoch 18 | loss: 0.3847  | train_accuracy: 0.67338 | valid_accuracy: 0.68993 |  0:00:10s\n",
            "epoch 19 | loss: 0.37681 | train_accuracy: 0.64748 | valid_accuracy: 0.64765 |  0:00:10s\n",
            "epoch 20 | loss: 0.39756 | train_accuracy: 0.76115 | valid_accuracy: 0.75101 |  0:00:11s\n",
            "epoch 21 | loss: 0.39181 | train_accuracy: 0.71079 | valid_accuracy: 0.69799 |  0:00:12s\n",
            "epoch 22 | loss: 0.38762 | train_accuracy: 0.7554  | valid_accuracy: 0.75705 |  0:00:12s\n",
            "epoch 23 | loss: 0.36779 | train_accuracy: 0.77266 | valid_accuracy: 0.77248 |  0:00:13s\n",
            "epoch 24 | loss: 0.36906 | train_accuracy: 0.69209 | valid_accuracy: 0.69933 |  0:00:13s\n",
            "epoch 25 | loss: 0.35781 | train_accuracy: 0.73094 | valid_accuracy: 0.73423 |  0:00:14s\n",
            "epoch 26 | loss: 0.36479 | train_accuracy: 0.63453 | valid_accuracy: 0.63624 |  0:00:14s\n",
            "epoch 27 | loss: 0.35486 | train_accuracy: 0.72374 | valid_accuracy: 0.72752 |  0:00:15s\n",
            "epoch 28 | loss: 0.35019 | train_accuracy: 0.76259 | valid_accuracy: 0.75973 |  0:00:15s\n",
            "epoch 29 | loss: 0.34463 | train_accuracy: 0.75971 | valid_accuracy: 0.73423 |  0:00:16s\n",
            "epoch 30 | loss: 0.35022 | train_accuracy: 0.73813 | valid_accuracy: 0.7302  |  0:00:16s\n",
            "epoch 31 | loss: 0.33436 | train_accuracy: 0.79712 | valid_accuracy: 0.79799 |  0:00:17s\n",
            "epoch 32 | loss: 0.33955 | train_accuracy: 0.71223 | valid_accuracy: 0.70067 |  0:00:17s\n",
            "epoch 33 | loss: 0.37638 | train_accuracy: 0.79281 | valid_accuracy: 0.78456 |  0:00:18s\n",
            "epoch 34 | loss: 0.35435 | train_accuracy: 0.72086 | valid_accuracy: 0.72215 |  0:00:18s\n",
            "epoch 35 | loss: 0.35126 | train_accuracy: 0.77842 | valid_accuracy: 0.7698  |  0:00:19s\n",
            "epoch 36 | loss: 0.32046 | train_accuracy: 0.85899 | valid_accuracy: 0.84295 |  0:00:19s\n",
            "epoch 37 | loss: 0.32249 | train_accuracy: 0.74964 | valid_accuracy: 0.74832 |  0:00:20s\n",
            "epoch 38 | loss: 0.33776 | train_accuracy: 0.82302 | valid_accuracy: 0.81611 |  0:00:20s\n",
            "epoch 39 | loss: 0.32821 | train_accuracy: 0.83165 | valid_accuracy: 0.8094  |  0:00:21s\n",
            "epoch 40 | loss: 0.3111  | train_accuracy: 0.83597 | valid_accuracy: 0.81208 |  0:00:21s\n",
            "epoch 41 | loss: 0.33088 | train_accuracy: 0.88489 | valid_accuracy: 0.85906 |  0:00:22s\n",
            "epoch 42 | loss: 0.33996 | train_accuracy: 0.84604 | valid_accuracy: 0.82752 |  0:00:23s\n",
            "epoch 43 | loss: 0.34595 | train_accuracy: 0.85899 | valid_accuracy: 0.85772 |  0:00:23s\n",
            "epoch 44 | loss: 0.36522 | train_accuracy: 0.77266 | valid_accuracy: 0.75369 |  0:00:24s\n",
            "epoch 45 | loss: 0.36288 | train_accuracy: 0.82734 | valid_accuracy: 0.80671 |  0:00:24s\n",
            "epoch 46 | loss: 0.36583 | train_accuracy: 0.80144 | valid_accuracy: 0.78792 |  0:00:25s\n",
            "epoch 47 | loss: 0.3575  | train_accuracy: 0.89065 | valid_accuracy: 0.87315 |  0:00:25s\n",
            "epoch 48 | loss: 0.34365 | train_accuracy: 0.87914 | valid_accuracy: 0.85772 |  0:00:26s\n",
            "epoch 49 | loss: 0.34643 | train_accuracy: 0.84173 | valid_accuracy: 0.83154 |  0:00:26s\n",
            "epoch 50 | loss: 0.30708 | train_accuracy: 0.86043 | valid_accuracy: 0.8604  |  0:00:27s\n",
            "epoch 51 | loss: 0.31357 | train_accuracy: 0.9036  | valid_accuracy: 0.88725 |  0:00:27s\n",
            "epoch 52 | loss: 0.32892 | train_accuracy: 0.89353 | valid_accuracy: 0.88389 |  0:00:28s\n",
            "epoch 53 | loss: 0.31277 | train_accuracy: 0.87626 | valid_accuracy: 0.85168 |  0:00:28s\n",
            "epoch 54 | loss: 0.31888 | train_accuracy: 0.89353 | valid_accuracy: 0.89329 |  0:00:29s\n",
            "epoch 55 | loss: 0.31473 | train_accuracy: 0.91079 | valid_accuracy: 0.88523 |  0:00:29s\n",
            "epoch 56 | loss: 0.33605 | train_accuracy: 0.87914 | valid_accuracy: 0.8745  |  0:00:30s\n",
            "epoch 57 | loss: 0.32228 | train_accuracy: 0.90504 | valid_accuracy: 0.88523 |  0:00:30s\n",
            "epoch 58 | loss: 0.31053 | train_accuracy: 0.89353 | valid_accuracy: 0.88322 |  0:00:31s\n",
            "epoch 59 | loss: 0.31043 | train_accuracy: 0.86475 | valid_accuracy: 0.87718 |  0:00:31s\n",
            "epoch 60 | loss: 0.32836 | train_accuracy: 0.88777 | valid_accuracy: 0.86309 |  0:00:32s\n",
            "epoch 61 | loss: 0.29889 | train_accuracy: 0.88633 | valid_accuracy: 0.88658 |  0:00:32s\n",
            "epoch 62 | loss: 0.28837 | train_accuracy: 0.89496 | valid_accuracy: 0.8906  |  0:00:33s\n",
            "epoch 63 | loss: 0.29381 | train_accuracy: 0.90072 | valid_accuracy: 0.8906  |  0:00:33s\n",
            "epoch 64 | loss: 0.29185 | train_accuracy: 0.87194 | valid_accuracy: 0.87315 |  0:00:34s\n",
            "epoch 65 | loss: 0.2922  | train_accuracy: 0.91655 | valid_accuracy: 0.91745 |  0:00:35s\n",
            "epoch 66 | loss: 0.28428 | train_accuracy: 0.89928 | valid_accuracy: 0.89329 |  0:00:35s\n",
            "epoch 67 | loss: 0.28591 | train_accuracy: 0.90216 | valid_accuracy: 0.89732 |  0:00:36s\n",
            "epoch 68 | loss: 0.2941  | train_accuracy: 0.88201 | valid_accuracy: 0.8651  |  0:00:36s\n",
            "epoch 69 | loss: 0.28123 | train_accuracy: 0.90935 | valid_accuracy: 0.89933 |  0:00:37s\n",
            "epoch 70 | loss: 0.28177 | train_accuracy: 0.90647 | valid_accuracy: 0.90336 |  0:00:37s\n",
            "epoch 71 | loss: 0.26387 | train_accuracy: 0.91367 | valid_accuracy: 0.90738 |  0:00:38s\n",
            "epoch 72 | loss: 0.26346 | train_accuracy: 0.89209 | valid_accuracy: 0.90201 |  0:00:38s\n",
            "epoch 73 | loss: 0.2555  | train_accuracy: 0.89209 | valid_accuracy: 0.8953  |  0:00:39s\n",
            "epoch 74 | loss: 0.26591 | train_accuracy: 0.91367 | valid_accuracy: 0.91409 |  0:00:39s\n",
            "epoch 75 | loss: 0.25181 | train_accuracy: 0.90072 | valid_accuracy: 0.90671 |  0:00:40s\n",
            "epoch 76 | loss: 0.25864 | train_accuracy: 0.91655 | valid_accuracy: 0.90067 |  0:00:40s\n",
            "epoch 77 | loss: 0.2391  | train_accuracy: 0.90935 | valid_accuracy: 0.90872 |  0:00:41s\n",
            "epoch 78 | loss: 0.22058 | train_accuracy: 0.91799 | valid_accuracy: 0.92685 |  0:00:41s\n",
            "epoch 79 | loss: 0.21068 | train_accuracy: 0.92662 | valid_accuracy: 0.93221 |  0:00:42s\n",
            "epoch 80 | loss: 0.21489 | train_accuracy: 0.9295  | valid_accuracy: 0.92148 |  0:00:42s\n",
            "epoch 81 | loss: 0.20714 | train_accuracy: 0.91655 | valid_accuracy: 0.91745 |  0:00:43s\n",
            "epoch 82 | loss: 0.21032 | train_accuracy: 0.91367 | valid_accuracy: 0.90201 |  0:00:43s\n",
            "epoch 83 | loss: 0.20309 | train_accuracy: 0.91079 | valid_accuracy: 0.90805 |  0:00:44s\n",
            "epoch 84 | loss: 0.22853 | train_accuracy: 0.90935 | valid_accuracy: 0.89732 |  0:00:44s\n",
            "epoch 85 | loss: 0.22326 | train_accuracy: 0.9036  | valid_accuracy: 0.90268 |  0:00:45s\n",
            "epoch 86 | loss: 0.21654 | train_accuracy: 0.90791 | valid_accuracy: 0.91208 |  0:00:45s\n",
            "epoch 87 | loss: 0.20296 | train_accuracy: 0.90504 | valid_accuracy: 0.91745 |  0:00:46s\n",
            "epoch 88 | loss: 0.18836 | train_accuracy: 0.9223  | valid_accuracy: 0.91812 |  0:00:47s\n",
            "epoch 89 | loss: 0.18971 | train_accuracy: 0.91223 | valid_accuracy: 0.92148 |  0:00:48s\n",
            "epoch 90 | loss: 0.18821 | train_accuracy: 0.88921 | valid_accuracy: 0.90537 |  0:00:48s\n",
            "epoch 91 | loss: 0.19504 | train_accuracy: 0.91511 | valid_accuracy: 0.91544 |  0:00:49s\n",
            "epoch 92 | loss: 0.19714 | train_accuracy: 0.90791 | valid_accuracy: 0.91477 |  0:00:49s\n",
            "epoch 93 | loss: 0.18822 | train_accuracy: 0.90935 | valid_accuracy: 0.9094  |  0:00:50s\n",
            "epoch 94 | loss: 0.18723 | train_accuracy: 0.9223  | valid_accuracy: 0.91745 |  0:00:50s\n",
            "epoch 95 | loss: 0.18307 | train_accuracy: 0.90647 | valid_accuracy: 0.91275 |  0:00:51s\n",
            "epoch 96 | loss: 0.18774 | train_accuracy: 0.92518 | valid_accuracy: 0.91611 |  0:00:51s\n",
            "epoch 97 | loss: 0.20529 | train_accuracy: 0.93094 | valid_accuracy: 0.92148 |  0:00:52s\n",
            "epoch 98 | loss: 0.17615 | train_accuracy: 0.90647 | valid_accuracy: 0.90336 |  0:00:52s\n",
            "epoch 99 | loss: 0.17874 | train_accuracy: 0.89209 | valid_accuracy: 0.90201 |  0:00:53s\n",
            "\n",
            "Early stopping occurred at epoch 99 with best_epoch = 79 and best_valid_accuracy = 0.93221\n"
          ]
        }
      ]
    },
    {
      "cell_type": "code",
      "source": [
        "# -------------------\n",
        "# Part 4: Predict and Evaluate on the Test Set\n",
        "# -------------------\n",
        "y_pred_perm_reg = perm_reg_tabnet.predict(X_test_scaled.values)\n",
        "\n",
        "print(\"\\nPermutation Regularized TabNet Classification Report:\")\n",
        "print(classification_report(y_test, y_pred_perm_reg, target_names=['Normal', 'Suspect', 'Pathological']))\n",
        "\n",
        "conf_matrix = confusion_matrix(y_test, y_pred_perm_reg)\n",
        "plt.figure(figsize=(8, 6))\n",
        "sns.heatmap(conf_matrix, annot=True, fmt='d', cmap='Blues',\n",
        "            xticklabels=['Normal', 'Suspect', 'Pathological'],\n",
        "            yticklabels=['Normal', 'Suspect', 'Pathological'])\n",
        "plt.title('Confusion Matrix for Permutation Regularized TabNet')\n",
        "plt.xlabel('Predicted Label')\n",
        "plt.ylabel('True Label')\n",
        "plt.show()"
      ],
      "metadata": {
        "colab": {
          "base_uri": "https://localhost:8080/",
          "height": 778
        },
        "id": "KOMtecwkMFty",
        "outputId": "5b01e1c2-a50e-465d-ec68-a3689927f2a5"
      },
      "execution_count": 9,
      "outputs": [
        {
          "output_type": "stream",
          "name": "stdout",
          "text": [
            "\n",
            "Permutation Regularized TabNet Classification Report:\n",
            "              precision    recall  f1-score   support\n",
            "\n",
            "      Normal       0.94      0.93      0.94       496\n",
            "     Suspect       0.88      0.95      0.92       497\n",
            "Pathological       0.98      0.91      0.94       497\n",
            "\n",
            "    accuracy                           0.93      1490\n",
            "   macro avg       0.93      0.93      0.93      1490\n",
            "weighted avg       0.93      0.93      0.93      1490\n",
            "\n"
          ]
        },
        {
          "output_type": "display_data",
          "data": {
            "text/plain": [
              "<Figure size 800x600 with 2 Axes>"
            ],
            "image/png": "[encoded data removed]"
          },
          "metadata": {}
        }
      ]
    },
    {
      "cell_type": "code",
      "source": [],
      "metadata": {
        "id": "4kJORIpYMFwQ"
      },
      "execution_count": null,
      "outputs": []
    },
    {
      "cell_type": "code",
      "source": [],
      "metadata": {
        "id": "LBa8YQX_MFye"
      },
      "execution_count": null,
      "outputs": []
    },
    {
      "cell_type": "code",
      "source": [],
      "metadata": {
        "id": "si0ZUmfwMF00"
      },
      "execution_count": null,
      "outputs": []
    },
    {
      "cell_type": "code",
      "source": [],
      "metadata": {
        "id": "-Ru9YeneC49P"
      },
      "execution_count": null,
      "outputs": []
    },
    {
      "cell_type": "code",
      "source": [],
      "metadata": {
        "id": "oTcx7XUGC4_e"
      },
      "execution_count": null,
      "outputs": []
    },
    {
      "cell_type": "code",
      "source": [],
      "metadata": {
        "id": "Jl3CakqjC5Bb"
      },
      "execution_count": null,
      "outputs": []
    },
    {
      "cell_type": "code",
      "source": [],
      "metadata": {
        "id": "dlVIEJEbC5Dq"
      },
      "execution_count": null,
      "outputs": []
    }
  ]
}