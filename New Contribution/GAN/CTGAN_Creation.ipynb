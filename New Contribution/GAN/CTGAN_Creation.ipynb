{
  "nbformat": 4,
  "nbformat_minor": 0,
  "metadata": {
    "colab": {
      "provenance": [],
      "gpuType": "T4"
    },
    "kernelspec": {
      "name": "python3",
      "display_name": "Python 3"
    },
    "language_info": {
      "name": "python"
    },
    "accelerator": "GPU"
  },
  "cells": [
    {
      "cell_type": "code",
      "execution_count": 23,
      "metadata": {
        "colab": {
          "base_uri": "https://localhost:8080/"
        },
        "id": "Amibxb_muOpH",
        "outputId": "eddbd44a-e3b4-4aa8-d464-c7a9389471a8"
      },
      "outputs": [
        {
          "output_type": "stream",
          "name": "stdout",
          "text": [
            "Collecting ctgan\n",
            "  Downloading ctgan-0.11.0-py3-none-any.whl.metadata (10 kB)\n",
            "Requirement already satisfied: torch in /usr/local/lib/python3.11/dist-packages (2.5.1+cu124)\n",
            "Requirement already satisfied: pandas in /usr/local/lib/python3.11/dist-packages (2.2.2)\n",
            "Requirement already satisfied: numpy in /usr/local/lib/python3.11/dist-packages (1.26.4)\n",
            "Requirement already satisfied: scikit-learn in /usr/local/lib/python3.11/dist-packages (1.6.1)\n",
            "Requirement already satisfied: matplotlib in /usr/local/lib/python3.11/dist-packages (3.10.0)\n",
            "Requirement already satisfied: seaborn in /usr/local/lib/python3.11/dist-packages (0.13.2)\n",
            "Requirement already satisfied: pytorch-tabnet in /usr/local/lib/python3.11/dist-packages (4.1.0)\n",
            "Requirement already satisfied: optuna in /usr/local/lib/python3.11/dist-packages (4.2.1)\n",
            "Requirement already satisfied: tqdm<5,>=4.29 in /usr/local/lib/python3.11/dist-packages (from ctgan) (4.67.1)\n",
            "Collecting rdt>=1.14.0 (from ctgan)\n",
            "  Downloading rdt-1.14.0-py3-none-any.whl.metadata (10 kB)\n",
            "Requirement already satisfied: filelock in /usr/local/lib/python3.11/dist-packages (from torch) (3.17.0)\n",
            "Requirement already satisfied: typing-extensions>=4.8.0 in /usr/local/lib/python3.11/dist-packages (from torch) (4.12.2)\n",
            "Requirement already satisfied: networkx in /usr/local/lib/python3.11/dist-packages (from torch) (3.4.2)\n",
            "Requirement already satisfied: jinja2 in /usr/local/lib/python3.11/dist-packages (from torch) (3.1.5)\n",
            "Requirement already satisfied: fsspec in /usr/local/lib/python3.11/dist-packages (from torch) (2024.10.0)\n",
            "Requirement already satisfied: nvidia-cuda-nvrtc-cu12==12.4.127 in /usr/local/lib/python3.11/dist-packages (from torch) (12.4.127)\n",
            "Requirement already satisfied: nvidia-cuda-runtime-cu12==12.4.127 in /usr/local/lib/python3.11/dist-packages (from torch) (12.4.127)\n",
            "Requirement already satisfied: nvidia-cuda-cupti-cu12==12.4.127 in /usr/local/lib/python3.11/dist-packages (from torch) (12.4.127)\n",
            "Requirement already satisfied: nvidia-cudnn-cu12==9.1.0.70 in /usr/local/lib/python3.11/dist-packages (from torch) (9.1.0.70)\n",
            "Requirement already satisfied: nvidia-cublas-cu12==12.4.5.8 in /usr/local/lib/python3.11/dist-packages (from torch) (12.4.5.8)\n",
            "Requirement already satisfied: nvidia-cufft-cu12==11.2.1.3 in /usr/local/lib/python3.11/dist-packages (from torch) (11.2.1.3)\n",
            "Requirement already satisfied: nvidia-curand-cu12==10.3.5.147 in /usr/local/lib/python3.11/dist-packages (from torch) (10.3.5.147)\n",
            "Requirement already satisfied: nvidia-cusolver-cu12==11.6.1.9 in /usr/local/lib/python3.11/dist-packages (from torch) (11.6.1.9)\n",
            "Requirement already satisfied: nvidia-cusparse-cu12==12.3.1.170 in /usr/local/lib/python3.11/dist-packages (from torch) (12.3.1.170)\n",
            "Requirement already satisfied: nvidia-nccl-cu12==2.21.5 in /usr/local/lib/python3.11/dist-packages (from torch) (2.21.5)\n",
            "Requirement already satisfied: nvidia-nvtx-cu12==12.4.127 in /usr/local/lib/python3.11/dist-packages (from torch) (12.4.127)\n",
            "Requirement already satisfied: nvidia-nvjitlink-cu12==12.4.127 in /usr/local/lib/python3.11/dist-packages (from torch) (12.4.127)\n",
            "Requirement already satisfied: triton==3.1.0 in /usr/local/lib/python3.11/dist-packages (from torch) (3.1.0)\n",
            "Requirement already satisfied: sympy==1.13.1 in /usr/local/lib/python3.11/dist-packages (from torch) (1.13.1)\n",
            "Requirement already satisfied: mpmath<1.4,>=1.1.0 in /usr/local/lib/python3.11/dist-packages (from sympy==1.13.1->torch) (1.3.0)\n",
            "Requirement already satisfied: python-dateutil>=2.8.2 in /usr/local/lib/python3.11/dist-packages (from pandas) (2.8.2)\n",
            "Requirement already satisfied: pytz>=2020.1 in /usr/local/lib/python3.11/dist-packages (from pandas) (2025.1)\n",
            "Requirement already satisfied: tzdata>=2022.7 in /usr/local/lib/python3.11/dist-packages (from pandas) (2025.1)\n",
            "Requirement already satisfied: scipy>=1.6.0 in /usr/local/lib/python3.11/dist-packages (from scikit-learn) (1.13.1)\n",
            "Requirement already satisfied: joblib>=1.2.0 in /usr/local/lib/python3.11/dist-packages (from scikit-learn) (1.4.2)\n",
            "Requirement already satisfied: threadpoolctl>=3.1.0 in /usr/local/lib/python3.11/dist-packages (from scikit-learn) (3.5.0)\n",
            "Requirement already satisfied: contourpy>=1.0.1 in /usr/local/lib/python3.11/dist-packages (from matplotlib) (1.3.1)\n",
            "Requirement already satisfied: cycler>=0.10 in /usr/local/lib/python3.11/dist-packages (from matplotlib) (0.12.1)\n",
            "Requirement already satisfied: fonttools>=4.22.0 in /usr/local/lib/python3.11/dist-packages (from matplotlib) (4.56.0)\n",
            "Requirement already satisfied: kiwisolver>=1.3.1 in /usr/local/lib/python3.11/dist-packages (from matplotlib) (1.4.8)\n",
            "Requirement already satisfied: packaging>=20.0 in /usr/local/lib/python3.11/dist-packages (from matplotlib) (24.2)\n",
            "Requirement already satisfied: pillow>=8 in /usr/local/lib/python3.11/dist-packages (from matplotlib) (11.1.0)\n",
            "Requirement already satisfied: pyparsing>=2.3.1 in /usr/local/lib/python3.11/dist-packages (from matplotlib) (3.2.1)\n",
            "Requirement already satisfied: alembic>=1.5.0 in /usr/local/lib/python3.11/dist-packages (from optuna) (1.14.1)\n",
            "Requirement already satisfied: colorlog in /usr/local/lib/python3.11/dist-packages (from optuna) (6.9.0)\n",
            "Requirement already satisfied: sqlalchemy>=1.4.2 in /usr/local/lib/python3.11/dist-packages (from optuna) (2.0.38)\n",
            "Requirement already satisfied: PyYAML in /usr/local/lib/python3.11/dist-packages (from optuna) (6.0.2)\n",
            "Requirement already satisfied: Mako in /usr/local/lib/python3.11/dist-packages (from alembic>=1.5.0->optuna) (1.3.9)\n",
            "Requirement already satisfied: six>=1.5 in /usr/local/lib/python3.11/dist-packages (from python-dateutil>=2.8.2->pandas) (1.17.0)\n",
            "Collecting Faker>=17 (from rdt>=1.14.0->ctgan)\n",
            "  Downloading Faker-36.1.1-py3-none-any.whl.metadata (15 kB)\n",
            "Requirement already satisfied: greenlet!=0.4.17 in /usr/local/lib/python3.11/dist-packages (from sqlalchemy>=1.4.2->optuna) (3.1.1)\n",
            "Requirement already satisfied: MarkupSafe>=2.0 in /usr/local/lib/python3.11/dist-packages (from jinja2->torch) (3.0.2)\n",
            "Downloading ctgan-0.11.0-py3-none-any.whl (24 kB)\n",
            "Downloading rdt-1.14.0-py3-none-any.whl (68 kB)\n",
            "\u001b[2K   \u001b[90m━━━━━━━━━━━━━━━━━━━━━━━━━━━━━━━━━━━━━━━━\u001b[0m \u001b[32m68.5/68.5 kB\u001b[0m \u001b[31m4.8 MB/s\u001b[0m eta \u001b[36m0:00:00\u001b[0m\n",
            "\u001b[?25hDownloading Faker-36.1.1-py3-none-any.whl (1.9 MB)\n",
            "\u001b[2K   \u001b[90m━━━━━━━━━━━━━━━━━━━━━━━━━━━━━━━━━━━━━━━━\u001b[0m \u001b[32m1.9/1.9 MB\u001b[0m \u001b[31m49.4 MB/s\u001b[0m eta \u001b[36m0:00:00\u001b[0m\n",
            "\u001b[?25hInstalling collected packages: Faker, rdt, ctgan\n",
            "Successfully installed Faker-36.1.1 ctgan-0.11.0 rdt-1.14.0\n",
            "Using device: cuda\n"
          ]
        }
      ],
      "source": [
        "# Open a new Colab notebook\n",
        "# Copy and paste into the first cell, run it (▶️)\n",
        "\n",
        "# Install CTGAN and dependencies\n",
        "!pip install ctgan torch pandas numpy scikit-learn matplotlib seaborn pytorch-tabnet optuna\n",
        "\n",
        "# Import libraries\n",
        "import pandas as pd\n",
        "import numpy as np\n",
        "import torch\n",
        "from ctgan import CTGAN\n",
        "from sklearn.model_selection import train_test_split\n",
        "from sklearn.preprocessing import MinMaxScaler\n",
        "from sklearn.metrics import classification_report, confusion_matrix\n",
        "import matplotlib.pyplot as plt\n",
        "import seaborn as sns\n",
        "from pytorch_tabnet.tab_model import TabNetClassifier\n",
        "import optuna\n",
        "\n",
        "# Set random seeds\n",
        "torch.manual_seed(42)\n",
        "np.random.seed(42)\n",
        "\n",
        "# Check GPU\n",
        "device = torch.device(\"cuda\" if torch.cuda.is_available() else \"cpu\")\n",
        "print(f\"Using device: {device}\")\n",
        "\n",
        "# Explanation:\n",
        "# 1. '!pip install ctgan' adds the CTGAN library.\n",
        "# 2. Other imports support data handling, modeling, and plotting.\n",
        "# 3. Seeds ensure repeatability.\n",
        "# 4. GPU check (enable via Runtime > Change runtime type > GPU).\n",
        "# 5. Run this—takes ~1-2 minutes, outputs device (hopefully “cuda”)."
      ]
    },
    {
      "cell_type": "code",
      "source": [
        "# Copy and paste into a new cell, run it\n",
        "# Upload 'fetal_health.csv' first (left sidebar > drag-and-drop)\n",
        "\n",
        "data = pd.read_csv('/content/fetal_health.csv')\n",
        "\n",
        "# Top 10 features from SHAP (adjust if your list differs)\n",
        "important_features = [\n",
        "    'abnormal_short_term_variability', 'histogram_variance', 'mean_value_of_short_term_variability',\n",
        "    'percentage_of_time_with_abnormal_long_term_variability', 'histogram_mean', 'histogram_median',\n",
        "    'histogram_mode', 'accelerations', 'uterine_contractions', 'prolongued_decelerations'\n",
        "]\n",
        "data_reduced = data[important_features + ['fetal_health']]\n",
        "\n",
        "# Define X and y\n",
        "X = data_reduced.drop('fetal_health', axis=1)\n",
        "y = data_reduced['fetal_health'].astype(int)\n",
        "\n",
        "# Scale features\n",
        "scaler = MinMaxScaler()\n",
        "X_scaled = scaler.fit_transform(X)\n",
        "X_scaled = pd.DataFrame(X_scaled, columns=X.columns)\n",
        "\n",
        "print(f\"X shape: {X_scaled.shape}\")  # (2126, 10)\n",
        "print(f\"y distribution:\\n{y.value_counts()}\")\n",
        "\n",
        "# Explanation:\n",
        "# 1. Loads the dataset.\n",
        "# 2. Selects 10 key features + target, reducing from 22 to 11 columns.\n",
        "# 3. Splits into X (features) and y (target: 1, 2, 3).\n",
        "# 4. Scales to [0, 1] for CTGAN compatibility.\n",
        "# 5. Run this after uploading the CSV—check for (2126, 10) and class counts."
      ],
      "metadata": {
        "colab": {
          "base_uri": "https://localhost:8080/"
        },
        "id": "ySedpxewubwr",
        "outputId": "124894b3-6fc7-43b6-bce7-d20785b94acf"
      },
      "execution_count": 24,
      "outputs": [
        {
          "output_type": "stream",
          "name": "stdout",
          "text": [
            "X shape: (2126, 10)\n",
            "y distribution:\n",
            "fetal_health\n",
            "1    1655\n",
            "2     295\n",
            "3     176\n",
            "Name: count, dtype: int64\n"
          ]
        }
      ]
    },
    {
      "cell_type": "code",
      "source": [
        "# Replace your Part 3 cell with this, then rerun Parts 3-5\n",
        "\n",
        "# Filter minority classes (Suspect: 2, Pathological: 3)\n",
        "minority_classes = [2, 3]\n",
        "minority_mask = y.isin(minority_classes)\n",
        "X_minority = X_scaled[minority_mask]\n",
        "y_minority = y[minority_mask]\n",
        "\n",
        "# Combine features and target\n",
        "data_minority = pd.concat([X_minority, y_minority.rename('fetal_health')], axis=1)\n",
        "\n",
        "# Trim to a multiple of pac (default 10)\n",
        "n_samples = len(data_minority)\n",
        "pac = 10  # Default CTGAN pac value\n",
        "n_samples_adjusted = (n_samples // pac) * pac  # 470 (drops 1 sample)\n",
        "data_minority_trimmed = data_minority.iloc[:n_samples_adjusted]\n",
        "\n",
        "print(f\"Original minority samples: {n_samples}\")\n",
        "print(f\"Adjusted minority samples: {n_samples_adjusted}\")\n",
        "print(f\"Trimmed data shape: {data_minority_trimmed.shape}\")\n",
        "\n",
        "# Initialize CTGAN\n",
        "# Setting batch_size to a multiple of pac\n",
        "ctgan = CTGAN(epochs=500, batch_size=50, verbose=True) # Changed batch_size to 50, which is a multiple of pac (10)\n",
        "\n",
        "# Train CTGAN\n",
        "ctgan.fit(data_minority_trimmed, discrete_columns=['fetal_health'])\n",
        "\n",
        "print(\"CTGAN training completed!\")\n",
        "\n",
        "# Explanation:\n",
        "# 1. Filters minority data (471 samples initially).\n",
        "# 2. Combines X and y into a DataFrame.\n",
        "# 3. Trims to 470 samples (multiple of pac=10) to satisfy CTGAN’s requirement.\n",
        "# 4. Trains CTGAN on the trimmed data, with batch_size adjusted to be a multiple of pac.\n",
        "# 5. Run this—expect ~5-10 minutes, should complete without the AssertionError."
      ],
      "metadata": {
        "colab": {
          "base_uri": "https://localhost:8080/"
        },
        "id": "t92z48c50OB3",
        "outputId": "9f697a61-fee1-4da6-a050-a603f12fad2e"
      },
      "execution_count": 28,
      "outputs": [
        {
          "output_type": "stream",
          "name": "stdout",
          "text": [
            "Original minority samples: 471\n",
            "Adjusted minority samples: 470\n",
            "Trimmed data shape: (470, 11)\n"
          ]
        },
        {
          "output_type": "stream",
          "name": "stderr",
          "text": [
            "Gen. (-0.20) | Discrim. (-1.53): 100%|██████████| 500/500 [01:47<00:00,  4.64it/s]"
          ]
        },
        {
          "output_type": "stream",
          "name": "stdout",
          "text": [
            "CTGAN training completed!\n"
          ]
        },
        {
          "output_type": "stream",
          "name": "stderr",
          "text": [
            "\n"
          ]
        }
      ]
    },
    {
      "cell_type": "code",
      "source": [
        "# Replace your Part 4 cell with this, run it after Part 3\n",
        "\n",
        "# Number of synthetic samples to balance with Normal (1655)\n",
        "n_suspect = 1655 - 295  # 1360\n",
        "n_pathological = 1655 - 176  # 1479\n",
        "\n",
        "# Split minority data by class\n",
        "suspect_data = data_minority_trimmed[data_minority_trimmed['fetal_health'] == 2]  # 295 samples\n",
        "pathological_data = data_minority_trimmed[data_minority_trimmed['fetal_health'] == 3]  # 175 samples\n",
        "\n",
        "# Train CTGAN for Suspect\n",
        "ctgan_suspect = CTGAN(epochs=500, batch_size=50, verbose=True)\n",
        "ctgan_suspect.fit(suspect_data, discrete_columns=['fetal_health'])\n",
        "\n",
        "# Train CTGAN for Pathological\n",
        "ctgan_pathological = CTGAN(epochs=500, batch_size=50, verbose=True)\n",
        "ctgan_pathological.fit(pathological_data, discrete_columns=['fetal_health'])\n",
        "\n",
        "# Generate synthetic samples\n",
        "synthetic_suspect = ctgan_suspect.sample(n_suspect)\n",
        "synthetic_pathological = ctgan_pathological.sample(n_pathological)\n",
        "\n",
        "# Combine synthetic data\n",
        "synthetic_data = pd.concat([synthetic_suspect, synthetic_pathological], ignore_index=True)\n",
        "synthetic_df = synthetic_data.drop('fetal_health', axis=1)\n",
        "synthetic_labels = synthetic_data['fetal_health']\n",
        "\n",
        "# Combine with original data\n",
        "X_gan = pd.concat([X_scaled, synthetic_df], ignore_index=True)\n",
        "y_gan = pd.concat([y, synthetic_labels], ignore_index=True)\n",
        "\n",
        "print(f\"Synthetic data shape: {synthetic_df.shape}\")  # (2839, 10)\n",
        "print(f\"GAN-augmented X shape: {X_gan.shape}\")      # (4965, 10)\n",
        "print(f\"GAN-augmented y distribution:\\n{y_gan.value_counts()}\")\n",
        "\n",
        "plt.figure(figsize=(8, 6))\n",
        "sns.countplot(x=y_gan, hue=y_gan, palette='viridis', legend=False)\n",
        "plt.title('Class Distribution After CTGAN Augmentation')\n",
        "plt.xlabel('Fetal Health')\n",
        "plt.ylabel('Count')\n",
        "plt.show()\n",
        "\n",
        "# Explanation:\n",
        "# 1. Splits the trimmed minority data (470 samples) into Suspect (295) and Pathological (175).\n",
        "# 2. Trains separate CTGAN models for each class.\n",
        "# 3. Generates exact numbers: 1360 Suspect, 1479 Pathological.\n",
        "# 4. Combines synthetic samples (2839 total) with original data (4965 total).\n",
        "# 5. Run this—takes ~10-20 minutes (two 500-epoch trainings), expect balanced classes (~1655 each)."
      ],
      "metadata": {
        "colab": {
          "base_uri": "https://localhost:8080/",
          "height": 743
        },
        "id": "gEkHftQy0OEK",
        "outputId": "88e667d0-a437-4fc6-e0e3-97d9bc7d7e5c"
      },
      "execution_count": 32,
      "outputs": [
        {
          "output_type": "stream",
          "name": "stderr",
          "text": [
            "Gen. (-3.48) | Discrim. (-0.10): 100%|██████████| 500/500 [01:01<00:00,  8.18it/s]\n",
            "Gen. (-0.67) | Discrim. (-1.56): 100%|██████████| 500/500 [00:37<00:00, 13.44it/s]\n"
          ]
        },
        {
          "output_type": "stream",
          "name": "stdout",
          "text": [
            "Synthetic data shape: (2839, 10)\n",
            "GAN-augmented X shape: (4965, 10)\n",
            "GAN-augmented y distribution:\n",
            "fetal_health\n",
            "2    1655\n",
            "1    1655\n",
            "3    1655\n",
            "Name: count, dtype: int64\n"
          ]
        },
        {
          "output_type": "display_data",
          "data": {
            "text/plain": [
              "<Figure size 800x600 with 1 Axes>"
            ],
            "image/png": "[encoded data removed]"
          },
          "metadata": {}
        }
      ]
    },
    {
      "cell_type": "code",
      "source": [
        "# Copy and paste into a new cell after Part 4, run it\n",
        "\n",
        "# Split data\n",
        "X_train, X_test, y_train, y_test = train_test_split(X_gan, y_gan, test_size=0.3, random_state=42, stratify=y_gan)\n",
        "X_train_final, X_valid, y_train_final, y_valid = train_test_split(X_train, y_train, test_size=0.2, random_state=42, stratify=y_train)\n",
        "\n",
        "# Adjust y to {0, 1, 2}\n",
        "y_train_final = y_train_final - 1\n",
        "y_valid = y_valid - 1\n",
        "y_test = y_test - 1\n",
        "\n",
        "# Initialize TabNet with your best_params from part 2\n",
        "# REPLACE THESE EXAMPLE VALUES WITH YOUR study.best_params FROM PART 2!\n",
        "tabnet_gan = TabNetClassifier(\n",
        "    n_d=64, n_a=64, n_steps=5, gamma=1.5, lambda_sparse=0.001,\n",
        "    optimizer_fn=torch.optim.Adam, optimizer_params={'lr': 0.02},\n",
        "    mask_type='sparsemax', verbose=1, seed=42\n",
        ")\n",
        "\n",
        "# Train\n",
        "tabnet_gan.fit(\n",
        "    X_train_final.values, y_train_final.values,\n",
        "    eval_set=[(X_valid.values, y_valid.values), (X_test.values, y_test.values)],\n",
        "    eval_name=['valid', 'test'],\n",
        "    eval_metric=['accuracy'],\n",
        "    max_epochs=100,\n",
        "    patience=20,\n",
        "    batch_size=256,\n",
        "    virtual_batch_size=128\n",
        ")\n",
        "\n",
        "# Evaluate\n",
        "y_pred_gan = tabnet_gan.predict(X_test.values)\n",
        "print(\"\\nCTGAN-Augmented TabNet Classification Report:\")\n",
        "print(classification_report(y_test, y_pred_gan, target_names=['Normal', 'Suspect', 'Pathological']))\n",
        "\n",
        "# Confusion Matrix\n",
        "conf_matrix = confusion_matrix(y_test, y_pred_gan)\n",
        "plt.figure(figsize=(8, 6))\n",
        "sns.heatmap(conf_matrix, annot=True, fmt='d', cmap='Blues',\n",
        "            xticklabels=['Normal', 'Suspect', 'Pathological'],\n",
        "            yticklabels=['Normal', 'Suspect', 'Pathological'])\n",
        "plt.title('Confusion Matrix for CTGAN-Augmented TabNet')\n",
        "plt.xlabel('Predicted')\n",
        "plt.ylabel('True')\n",
        "plt.show()\n",
        "\n",
        "# Explanation:\n",
        "# 1. Splits data: 70% train (3475), 30% test (1490); train splits into ~2780 train, ~695 valid.\n",
        "# 2. Adjusts y to 0-based indexing.\n",
        "# 3. Uses placeholder TabNet params—YOU MUST REPLACE with your optimized values from part 2 (e.g., study.best_params).\n",
        "# 4. Trains and evaluates (~5-10 minutes).\n",
        "# 5. Run this—check if accuracy exceeds 96%."
      ],
      "metadata": {
        "colab": {
          "base_uri": "https://localhost:8080/",
          "height": 1000
        },
        "id": "zm0Sl2xZ0OGa",
        "outputId": "32fcb34c-b980-46ed-dd45-4de22c4d4ac1"
      },
      "execution_count": 33,
      "outputs": [
        {
          "output_type": "stream",
          "name": "stderr",
          "text": [
            "/usr/local/lib/python3.11/dist-packages/pytorch_tabnet/abstract_model.py:82: UserWarning: Device used : cuda\n",
            "  warnings.warn(f\"Device used : {self.device}\")\n"
          ]
        },
        {
          "output_type": "stream",
          "name": "stdout",
          "text": [
            "epoch 0  | loss: 1.07677 | valid_accuracy: 0.60144 | test_accuracy: 0.61745 |  0:00:00s\n",
            "epoch 1  | loss: 0.52814 | valid_accuracy: 0.57698 | test_accuracy: 0.56174 |  0:00:01s\n",
            "epoch 2  | loss: 0.55608 | valid_accuracy: 0.44029 | test_accuracy: 0.44027 |  0:00:01s\n",
            "epoch 3  | loss: 0.46382 | valid_accuracy: 0.49784 | test_accuracy: 0.49597 |  0:00:02s\n",
            "epoch 4  | loss: 0.41953 | valid_accuracy: 0.51223 | test_accuracy: 0.4906  |  0:00:02s\n",
            "epoch 5  | loss: 0.39829 | valid_accuracy: 0.51942 | test_accuracy: 0.53154 |  0:00:03s\n",
            "epoch 6  | loss: 0.37841 | valid_accuracy: 0.59281 | test_accuracy: 0.58658 |  0:00:03s\n",
            "epoch 7  | loss: 0.34966 | valid_accuracy: 0.61295 | test_accuracy: 0.62282 |  0:00:04s\n",
            "epoch 8  | loss: 0.35162 | valid_accuracy: 0.64317 | test_accuracy: 0.6443  |  0:00:04s\n",
            "epoch 9  | loss: 0.34594 | valid_accuracy: 0.62014 | test_accuracy: 0.62483 |  0:00:05s\n",
            "epoch 10 | loss: 0.35527 | valid_accuracy: 0.64173 | test_accuracy: 0.65772 |  0:00:05s\n",
            "epoch 11 | loss: 0.32048 | valid_accuracy: 0.63165 | test_accuracy: 0.6396  |  0:00:06s\n",
            "epoch 12 | loss: 0.3352  | valid_accuracy: 0.64317 | test_accuracy: 0.6698  |  0:00:06s\n",
            "epoch 13 | loss: 0.34149 | valid_accuracy: 0.63309 | test_accuracy: 0.64564 |  0:00:07s\n",
            "epoch 14 | loss: 0.32561 | valid_accuracy: 0.66906 | test_accuracy: 0.66779 |  0:00:07s\n",
            "epoch 15 | loss: 0.30096 | valid_accuracy: 0.69784 | test_accuracy: 0.68591 |  0:00:08s\n",
            "epoch 16 | loss: 0.30939 | valid_accuracy: 0.61871 | test_accuracy: 0.61946 |  0:00:09s\n",
            "epoch 17 | loss: 0.30456 | valid_accuracy: 0.7036  | test_accuracy: 0.70268 |  0:00:09s\n",
            "epoch 18 | loss: 0.29933 | valid_accuracy: 0.73669 | test_accuracy: 0.7604  |  0:00:10s\n",
            "epoch 19 | loss: 0.28685 | valid_accuracy: 0.76547 | test_accuracy: 0.79463 |  0:00:10s\n",
            "epoch 20 | loss: 0.28165 | valid_accuracy: 0.75396 | test_accuracy: 0.7651  |  0:00:11s\n",
            "epoch 21 | loss: 0.27457 | valid_accuracy: 0.72086 | test_accuracy: 0.74899 |  0:00:11s\n",
            "epoch 22 | loss: 0.26898 | valid_accuracy: 0.76259 | test_accuracy: 0.80403 |  0:00:12s\n",
            "epoch 23 | loss: 0.23817 | valid_accuracy: 0.73381 | test_accuracy: 0.7953  |  0:00:12s\n",
            "epoch 24 | loss: 0.24922 | valid_accuracy: 0.77554 | test_accuracy: 0.81342 |  0:00:13s\n",
            "epoch 25 | loss: 0.21327 | valid_accuracy: 0.83741 | test_accuracy: 0.86309 |  0:00:13s\n",
            "epoch 26 | loss: 0.22692 | valid_accuracy: 0.82446 | test_accuracy: 0.84564 |  0:00:14s\n",
            "epoch 27 | loss: 0.23393 | valid_accuracy: 0.81295 | test_accuracy: 0.83154 |  0:00:14s\n",
            "epoch 28 | loss: 0.22789 | valid_accuracy: 0.8     | test_accuracy: 0.81812 |  0:00:15s\n",
            "epoch 29 | loss: 0.21568 | valid_accuracy: 0.82446 | test_accuracy: 0.83087 |  0:00:15s\n",
            "epoch 30 | loss: 0.21692 | valid_accuracy: 0.86043 | test_accuracy: 0.86107 |  0:00:16s\n",
            "epoch 31 | loss: 0.19968 | valid_accuracy: 0.88633 | test_accuracy: 0.88456 |  0:00:16s\n",
            "epoch 32 | loss: 0.19332 | valid_accuracy: 0.8777  | test_accuracy: 0.88792 |  0:00:17s\n",
            "epoch 33 | loss: 0.19067 | valid_accuracy: 0.90647 | test_accuracy: 0.89933 |  0:00:18s\n",
            "epoch 34 | loss: 0.18158 | valid_accuracy: 0.88489 | test_accuracy: 0.8698  |  0:00:18s\n",
            "epoch 35 | loss: 0.17505 | valid_accuracy: 0.90072 | test_accuracy: 0.89396 |  0:00:19s\n",
            "epoch 36 | loss: 0.17396 | valid_accuracy: 0.86187 | test_accuracy: 0.84228 |  0:00:19s\n",
            "epoch 37 | loss: 0.18299 | valid_accuracy: 0.85755 | test_accuracy: 0.85302 |  0:00:20s\n",
            "epoch 38 | loss: 0.16425 | valid_accuracy: 0.90504 | test_accuracy: 0.90805 |  0:00:21s\n",
            "epoch 39 | loss: 0.16647 | valid_accuracy: 0.91223 | test_accuracy: 0.90671 |  0:00:21s\n",
            "epoch 40 | loss: 0.21028 | valid_accuracy: 0.89209 | test_accuracy: 0.89396 |  0:00:22s\n",
            "epoch 41 | loss: 0.21936 | valid_accuracy: 0.89784 | test_accuracy: 0.88926 |  0:00:22s\n",
            "epoch 42 | loss: 0.20426 | valid_accuracy: 0.88489 | test_accuracy: 0.88591 |  0:00:23s\n",
            "epoch 43 | loss: 0.19509 | valid_accuracy: 0.8705  | test_accuracy: 0.86174 |  0:00:23s\n",
            "epoch 44 | loss: 0.17569 | valid_accuracy: 0.92374 | test_accuracy: 0.92013 |  0:00:24s\n",
            "epoch 45 | loss: 0.17755 | valid_accuracy: 0.93094 | test_accuracy: 0.91544 |  0:00:24s\n",
            "epoch 46 | loss: 0.16217 | valid_accuracy: 0.92806 | test_accuracy: 0.9349  |  0:00:25s\n",
            "epoch 47 | loss: 0.15212 | valid_accuracy: 0.92518 | test_accuracy: 0.91879 |  0:00:25s\n",
            "epoch 48 | loss: 0.18978 | valid_accuracy: 0.90791 | test_accuracy: 0.91342 |  0:00:26s\n",
            "epoch 49 | loss: 0.18125 | valid_accuracy: 0.91799 | test_accuracy: 0.93087 |  0:00:26s\n",
            "epoch 50 | loss: 0.16366 | valid_accuracy: 0.93381 | test_accuracy: 0.9255  |  0:00:27s\n",
            "epoch 51 | loss: 0.15327 | valid_accuracy: 0.93237 | test_accuracy: 0.92483 |  0:00:27s\n",
            "epoch 52 | loss: 0.16648 | valid_accuracy: 0.90935 | test_accuracy: 0.90738 |  0:00:28s\n",
            "epoch 53 | loss: 0.16802 | valid_accuracy: 0.8964  | test_accuracy: 0.90067 |  0:00:28s\n",
            "epoch 54 | loss: 0.16002 | valid_accuracy: 0.92662 | test_accuracy: 0.91275 |  0:00:29s\n",
            "epoch 55 | loss: 0.14306 | valid_accuracy: 0.93813 | test_accuracy: 0.93087 |  0:00:29s\n",
            "epoch 56 | loss: 0.14309 | valid_accuracy: 0.91079 | test_accuracy: 0.90403 |  0:00:30s\n",
            "epoch 57 | loss: 0.16677 | valid_accuracy: 0.92374 | test_accuracy: 0.92685 |  0:00:30s\n",
            "epoch 58 | loss: 0.16051 | valid_accuracy: 0.93237 | test_accuracy: 0.92886 |  0:00:31s\n",
            "epoch 59 | loss: 0.17328 | valid_accuracy: 0.94101 | test_accuracy: 0.94027 |  0:00:32s\n",
            "epoch 60 | loss: 0.14325 | valid_accuracy: 0.92086 | test_accuracy: 0.93356 |  0:00:32s\n",
            "epoch 61 | loss: 0.15167 | valid_accuracy: 0.93094 | test_accuracy: 0.93423 |  0:00:33s\n",
            "epoch 62 | loss: 0.13452 | valid_accuracy: 0.94245 | test_accuracy: 0.94161 |  0:00:33s\n",
            "epoch 63 | loss: 0.12978 | valid_accuracy: 0.94101 | test_accuracy: 0.94832 |  0:00:34s\n",
            "epoch 64 | loss: 0.13989 | valid_accuracy: 0.93669 | test_accuracy: 0.93289 |  0:00:34s\n",
            "epoch 65 | loss: 0.14753 | valid_accuracy: 0.94101 | test_accuracy: 0.94094 |  0:00:35s\n",
            "epoch 66 | loss: 0.134   | valid_accuracy: 0.93957 | test_accuracy: 0.94228 |  0:00:36s\n",
            "epoch 67 | loss: 0.13133 | valid_accuracy: 0.94532 | test_accuracy: 0.94295 |  0:00:36s\n",
            "epoch 68 | loss: 0.1212  | valid_accuracy: 0.94101 | test_accuracy: 0.94497 |  0:00:37s\n",
            "epoch 69 | loss: 0.1541  | valid_accuracy: 0.92086 | test_accuracy: 0.92886 |  0:00:37s\n",
            "epoch 70 | loss: 0.14002 | valid_accuracy: 0.93525 | test_accuracy: 0.94362 |  0:00:38s\n",
            "epoch 71 | loss: 0.13333 | valid_accuracy: 0.92518 | test_accuracy: 0.91879 |  0:00:38s\n",
            "epoch 72 | loss: 0.13647 | valid_accuracy: 0.92806 | test_accuracy: 0.93624 |  0:00:39s\n",
            "epoch 73 | loss: 0.14432 | valid_accuracy: 0.93094 | test_accuracy: 0.94564 |  0:00:39s\n",
            "epoch 74 | loss: 0.14094 | valid_accuracy: 0.92374 | test_accuracy: 0.93423 |  0:00:40s\n",
            "epoch 75 | loss: 0.13118 | valid_accuracy: 0.9295  | test_accuracy: 0.93624 |  0:00:40s\n",
            "epoch 76 | loss: 0.14267 | valid_accuracy: 0.92374 | test_accuracy: 0.93423 |  0:00:41s\n",
            "epoch 77 | loss: 0.13718 | valid_accuracy: 0.92086 | test_accuracy: 0.93087 |  0:00:41s\n",
            "epoch 78 | loss: 0.13375 | valid_accuracy: 0.93957 | test_accuracy: 0.94362 |  0:00:42s\n",
            "epoch 79 | loss: 0.14087 | valid_accuracy: 0.93813 | test_accuracy: 0.93557 |  0:00:42s\n",
            "epoch 80 | loss: 0.13592 | valid_accuracy: 0.91079 | test_accuracy: 0.92013 |  0:00:43s\n",
            "epoch 81 | loss: 0.1464  | valid_accuracy: 0.94532 | test_accuracy: 0.94698 |  0:00:43s\n",
            "epoch 82 | loss: 0.13345 | valid_accuracy: 0.93094 | test_accuracy: 0.92685 |  0:00:44s\n",
            "epoch 83 | loss: 0.13201 | valid_accuracy: 0.93525 | test_accuracy: 0.93624 |  0:00:45s\n",
            "\n",
            "Early stopping occurred at epoch 83 with best_epoch = 63 and best_test_accuracy = 0.94832\n"
          ]
        },
        {
          "output_type": "stream",
          "name": "stderr",
          "text": [
            "/usr/local/lib/python3.11/dist-packages/pytorch_tabnet/callbacks.py:172: UserWarning: Best weights from best epoch are automatically used!\n",
            "  warnings.warn(wrn_msg)\n"
          ]
        },
        {
          "output_type": "stream",
          "name": "stdout",
          "text": [
            "\n",
            "CTGAN-Augmented TabNet Classification Report:\n",
            "              precision    recall  f1-score   support\n",
            "\n",
            "      Normal       0.95      0.95      0.95       496\n",
            "     Suspect       0.92      0.95      0.94       497\n",
            "Pathological       0.98      0.94      0.96       497\n",
            "\n",
            "    accuracy                           0.95      1490\n",
            "   macro avg       0.95      0.95      0.95      1490\n",
            "weighted avg       0.95      0.95      0.95      1490\n",
            "\n"
          ]
        },
        {
          "output_type": "display_data",
          "data": {
            "text/plain": [
              "<Figure size 800x600 with 2 Axes>"
            ],
            "image/png": "[encoded data removed]"
          },
          "metadata": {}
        }
      ]
    },
    {
      "cell_type": "code",
      "source": [],
      "metadata": {
        "id": "YKvaLVsu0OIi"
      },
      "execution_count": null,
      "outputs": []
    },
    {
      "cell_type": "code",
      "source": [],
      "metadata": {
        "id": "j-PVSRSR0OK_"
      },
      "execution_count": null,
      "outputs": []
    },
    {
      "cell_type": "code",
      "source": [],
      "metadata": {
        "id": "L1BMKtzdub31"
      },
      "execution_count": null,
      "outputs": []
    },
    {
      "cell_type": "code",
      "source": [],
      "metadata": {
        "id": "xKt316Yqub6K"
      },
      "execution_count": null,
      "outputs": []
    },
    {
      "cell_type": "code",
      "source": [],
      "metadata": {
        "id": "sy7r62nYub8f"
      },
      "execution_count": null,
      "outputs": []
    }
  ]
}