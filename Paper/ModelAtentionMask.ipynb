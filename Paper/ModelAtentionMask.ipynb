{
  "nbformat": 4,
  "nbformat_minor": 0,
  "metadata": {
    "colab": {
      "provenance": []
    },
    "kernelspec": {
      "name": "python3",
      "display_name": "Python 3"
    },
    "language_info": {
      "name": "python"
    }
  },
  "cells": [
    {
      "cell_type": "code",
      "execution_count": 1,
      "metadata": {
        "colab": {
          "base_uri": "https://localhost:8080/"
        },
        "id": "MzVOChvpF7Qn",
        "outputId": "d8e5ac3b-451f-45de-bc7a-22829549cd41"
      },
      "outputs": [
        {
          "output_type": "stream",
          "name": "stdout",
          "text": [
            "Collecting pytorch-tabnet\n",
            "  Downloading pytorch_tabnet-4.1.0-py3-none-any.whl.metadata (15 kB)\n",
            "Requirement already satisfied: numpy>=1.17 in /usr/local/lib/python3.10/dist-packages (from pytorch-tabnet) (1.26.4)\n",
            "Requirement already satisfied: scikit_learn>0.21 in /usr/local/lib/python3.10/dist-packages (from pytorch-tabnet) (1.6.0)\n",
            "Requirement already satisfied: scipy>1.4 in /usr/local/lib/python3.10/dist-packages (from pytorch-tabnet) (1.13.1)\n",
            "Requirement already satisfied: torch>=1.3 in /usr/local/lib/python3.10/dist-packages (from pytorch-tabnet) (2.5.1+cu121)\n",
            "Requirement already satisfied: tqdm>=4.36 in /usr/local/lib/python3.10/dist-packages (from pytorch-tabnet) (4.67.1)\n",
            "Requirement already satisfied: joblib>=1.2.0 in /usr/local/lib/python3.10/dist-packages (from scikit_learn>0.21->pytorch-tabnet) (1.4.2)\n",
            "Requirement already satisfied: threadpoolctl>=3.1.0 in /usr/local/lib/python3.10/dist-packages (from scikit_learn>0.21->pytorch-tabnet) (3.5.0)\n",
            "Requirement already satisfied: filelock in /usr/local/lib/python3.10/dist-packages (from torch>=1.3->pytorch-tabnet) (3.16.1)\n",
            "Requirement already satisfied: typing-extensions>=4.8.0 in /usr/local/lib/python3.10/dist-packages (from torch>=1.3->pytorch-tabnet) (4.12.2)\n",
            "Requirement already satisfied: networkx in /usr/local/lib/python3.10/dist-packages (from torch>=1.3->pytorch-tabnet) (3.4.2)\n",
            "Requirement already satisfied: jinja2 in /usr/local/lib/python3.10/dist-packages (from torch>=1.3->pytorch-tabnet) (3.1.4)\n",
            "Requirement already satisfied: fsspec in /usr/local/lib/python3.10/dist-packages (from torch>=1.3->pytorch-tabnet) (2024.10.0)\n",
            "Requirement already satisfied: sympy==1.13.1 in /usr/local/lib/python3.10/dist-packages (from torch>=1.3->pytorch-tabnet) (1.13.1)\n",
            "Requirement already satisfied: mpmath<1.4,>=1.1.0 in /usr/local/lib/python3.10/dist-packages (from sympy==1.13.1->torch>=1.3->pytorch-tabnet) (1.3.0)\n",
            "Requirement already satisfied: MarkupSafe>=2.0 in /usr/local/lib/python3.10/dist-packages (from jinja2->torch>=1.3->pytorch-tabnet) (3.0.2)\n",
            "Downloading pytorch_tabnet-4.1.0-py3-none-any.whl (44 kB)\n",
            "\u001b[2K   \u001b[90m━━━━━━━━━━━━━━━━━━━━━━━━━━━━━━━━━━━━━━━━\u001b[0m \u001b[32m44.5/44.5 kB\u001b[0m \u001b[31m1.5 MB/s\u001b[0m eta \u001b[36m0:00:00\u001b[0m\n",
            "\u001b[?25hInstalling collected packages: pytorch-tabnet\n",
            "Successfully installed pytorch-tabnet-4.1.0\n",
            "Collecting captum\n",
            "  Downloading captum-0.7.0-py3-none-any.whl.metadata (26 kB)\n",
            "Requirement already satisfied: matplotlib in /usr/local/lib/python3.10/dist-packages (from captum) (3.8.0)\n",
            "Requirement already satisfied: numpy in /usr/local/lib/python3.10/dist-packages (from captum) (1.26.4)\n",
            "Requirement already satisfied: torch>=1.6 in /usr/local/lib/python3.10/dist-packages (from captum) (2.5.1+cu121)\n",
            "Requirement already satisfied: tqdm in /usr/local/lib/python3.10/dist-packages (from captum) (4.67.1)\n",
            "Requirement already satisfied: filelock in /usr/local/lib/python3.10/dist-packages (from torch>=1.6->captum) (3.16.1)\n",
            "Requirement already satisfied: typing-extensions>=4.8.0 in /usr/local/lib/python3.10/dist-packages (from torch>=1.6->captum) (4.12.2)\n",
            "Requirement already satisfied: networkx in /usr/local/lib/python3.10/dist-packages (from torch>=1.6->captum) (3.4.2)\n",
            "Requirement already satisfied: jinja2 in /usr/local/lib/python3.10/dist-packages (from torch>=1.6->captum) (3.1.4)\n",
            "Requirement already satisfied: fsspec in /usr/local/lib/python3.10/dist-packages (from torch>=1.6->captum) (2024.10.0)\n",
            "Requirement already satisfied: sympy==1.13.1 in /usr/local/lib/python3.10/dist-packages (from torch>=1.6->captum) (1.13.1)\n",
            "Requirement already satisfied: mpmath<1.4,>=1.1.0 in /usr/local/lib/python3.10/dist-packages (from sympy==1.13.1->torch>=1.6->captum) (1.3.0)\n",
            "Requirement already satisfied: contourpy>=1.0.1 in /usr/local/lib/python3.10/dist-packages (from matplotlib->captum) (1.3.1)\n",
            "Requirement already satisfied: cycler>=0.10 in /usr/local/lib/python3.10/dist-packages (from matplotlib->captum) (0.12.1)\n",
            "Requirement already satisfied: fonttools>=4.22.0 in /usr/local/lib/python3.10/dist-packages (from matplotlib->captum) (4.55.3)\n",
            "Requirement already satisfied: kiwisolver>=1.0.1 in /usr/local/lib/python3.10/dist-packages (from matplotlib->captum) (1.4.7)\n",
            "Requirement already satisfied: packaging>=20.0 in /usr/local/lib/python3.10/dist-packages (from matplotlib->captum) (24.2)\n",
            "Requirement already satisfied: pillow>=6.2.0 in /usr/local/lib/python3.10/dist-packages (from matplotlib->captum) (11.0.0)\n",
            "Requirement already satisfied: pyparsing>=2.3.1 in /usr/local/lib/python3.10/dist-packages (from matplotlib->captum) (3.2.0)\n",
            "Requirement already satisfied: python-dateutil>=2.7 in /usr/local/lib/python3.10/dist-packages (from matplotlib->captum) (2.8.2)\n",
            "Requirement already satisfied: six>=1.5 in /usr/local/lib/python3.10/dist-packages (from python-dateutil>=2.7->matplotlib->captum) (1.17.0)\n",
            "Requirement already satisfied: MarkupSafe>=2.0 in /usr/local/lib/python3.10/dist-packages (from jinja2->torch>=1.6->captum) (3.0.2)\n",
            "Downloading captum-0.7.0-py3-none-any.whl (1.3 MB)\n",
            "\u001b[2K   \u001b[90m━━━━━━━━━━━━━━━━━━━━━━━━━━━━━━━━━━━━━━━━\u001b[0m \u001b[32m1.3/1.3 MB\u001b[0m \u001b[31m15.6 MB/s\u001b[0m eta \u001b[36m0:00:00\u001b[0m\n",
            "\u001b[?25hInstalling collected packages: captum\n",
            "Successfully installed captum-0.7.0\n",
            "Collecting optuna\n",
            "  Downloading optuna-4.1.0-py3-none-any.whl.metadata (16 kB)\n",
            "Collecting alembic>=1.5.0 (from optuna)\n",
            "  Downloading alembic-1.14.0-py3-none-any.whl.metadata (7.4 kB)\n",
            "Collecting colorlog (from optuna)\n",
            "  Downloading colorlog-6.9.0-py3-none-any.whl.metadata (10 kB)\n",
            "Requirement already satisfied: numpy in /usr/local/lib/python3.10/dist-packages (from optuna) (1.26.4)\n",
            "Requirement already satisfied: packaging>=20.0 in /usr/local/lib/python3.10/dist-packages (from optuna) (24.2)\n",
            "Requirement already satisfied: sqlalchemy>=1.4.2 in /usr/local/lib/python3.10/dist-packages (from optuna) (2.0.36)\n",
            "Requirement already satisfied: tqdm in /usr/local/lib/python3.10/dist-packages (from optuna) (4.67.1)\n",
            "Requirement already satisfied: PyYAML in /usr/local/lib/python3.10/dist-packages (from optuna) (6.0.2)\n",
            "Collecting Mako (from alembic>=1.5.0->optuna)\n",
            "  Downloading Mako-1.3.8-py3-none-any.whl.metadata (2.9 kB)\n",
            "Requirement already satisfied: typing-extensions>=4 in /usr/local/lib/python3.10/dist-packages (from alembic>=1.5.0->optuna) (4.12.2)\n",
            "Requirement already satisfied: greenlet!=0.4.17 in /usr/local/lib/python3.10/dist-packages (from sqlalchemy>=1.4.2->optuna) (3.1.1)\n",
            "Requirement already satisfied: MarkupSafe>=0.9.2 in /usr/local/lib/python3.10/dist-packages (from Mako->alembic>=1.5.0->optuna) (3.0.2)\n",
            "Downloading optuna-4.1.0-py3-none-any.whl (364 kB)\n",
            "\u001b[2K   \u001b[90m━━━━━━━━━━━━━━━━━━━━━━━━━━━━━━━━━━━━━━━━\u001b[0m \u001b[32m364.4/364.4 kB\u001b[0m \u001b[31m7.5 MB/s\u001b[0m eta \u001b[36m0:00:00\u001b[0m\n",
            "\u001b[?25hDownloading alembic-1.14.0-py3-none-any.whl (233 kB)\n",
            "\u001b[2K   \u001b[90m━━━━━━━━━━━━━━━━━━━━━━━━━━━━━━━━━━━━━━━━\u001b[0m \u001b[32m233.5/233.5 kB\u001b[0m \u001b[31m11.3 MB/s\u001b[0m eta \u001b[36m0:00:00\u001b[0m\n",
            "\u001b[?25hDownloading colorlog-6.9.0-py3-none-any.whl (11 kB)\n",
            "Downloading Mako-1.3.8-py3-none-any.whl (78 kB)\n",
            "\u001b[2K   \u001b[90m━━━━━━━━━━━━━━━━━━━━━━━━━━━━━━━━━━━━━━━━\u001b[0m \u001b[32m78.6/78.6 kB\u001b[0m \u001b[31m4.3 MB/s\u001b[0m eta \u001b[36m0:00:00\u001b[0m\n",
            "\u001b[?25hInstalling collected packages: Mako, colorlog, alembic, optuna\n",
            "Successfully installed Mako-1.3.8 alembic-1.14.0 colorlog-6.9.0 optuna-4.1.0\n",
            "Requirement already satisfied: imbalanced-learn in /usr/local/lib/python3.10/dist-packages (0.12.4)\n",
            "Requirement already satisfied: numpy>=1.17.3 in /usr/local/lib/python3.10/dist-packages (from imbalanced-learn) (1.26.4)\n",
            "Requirement already satisfied: scipy>=1.5.0 in /usr/local/lib/python3.10/dist-packages (from imbalanced-learn) (1.13.1)\n",
            "Requirement already satisfied: scikit-learn>=1.0.2 in /usr/local/lib/python3.10/dist-packages (from imbalanced-learn) (1.6.0)\n",
            "Requirement already satisfied: joblib>=1.1.1 in /usr/local/lib/python3.10/dist-packages (from imbalanced-learn) (1.4.2)\n",
            "Requirement already satisfied: threadpoolctl>=2.0.0 in /usr/local/lib/python3.10/dist-packages (from imbalanced-learn) (3.5.0)\n",
            "Collecting dask-expr\n",
            "  Downloading dask_expr-1.1.21-py3-none-any.whl.metadata (2.6 kB)\n",
            "Collecting dask==2024.12.1 (from dask-expr)\n",
            "  Downloading dask-2024.12.1-py3-none-any.whl.metadata (3.7 kB)\n",
            "Requirement already satisfied: pyarrow>=14.0.1 in /usr/local/lib/python3.10/dist-packages (from dask-expr) (17.0.0)\n",
            "Requirement already satisfied: pandas>=2 in /usr/local/lib/python3.10/dist-packages (from dask-expr) (2.2.2)\n",
            "Requirement already satisfied: click>=8.1 in /usr/local/lib/python3.10/dist-packages (from dask==2024.12.1->dask-expr) (8.1.7)\n",
            "Requirement already satisfied: cloudpickle>=3.0.0 in /usr/local/lib/python3.10/dist-packages (from dask==2024.12.1->dask-expr) (3.1.0)\n",
            "Requirement already satisfied: fsspec>=2021.09.0 in /usr/local/lib/python3.10/dist-packages (from dask==2024.12.1->dask-expr) (2024.10.0)\n",
            "Requirement already satisfied: packaging>=20.0 in /usr/local/lib/python3.10/dist-packages (from dask==2024.12.1->dask-expr) (24.2)\n",
            "Requirement already satisfied: partd>=1.4.0 in /usr/local/lib/python3.10/dist-packages (from dask==2024.12.1->dask-expr) (1.4.2)\n",
            "Requirement already satisfied: pyyaml>=5.3.1 in /usr/local/lib/python3.10/dist-packages (from dask==2024.12.1->dask-expr) (6.0.2)\n",
            "Requirement already satisfied: toolz>=0.10.0 in /usr/local/lib/python3.10/dist-packages (from dask==2024.12.1->dask-expr) (0.12.1)\n",
            "Requirement already satisfied: importlib_metadata>=4.13.0 in /usr/local/lib/python3.10/dist-packages (from dask==2024.12.1->dask-expr) (8.5.0)\n",
            "Requirement already satisfied: numpy>=1.22.4 in /usr/local/lib/python3.10/dist-packages (from pandas>=2->dask-expr) (1.26.4)\n",
            "Requirement already satisfied: python-dateutil>=2.8.2 in /usr/local/lib/python3.10/dist-packages (from pandas>=2->dask-expr) (2.8.2)\n",
            "Requirement already satisfied: pytz>=2020.1 in /usr/local/lib/python3.10/dist-packages (from pandas>=2->dask-expr) (2024.2)\n",
            "Requirement already satisfied: tzdata>=2022.7 in /usr/local/lib/python3.10/dist-packages (from pandas>=2->dask-expr) (2024.2)\n",
            "Requirement already satisfied: zipp>=3.20 in /usr/local/lib/python3.10/dist-packages (from importlib_metadata>=4.13.0->dask==2024.12.1->dask-expr) (3.21.0)\n",
            "Requirement already satisfied: locket in /usr/local/lib/python3.10/dist-packages (from partd>=1.4.0->dask==2024.12.1->dask-expr) (1.0.0)\n",
            "Requirement already satisfied: six>=1.5 in /usr/local/lib/python3.10/dist-packages (from python-dateutil>=2.8.2->pandas>=2->dask-expr) (1.17.0)\n",
            "Downloading dask_expr-1.1.21-py3-none-any.whl (244 kB)\n",
            "\u001b[2K   \u001b[90m━━━━━━━━━━━━━━━━━━━━━━━━━━━━━━━━━━━━━━━━\u001b[0m \u001b[32m244.3/244.3 kB\u001b[0m \u001b[31m4.0 MB/s\u001b[0m eta \u001b[36m0:00:00\u001b[0m\n",
            "\u001b[?25hDownloading dask-2024.12.1-py3-none-any.whl (1.3 MB)\n",
            "\u001b[2K   \u001b[90m━━━━━━━━━━━━━━━━━━━━━━━━━━━━━━━━━━━━━━━━\u001b[0m \u001b[32m1.3/1.3 MB\u001b[0m \u001b[31m27.7 MB/s\u001b[0m eta \u001b[36m0:00:00\u001b[0m\n",
            "\u001b[?25hInstalling collected packages: dask, dask-expr\n",
            "  Attempting uninstall: dask\n",
            "    Found existing installation: dask 2024.10.0\n",
            "    Uninstalling dask-2024.10.0:\n",
            "      Successfully uninstalled dask-2024.10.0\n",
            "Successfully installed dask-2024.12.1 dask-expr-1.1.21\n",
            "\u001b[31mERROR: Could not find a version that satisfies the requirement scikit-learn-contrib (from versions: none)\u001b[0m\u001b[31m\n",
            "\u001b[0m\u001b[31mERROR: No matching distribution found for scikit-learn-contrib\u001b[0m\u001b[31m\n",
            "\u001b[0mRequirement already satisfied: lightgbm in /usr/local/lib/python3.10/dist-packages (4.5.0)\n",
            "Requirement already satisfied: numpy>=1.17.0 in /usr/local/lib/python3.10/dist-packages (from lightgbm) (1.26.4)\n",
            "Requirement already satisfied: scipy in /usr/local/lib/python3.10/dist-packages (from lightgbm) (1.13.1)\n"
          ]
        }
      ],
      "source": [
        "# Install necessary libraries\n",
        "!pip install pytorch-tabnet\n",
        "!pip install captum\n",
        "!pip install optuna\n",
        "!pip install imbalanced-learn\n",
        "!pip install dask-expr\n",
        "!pip install scikit-learn-contrib\n",
        "!pip install lightgbm\n"
      ]
    },
    {
      "cell_type": "code",
      "source": [
        "# Data manipulation and analysis\n",
        "import pandas as pd\n",
        "import numpy as np\n",
        "\n",
        "# Visualization\n",
        "import matplotlib.pyplot as plt\n",
        "import seaborn as sns\n",
        "\n",
        "# Preprocessing and modeling\n",
        "from sklearn.model_selection import train_test_split, StratifiedKFold\n",
        "from sklearn.preprocessing import MinMaxScaler\n",
        "from sklearn.metrics import classification_report, confusion_matrix, accuracy_score\n",
        "\n",
        "# Handling imbalanced data\n",
        "from imblearn.over_sampling import ADASYN\n",
        "from imblearn.under_sampling import TomekLinks\n",
        "\n",
        "# Deep Learning Model\n",
        "from pytorch_tabnet.tab_model import TabNetClassifier\n",
        "\n",
        "# Explainable AI\n",
        "import shap\n",
        "\n",
        "# Hyperparameter Optimization\n",
        "import optuna\n",
        "from optuna import Trial\n",
        "\n",
        "# Suppress warnings for cleaner output\n",
        "import warnings\n",
        "warnings.filterwarnings('ignore')\n",
        "\n",
        "# For model saving and loading\n",
        "import joblib\n",
        "\n",
        "# Import torch for TabNet\n",
        "import torch\n",
        "\n",
        "# Additional imports for Permutation Regularization\n",
        "import torch.nn as nn\n"
      ],
      "metadata": {
        "id": "Ruvhh8xHGBtb"
      },
      "execution_count": 2,
      "outputs": []
    },
    {
      "cell_type": "code",
      "source": [
        "# -------------------\n",
        "# 3. Load and Preprocess the Dataset\n",
        "# -------------------\n",
        "# Load the dataset\n",
        "data = pd.read_csv('/content/fetal_health.csv')  # Update the path as necessary\n",
        "\n",
        "# Display the first five rows to verify\n",
        "print(\"First five rows of the dataset:\")\n",
        "print(data.head())\n",
        "\n",
        "# Check the shape of the dataset\n",
        "print(f\"\\nDataset Shape: {data.shape}\")\n",
        "\n",
        "# Features to drop based on prior analysis\n",
        "features_to_drop = [\n",
        "    'fetal_movement',\n",
        "    'histogram_width',\n",
        "    'histogram_max',\n",
        "    'mean_value_of_long_term_variability',\n",
        "    'histogram_number_of_peaks',\n",
        "    'light_decelerations',\n",
        "    'histogram_tendency',\n",
        "    'histogram_number_of_zeroes',\n",
        "    'severe_decelerations',\n",
        "    'baseline value',\n",
        "    'histogram_min'\n",
        "]\n",
        "\n",
        "# Drop the specified features\n",
        "data_dropped = data.drop(columns=features_to_drop)\n",
        "\n",
        "# Verify the remaining features\n",
        "print(\"\\nFeatures after dropping less important ones:\")\n",
        "print(data_dropped.columns.tolist())\n",
        "\n",
        "# Check the new shape of the dataset\n",
        "print(f\"\\nNew Dataset Shape after dropping features: {data_dropped.shape}\")\n",
        "\n",
        "# Convert 'fetal_health' to integer\n",
        "data_dropped['fetal_health'] = data_dropped['fetal_health'].astype(int)\n",
        "\n",
        "# Mapping numerical classes to descriptive labels\n",
        "health_mapping = {1: 'Normal', 2: 'Suspect', 3: 'Pathological'}\n",
        "data_dropped['fetal_health_label'] = data_dropped['fetal_health'].map(health_mapping)\n",
        "\n",
        "# Display the mapping\n",
        "print(\"\\nDataset with Mapped Labels:\")\n",
        "print(data_dropped[['fetal_health', 'fetal_health_label']].head())\n",
        "\n",
        "# Features and target\n",
        "X = data_dropped.drop(['fetal_health', 'fetal_health_label'], axis=1)\n",
        "y = data_dropped['fetal_health']\n"
      ],
      "metadata": {
        "colab": {
          "base_uri": "https://localhost:8080/"
        },
        "id": "o8tyu82QGBvl",
        "outputId": "0f85de26-4832-4cc0-c1f9-4a00218b9129"
      },
      "execution_count": 4,
      "outputs": [
        {
          "output_type": "stream",
          "name": "stdout",
          "text": [
            "First five rows of the dataset:\n",
            "   baseline value  accelerations  fetal_movement  uterine_contractions  \\\n",
            "0           120.0          0.000             0.0                 0.000   \n",
            "1           132.0          0.006             0.0                 0.006   \n",
            "2           133.0          0.003             0.0                 0.008   \n",
            "3           134.0          0.003             0.0                 0.008   \n",
            "4           132.0          0.007             0.0                 0.008   \n",
            "\n",
            "   light_decelerations  severe_decelerations  prolongued_decelerations  \\\n",
            "0                0.000                   0.0                       0.0   \n",
            "1                0.003                   0.0                       0.0   \n",
            "2                0.003                   0.0                       0.0   \n",
            "3                0.003                   0.0                       0.0   \n",
            "4                0.000                   0.0                       0.0   \n",
            "\n",
            "   abnormal_short_term_variability  mean_value_of_short_term_variability  \\\n",
            "0                             73.0                                   0.5   \n",
            "1                             17.0                                   2.1   \n",
            "2                             16.0                                   2.1   \n",
            "3                             16.0                                   2.4   \n",
            "4                             16.0                                   2.4   \n",
            "\n",
            "   percentage_of_time_with_abnormal_long_term_variability  ...  histogram_min  \\\n",
            "0                                               43.0       ...           62.0   \n",
            "1                                                0.0       ...           68.0   \n",
            "2                                                0.0       ...           68.0   \n",
            "3                                                0.0       ...           53.0   \n",
            "4                                                0.0       ...           53.0   \n",
            "\n",
            "   histogram_max  histogram_number_of_peaks  histogram_number_of_zeroes  \\\n",
            "0          126.0                        2.0                         0.0   \n",
            "1          198.0                        6.0                         1.0   \n",
            "2          198.0                        5.0                         1.0   \n",
            "3          170.0                       11.0                         0.0   \n",
            "4          170.0                        9.0                         0.0   \n",
            "\n",
            "   histogram_mode  histogram_mean  histogram_median  histogram_variance  \\\n",
            "0           120.0           137.0             121.0                73.0   \n",
            "1           141.0           136.0             140.0                12.0   \n",
            "2           141.0           135.0             138.0                13.0   \n",
            "3           137.0           134.0             137.0                13.0   \n",
            "4           137.0           136.0             138.0                11.0   \n",
            "\n",
            "   histogram_tendency  fetal_health  \n",
            "0                 1.0           2.0  \n",
            "1                 0.0           1.0  \n",
            "2                 0.0           1.0  \n",
            "3                 1.0           1.0  \n",
            "4                 1.0           1.0  \n",
            "\n",
            "[5 rows x 22 columns]\n",
            "\n",
            "Dataset Shape: (2126, 22)\n",
            "\n",
            "Features after dropping less important ones:\n",
            "['accelerations', 'uterine_contractions', 'prolongued_decelerations', 'abnormal_short_term_variability', 'mean_value_of_short_term_variability', 'percentage_of_time_with_abnormal_long_term_variability', 'histogram_mode', 'histogram_mean', 'histogram_median', 'histogram_variance', 'fetal_health']\n",
            "\n",
            "New Dataset Shape after dropping features: (2126, 11)\n",
            "\n",
            "Dataset with Mapped Labels:\n",
            "   fetal_health fetal_health_label\n",
            "0             2            Suspect\n",
            "1             1             Normal\n",
            "2             1             Normal\n",
            "3             1             Normal\n",
            "4             1             Normal\n"
          ]
        }
      ]
    },
    {
      "cell_type": "code",
      "source": [
        "# Initialize ADASYN with 'auto' strategy to resample all classes\n",
        "adasyn = ADASYN(sampling_strategy='auto', random_state=42)\n",
        "\n",
        "# Apply ADASYN to the dataset\n",
        "X_adasyn, y_adasyn = adasyn.fit_resample(X, y)\n",
        "\n",
        "# Initialize Tomek Links\n",
        "tomek = TomekLinks()\n",
        "\n",
        "# Apply Tomek Links to clean the dataset\n",
        "X_resampled, y_resampled = tomek.fit_resample(X_adasyn, y_adasyn)\n",
        "\n",
        "# Display the shape of the resampled dataset and class distribution\n",
        "print(f\"\\nResampled X shape after ADASYN + Tomek Links: {X_resampled.shape}\")\n",
        "print(f\"Resampled y distribution after ADASYN + Tomek Links:\\n{y_resampled.value_counts()}\")\n",
        "\n",
        "# Visualize the resampled class distribution\n",
        "plt.figure(figsize=(8, 6))\n",
        "sns.countplot(x=y_resampled, palette='viridis')\n",
        "plt.title('Class Distribution After ADASYN + Tomek Links')\n",
        "plt.xlabel('Fetal Health')\n",
        "plt.ylabel('Count')\n",
        "plt.show()\n"
      ],
      "metadata": {
        "colab": {
          "base_uri": "https://localhost:8080/",
          "height": 707
        },
        "id": "FaeUTO_OGByA",
        "outputId": "86593f24-9f54-44e0-8ceb-9b97a30b88e9"
      },
      "execution_count": 5,
      "outputs": [
        {
          "output_type": "stream",
          "name": "stdout",
          "text": [
            "\n",
            "Resampled X shape after ADASYN + Tomek Links: (4883, 10)\n",
            "Resampled y distribution after ADASYN + Tomek Links:\n",
            "fetal_health\n",
            "3    1651\n",
            "1    1642\n",
            "2    1590\n",
            "Name: count, dtype: int64\n"
          ]
        },
        {
          "output_type": "display_data",
          "data": {
            "text/plain": [
              "<Figure size 800x600 with 1 Axes>"
            ],
            "image/png": "[encoded data removed]"
          },
          "metadata": {}
        }
      ]
    },
    {
      "cell_type": "code",
      "source": [
        "# Split the resampled data (70% train, 30% test) with stratification\n",
        "X_train, X_test, y_train, y_test = train_test_split(\n",
        "    X_resampled, y_resampled, test_size=0.3, random_state=42, stratify=y_resampled\n",
        ")\n",
        "\n",
        "# Display the shapes of the training and testing sets\n",
        "print(f\"\\nTraining set shape: {X_train.shape}\")\n",
        "print(f\"Testing set shape: {X_test.shape}\")\n",
        "\n",
        "# Initialize the MinMaxScaler\n",
        "scaler = MinMaxScaler()\n",
        "\n",
        "# Fit the scaler on the training data and transform\n",
        "X_train_scaled = scaler.fit_transform(X_train)\n",
        "\n",
        "# Transform the testing data\n",
        "X_test_scaled = scaler.transform(X_test)\n",
        "\n",
        "# Convert the scaled arrays back to DataFrames for easier handling\n",
        "X_train_scaled = pd.DataFrame(X_train_scaled, columns=X.columns, index=X_train.index)\n",
        "X_test_scaled = pd.DataFrame(X_test_scaled, columns=X.columns, index=X_test.index)\n",
        "\n",
        "# Verify scaling by checking min and max values\n",
        "print(\"\\nMin of Scaled Training Features (Should be 0):\")\n",
        "print(X_train_scaled.min())\n",
        "\n",
        "print(\"\\nMax of Scaled Training Features (Should be 1):\")\n",
        "print(X_train_scaled.max())\n",
        "\n",
        "# Adjust the target values so they start from 0\n",
        "y_train = y_train - 1\n",
        "y_test = y_test - 1\n",
        "\n",
        "# Display the adjusted target distributions\n",
        "print(\"\\nAdjusted y_train distribution:\")\n",
        "print(pd.Series(y_train).value_counts())\n",
        "\n",
        "print(\"\\nAdjusted y_test distribution:\")\n",
        "print(pd.Series(y_test).value_counts())\n",
        "\n",
        "# Further split the training data into training and validation sets (80% train, 20% validation)\n",
        "X_train_final, X_valid, y_train_final, y_valid = train_test_split(\n",
        "    X_train_scaled, y_train, test_size=0.2, random_state=42, stratify=y_train\n",
        ")\n",
        "\n",
        "# Display the shapes of the final training and validation sets\n",
        "print(f\"\\nFinal Training set shape: {X_train_final.shape}\")\n",
        "print(f\"Validation set shape: {X_valid.shape}\")\n"
      ],
      "metadata": {
        "colab": {
          "base_uri": "https://localhost:8080/"
        },
        "id": "LEbpn9pwGB0W",
        "outputId": "fc4c9199-e5ac-4a78-ae89-8b6c430edc3c"
      },
      "execution_count": 6,
      "outputs": [
        {
          "output_type": "stream",
          "name": "stdout",
          "text": [
            "\n",
            "Training set shape: (3418, 10)\n",
            "Testing set shape: (1465, 10)\n",
            "\n",
            "Min of Scaled Training Features (Should be 0):\n",
            "accelerations                                             0.0\n",
            "uterine_contractions                                      0.0\n",
            "prolongued_decelerations                                  0.0\n",
            "abnormal_short_term_variability                           0.0\n",
            "mean_value_of_short_term_variability                      0.0\n",
            "percentage_of_time_with_abnormal_long_term_variability    0.0\n",
            "histogram_mode                                            0.0\n",
            "histogram_mean                                            0.0\n",
            "histogram_median                                          0.0\n",
            "histogram_variance                                        0.0\n",
            "dtype: float64\n",
            "\n",
            "Max of Scaled Training Features (Should be 1):\n",
            "accelerations                                             1.0\n",
            "uterine_contractions                                      1.0\n",
            "prolongued_decelerations                                  1.0\n",
            "abnormal_short_term_variability                           1.0\n",
            "mean_value_of_short_term_variability                      1.0\n",
            "percentage_of_time_with_abnormal_long_term_variability    1.0\n",
            "histogram_mode                                            1.0\n",
            "histogram_mean                                            1.0\n",
            "histogram_median                                          1.0\n",
            "histogram_variance                                        1.0\n",
            "dtype: float64\n",
            "\n",
            "Adjusted y_train distribution:\n",
            "fetal_health\n",
            "2    1156\n",
            "0    1149\n",
            "1    1113\n",
            "Name: count, dtype: int64\n",
            "\n",
            "Adjusted y_test distribution:\n",
            "fetal_health\n",
            "2    495\n",
            "0    493\n",
            "1    477\n",
            "Name: count, dtype: int64\n",
            "\n",
            "Final Training set shape: (2734, 10)\n",
            "Validation set shape: (684, 10)\n"
          ]
        }
      ]
    },
    {
      "cell_type": "code",
      "source": [
        "# Define the objective function for Optuna\n",
        "def objective(trial: Trial):\n",
        "    # Define the hyperparameter space\n",
        "    n_d = trial.suggest_int('n_d', 32, 128)\n",
        "    n_a = trial.suggest_int('n_a', 32, 128)\n",
        "    n_steps = trial.suggest_int('n_steps', 3, 10)\n",
        "    gamma = trial.suggest_float('gamma', 1.0, 2.0)\n",
        "    lambda_sparse = trial.suggest_float('lambda_sparse', 1e-4, 1e-2, log=True)\n",
        "    learning_rate = trial.suggest_float('learning_rate', 1e-3, 1e-1, log=True)\n",
        "    batch_size = trial.suggest_categorical('batch_size', [128, 256, 512])\n",
        "\n",
        "    # Initialize TabNet with current hyperparameters\n",
        "    tabnet = TabNetClassifier(\n",
        "        n_d=n_d,\n",
        "        n_a=n_a,\n",
        "        n_steps=n_steps,\n",
        "        gamma=gamma,\n",
        "        lambda_sparse=lambda_sparse,\n",
        "        optimizer_fn=torch.optim.Adam,\n",
        "        optimizer_params=dict(lr=learning_rate),\n",
        "        mask_type='sparsemax',\n",
        "        verbose=0\n",
        "    )\n",
        "\n",
        "    # Train the model on the final training set\n",
        "    tabnet.fit(\n",
        "        X_train=X_train_final.values,\n",
        "        y_train=y_train_final.values,\n",
        "        eval_set=[(X_valid.values, y_valid.values)],\n",
        "        eval_name=['valid'],\n",
        "        eval_metric=['accuracy'],\n",
        "        max_epochs=100,\n",
        "        patience=20,\n",
        "        batch_size=batch_size,\n",
        "        virtual_batch_size=128,\n",
        "        num_workers=0,\n",
        "        drop_last=False\n",
        "    )\n",
        "\n",
        "    # Predict on the validation set\n",
        "    y_pred = tabnet.predict(X_valid.values)\n",
        "    accuracy = accuracy_score(y_valid, y_pred)\n",
        "\n",
        "    return accuracy\n",
        "\n",
        "# Create and optimize the Optuna study\n",
        "study = optuna.create_study(direction='maximize', study_name='TabNet Hyperparameter Optimization')\n",
        "study.optimize(objective, n_trials=50, timeout=3600)  # Adjust n_trials and timeout as needed\n",
        "\n",
        "# Display the best hyperparameters and validation accuracy\n",
        "print(\"Best Hyperparameters: \", study.best_params)\n",
        "print(\"Best Validation Accuracy: \", study.best_value)\n"
      ],
      "metadata": {
        "colab": {
          "base_uri": "https://localhost:8080/"
        },
        "id": "57gk2ZeUGB2s",
        "outputId": "aa5791f2-edb0-4cc7-d327-05a5674fd14e"
      },
      "execution_count": 7,
      "outputs": [
        {
          "output_type": "stream",
          "name": "stderr",
          "text": [
            "[I 2025-01-15 03:56:10,859] A new study created in memory with name: TabNet Hyperparameter Optimization\n"
          ]
        },
        {
          "output_type": "stream",
          "name": "stdout",
          "text": [
            "\n",
            "Early stopping occurred at epoch 82 with best_epoch = 62 and best_valid_accuracy = 0.93421\n"
          ]
        },
        {
          "output_type": "stream",
          "name": "stderr",
          "text": [
            "[I 2025-01-15 04:01:02,986] Trial 0 finished with value: 0.9342105263157895 and parameters: {'n_d': 126, 'n_a': 64, 'n_steps': 10, 'gamma': 1.1942005788783747, 'lambda_sparse': 0.00024630707577207907, 'learning_rate': 0.09166578703475932, 'batch_size': 256}. Best is trial 0 with value: 0.9342105263157895.\n"
          ]
        },
        {
          "output_type": "stream",
          "name": "stdout",
          "text": [
            "\n",
            "Early stopping occurred at epoch 59 with best_epoch = 39 and best_valid_accuracy = 0.93421\n"
          ]
        },
        {
          "output_type": "stream",
          "name": "stderr",
          "text": [
            "[I 2025-01-15 04:02:43,657] Trial 1 finished with value: 0.9342105263157895 and parameters: {'n_d': 117, 'n_a': 111, 'n_steps': 3, 'gamma': 1.718392708589683, 'lambda_sparse': 0.003924734947764451, 'learning_rate': 0.04215206750923912, 'batch_size': 128}. Best is trial 0 with value: 0.9342105263157895.\n"
          ]
        },
        {
          "output_type": "stream",
          "name": "stdout",
          "text": [
            "Stop training because you reached max_epochs = 100 with best_epoch = 89 and best_valid_accuracy = 0.95468\n"
          ]
        },
        {
          "output_type": "stream",
          "name": "stderr",
          "text": [
            "[I 2025-01-15 04:04:29,530] Trial 2 finished with value: 0.9546783625730995 and parameters: {'n_d': 64, 'n_a': 66, 'n_steps': 6, 'gamma': 1.206953628263216, 'lambda_sparse': 0.002322501737670916, 'learning_rate': 0.0066201561443909665, 'batch_size': 512}. Best is trial 2 with value: 0.9546783625730995.\n"
          ]
        },
        {
          "output_type": "stream",
          "name": "stdout",
          "text": [
            "\n",
            "Early stopping occurred at epoch 31 with best_epoch = 11 and best_valid_accuracy = 0.63596\n"
          ]
        },
        {
          "output_type": "stream",
          "name": "stderr",
          "text": [
            "[I 2025-01-15 04:05:17,793] Trial 3 finished with value: 0.6359649122807017 and parameters: {'n_d': 101, 'n_a': 54, 'n_steps': 7, 'gamma': 1.9620736302225241, 'lambda_sparse': 0.000418431921127061, 'learning_rate': 0.021068029500249944, 'batch_size': 512}. Best is trial 2 with value: 0.9546783625730995.\n"
          ]
        },
        {
          "output_type": "stream",
          "name": "stdout",
          "text": [
            "Stop training because you reached max_epochs = 100 with best_epoch = 93 and best_valid_accuracy = 0.9269\n"
          ]
        },
        {
          "output_type": "stream",
          "name": "stderr",
          "text": [
            "[I 2025-01-15 04:07:37,410] Trial 4 finished with value: 0.9269005847953217 and parameters: {'n_d': 65, 'n_a': 53, 'n_steps': 9, 'gamma': 1.4306504728567102, 'lambda_sparse': 0.0006625409048871943, 'learning_rate': 0.0015597916999642012, 'batch_size': 512}. Best is trial 2 with value: 0.9546783625730995.\n"
          ]
        },
        {
          "output_type": "stream",
          "name": "stdout",
          "text": [
            "Stop training because you reached max_epochs = 100 with best_epoch = 99 and best_valid_accuracy = 0.9386\n"
          ]
        },
        {
          "output_type": "stream",
          "name": "stderr",
          "text": [
            "[I 2025-01-15 04:09:10,149] Trial 5 finished with value: 0.9385964912280702 and parameters: {'n_d': 109, 'n_a': 45, 'n_steps': 4, 'gamma': 1.644550980441934, 'lambda_sparse': 0.00962313129270921, 'learning_rate': 0.049665729250530345, 'batch_size': 512}. Best is trial 2 with value: 0.9546783625730995.\n"
          ]
        },
        {
          "output_type": "stream",
          "name": "stdout",
          "text": [
            "\n",
            "Early stopping occurred at epoch 90 with best_epoch = 70 and best_valid_accuracy = 0.95614\n"
          ]
        },
        {
          "output_type": "stream",
          "name": "stderr",
          "text": [
            "[I 2025-01-15 04:12:11,068] Trial 6 finished with value: 0.956140350877193 and parameters: {'n_d': 116, 'n_a': 122, 'n_steps': 5, 'gamma': 1.7341743428462393, 'lambda_sparse': 0.0008437941243678673, 'learning_rate': 0.0033526022410583687, 'batch_size': 256}. Best is trial 6 with value: 0.956140350877193.\n"
          ]
        },
        {
          "output_type": "stream",
          "name": "stdout",
          "text": [
            "\n",
            "Early stopping occurred at epoch 58 with best_epoch = 38 and best_valid_accuracy = 0.93421\n"
          ]
        },
        {
          "output_type": "stream",
          "name": "stderr",
          "text": [
            "[I 2025-01-15 04:14:37,499] Trial 7 finished with value: 0.9342105263157895 and parameters: {'n_d': 77, 'n_a': 115, 'n_steps': 9, 'gamma': 1.148297458192623, 'lambda_sparse': 0.007730422513541707, 'learning_rate': 0.0404421843586171, 'batch_size': 256}. Best is trial 6 with value: 0.956140350877193.\n"
          ]
        },
        {
          "output_type": "stream",
          "name": "stdout",
          "text": [
            "\n",
            "Early stopping occurred at epoch 97 with best_epoch = 77 and best_valid_accuracy = 0.95322\n"
          ]
        },
        {
          "output_type": "stream",
          "name": "stderr",
          "text": [
            "[I 2025-01-15 04:18:15,538] Trial 8 finished with value: 0.9532163742690059 and parameters: {'n_d': 119, 'n_a': 88, 'n_steps': 5, 'gamma': 1.1968720523087288, 'lambda_sparse': 0.002754446349542278, 'learning_rate': 0.050802802302736684, 'batch_size': 128}. Best is trial 6 with value: 0.956140350877193.\n"
          ]
        },
        {
          "output_type": "stream",
          "name": "stdout",
          "text": [
            "Stop training because you reached max_epochs = 100 with best_epoch = 99 and best_valid_accuracy = 0.95906\n"
          ]
        },
        {
          "output_type": "stream",
          "name": "stderr",
          "text": [
            "[I 2025-01-15 04:19:22,128] Trial 9 finished with value: 0.9590643274853801 and parameters: {'n_d': 53, 'n_a': 50, 'n_steps': 4, 'gamma': 1.8872815385588537, 'lambda_sparse': 0.006548099406103877, 'learning_rate': 0.004611069603407387, 'batch_size': 512}. Best is trial 9 with value: 0.9590643274853801.\n"
          ]
        },
        {
          "output_type": "stream",
          "name": "stdout",
          "text": [
            "Stop training because you reached max_epochs = 100 with best_epoch = 96 and best_valid_accuracy = 0.95614\n"
          ]
        },
        {
          "output_type": "stream",
          "name": "stderr",
          "text": [
            "[I 2025-01-15 04:20:01,883] Trial 10 finished with value: 0.956140350877193 and parameters: {'n_d': 33, 'n_a': 32, 'n_steps': 3, 'gamma': 1.9801546559584757, 'lambda_sparse': 0.00010259458526056779, 'learning_rate': 0.010066797681329821, 'batch_size': 512}. Best is trial 9 with value: 0.9590643274853801.\n"
          ]
        },
        {
          "output_type": "stream",
          "name": "stdout",
          "text": [
            "\n",
            "Early stopping occurred at epoch 88 with best_epoch = 68 and best_valid_accuracy = 0.95468\n"
          ]
        },
        {
          "output_type": "stream",
          "name": "stderr",
          "text": [
            "[I 2025-01-15 04:21:36,870] Trial 11 finished with value: 0.9546783625730995 and parameters: {'n_d': 38, 'n_a': 92, 'n_steps': 5, 'gamma': 1.7813215919988865, 'lambda_sparse': 0.0012857532814929762, 'learning_rate': 0.0023198299307965447, 'batch_size': 256}. Best is trial 9 with value: 0.9590643274853801.\n"
          ]
        },
        {
          "output_type": "stream",
          "name": "stdout",
          "text": [
            "\n",
            "Early stopping occurred at epoch 78 with best_epoch = 58 and best_valid_accuracy = 0.95029\n"
          ]
        },
        {
          "output_type": "stream",
          "name": "stderr",
          "text": [
            "[I 2025-01-15 04:24:25,374] Trial 12 finished with value: 0.9502923976608187 and parameters: {'n_d': 93, 'n_a': 103, 'n_steps': 7, 'gamma': 1.5601799706627095, 'lambda_sparse': 0.0012571814234346023, 'learning_rate': 0.003702271324257522, 'batch_size': 256}. Best is trial 9 with value: 0.9590643274853801.\n"
          ]
        },
        {
          "output_type": "stream",
          "name": "stdout",
          "text": [
            "\n",
            "Early stopping occurred at epoch 73 with best_epoch = 53 and best_valid_accuracy = 0.95468\n"
          ]
        },
        {
          "output_type": "stream",
          "name": "stderr",
          "text": [
            "[I 2025-01-15 04:26:12,217] Trial 13 finished with value: 0.9546783625730995 and parameters: {'n_d': 52, 'n_a': 125, 'n_steps': 5, 'gamma': 1.8496194705410565, 'lambda_sparse': 0.000729117710377311, 'learning_rate': 0.005809794082095498, 'batch_size': 256}. Best is trial 9 with value: 0.9590643274853801.\n"
          ]
        },
        {
          "output_type": "stream",
          "name": "stdout",
          "text": [
            "\n",
            "Early stopping occurred at epoch 57 with best_epoch = 37 and best_valid_accuracy = 0.95614\n"
          ]
        },
        {
          "output_type": "stream",
          "name": "stderr",
          "text": [
            "[I 2025-01-15 04:27:39,712] Trial 14 finished with value: 0.956140350877193 and parameters: {'n_d': 88, 'n_a': 78, 'n_steps': 4, 'gamma': 1.4522598654099896, 'lambda_sparse': 0.004588434297985324, 'learning_rate': 0.001000368845027794, 'batch_size': 128}. Best is trial 9 with value: 0.9590643274853801.\n"
          ]
        },
        {
          "output_type": "stream",
          "name": "stdout",
          "text": [
            "Stop training because you reached max_epochs = 100 with best_epoch = 93 and best_valid_accuracy = 0.94737\n"
          ]
        },
        {
          "output_type": "stream",
          "name": "stderr",
          "text": [
            "[I 2025-01-15 04:30:03,066] Trial 15 finished with value: 0.9473684210526315 and parameters: {'n_d': 49, 'n_a': 127, 'n_steps': 6, 'gamma': 1.8505329010164533, 'lambda_sparse': 0.0002597025134609313, 'learning_rate': 0.01145747867745519, 'batch_size': 512}. Best is trial 9 with value: 0.9590643274853801.\n"
          ]
        },
        {
          "output_type": "stream",
          "name": "stdout",
          "text": [
            "\n",
            "Early stopping occurred at epoch 73 with best_epoch = 53 and best_valid_accuracy = 0.96491\n"
          ]
        },
        {
          "output_type": "stream",
          "name": "stderr",
          "text": [
            "[I 2025-01-15 04:31:02,069] Trial 16 finished with value: 0.9649122807017544 and parameters: {'n_d': 77, 'n_a': 35, 'n_steps': 4, 'gamma': 1.00466576920397, 'lambda_sparse': 0.0018173927015242204, 'learning_rate': 0.0028074922974144732, 'batch_size': 256}. Best is trial 16 with value: 0.9649122807017544.\n"
          ]
        },
        {
          "output_type": "stream",
          "name": "stdout",
          "text": [
            "\n",
            "Early stopping occurred at epoch 80 with best_epoch = 60 and best_valid_accuracy = 0.96345\n"
          ]
        },
        {
          "output_type": "stream",
          "name": "stderr",
          "text": [
            "[I 2025-01-15 04:32:07,664] Trial 17 finished with value: 0.9634502923976608 and parameters: {'n_d': 74, 'n_a': 34, 'n_steps': 4, 'gamma': 1.0153240893434847, 'lambda_sparse': 0.005606747608329041, 'learning_rate': 0.0023718524489853847, 'batch_size': 256}. Best is trial 16 with value: 0.9649122807017544.\n"
          ]
        },
        {
          "output_type": "stream",
          "name": "stdout",
          "text": [
            "Stop training because you reached max_epochs = 100 with best_epoch = 89 and best_valid_accuracy = 0.97076\n"
          ]
        },
        {
          "output_type": "stream",
          "name": "stderr",
          "text": [
            "[I 2025-01-15 04:33:16,515] Trial 18 finished with value: 0.9707602339181286 and parameters: {'n_d': 79, 'n_a': 34, 'n_steps': 3, 'gamma': 1.0067726389808187, 'lambda_sparse': 0.0019657751342309153, 'learning_rate': 0.0020203227768361034, 'batch_size': 256}. Best is trial 18 with value: 0.9707602339181286.\n"
          ]
        },
        {
          "output_type": "stream",
          "name": "stdout",
          "text": [
            "\n",
            "Early stopping occurred at epoch 79 with best_epoch = 59 and best_valid_accuracy = 0.96491\n"
          ]
        },
        {
          "output_type": "stream",
          "name": "stderr",
          "text": [
            "[I 2025-01-15 04:34:15,981] Trial 19 finished with value: 0.9649122807017544 and parameters: {'n_d': 86, 'n_a': 39, 'n_steps': 3, 'gamma': 1.006387917470765, 'lambda_sparse': 0.001909391514515438, 'learning_rate': 0.0011285025846508303, 'batch_size': 256}. Best is trial 18 with value: 0.9707602339181286.\n"
          ]
        },
        {
          "output_type": "stream",
          "name": "stdout",
          "text": [
            "Stop training because you reached max_epochs = 100 with best_epoch = 82 and best_valid_accuracy = 0.96053\n"
          ]
        },
        {
          "output_type": "stream",
          "name": "stderr",
          "text": [
            "[I 2025-01-15 04:35:31,017] Trial 20 finished with value: 0.9605263157894737 and parameters: {'n_d': 64, 'n_a': 68, 'n_steps': 3, 'gamma': 1.3062753137131002, 'lambda_sparse': 0.001597815005922769, 'learning_rate': 0.002097798837448509, 'batch_size': 256}. Best is trial 18 with value: 0.9707602339181286.\n"
          ]
        },
        {
          "output_type": "stream",
          "name": "stdout",
          "text": [
            "\n",
            "Early stopping occurred at epoch 90 with best_epoch = 70 and best_valid_accuracy = 0.97222\n"
          ]
        },
        {
          "output_type": "stream",
          "name": "stderr",
          "text": [
            "[I 2025-01-15 04:36:35,960] Trial 21 finished with value: 0.9722222222222222 and parameters: {'n_d': 87, 'n_a': 41, 'n_steps': 3, 'gamma': 1.0069592979950976, 'lambda_sparse': 0.0022982046950226574, 'learning_rate': 0.001033381065032292, 'batch_size': 256}. Best is trial 21 with value: 0.9722222222222222.\n"
          ]
        },
        {
          "output_type": "stream",
          "name": "stdout",
          "text": [
            "\n",
            "Early stopping occurred at epoch 88 with best_epoch = 68 and best_valid_accuracy = 0.97222\n"
          ]
        },
        {
          "output_type": "stream",
          "name": "stderr",
          "text": [
            "[I 2025-01-15 04:37:46,781] Trial 22 finished with value: 0.9722222222222222 and parameters: {'n_d': 95, 'n_a': 42, 'n_steps': 3, 'gamma': 1.0975400788189926, 'lambda_sparse': 0.0031566203541543284, 'learning_rate': 0.0014489544528466318, 'batch_size': 256}. Best is trial 21 with value: 0.9722222222222222.\n"
          ]
        },
        {
          "output_type": "stream",
          "name": "stdout",
          "text": [
            "\n",
            "Early stopping occurred at epoch 94 with best_epoch = 74 and best_valid_accuracy = 0.96637\n"
          ]
        },
        {
          "output_type": "stream",
          "name": "stderr",
          "text": [
            "[I 2025-01-15 04:39:04,861] Trial 23 finished with value: 0.966374269005848 and parameters: {'n_d': 99, 'n_a': 44, 'n_steps': 3, 'gamma': 1.1025965201577153, 'lambda_sparse': 0.0030126489283829813, 'learning_rate': 0.0014245188491291577, 'batch_size': 256}. Best is trial 21 with value: 0.9722222222222222.\n"
          ]
        },
        {
          "output_type": "stream",
          "name": "stdout",
          "text": [
            "\n",
            "Early stopping occurred at epoch 82 with best_epoch = 62 and best_valid_accuracy = 0.96637\n"
          ]
        },
        {
          "output_type": "stream",
          "name": "stderr",
          "text": [
            "[I 2025-01-15 04:40:18,760] Trial 24 finished with value: 0.966374269005848 and parameters: {'n_d': 102, 'n_a': 58, 'n_steps': 3, 'gamma': 1.3118492413104714, 'lambda_sparse': 0.0036726547700997865, 'learning_rate': 0.0017503585502271846, 'batch_size': 256}. Best is trial 21 with value: 0.9722222222222222.\n"
          ]
        },
        {
          "output_type": "stream",
          "name": "stdout",
          "text": [
            "Stop training because you reached max_epochs = 100 with best_epoch = 98 and best_valid_accuracy = 0.9693\n"
          ]
        },
        {
          "output_type": "stream",
          "name": "stderr",
          "text": [
            "[I 2025-01-15 04:42:15,915] Trial 25 finished with value: 0.9692982456140351 and parameters: {'n_d': 84, 'n_a': 75, 'n_steps': 4, 'gamma': 1.0837623698409786, 'lambda_sparse': 0.0011047681138075004, 'learning_rate': 0.0013336408563283527, 'batch_size': 256}. Best is trial 21 with value: 0.9722222222222222.\n"
          ]
        },
        {
          "output_type": "stream",
          "name": "stdout",
          "text": [
            "Stop training because you reached max_epochs = 100 with best_epoch = 93 and best_valid_accuracy = 0.96345\n"
          ]
        },
        {
          "output_type": "stream",
          "name": "stderr",
          "text": [
            "[I 2025-01-15 04:46:13,742] Trial 26 finished with value: 0.9634502923976608 and parameters: {'n_d': 92, 'n_a': 43, 'n_steps': 8, 'gamma': 1.3113086386494341, 'lambda_sparse': 0.0023874308290393583, 'learning_rate': 0.0010465956499368025, 'batch_size': 128}. Best is trial 21 with value: 0.9722222222222222.\n"
          ]
        },
        {
          "output_type": "stream",
          "name": "stdout",
          "text": [
            "\n",
            "Early stopping occurred at epoch 95 with best_epoch = 75 and best_valid_accuracy = 0.96784\n"
          ]
        },
        {
          "output_type": "stream",
          "name": "stderr",
          "text": [
            "[I 2025-01-15 04:47:46,476] Trial 27 finished with value: 0.9678362573099415 and parameters: {'n_d': 106, 'n_a': 59, 'n_steps': 3, 'gamma': 1.0896551314260412, 'lambda_sparse': 0.004920730127852639, 'learning_rate': 0.015849991823474595, 'batch_size': 256}. Best is trial 21 with value: 0.9722222222222222.\n"
          ]
        },
        {
          "output_type": "stream",
          "name": "stdout",
          "text": [
            "\n",
            "Early stopping occurred at epoch 97 with best_epoch = 77 and best_valid_accuracy = 0.95614\n"
          ]
        },
        {
          "output_type": "stream",
          "name": "stderr",
          "text": [
            "[I 2025-01-15 04:49:42,763] Trial 28 finished with value: 0.956140350877193 and parameters: {'n_d': 68, 'n_a': 47, 'n_steps': 6, 'gamma': 1.235001798886127, 'lambda_sparse': 0.0017326211079634936, 'learning_rate': 0.001609185278615665, 'batch_size': 256}. Best is trial 21 with value: 0.9722222222222222.\n"
          ]
        },
        {
          "output_type": "stream",
          "name": "stdout",
          "text": [
            "Stop training because you reached max_epochs = 100 with best_epoch = 80 and best_valid_accuracy = 0.96199\n"
          ]
        },
        {
          "output_type": "stream",
          "name": "stderr",
          "text": [
            "[I 2025-01-15 04:53:50,762] Trial 29 finished with value: 0.9619883040935673 and parameters: {'n_d': 128, 'n_a': 38, 'n_steps': 10, 'gamma': 1.1236249460205898, 'lambda_sparse': 0.0005632954062292413, 'learning_rate': 0.0065471683021451794, 'batch_size': 256}. Best is trial 21 with value: 0.9722222222222222.\n"
          ]
        },
        {
          "output_type": "stream",
          "name": "stdout",
          "text": [
            "\n",
            "Early stopping occurred at epoch 82 with best_epoch = 62 and best_valid_accuracy = 0.96637\n"
          ]
        },
        {
          "output_type": "stream",
          "name": "stderr",
          "text": [
            "[I 2025-01-15 04:55:38,543] Trial 30 finished with value: 0.966374269005848 and parameters: {'n_d': 94, 'n_a': 60, 'n_steps': 5, 'gamma': 1.371305650284323, 'lambda_sparse': 0.0036699399923588354, 'learning_rate': 0.0032662171813168978, 'batch_size': 256}. Best is trial 21 with value: 0.9722222222222222.\n"
          ]
        },
        {
          "output_type": "stream",
          "name": "stdout",
          "text": [
            "\n",
            "Early stopping occurred at epoch 74 with best_epoch = 54 and best_valid_accuracy = 0.9693\n"
          ]
        },
        {
          "output_type": "stream",
          "name": "stderr",
          "text": [
            "[I 2025-01-15 04:56:59,884] Trial 31 finished with value: 0.9692982456140351 and parameters: {'n_d': 84, 'n_a': 76, 'n_steps': 4, 'gamma': 1.070734260359248, 'lambda_sparse': 0.0010629523971020234, 'learning_rate': 0.001399991679613068, 'batch_size': 256}. Best is trial 21 with value: 0.9722222222222222.\n"
          ]
        },
        {
          "output_type": "stream",
          "name": "stdout",
          "text": [
            "Best Hyperparameters:  {'n_d': 87, 'n_a': 41, 'n_steps': 3, 'gamma': 1.0069592979950976, 'lambda_sparse': 0.0022982046950226574, 'learning_rate': 0.001033381065032292, 'batch_size': 256}\n",
            "Best Validation Accuracy:  0.9722222222222222\n"
          ]
        }
      ]
    },
    {
      "cell_type": "code",
      "source": [
        "# -------------------\n",
        "# Part 1: Data Augmentation Function\n",
        "# -------------------\n",
        "\n",
        "def augment_data(X, y, permutation_prob=0.1):\n",
        "    \"\"\"\n",
        "    Augment the dataset by randomly permuting feature orders with a given probability.\n",
        "\n",
        "    Parameters:\n",
        "    - X (numpy.ndarray or pandas.DataFrame): Feature matrix.\n",
        "    - y (numpy.ndarray or pandas.Series): Target vector.\n",
        "    - permutation_prob (float): Probability of permuting each sample.\n",
        "\n",
        "    Returns:\n",
        "    - X_augmented (numpy.ndarray): Augmented feature matrix.\n",
        "    - y_augmented (numpy.ndarray): Augmented target vector.\n",
        "    \"\"\"\n",
        "    X_augmented = []\n",
        "    y_augmented = []\n",
        "    for sample, label in zip(X, y):\n",
        "        if np.random.rand() < permutation_prob:\n",
        "            perm = np.random.permutation(sample.shape[0])\n",
        "            sample = sample[perm]\n",
        "        X_augmented.append(sample)\n",
        "        y_augmented.append(label)\n",
        "    return np.array(X_augmented), np.array(y_augmented)\n"
      ],
      "metadata": {
        "id": "Bfx76t8qGCB_"
      },
      "execution_count": 11,
      "outputs": []
    },
    {
      "cell_type": "code",
      "source": [
        "# -------------------\n",
        "# Part 2: Apply Data Augmentation\n",
        "# -------------------\n",
        "\n",
        "# Set the permutation probability (e.g., 10% of the training samples will have permuted features)\n",
        "permutation_probability = 0.1\n",
        "\n",
        "# Apply the augmentation function to the final training set\n",
        "X_train_augmented, y_train_augmented = augment_data(\n",
        "    X_train_final.values,\n",
        "    y_train_final.values,\n",
        "    permutation_prob=permutation_probability\n",
        ")\n",
        "\n",
        "# Display the shape of the augmented dataset\n",
        "print(f\"Original Training Set Shape: {X_train_final.shape}\")\n",
        "print(f\"Augmented Training Set Shape: {X_train_augmented.shape}\")\n"
      ],
      "metadata": {
        "colab": {
          "base_uri": "https://localhost:8080/"
        },
        "id": "mjFj7DkyGCET",
        "outputId": "c52f9bd4-734d-4c82-fdf3-f86fdc7e50f9"
      },
      "execution_count": 12,
      "outputs": [
        {
          "output_type": "stream",
          "name": "stdout",
          "text": [
            "Original Training Set Shape: (2734, 10)\n",
            "Augmented Training Set Shape: (2734, 10)\n"
          ]
        }
      ]
    },
    {
      "cell_type": "code",
      "source": [
        "# -------------------\n",
        "# Part 3: Initialize and Train TabNet with Augmented Data\n",
        "# -------------------\n",
        "\n",
        "# Initialize the TabNetClassifier with the best hyperparameters from Optuna\n",
        "perm_reg_tabnet = TabNetClassifier(\n",
        "    input_dim=X_train_final.shape[1],    # Number of features\n",
        "    output_dim=3,                        # Number of classes: Normal, Suspect, Pathological\n",
        "    n_d=study.best_params['n_d'],\n",
        "    n_a=study.best_params['n_a'],\n",
        "    n_steps=study.best_params['n_steps'],\n",
        "    gamma=study.best_params['gamma'],\n",
        "    lambda_sparse=study.best_params['lambda_sparse'],\n",
        "    optimizer_fn=torch.optim.Adam,\n",
        "    optimizer_params={'lr': study.best_params['learning_rate']},\n",
        "    mask_type='sparsemax',\n",
        "    verbose=1,\n",
        "    seed=42  # For reproducibility\n",
        ")\n",
        "\n",
        "# Train the model on the augmented training data\n",
        "perm_reg_tabnet.fit(\n",
        "    X_train=X_train_augmented,\n",
        "    y_train=y_train_augmented,\n",
        "    eval_set=[(X_valid.values, y_valid.values), (X_test_scaled.values, y_test.values)],\n",
        "    eval_name=['train', 'valid'],\n",
        "    eval_metric=['accuracy'],\n",
        "    max_epochs=100,\n",
        "    patience=20,\n",
        "    batch_size=study.best_params['batch_size'],\n",
        "    virtual_batch_size=128,\n",
        "    num_workers=0,\n",
        "    drop_last=False\n",
        ")\n"
      ],
      "metadata": {
        "colab": {
          "base_uri": "https://localhost:8080/"
        },
        "id": "HJXdb8m7GCGy",
        "outputId": "ca248c6c-b374-4668-ed6a-0da0eaa20d79"
      },
      "execution_count": 13,
      "outputs": [
        {
          "output_type": "stream",
          "name": "stdout",
          "text": [
            "epoch 0  | loss: 1.7639  | train_accuracy: 0.25146 | valid_accuracy: 0.21775 |  0:00:02s\n",
            "epoch 1  | loss: 1.03473 | train_accuracy: 0.34942 | valid_accuracy: 0.34061 |  0:00:03s\n",
            "epoch 2  | loss: 0.81778 | train_accuracy: 0.36988 | valid_accuracy: 0.35427 |  0:00:04s\n",
            "epoch 3  | loss: 0.68172 | train_accuracy: 0.42982 | valid_accuracy: 0.41638 |  0:00:05s\n",
            "epoch 4  | loss: 0.64531 | train_accuracy: 0.46199 | valid_accuracy: 0.44232 |  0:00:06s\n",
            "epoch 5  | loss: 0.57001 | train_accuracy: 0.50731 | valid_accuracy: 0.48942 |  0:00:07s\n",
            "epoch 6  | loss: 0.53705 | train_accuracy: 0.53363 | valid_accuracy: 0.51058 |  0:00:08s\n",
            "epoch 7  | loss: 0.5281  | train_accuracy: 0.53509 | valid_accuracy: 0.51468 |  0:00:09s\n",
            "epoch 8  | loss: 0.51796 | train_accuracy: 0.55263 | valid_accuracy: 0.52628 |  0:00:10s\n",
            "epoch 9  | loss: 0.50432 | train_accuracy: 0.54532 | valid_accuracy: 0.52491 |  0:00:11s\n",
            "epoch 10 | loss: 0.47616 | train_accuracy: 0.55994 | valid_accuracy: 0.53857 |  0:00:12s\n",
            "epoch 11 | loss: 0.50212 | train_accuracy: 0.5848  | valid_accuracy: 0.57338 |  0:00:13s\n",
            "epoch 12 | loss: 0.49235 | train_accuracy: 0.59649 | valid_accuracy: 0.58567 |  0:00:14s\n",
            "epoch 13 | loss: 0.44974 | train_accuracy: 0.61257 | valid_accuracy: 0.59659 |  0:00:14s\n",
            "epoch 14 | loss: 0.44125 | train_accuracy: 0.62865 | valid_accuracy: 0.61297 |  0:00:15s\n",
            "epoch 15 | loss: 0.45849 | train_accuracy: 0.64181 | valid_accuracy: 0.63413 |  0:00:16s\n",
            "epoch 16 | loss: 0.45204 | train_accuracy: 0.64327 | valid_accuracy: 0.63891 |  0:00:17s\n",
            "epoch 17 | loss: 0.40866 | train_accuracy: 0.65205 | valid_accuracy: 0.64846 |  0:00:17s\n",
            "epoch 18 | loss: 0.41734 | train_accuracy: 0.65497 | valid_accuracy: 0.67235 |  0:00:18s\n",
            "epoch 19 | loss: 0.42482 | train_accuracy: 0.66959 | valid_accuracy: 0.69829 |  0:00:19s\n",
            "epoch 20 | loss: 0.41385 | train_accuracy: 0.70468 | valid_accuracy: 0.72491 |  0:00:20s\n",
            "epoch 21 | loss: 0.39665 | train_accuracy: 0.70906 | valid_accuracy: 0.72423 |  0:00:21s\n",
            "epoch 22 | loss: 0.39131 | train_accuracy: 0.70468 | valid_accuracy: 0.73038 |  0:00:22s\n",
            "epoch 23 | loss: 0.37951 | train_accuracy: 0.70906 | valid_accuracy: 0.72969 |  0:00:23s\n",
            "epoch 24 | loss: 0.3606  | train_accuracy: 0.71491 | valid_accuracy: 0.7372  |  0:00:24s\n",
            "epoch 25 | loss: 0.39696 | train_accuracy: 0.72953 | valid_accuracy: 0.75631 |  0:00:25s\n",
            "epoch 26 | loss: 0.37183 | train_accuracy: 0.77047 | valid_accuracy: 0.7843  |  0:00:26s\n",
            "epoch 27 | loss: 0.36826 | train_accuracy: 0.75731 | valid_accuracy: 0.77474 |  0:00:27s\n",
            "epoch 28 | loss: 0.37288 | train_accuracy: 0.78509 | valid_accuracy: 0.79113 |  0:00:27s\n",
            "epoch 29 | loss: 0.35655 | train_accuracy: 0.80994 | valid_accuracy: 0.81365 |  0:00:28s\n",
            "epoch 30 | loss: 0.36603 | train_accuracy: 0.83918 | valid_accuracy: 0.84778 |  0:00:30s\n",
            "epoch 31 | loss: 0.36311 | train_accuracy: 0.81287 | valid_accuracy: 0.82594 |  0:00:33s\n",
            "epoch 32 | loss: 0.35987 | train_accuracy: 0.84503 | valid_accuracy: 0.85666 |  0:00:35s\n",
            "epoch 33 | loss: 0.33577 | train_accuracy: 0.84503 | valid_accuracy: 0.85119 |  0:00:36s\n",
            "epoch 34 | loss: 0.35522 | train_accuracy: 0.82602 | valid_accuracy: 0.83413 |  0:00:37s\n",
            "epoch 35 | loss: 0.3412  | train_accuracy: 0.88889 | valid_accuracy: 0.89761 |  0:00:38s\n",
            "epoch 36 | loss: 0.32413 | train_accuracy: 0.88304 | valid_accuracy: 0.87986 |  0:00:39s\n",
            "epoch 37 | loss: 0.33728 | train_accuracy: 0.88889 | valid_accuracy: 0.89147 |  0:00:40s\n",
            "epoch 38 | loss: 0.32406 | train_accuracy: 0.90058 | valid_accuracy: 0.90648 |  0:00:41s\n",
            "epoch 39 | loss: 0.32816 | train_accuracy: 0.88012 | valid_accuracy: 0.88328 |  0:00:42s\n",
            "epoch 40 | loss: 0.31263 | train_accuracy: 0.89474 | valid_accuracy: 0.89898 |  0:00:42s\n",
            "epoch 41 | loss: 0.3237  | train_accuracy: 0.91813 | valid_accuracy: 0.91058 |  0:00:43s\n",
            "epoch 42 | loss: 0.32203 | train_accuracy: 0.91959 | valid_accuracy: 0.91331 |  0:00:44s\n",
            "epoch 43 | loss: 0.30603 | train_accuracy: 0.91374 | valid_accuracy: 0.90375 |  0:00:45s\n",
            "epoch 44 | loss: 0.31008 | train_accuracy: 0.91228 | valid_accuracy: 0.90239 |  0:00:46s\n",
            "epoch 45 | loss: 0.3035  | train_accuracy: 0.9269  | valid_accuracy: 0.91672 |  0:00:47s\n",
            "epoch 46 | loss: 0.32641 | train_accuracy: 0.92398 | valid_accuracy: 0.91945 |  0:00:47s\n",
            "epoch 47 | loss: 0.2949  | train_accuracy: 0.92398 | valid_accuracy: 0.92014 |  0:00:48s\n",
            "epoch 48 | loss: 0.30413 | train_accuracy: 0.94152 | valid_accuracy: 0.92423 |  0:00:49s\n",
            "epoch 49 | loss: 0.3132  | train_accuracy: 0.92251 | valid_accuracy: 0.91672 |  0:00:50s\n",
            "epoch 50 | loss: 0.29638 | train_accuracy: 0.94152 | valid_accuracy: 0.93515 |  0:00:52s\n",
            "epoch 51 | loss: 0.28817 | train_accuracy: 0.93567 | valid_accuracy: 0.92833 |  0:00:53s\n",
            "epoch 52 | loss: 0.29585 | train_accuracy: 0.9269  | valid_accuracy: 0.9256  |  0:00:54s\n",
            "epoch 53 | loss: 0.29526 | train_accuracy: 0.92982 | valid_accuracy: 0.92491 |  0:00:54s\n",
            "epoch 54 | loss: 0.29007 | train_accuracy: 0.94298 | valid_accuracy: 0.92628 |  0:00:55s\n",
            "epoch 55 | loss: 0.26907 | train_accuracy: 0.9269  | valid_accuracy: 0.93106 |  0:00:56s\n",
            "epoch 56 | loss: 0.27616 | train_accuracy: 0.94006 | valid_accuracy: 0.92901 |  0:00:57s\n",
            "epoch 57 | loss: 0.28899 | train_accuracy: 0.93421 | valid_accuracy: 0.92628 |  0:00:58s\n",
            "epoch 58 | loss: 0.27943 | train_accuracy: 0.94006 | valid_accuracy: 0.9256  |  0:00:58s\n",
            "epoch 59 | loss: 0.28135 | train_accuracy: 0.94883 | valid_accuracy: 0.93857 |  0:00:59s\n",
            "epoch 60 | loss: 0.28588 | train_accuracy: 0.94152 | valid_accuracy: 0.93242 |  0:01:00s\n",
            "epoch 61 | loss: 0.29081 | train_accuracy: 0.94298 | valid_accuracy: 0.9372  |  0:01:01s\n",
            "epoch 62 | loss: 0.26631 | train_accuracy: 0.94591 | valid_accuracy: 0.93652 |  0:01:01s\n",
            "epoch 63 | loss: 0.27172 | train_accuracy: 0.94737 | valid_accuracy: 0.93311 |  0:01:02s\n",
            "epoch 64 | loss: 0.2641  | train_accuracy: 0.94298 | valid_accuracy: 0.93652 |  0:01:03s\n",
            "epoch 65 | loss: 0.26628 | train_accuracy: 0.95322 | valid_accuracy: 0.94061 |  0:01:04s\n",
            "epoch 66 | loss: 0.27374 | train_accuracy: 0.94444 | valid_accuracy: 0.93584 |  0:01:06s\n",
            "epoch 67 | loss: 0.25741 | train_accuracy: 0.94737 | valid_accuracy: 0.93788 |  0:01:07s\n",
            "epoch 68 | loss: 0.26347 | train_accuracy: 0.94006 | valid_accuracy: 0.93584 |  0:01:07s\n",
            "epoch 69 | loss: 0.25778 | train_accuracy: 0.94444 | valid_accuracy: 0.93242 |  0:01:08s\n",
            "epoch 70 | loss: 0.251   | train_accuracy: 0.95614 | valid_accuracy: 0.94266 |  0:01:09s\n",
            "epoch 71 | loss: 0.26058 | train_accuracy: 0.93713 | valid_accuracy: 0.9372  |  0:01:10s\n",
            "epoch 72 | loss: 0.25704 | train_accuracy: 0.94591 | valid_accuracy: 0.94061 |  0:01:11s\n",
            "epoch 73 | loss: 0.2444  | train_accuracy: 0.95029 | valid_accuracy: 0.9413  |  0:01:11s\n",
            "epoch 74 | loss: 0.24646 | train_accuracy: 0.95029 | valid_accuracy: 0.93788 |  0:01:12s\n",
            "epoch 75 | loss: 0.24184 | train_accuracy: 0.94883 | valid_accuracy: 0.93925 |  0:01:13s\n",
            "epoch 76 | loss: 0.261   | train_accuracy: 0.95468 | valid_accuracy: 0.94266 |  0:01:14s\n",
            "epoch 77 | loss: 0.25221 | train_accuracy: 0.95175 | valid_accuracy: 0.93788 |  0:01:14s\n",
            "epoch 78 | loss: 0.25097 | train_accuracy: 0.94883 | valid_accuracy: 0.94198 |  0:01:15s\n",
            "epoch 79 | loss: 0.25149 | train_accuracy: 0.94444 | valid_accuracy: 0.93515 |  0:01:16s\n",
            "epoch 80 | loss: 0.2566  | train_accuracy: 0.95322 | valid_accuracy: 0.9413  |  0:01:17s\n",
            "epoch 81 | loss: 0.24721 | train_accuracy: 0.94298 | valid_accuracy: 0.93652 |  0:01:18s\n",
            "epoch 82 | loss: 0.25558 | train_accuracy: 0.95175 | valid_accuracy: 0.94266 |  0:01:19s\n",
            "epoch 83 | loss: 0.24609 | train_accuracy: 0.95322 | valid_accuracy: 0.9413  |  0:01:20s\n",
            "epoch 84 | loss: 0.24549 | train_accuracy: 0.9386  | valid_accuracy: 0.94198 |  0:01:21s\n",
            "epoch 85 | loss: 0.25412 | train_accuracy: 0.94444 | valid_accuracy: 0.93993 |  0:01:22s\n",
            "epoch 86 | loss: 0.23378 | train_accuracy: 0.95322 | valid_accuracy: 0.94471 |  0:01:23s\n",
            "epoch 87 | loss: 0.24206 | train_accuracy: 0.95029 | valid_accuracy: 0.93993 |  0:01:23s\n",
            "epoch 88 | loss: 0.23429 | train_accuracy: 0.95175 | valid_accuracy: 0.94198 |  0:01:24s\n",
            "epoch 89 | loss: 0.2427  | train_accuracy: 0.95322 | valid_accuracy: 0.94471 |  0:01:25s\n",
            "epoch 90 | loss: 0.22788 | train_accuracy: 0.95906 | valid_accuracy: 0.94608 |  0:01:26s\n",
            "epoch 91 | loss: 0.21927 | train_accuracy: 0.96345 | valid_accuracy: 0.94403 |  0:01:27s\n",
            "epoch 92 | loss: 0.23274 | train_accuracy: 0.95468 | valid_accuracy: 0.94608 |  0:01:27s\n",
            "epoch 93 | loss: 0.229   | train_accuracy: 0.94444 | valid_accuracy: 0.94198 |  0:01:28s\n",
            "epoch 94 | loss: 0.2239  | train_accuracy: 0.95175 | valid_accuracy: 0.94266 |  0:01:29s\n",
            "epoch 95 | loss: 0.21963 | train_accuracy: 0.9576  | valid_accuracy: 0.94266 |  0:01:30s\n",
            "epoch 96 | loss: 0.22667 | train_accuracy: 0.9576  | valid_accuracy: 0.94471 |  0:01:31s\n",
            "epoch 97 | loss: 0.23831 | train_accuracy: 0.95468 | valid_accuracy: 0.94608 |  0:01:32s\n",
            "epoch 98 | loss: 0.21031 | train_accuracy: 0.94883 | valid_accuracy: 0.94471 |  0:01:33s\n",
            "epoch 99 | loss: 0.21158 | train_accuracy: 0.96199 | valid_accuracy: 0.95563 |  0:01:34s\n",
            "Stop training because you reached max_epochs = 100 with best_epoch = 99 and best_valid_accuracy = 0.95563\n"
          ]
        }
      ]
    },
    {
      "cell_type": "code",
      "source": [
        "# -------------------\n",
        "# Part 4: Predict and Evaluate on the Test Set\n",
        "# -------------------\n",
        "\n",
        "# Predict on the test set\n",
        "y_pred_perm_reg = perm_reg_tabnet.predict(X_test_scaled.values)\n",
        "\n",
        "# Generate the Classification Report\n",
        "print(\"\\nPermutation Regularized TabNet Classification Report:\")\n",
        "print(classification_report(y_test, y_pred_perm_reg, target_names=['Normal', 'Suspect', 'Pathological']))\n",
        "\n",
        "# Generate the Confusion Matrix\n",
        "conf_matrix = confusion_matrix(y_test, y_pred_perm_reg)\n",
        "\n",
        "# Visualize the Confusion Matrix\n",
        "plt.figure(figsize=(8, 6))\n",
        "sns.heatmap(conf_matrix, annot=True, fmt='d', cmap='Blues',\n",
        "            xticklabels=['Normal', 'Suspect', 'Pathological'],\n",
        "            yticklabels=['Normal', 'Suspect', 'Pathological'])\n",
        "plt.title('Confusion Matrix for Permutation Regularized TabNet')\n",
        "plt.xlabel('Predicted Label')\n",
        "plt.ylabel('True Label')\n",
        "plt.show()\n"
      ],
      "metadata": {
        "colab": {
          "base_uri": "https://localhost:8080/",
          "height": 778
        },
        "id": "PQmQ5NLzGCLm",
        "outputId": "7f1a57f5-536d-47b4-88aa-8e21c0b53e3d"
      },
      "execution_count": 14,
      "outputs": [
        {
          "output_type": "stream",
          "name": "stdout",
          "text": [
            "\n",
            "Permutation Regularized TabNet Classification Report:\n",
            "              precision    recall  f1-score   support\n",
            "\n",
            "      Normal       0.98      0.91      0.95       493\n",
            "     Suspect       0.91      0.96      0.94       477\n",
            "Pathological       0.98      0.99      0.98       495\n",
            "\n",
            "    accuracy                           0.96      1465\n",
            "   macro avg       0.96      0.96      0.96      1465\n",
            "weighted avg       0.96      0.96      0.96      1465\n",
            "\n"
          ]
        },
        {
          "output_type": "display_data",
          "data": {
            "text/plain": [
              "<Figure size 800x600 with 2 Axes>"
            ],
            "image/png": "[encoded data removed]"
          },
          "metadata": {}
        }
      ]
    },
    {
      "cell_type": "code",
      "source": [
        "# -------------------\n",
        "# Part 5: Compute Permutation Feature Importance\n",
        "# -------------------\n",
        "\n",
        "def permutation_feature_importance(model, X, y, metric=accuracy_score, n_repeats=5):\n",
        "    \"\"\"\n",
        "    Compute permutation feature importance for a trained model.\n",
        "\n",
        "    Parameters:\n",
        "    - model (TabNetClassifier): Trained TabNet model.\n",
        "    - X (pandas.DataFrame): Feature matrix.\n",
        "    - y (numpy.ndarray or pandas.Series): True labels.\n",
        "    - metric (function): Performance metric to evaluate (default: accuracy_score).\n",
        "    - n_repeats (int): Number of times to permute a feature.\n",
        "\n",
        "    Returns:\n",
        "    - feature_importances (dict): Mapping of feature names to importance scores.\n",
        "    \"\"\"\n",
        "    feature_importances = {}\n",
        "    baseline = metric(y, model.predict(X.values))\n",
        "\n",
        "    for col in X.columns:\n",
        "        scores = []\n",
        "        for _ in range(n_repeats):\n",
        "            X_permuted = X.copy()\n",
        "            X_permuted[col] = np.random.permutation(X_permuted[col].values)\n",
        "            y_pred = model.predict(X_permuted.values)\n",
        "            score = metric(y, y_pred)\n",
        "            scores.append(score)\n",
        "        # Importance is the drop in performance\n",
        "        importance = baseline - np.mean(scores)\n",
        "        feature_importances[col] = importance\n",
        "\n",
        "    return feature_importances\n",
        "\n",
        "# Compute permutation feature importance\n",
        "feature_importances = permutation_feature_importance(\n",
        "    model=perm_reg_tabnet,\n",
        "    X=X_test_scaled,\n",
        "    y=y_test,\n",
        "    metric=accuracy_score,\n",
        "    n_repeats=5\n",
        ")\n",
        "\n",
        "# Convert to DataFrame for visualization\n",
        "importance_df = pd.DataFrame({\n",
        "    'Feature': list(feature_importances.keys()),\n",
        "    'Importance': list(feature_importances.values())\n",
        "}).sort_values(by='Importance', ascending=False)\n",
        "\n",
        "# Display feature importances\n",
        "print(\"\\nPermutation Feature Importance:\")\n",
        "display(importance_df)\n",
        "\n",
        "# Plotting Feature Importances\n",
        "plt.figure(figsize=(10, 8))\n",
        "sns.barplot(x='Importance', y='Feature', data=importance_df, palette='viridis')\n",
        "plt.title('Permutation Feature Importance (External)')\n",
        "plt.xlabel('Decrease in Accuracy')\n",
        "plt.ylabel('Feature')\n",
        "plt.tight_layout()\n",
        "plt.show()\n"
      ],
      "metadata": {
        "colab": {
          "base_uri": "https://localhost:8080/",
          "height": 1000
        },
        "id": "kUzKApeOGCN0",
        "outputId": "2cdb2d75-6f23-4e01-e537-489cbd47eeb1"
      },
      "execution_count": 17,
      "outputs": [
        {
          "output_type": "stream",
          "name": "stdout",
          "text": [
            "\n",
            "Permutation Feature Importance:\n"
          ]
        },
        {
          "output_type": "display_data",
          "data": {
            "text/plain": [
              "                                             Feature  Importance\n",
              "5  percentage_of_time_with_abnormal_long_term_var...    0.238635\n",
              "3                    abnormal_short_term_variability    0.216519\n",
              "7                                     histogram_mean    0.193174\n",
              "0                                      accelerations    0.119044\n",
              "1                               uterine_contractions    0.117816\n",
              "6                                     histogram_mode    0.111672\n",
              "8                                   histogram_median    0.109625\n",
              "2                           prolongued_decelerations    0.107986\n",
              "4               mean_value_of_short_term_variability    0.082867\n",
              "9                                 histogram_variance    0.078225"
            ],
            "text/html": [
              "\n",
              "  <div id=\"df-963e595f-9541-446d-b8b7-d401ee3f8650\" class=\"colab-df-container\">\n",
              "    <div>\n",
              "<style scoped>\n",
              "    .dataframe tbody tr th:only-of-type {\n",
              "        vertical-align: middle;\n",
              "    }\n",
              "\n",
              "    .dataframe tbody tr th {\n",
              "        vertical-align: top;\n",
              "    }\n",
              "\n",
              "    .dataframe thead th {\n",
              "        text-align: right;\n",
              "    }\n",
              "</style>\n",
              "<table border=\"1\" class=\"dataframe\">\n",
              "  <thead>\n",
              "    <tr style=\"text-align: right;\">\n",
              "      <th></th>\n",
              "      <th>Feature</th>\n",
              "      <th>Importance</th>\n",
              "    </tr>\n",
              "  </thead>\n",
              "  <tbody>\n",
              "    <tr>\n",
              "      <th>5</th>\n",
              "      <td>percentage_of_time_with_abnormal_long_term_var...</td>\n",
              "      <td>0.238635</td>\n",
              "    </tr>\n",
              "    <tr>\n",
              "      <th>3</th>\n",
              "      <td>abnormal_short_term_variability</td>\n",
              "      <td>0.216519</td>\n",
              "    </tr>\n",
              "    <tr>\n",
              "      <th>7</th>\n",
              "      <td>histogram_mean</td>\n",
              "      <td>0.193174</td>\n",
              "    </tr>\n",
              "    <tr>\n",
              "      <th>0</th>\n",
              "      <td>accelerations</td>\n",
              "      <td>0.119044</td>\n",
              "    </tr>\n",
              "    <tr>\n",
              "      <th>1</th>\n",
              "      <td>uterine_contractions</td>\n",
              "      <td>0.117816</td>\n",
              "    </tr>\n",
              "    <tr>\n",
              "      <th>6</th>\n",
              "      <td>histogram_mode</td>\n",
              "      <td>0.111672</td>\n",
              "    </tr>\n",
              "    <tr>\n",
              "      <th>8</th>\n",
              "      <td>histogram_median</td>\n",
              "      <td>0.109625</td>\n",
              "    </tr>\n",
              "    <tr>\n",
              "      <th>2</th>\n",
              "      <td>prolongued_decelerations</td>\n",
              "      <td>0.107986</td>\n",
              "    </tr>\n",
              "    <tr>\n",
              "      <th>4</th>\n",
              "      <td>mean_value_of_short_term_variability</td>\n",
              "      <td>0.082867</td>\n",
              "    </tr>\n",
              "    <tr>\n",
              "      <th>9</th>\n",
              "      <td>histogram_variance</td>\n",
              "      <td>0.078225</td>\n",
              "    </tr>\n",
              "  </tbody>\n",
              "</table>\n",
              "</div>\n",
              "    <div class=\"colab-df-buttons\">\n",
              "\n",
              "  <div class=\"colab-df-container\">\n",
              "    <button class=\"colab-df-convert\" onclick=\"convertToInteractive('df-963e595f-9541-446d-b8b7-d401ee3f8650')\"\n",
              "            title=\"Convert this dataframe to an interactive table.\"\n",
              "            style=\"display:none;\">\n",
              "\n",
              "  <svg xmlns=\"http://www.w3.org/2000/svg\" height=\"24px\" viewBox=\"0 -960 960 960\">\n",
              "    <path d=\"M120-120v-720h720v720H120Zm60-500h600v-160H180v160Zm220 220h160v-160H400v160Zm0 220h160v-160H400v160ZM180-400h160v-160H180v160Zm440 0h160v-160H620v160ZM180-180h160v-160H180v160Zm440 0h160v-160H620v160Z\"/>\n",
              "  </svg>\n",
              "    </button>\n",
              "\n",
              "  <style>\n",
              "    .colab-df-container {\n",
              "      display:flex;\n",
              "      gap: 12px;\n",
              "    }\n",
              "\n",
              "    .colab-df-convert {\n",
              "      background-color: #E8F0FE;\n",
              "      border: none;\n",
              "      border-radius: 50%;\n",
              "      cursor: pointer;\n",
              "      display: none;\n",
              "      fill: #1967D2;\n",
              "      height: 32px;\n",
              "      padding: 0 0 0 0;\n",
              "      width: 32px;\n",
              "    }\n",
              "\n",
              "    .colab-df-convert:hover {\n",
              "      background-color: #E2EBFA;\n",
              "      box-shadow: 0px 1px 2px rgba(60, 64, 67, 0.3), 0px 1px 3px 1px rgba(60, 64, 67, 0.15);\n",
              "      fill: #174EA6;\n",
              "    }\n",
              "\n",
              "    .colab-df-buttons div {\n",
              "      margin-bottom: 4px;\n",
              "    }\n",
              "\n",
              "    [theme=dark] .colab-df-convert {\n",
              "      background-color: #3B4455;\n",
              "      fill: #D2E3FC;\n",
              "    }\n",
              "\n",
              "    [theme=dark] .colab-df-convert:hover {\n",
              "      background-color: #434B5C;\n",
              "      box-shadow: 0px 1px 3px 1px rgba(0, 0, 0, 0.15);\n",
              "      filter: drop-shadow(0px 1px 2px rgba(0, 0, 0, 0.3));\n",
              "      fill: #FFFFFF;\n",
              "    }\n",
              "  </style>\n",
              "\n",
              "    <script>\n",
              "      const buttonEl =\n",
              "        document.querySelector('#df-963e595f-9541-446d-b8b7-d401ee3f8650 button.colab-df-convert');\n",
              "      buttonEl.style.display =\n",
              "        google.colab.kernel.accessAllowed ? 'block' : 'none';\n",
              "\n",
              "      async function convertToInteractive(key) {\n",
              "        const element = document.querySelector('#df-963e595f-9541-446d-b8b7-d401ee3f8650');\n",
              "        const dataTable =\n",
              "          await google.colab.kernel.invokeFunction('convertToInteractive',\n",
              "                                                    [key], {});\n",
              "        if (!dataTable) return;\n",
              "\n",
              "        const docLinkHtml = 'Like what you see? Visit the ' +\n",
              "          '<a target=\"_blank\" href=https://colab.research.google.com/notebooks/data_table.ipynb>data table notebook</a>'\n",
              "          + ' to learn more about interactive tables.';\n",
              "        element.innerHTML = '';\n",
              "        dataTable['output_type'] = 'display_data';\n",
              "        await google.colab.output.renderOutput(dataTable, element);\n",
              "        const docLink = document.createElement('div');\n",
              "        docLink.innerHTML = docLinkHtml;\n",
              "        element.appendChild(docLink);\n",
              "      }\n",
              "    </script>\n",
              "  </div>\n",
              "\n",
              "\n",
              "<div id=\"df-3c993357-8da0-455a-b85c-c90dd56d78a0\">\n",
              "  <button class=\"colab-df-quickchart\" onclick=\"quickchart('df-3c993357-8da0-455a-b85c-c90dd56d78a0')\"\n",
              "            title=\"Suggest charts\"\n",
              "            style=\"display:none;\">\n",
              "\n",
              "<svg xmlns=\"http://www.w3.org/2000/svg\" height=\"24px\"viewBox=\"0 0 24 24\"\n",
              "     width=\"24px\">\n",
              "    <g>\n",
              "        <path d=\"M19 3H5c-1.1 0-2 .9-2 2v14c0 1.1.9 2 2 2h14c1.1 0 2-.9 2-2V5c0-1.1-.9-2-2-2zM9 17H7v-7h2v7zm4 0h-2V7h2v10zm4 0h-2v-4h2v4z\"/>\n",
              "    </g>\n",
              "</svg>\n",
              "  </button>\n",
              "\n",
              "<style>\n",
              "  .colab-df-quickchart {\n",
              "      --bg-color: #E8F0FE;\n",
              "      --fill-color: #1967D2;\n",
              "      --hover-bg-color: #E2EBFA;\n",
              "      --hover-fill-color: #174EA6;\n",
              "      --disabled-fill-color: #AAA;\n",
              "      --disabled-bg-color: #DDD;\n",
              "  }\n",
              "\n",
              "  [theme=dark] .colab-df-quickchart {\n",
              "      --bg-color: #3B4455;\n",
              "      --fill-color: #D2E3FC;\n",
              "      --hover-bg-color: #434B5C;\n",
              "      --hover-fill-color: #FFFFFF;\n",
              "      --disabled-bg-color: #3B4455;\n",
              "      --disabled-fill-color: #666;\n",
              "  }\n",
              "\n",
              "  .colab-df-quickchart {\n",
              "    background-color: var(--bg-color);\n",
              "    border: none;\n",
              "    border-radius: 50%;\n",
              "    cursor: pointer;\n",
              "    display: none;\n",
              "    fill: var(--fill-color);\n",
              "    height: 32px;\n",
              "    padding: 0;\n",
              "    width: 32px;\n",
              "  }\n",
              "\n",
              "  .colab-df-quickchart:hover {\n",
              "    background-color: var(--hover-bg-color);\n",
              "    box-shadow: 0 1px 2px rgba(60, 64, 67, 0.3), 0 1px 3px 1px rgba(60, 64, 67, 0.15);\n",
              "    fill: var(--button-hover-fill-color);\n",
              "  }\n",
              "\n",
              "  .colab-df-quickchart-complete:disabled,\n",
              "  .colab-df-quickchart-complete:disabled:hover {\n",
              "    background-color: var(--disabled-bg-color);\n",
              "    fill: var(--disabled-fill-color);\n",
              "    box-shadow: none;\n",
              "  }\n",
              "\n",
              "  .colab-df-spinner {\n",
              "    border: 2px solid var(--fill-color);\n",
              "    border-color: transparent;\n",
              "    border-bottom-color: var(--fill-color);\n",
              "    animation:\n",
              "      spin 1s steps(1) infinite;\n",
              "  }\n",
              "\n",
              "  @keyframes spin {\n",
              "    0% {\n",
              "      border-color: transparent;\n",
              "      border-bottom-color: var(--fill-color);\n",
              "      border-left-color: var(--fill-color);\n",
              "    }\n",
              "    20% {\n",
              "      border-color: transparent;\n",
              "      border-left-color: var(--fill-color);\n",
              "      border-top-color: var(--fill-color);\n",
              "    }\n",
              "    30% {\n",
              "      border-color: transparent;\n",
              "      border-left-color: var(--fill-color);\n",
              "      border-top-color: var(--fill-color);\n",
              "      border-right-color: var(--fill-color);\n",
              "    }\n",
              "    40% {\n",
              "      border-color: transparent;\n",
              "      border-right-color: var(--fill-color);\n",
              "      border-top-color: var(--fill-color);\n",
              "    }\n",
              "    60% {\n",
              "      border-color: transparent;\n",
              "      border-right-color: var(--fill-color);\n",
              "    }\n",
              "    80% {\n",
              "      border-color: transparent;\n",
              "      border-right-color: var(--fill-color);\n",
              "      border-bottom-color: var(--fill-color);\n",
              "    }\n",
              "    90% {\n",
              "      border-color: transparent;\n",
              "      border-bottom-color: var(--fill-color);\n",
              "    }\n",
              "  }\n",
              "</style>\n",
              "\n",
              "  <script>\n",
              "    async function quickchart(key) {\n",
              "      const quickchartButtonEl =\n",
              "        document.querySelector('#' + key + ' button');\n",
              "      quickchartButtonEl.disabled = true;  // To prevent multiple clicks.\n",
              "      quickchartButtonEl.classList.add('colab-df-spinner');\n",
              "      try {\n",
              "        const charts = await google.colab.kernel.invokeFunction(\n",
              "            'suggestCharts', [key], {});\n",
              "      } catch (error) {\n",
              "        console.error('Error during call to suggestCharts:', error);\n",
              "      }\n",
              "      quickchartButtonEl.classList.remove('colab-df-spinner');\n",
              "      quickchartButtonEl.classList.add('colab-df-quickchart-complete');\n",
              "    }\n",
              "    (() => {\n",
              "      let quickchartButtonEl =\n",
              "        document.querySelector('#df-3c993357-8da0-455a-b85c-c90dd56d78a0 button');\n",
              "      quickchartButtonEl.style.display =\n",
              "        google.colab.kernel.accessAllowed ? 'block' : 'none';\n",
              "    })();\n",
              "  </script>\n",
              "</div>\n",
              "\n",
              "  <div id=\"id_3648fce0-9bd3-4ee6-8837-6dc25b249fed\">\n",
              "    <style>\n",
              "      .colab-df-generate {\n",
              "        background-color: #E8F0FE;\n",
              "        border: none;\n",
              "        border-radius: 50%;\n",
              "        cursor: pointer;\n",
              "        display: none;\n",
              "        fill: #1967D2;\n",
              "        height: 32px;\n",
              "        padding: 0 0 0 0;\n",
              "        width: 32px;\n",
              "      }\n",
              "\n",
              "      .colab-df-generate:hover {\n",
              "        background-color: #E2EBFA;\n",
              "        box-shadow: 0px 1px 2px rgba(60, 64, 67, 0.3), 0px 1px 3px 1px rgba(60, 64, 67, 0.15);\n",
              "        fill: #174EA6;\n",
              "      }\n",
              "\n",
              "      [theme=dark] .colab-df-generate {\n",
              "        background-color: #3B4455;\n",
              "        fill: #D2E3FC;\n",
              "      }\n",
              "\n",
              "      [theme=dark] .colab-df-generate:hover {\n",
              "        background-color: #434B5C;\n",
              "        box-shadow: 0px 1px 3px 1px rgba(0, 0, 0, 0.15);\n",
              "        filter: drop-shadow(0px 1px 2px rgba(0, 0, 0, 0.3));\n",
              "        fill: #FFFFFF;\n",
              "      }\n",
              "    </style>\n",
              "    <button class=\"colab-df-generate\" onclick=\"generateWithVariable('importance_df')\"\n",
              "            title=\"Generate code using this dataframe.\"\n",
              "            style=\"display:none;\">\n",
              "\n",
              "  <svg xmlns=\"http://www.w3.org/2000/svg\" height=\"24px\"viewBox=\"0 0 24 24\"\n",
              "       width=\"24px\">\n",
              "    <path d=\"M7,19H8.4L18.45,9,17,7.55,7,17.6ZM5,21V16.75L18.45,3.32a2,2,0,0,1,2.83,0l1.4,1.43a1.91,1.91,0,0,1,.58,1.4,1.91,1.91,0,0,1-.58,1.4L9.25,21ZM18.45,9,17,7.55Zm-12,3A5.31,5.31,0,0,0,4.9,8.1,5.31,5.31,0,0,0,1,6.5,5.31,5.31,0,0,0,4.9,4.9,5.31,5.31,0,0,0,6.5,1,5.31,5.31,0,0,0,8.1,4.9,5.31,5.31,0,0,0,12,6.5,5.46,5.46,0,0,0,6.5,12Z\"/>\n",
              "  </svg>\n",
              "    </button>\n",
              "    <script>\n",
              "      (() => {\n",
              "      const buttonEl =\n",
              "        document.querySelector('#id_3648fce0-9bd3-4ee6-8837-6dc25b249fed button.colab-df-generate');\n",
              "      buttonEl.style.display =\n",
              "        google.colab.kernel.accessAllowed ? 'block' : 'none';\n",
              "\n",
              "      buttonEl.onclick = () => {\n",
              "        google.colab.notebook.generateWithVariable('importance_df');\n",
              "      }\n",
              "      })();\n",
              "    </script>\n",
              "  </div>\n",
              "\n",
              "    </div>\n",
              "  </div>\n"
            ],
            "application/vnd.google.colaboratory.intrinsic+json": {
              "type": "dataframe",
              "variable_name": "importance_df",
              "summary": "{\n  \"name\": \"importance_df\",\n  \"rows\": 10,\n  \"fields\": [\n    {\n      \"column\": \"Feature\",\n      \"properties\": {\n        \"dtype\": \"string\",\n        \"num_unique_values\": 10,\n        \"samples\": [\n          \"mean_value_of_short_term_variability\",\n          \"abnormal_short_term_variability\",\n          \"histogram_mode\"\n        ],\n        \"semantic_type\": \"\",\n        \"description\": \"\"\n      }\n    },\n    {\n      \"column\": \"Importance\",\n      \"properties\": {\n        \"dtype\": \"number\",\n        \"std\": 0.056875401563858785,\n        \"min\": 0.07822525597269614,\n        \"max\": 0.23863481228668948,\n        \"num_unique_values\": 10,\n        \"samples\": [\n          0.08286689419795223,\n          0.216518771331058,\n          0.11167235494880556\n        ],\n        \"semantic_type\": \"\",\n        \"description\": \"\"\n      }\n    }\n  ]\n}"
            }
          },
          "metadata": {}
        },
        {
          "output_type": "display_data",
          "data": {
            "text/plain": [
              "<Figure size 1000x800 with 1 Axes>"
            ],
            "image/png": "[encoded data removed]"
          },
          "metadata": {}
        }
      ]
    },
    {
      "cell_type": "code",
      "source": [],
      "metadata": {
        "id": "Aiuv_JMQGCZj"
      },
      "execution_count": null,
      "outputs": []
    },
    {
      "cell_type": "code",
      "source": [],
      "metadata": {
        "id": "NYmVJPg2GCb3"
      },
      "execution_count": null,
      "outputs": []
    },
    {
      "cell_type": "code",
      "source": [],
      "metadata": {
        "id": "6NsKZ22_GCeW"
      },
      "execution_count": null,
      "outputs": []
    },
    {
      "cell_type": "code",
      "source": [],
      "metadata": {
        "id": "IIRpBWYJGCgr"
      },
      "execution_count": null,
      "outputs": []
    },
    {
      "cell_type": "code",
      "source": [],
      "metadata": {
        "id": "ScPwTLZDGCiy"
      },
      "execution_count": null,
      "outputs": []
    },
    {
      "cell_type": "code",
      "source": [],
      "metadata": {
        "id": "F7vCP4bkGClZ"
      },
      "execution_count": null,
      "outputs": []
    },
    {
      "cell_type": "code",
      "source": [],
      "metadata": {
        "id": "eWnYFsmCGCnt"
      },
      "execution_count": null,
      "outputs": []
    }
  ]
}