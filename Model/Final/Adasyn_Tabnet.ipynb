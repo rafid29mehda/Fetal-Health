{
  "nbformat": 4,
  "nbformat_minor": 0,
  "metadata": {
    "colab": {
      "provenance": []
    },
    "kernelspec": {
      "name": "python3",
      "display_name": "Python 3"
    },
    "language_info": {
      "name": "python"
    }
  },
  "cells": [
    {
      "cell_type": "code",
      "execution_count": 1,
      "metadata": {
        "colab": {
          "base_uri": "https://localhost:8080/"
        },
        "id": "UMh2AlS1uEMN",
        "outputId": "732c6ed5-0f26-4350-f6e1-a2974e676311"
      },
      "outputs": [
        {
          "output_type": "stream",
          "name": "stdout",
          "text": [
            "Collecting pytorch-tabnet\n",
            "  Downloading pytorch_tabnet-4.1.0-py3-none-any.whl.metadata (15 kB)\n",
            "Requirement already satisfied: numpy>=1.17 in /usr/local/lib/python3.10/dist-packages (from pytorch-tabnet) (1.26.4)\n",
            "Requirement already satisfied: scikit_learn>0.21 in /usr/local/lib/python3.10/dist-packages (from pytorch-tabnet) (1.6.0)\n",
            "Requirement already satisfied: scipy>1.4 in /usr/local/lib/python3.10/dist-packages (from pytorch-tabnet) (1.13.1)\n",
            "Requirement already satisfied: torch>=1.3 in /usr/local/lib/python3.10/dist-packages (from pytorch-tabnet) (2.5.1+cu121)\n",
            "Requirement already satisfied: tqdm>=4.36 in /usr/local/lib/python3.10/dist-packages (from pytorch-tabnet) (4.67.1)\n",
            "Requirement already satisfied: joblib>=1.2.0 in /usr/local/lib/python3.10/dist-packages (from scikit_learn>0.21->pytorch-tabnet) (1.4.2)\n",
            "Requirement already satisfied: threadpoolctl>=3.1.0 in /usr/local/lib/python3.10/dist-packages (from scikit_learn>0.21->pytorch-tabnet) (3.5.0)\n",
            "Requirement already satisfied: filelock in /usr/local/lib/python3.10/dist-packages (from torch>=1.3->pytorch-tabnet) (3.16.1)\n",
            "Requirement already satisfied: typing-extensions>=4.8.0 in /usr/local/lib/python3.10/dist-packages (from torch>=1.3->pytorch-tabnet) (4.12.2)\n",
            "Requirement already satisfied: networkx in /usr/local/lib/python3.10/dist-packages (from torch>=1.3->pytorch-tabnet) (3.4.2)\n",
            "Requirement already satisfied: jinja2 in /usr/local/lib/python3.10/dist-packages (from torch>=1.3->pytorch-tabnet) (3.1.5)\n",
            "Requirement already satisfied: fsspec in /usr/local/lib/python3.10/dist-packages (from torch>=1.3->pytorch-tabnet) (2024.10.0)\n",
            "Requirement already satisfied: sympy==1.13.1 in /usr/local/lib/python3.10/dist-packages (from torch>=1.3->pytorch-tabnet) (1.13.1)\n",
            "Requirement already satisfied: mpmath<1.4,>=1.1.0 in /usr/local/lib/python3.10/dist-packages (from sympy==1.13.1->torch>=1.3->pytorch-tabnet) (1.3.0)\n",
            "Requirement already satisfied: MarkupSafe>=2.0 in /usr/local/lib/python3.10/dist-packages (from jinja2->torch>=1.3->pytorch-tabnet) (3.0.2)\n",
            "Downloading pytorch_tabnet-4.1.0-py3-none-any.whl (44 kB)\n",
            "\u001b[2K   \u001b[90m━━━━━━━━━━━━━━━━━━━━━━━━━━━━━━━━━━━━━━━━\u001b[0m \u001b[32m44.5/44.5 kB\u001b[0m \u001b[31m2.8 MB/s\u001b[0m eta \u001b[36m0:00:00\u001b[0m\n",
            "\u001b[?25hInstalling collected packages: pytorch-tabnet\n",
            "Successfully installed pytorch-tabnet-4.1.0\n",
            "Requirement already satisfied: lightgbm in /usr/local/lib/python3.10/dist-packages (4.5.0)\n",
            "Requirement already satisfied: numpy>=1.17.0 in /usr/local/lib/python3.10/dist-packages (from lightgbm) (1.26.4)\n",
            "Requirement already satisfied: scipy in /usr/local/lib/python3.10/dist-packages (from lightgbm) (1.13.1)\n",
            "\u001b[31mERROR: Could not find a version that satisfies the requirement scikit-learn-contrib (from versions: none)\u001b[0m\u001b[31m\n",
            "\u001b[0m\u001b[31mERROR: No matching distribution found for scikit-learn-contrib\u001b[0m\u001b[31m\n",
            "\u001b[0mCollecting dask-expr\n",
            "  Downloading dask_expr-1.1.21-py3-none-any.whl.metadata (2.6 kB)\n",
            "Collecting dask==2024.12.1 (from dask-expr)\n",
            "  Downloading dask-2024.12.1-py3-none-any.whl.metadata (3.7 kB)\n",
            "Requirement already satisfied: pyarrow>=14.0.1 in /usr/local/lib/python3.10/dist-packages (from dask-expr) (17.0.0)\n",
            "Requirement already satisfied: pandas>=2 in /usr/local/lib/python3.10/dist-packages (from dask-expr) (2.2.2)\n",
            "Requirement already satisfied: click>=8.1 in /usr/local/lib/python3.10/dist-packages (from dask==2024.12.1->dask-expr) (8.1.8)\n",
            "Requirement already satisfied: cloudpickle>=3.0.0 in /usr/local/lib/python3.10/dist-packages (from dask==2024.12.1->dask-expr) (3.1.0)\n",
            "Requirement already satisfied: fsspec>=2021.09.0 in /usr/local/lib/python3.10/dist-packages (from dask==2024.12.1->dask-expr) (2024.10.0)\n",
            "Requirement already satisfied: packaging>=20.0 in /usr/local/lib/python3.10/dist-packages (from dask==2024.12.1->dask-expr) (24.2)\n",
            "Requirement already satisfied: partd>=1.4.0 in /usr/local/lib/python3.10/dist-packages (from dask==2024.12.1->dask-expr) (1.4.2)\n",
            "Requirement already satisfied: pyyaml>=5.3.1 in /usr/local/lib/python3.10/dist-packages (from dask==2024.12.1->dask-expr) (6.0.2)\n",
            "Requirement already satisfied: toolz>=0.10.0 in /usr/local/lib/python3.10/dist-packages (from dask==2024.12.1->dask-expr) (0.12.1)\n",
            "Requirement already satisfied: importlib_metadata>=4.13.0 in /usr/local/lib/python3.10/dist-packages (from dask==2024.12.1->dask-expr) (8.5.0)\n",
            "Requirement already satisfied: numpy>=1.22.4 in /usr/local/lib/python3.10/dist-packages (from pandas>=2->dask-expr) (1.26.4)\n",
            "Requirement already satisfied: python-dateutil>=2.8.2 in /usr/local/lib/python3.10/dist-packages (from pandas>=2->dask-expr) (2.8.2)\n",
            "Requirement already satisfied: pytz>=2020.1 in /usr/local/lib/python3.10/dist-packages (from pandas>=2->dask-expr) (2024.2)\n",
            "Requirement already satisfied: tzdata>=2022.7 in /usr/local/lib/python3.10/dist-packages (from pandas>=2->dask-expr) (2024.2)\n",
            "Requirement already satisfied: zipp>=3.20 in /usr/local/lib/python3.10/dist-packages (from importlib_metadata>=4.13.0->dask==2024.12.1->dask-expr) (3.21.0)\n",
            "Requirement already satisfied: locket in /usr/local/lib/python3.10/dist-packages (from partd>=1.4.0->dask==2024.12.1->dask-expr) (1.0.0)\n",
            "Requirement already satisfied: six>=1.5 in /usr/local/lib/python3.10/dist-packages (from python-dateutil>=2.8.2->pandas>=2->dask-expr) (1.17.0)\n",
            "Downloading dask_expr-1.1.21-py3-none-any.whl (244 kB)\n",
            "\u001b[2K   \u001b[90m━━━━━━━━━━━━━━━━━━━━━━━━━━━━━━━━━━━━━━━━\u001b[0m \u001b[32m244.3/244.3 kB\u001b[0m \u001b[31m5.0 MB/s\u001b[0m eta \u001b[36m0:00:00\u001b[0m\n",
            "\u001b[?25hDownloading dask-2024.12.1-py3-none-any.whl (1.3 MB)\n",
            "\u001b[2K   \u001b[90m━━━━━━━━━━━━━━━━━━━━━━━━━━━━━━━━━━━━━━━━\u001b[0m \u001b[32m1.3/1.3 MB\u001b[0m \u001b[31m41.2 MB/s\u001b[0m eta \u001b[36m0:00:00\u001b[0m\n",
            "\u001b[?25hInstalling collected packages: dask, dask-expr\n",
            "  Attempting uninstall: dask\n",
            "    Found existing installation: dask 2024.10.0\n",
            "    Uninstalling dask-2024.10.0:\n",
            "      Successfully uninstalled dask-2024.10.0\n",
            "Successfully installed dask-2024.12.1 dask-expr-1.1.21\n",
            "Requirement already satisfied: imbalanced-learn in /usr/local/lib/python3.10/dist-packages (0.13.0)\n",
            "Requirement already satisfied: numpy<3,>=1.24.3 in /usr/local/lib/python3.10/dist-packages (from imbalanced-learn) (1.26.4)\n",
            "Requirement already satisfied: scipy<2,>=1.10.1 in /usr/local/lib/python3.10/dist-packages (from imbalanced-learn) (1.13.1)\n",
            "Requirement already satisfied: scikit-learn<2,>=1.3.2 in /usr/local/lib/python3.10/dist-packages (from imbalanced-learn) (1.6.0)\n",
            "Requirement already satisfied: sklearn-compat<1,>=0.1 in /usr/local/lib/python3.10/dist-packages (from imbalanced-learn) (0.1.3)\n",
            "Requirement already satisfied: joblib<2,>=1.1.1 in /usr/local/lib/python3.10/dist-packages (from imbalanced-learn) (1.4.2)\n",
            "Requirement already satisfied: threadpoolctl<4,>=2.0.0 in /usr/local/lib/python3.10/dist-packages (from imbalanced-learn) (3.5.0)\n"
          ]
        }
      ],
      "source": [
        "# Install pytorch-tabnet\n",
        "!pip install pytorch-tabnet\n",
        "\n",
        "# Install LightGBM\n",
        "!pip install lightgbm\n",
        "\n",
        "# Optional: Install scikit-learn-contrib for any additional functionalities\n",
        "!pip install scikit-learn-contrib\n",
        "\n",
        "# Install dask-expr\n",
        "!pip install dask-expr\n",
        "\n",
        "# Install imbalanced-learn for SMOTE (if not already installed)\n",
        "!pip install imbalanced-learn\n"
      ]
    },
    {
      "cell_type": "code",
      "source": [
        "# Data manipulation and analysis\n",
        "import pandas as pd\n",
        "import numpy as np\n",
        "\n",
        "# Visualization\n",
        "import matplotlib.pyplot as plt\n",
        "import seaborn as sns\n",
        "\n",
        "# Preprocessing and modeling\n",
        "from sklearn.model_selection import train_test_split, StratifiedKFold\n",
        "from sklearn.preprocessing import StandardScaler\n",
        "from sklearn.ensemble import RandomForestClassifier\n",
        "from sklearn.metrics import classification_report, confusion_matrix, accuracy_score\n",
        "from sklearn.linear_model import LogisticRegression\n",
        "\n",
        "# Handling imbalanced data\n",
        "from imblearn.over_sampling import SMOTE\n",
        "\n",
        "# Traditional ML\n",
        "import lightgbm as lgb\n",
        "\n",
        "# Deep Learning Model\n",
        "from pytorch_tabnet.tab_model import TabNetClassifier\n",
        "\n",
        "# Explainable AI\n",
        "import shap\n",
        "\n",
        "# Meta-Learner\n",
        "from sklearn.linear_model import LogisticRegression\n",
        "\n",
        "# Suppress warnings for cleaner output\n",
        "import warnings\n",
        "warnings.filterwarnings('ignore')\n",
        "\n",
        "# For model saving and loading\n",
        "import joblib\n",
        "\n",
        "# Import torch for TabNet\n",
        "import torch"
      ],
      "metadata": {
        "id": "xQnwKIieuGrn"
      },
      "execution_count": 1,
      "outputs": []
    },
    {
      "cell_type": "code",
      "source": [
        "# Replace 'fetal_health.csv' with your actual file path if different\n",
        "data = pd.read_csv('/content/fetal_health.csv')\n",
        "\n",
        "# Display the first five rows to verify\n",
        "print(\"First five rows of the dataset:\")\n",
        "print(data.head())\n",
        "\n",
        "# Check the shape of the dataset\n",
        "print(f\"Dataset Shape: {data.shape}\")\n"
      ],
      "metadata": {
        "colab": {
          "base_uri": "https://localhost:8080/"
        },
        "id": "v8JZojNSuRIm",
        "outputId": "be306ac1-62a8-46e5-93e8-50d147fa1e99"
      },
      "execution_count": 2,
      "outputs": [
        {
          "output_type": "stream",
          "name": "stdout",
          "text": [
            "First five rows of the dataset:\n",
            "   baseline value  accelerations  fetal_movement  uterine_contractions  \\\n",
            "0           120.0          0.000             0.0                 0.000   \n",
            "1           132.0          0.006             0.0                 0.006   \n",
            "2           133.0          0.003             0.0                 0.008   \n",
            "3           134.0          0.003             0.0                 0.008   \n",
            "4           132.0          0.007             0.0                 0.008   \n",
            "\n",
            "   light_decelerations  severe_decelerations  prolongued_decelerations  \\\n",
            "0                0.000                   0.0                       0.0   \n",
            "1                0.003                   0.0                       0.0   \n",
            "2                0.003                   0.0                       0.0   \n",
            "3                0.003                   0.0                       0.0   \n",
            "4                0.000                   0.0                       0.0   \n",
            "\n",
            "   abnormal_short_term_variability  mean_value_of_short_term_variability  \\\n",
            "0                             73.0                                   0.5   \n",
            "1                             17.0                                   2.1   \n",
            "2                             16.0                                   2.1   \n",
            "3                             16.0                                   2.4   \n",
            "4                             16.0                                   2.4   \n",
            "\n",
            "   percentage_of_time_with_abnormal_long_term_variability  ...  histogram_min  \\\n",
            "0                                               43.0       ...           62.0   \n",
            "1                                                0.0       ...           68.0   \n",
            "2                                                0.0       ...           68.0   \n",
            "3                                                0.0       ...           53.0   \n",
            "4                                                0.0       ...           53.0   \n",
            "\n",
            "   histogram_max  histogram_number_of_peaks  histogram_number_of_zeroes  \\\n",
            "0          126.0                        2.0                         0.0   \n",
            "1          198.0                        6.0                         1.0   \n",
            "2          198.0                        5.0                         1.0   \n",
            "3          170.0                       11.0                         0.0   \n",
            "4          170.0                        9.0                         0.0   \n",
            "\n",
            "   histogram_mode  histogram_mean  histogram_median  histogram_variance  \\\n",
            "0           120.0           137.0             121.0                73.0   \n",
            "1           141.0           136.0             140.0                12.0   \n",
            "2           141.0           135.0             138.0                13.0   \n",
            "3           137.0           134.0             137.0                13.0   \n",
            "4           137.0           136.0             138.0                11.0   \n",
            "\n",
            "   histogram_tendency  fetal_health  \n",
            "0                 1.0           2.0  \n",
            "1                 0.0           1.0  \n",
            "2                 0.0           1.0  \n",
            "3                 1.0           1.0  \n",
            "4                 1.0           1.0  \n",
            "\n",
            "[5 rows x 22 columns]\n",
            "Dataset Shape: (2126, 22)\n"
          ]
        }
      ]
    },
    {
      "cell_type": "code",
      "source": [
        "# Features to drop based on SHAP importance\n",
        "features_to_drop = [\n",
        "    'fetal_movement',\n",
        "    'histogram_width',\n",
        "    'histogram_max',\n",
        "    'mean_value_of_long_term_variability',\n",
        "    'histogram_number_of_peaks',\n",
        "    'light_decelerations',\n",
        "    'histogram_tendency',\n",
        "    'histogram_number_of_zeroes',\n",
        "    'severe_decelerations',\n",
        "    # Optional: Uncomment the following lines to drop additional low-importance features\n",
        "    'baseline value',\n",
        "    'histogram_min'\n",
        "]\n",
        "\n",
        "# Drop the specified features\n",
        "data_dropped = data.drop(columns=features_to_drop)\n",
        "\n",
        "# Verify the remaining features\n",
        "print(\"\\nFeatures after dropping less important ones:\")\n",
        "print(data_dropped.columns.tolist())\n",
        "\n",
        "# Check the new shape of the dataset\n",
        "print(f\"\\nNew Dataset Shape after dropping features: {data_dropped.shape}\")\n"
      ],
      "metadata": {
        "colab": {
          "base_uri": "https://localhost:8080/"
        },
        "id": "FEchH4PcuRK9",
        "outputId": "965592eb-3d1f-4995-cb51-af29b4144d91"
      },
      "execution_count": 3,
      "outputs": [
        {
          "output_type": "stream",
          "name": "stdout",
          "text": [
            "\n",
            "Features after dropping less important ones:\n",
            "['accelerations', 'uterine_contractions', 'prolongued_decelerations', 'abnormal_short_term_variability', 'mean_value_of_short_term_variability', 'percentage_of_time_with_abnormal_long_term_variability', 'histogram_mode', 'histogram_mean', 'histogram_median', 'histogram_variance', 'fetal_health']\n",
            "\n",
            "New Dataset Shape after dropping features: (2126, 11)\n"
          ]
        }
      ]
    },
    {
      "cell_type": "code",
      "source": [
        "# Convert 'fetal_health' to integer\n",
        "data_dropped['fetal_health'] = data_dropped['fetal_health'].astype(int)\n",
        "\n",
        "# Mapping numerical classes to descriptive labels\n",
        "health_mapping = {1: 'Normal', 2: 'Suspect', 3: 'Pathological'}\n",
        "data_dropped['fetal_health_label'] = data_dropped['fetal_health'].map(health_mapping)\n",
        "\n",
        "# Features (all columns except 'fetal_health' and 'fetal_health_label')\n",
        "X = data_dropped.drop(['fetal_health', 'fetal_health_label'], axis=1)\n",
        "\n",
        "# Target variable\n",
        "y = data_dropped['fetal_health']\n",
        "\n",
        "# Display the first five rows after dropping features\n",
        "print(\"\\nFirst five rows after dropping features:\")\n",
        "print(data_dropped.head())"
      ],
      "metadata": {
        "colab": {
          "base_uri": "https://localhost:8080/"
        },
        "id": "hiV9SdVAuRNS",
        "outputId": "944723b2-b4cf-4dac-d2bb-8410e0e2628f"
      },
      "execution_count": 4,
      "outputs": [
        {
          "output_type": "stream",
          "name": "stdout",
          "text": [
            "\n",
            "First five rows after dropping features:\n",
            "   accelerations  uterine_contractions  prolongued_decelerations  \\\n",
            "0          0.000                 0.000                       0.0   \n",
            "1          0.006                 0.006                       0.0   \n",
            "2          0.003                 0.008                       0.0   \n",
            "3          0.003                 0.008                       0.0   \n",
            "4          0.007                 0.008                       0.0   \n",
            "\n",
            "   abnormal_short_term_variability  mean_value_of_short_term_variability  \\\n",
            "0                             73.0                                   0.5   \n",
            "1                             17.0                                   2.1   \n",
            "2                             16.0                                   2.1   \n",
            "3                             16.0                                   2.4   \n",
            "4                             16.0                                   2.4   \n",
            "\n",
            "   percentage_of_time_with_abnormal_long_term_variability  histogram_mode  \\\n",
            "0                                               43.0                120.0   \n",
            "1                                                0.0                141.0   \n",
            "2                                                0.0                141.0   \n",
            "3                                                0.0                137.0   \n",
            "4                                                0.0                137.0   \n",
            "\n",
            "   histogram_mean  histogram_median  histogram_variance  fetal_health  \\\n",
            "0           137.0             121.0                73.0             2   \n",
            "1           136.0             140.0                12.0             1   \n",
            "2           135.0             138.0                13.0             1   \n",
            "3           134.0             137.0                13.0             1   \n",
            "4           136.0             138.0                11.0             1   \n",
            "\n",
            "  fetal_health_label  \n",
            "0            Suspect  \n",
            "1             Normal  \n",
            "2             Normal  \n",
            "3             Normal  \n",
            "4             Normal  \n"
          ]
        }
      ]
    },
    {
      "cell_type": "code",
      "source": [
        "# Handling imbalanced data\n",
        "from imblearn.over_sampling import ADASYN\n",
        "from imblearn.under_sampling import TomekLinks\n",
        "\n",
        "# Initialize ADASYN with 'auto' strategy to resample all classes\n",
        "adasyn = ADASYN(sampling_strategy='auto', random_state=42)\n",
        "\n",
        "# Apply ADASYN to the dataset\n",
        "X_adasyn, y_adasyn = adasyn.fit_resample(X, y)\n",
        "\n",
        "# Initialize Tomek Links\n",
        "tomek = TomekLinks()\n",
        "\n",
        "# Apply Tomek Links to clean the dataset\n",
        "X_resampled, y_resampled = tomek.fit_resample(X_adasyn, y_adasyn)\n",
        "\n",
        "# Display the shape of the resampled dataset and class distribution\n",
        "print(f\"\\nResampled X shape after ADASYN + Tomek Links: {X_resampled.shape}\")\n",
        "print(f\"Resampled y distribution after ADASYN + Tomek Links:\\n{y_resampled.value_counts()}\")"
      ],
      "metadata": {
        "colab": {
          "base_uri": "https://localhost:8080/"
        },
        "id": "TEypQqYPuRPp",
        "outputId": "a2a2ada3-b8aa-49ca-a507-b3b8eea81afc"
      },
      "execution_count": 6,
      "outputs": [
        {
          "output_type": "stream",
          "name": "stdout",
          "text": [
            "\n",
            "Resampled X shape after ADASYN + Tomek Links: (4883, 10)\n",
            "Resampled y distribution after ADASYN + Tomek Links:\n",
            "fetal_health\n",
            "3    1651\n",
            "1    1642\n",
            "2    1590\n",
            "Name: count, dtype: int64\n"
          ]
        }
      ]
    },
    {
      "cell_type": "code",
      "source": [
        "# Split the resampled data (70% train, 30% test) with stratification\n",
        "X_train, X_test, y_train, y_test = train_test_split(\n",
        "    X_resampled, y_resampled, test_size=0.3, random_state=42, stratify=y_resampled\n",
        ")\n",
        "\n",
        "# Display the shapes of the training and testing sets\n",
        "print(f\"\\nTraining set shape: {X_train.shape}\")\n",
        "print(f\"Testing set shape: {X_test.shape}\")\n"
      ],
      "metadata": {
        "colab": {
          "base_uri": "https://localhost:8080/"
        },
        "id": "Uff567Q3uRSI",
        "outputId": "071049c3-1575-4003-c9af-5a71ed374b3a"
      },
      "execution_count": 7,
      "outputs": [
        {
          "output_type": "stream",
          "name": "stdout",
          "text": [
            "\n",
            "Training set shape: (3418, 10)\n",
            "Testing set shape: (1465, 10)\n"
          ]
        }
      ]
    },
    {
      "cell_type": "code",
      "source": [
        "from sklearn.preprocessing import MinMaxScaler\n",
        "\n",
        "# Initialize the MinMaxScaler\n",
        "scaler = MinMaxScaler()\n",
        "\n",
        "# Fit the scaler on the training data and transform\n",
        "X_train_scaled = scaler.fit_transform(X_train)\n",
        "\n",
        "# Transform the testing data\n",
        "X_test_scaled = scaler.transform(X_test)\n",
        "\n",
        "# Convert the scaled arrays back to DataFrames for easier handling\n",
        "X_train_scaled = pd.DataFrame(X_train_scaled, columns=X.columns, index=X_train.index)\n",
        "X_test_scaled = pd.DataFrame(X_test_scaled, columns=X.columns, index=X_test.index)\n",
        "\n",
        "# Verify scaling by checking min and max values\n",
        "print(\"\\nMin of Scaled Training Features (Should be 0):\")\n",
        "print(X_train_scaled.min())\n",
        "\n",
        "print(\"\\nMax of Scaled Training Features (Should be 1):\")\n",
        "print(X_train_scaled.max())\n"
      ],
      "metadata": {
        "colab": {
          "base_uri": "https://localhost:8080/"
        },
        "id": "l3DD6fOsuRUd",
        "outputId": "0a9805de-43e6-4b45-86e7-207ca4293a6a"
      },
      "execution_count": 9,
      "outputs": [
        {
          "output_type": "stream",
          "name": "stdout",
          "text": [
            "\n",
            "Min of Scaled Training Features (Should be 0):\n",
            "accelerations                                             0.0\n",
            "uterine_contractions                                      0.0\n",
            "prolongued_decelerations                                  0.0\n",
            "abnormal_short_term_variability                           0.0\n",
            "mean_value_of_short_term_variability                      0.0\n",
            "percentage_of_time_with_abnormal_long_term_variability    0.0\n",
            "histogram_mode                                            0.0\n",
            "histogram_mean                                            0.0\n",
            "histogram_median                                          0.0\n",
            "histogram_variance                                        0.0\n",
            "dtype: float64\n",
            "\n",
            "Max of Scaled Training Features (Should be 1):\n",
            "accelerations                                             1.0\n",
            "uterine_contractions                                      1.0\n",
            "prolongued_decelerations                                  1.0\n",
            "abnormal_short_term_variability                           1.0\n",
            "mean_value_of_short_term_variability                      1.0\n",
            "percentage_of_time_with_abnormal_long_term_variability    1.0\n",
            "histogram_mode                                            1.0\n",
            "histogram_mean                                            1.0\n",
            "histogram_median                                          1.0\n",
            "histogram_variance                                        1.0\n",
            "dtype: float64\n"
          ]
        }
      ]
    },
    {
      "cell_type": "code",
      "source": [
        "# Adjust the target values so they start from 0\n",
        "y_train = y_train - 1\n",
        "y_test = y_test - 1\n",
        "\n",
        "# Display the adjusted target distributions\n",
        "print(\"\\nAdjusted y_train distribution:\")\n",
        "print(pd.Series(y_train).value_counts())\n",
        "\n",
        "print(\"\\nAdjusted y_test distribution:\")\n",
        "print(pd.Series(y_test).value_counts())\n"
      ],
      "metadata": {
        "colab": {
          "base_uri": "https://localhost:8080/"
        },
        "id": "X9B-ndycuRWz",
        "outputId": "a94e12fe-7bce-4981-8cd9-80cde955c4d1"
      },
      "execution_count": 10,
      "outputs": [
        {
          "output_type": "stream",
          "name": "stdout",
          "text": [
            "\n",
            "Adjusted y_train distribution:\n",
            "fetal_health\n",
            "2    1156\n",
            "0    1149\n",
            "1    1113\n",
            "Name: count, dtype: int64\n",
            "\n",
            "Adjusted y_test distribution:\n",
            "fetal_health\n",
            "2    495\n",
            "0    493\n",
            "1    477\n",
            "Name: count, dtype: int64\n"
          ]
        }
      ]
    },
    {
      "cell_type": "code",
      "source": [
        "# Initialize the TabNet Classifier\n",
        "tabnet_classifier = TabNetClassifier(\n",
        "    n_d=64,                # Dimension of the decision step\n",
        "    n_a=64,                # Dimension of the attention step\n",
        "    n_steps=5,             # Number of steps in the architecture\n",
        "    gamma=1.3,             # Relaxation parameter\n",
        "    lambda_sparse=1e-3,    # Sparse regularization\n",
        "    optimizer_fn=torch.optim.Adam,\n",
        "    optimizer_params=dict(lr=2e-2),\n",
        "    mask_type='sparsemax', # \"sparsemax\" or \"entmax\"\n",
        "    verbose=1\n",
        ")\n",
        "\n",
        "# Train the TabNet model on the resampled and scaled training data\n",
        "tabnet_classifier.fit(\n",
        "    X_train=X_train_scaled.values,\n",
        "    y_train=y_train.values,\n",
        "    eval_set=[(X_train_scaled.values, y_train.values), (X_test_scaled.values, y_test.values)],\n",
        "    eval_name=['train', 'valid'],\n",
        "    eval_metric=['accuracy'],\n",
        "    max_epochs=100,\n",
        "    patience=20,\n",
        "    batch_size=256,\n",
        "    virtual_batch_size=128\n",
        ")\n"
      ],
      "metadata": {
        "colab": {
          "base_uri": "https://localhost:8080/"
        },
        "id": "RICA-tBKuRZJ",
        "outputId": "f6cd8566-3a08-4eb4-cba3-d8ab2dbce352"
      },
      "execution_count": 11,
      "outputs": [
        {
          "output_type": "stream",
          "name": "stdout",
          "text": [
            "epoch 0  | loss: 0.91487 | train_accuracy: 0.57899 | valid_accuracy: 0.57474 |  0:00:01s\n",
            "epoch 1  | loss: 0.48413 | train_accuracy: 0.42422 | valid_accuracy: 0.41229 |  0:00:03s\n",
            "epoch 2  | loss: 0.42313 | train_accuracy: 0.53511 | valid_accuracy: 0.51877 |  0:00:04s\n",
            "epoch 3  | loss: 0.39257 | train_accuracy: 0.55559 | valid_accuracy: 0.53447 |  0:00:06s\n",
            "epoch 4  | loss: 0.35431 | train_accuracy: 0.5825  | valid_accuracy: 0.55904 |  0:00:08s\n",
            "epoch 5  | loss: 0.37443 | train_accuracy: 0.49941 | valid_accuracy: 0.48123 |  0:00:10s\n",
            "epoch 6  | loss: 0.30289 | train_accuracy: 0.4883  | valid_accuracy: 0.47577 |  0:00:12s\n",
            "epoch 7  | loss: 0.28794 | train_accuracy: 0.54593 | valid_accuracy: 0.53174 |  0:00:14s\n",
            "epoch 8  | loss: 0.25687 | train_accuracy: 0.52458 | valid_accuracy: 0.52014 |  0:00:18s\n",
            "epoch 9  | loss: 0.25969 | train_accuracy: 0.57109 | valid_accuracy: 0.54881 |  0:00:19s\n",
            "epoch 10 | loss: 0.26555 | train_accuracy: 0.57841 | valid_accuracy: 0.56177 |  0:00:22s\n",
            "epoch 11 | loss: 0.24776 | train_accuracy: 0.56729 | valid_accuracy: 0.55495 |  0:00:23s\n",
            "epoch 12 | loss: 0.23998 | train_accuracy: 0.56437 | valid_accuracy: 0.55427 |  0:00:25s\n",
            "epoch 13 | loss: 0.24625 | train_accuracy: 0.58455 | valid_accuracy: 0.5802  |  0:00:26s\n",
            "epoch 14 | loss: 0.25005 | train_accuracy: 0.59421 | valid_accuracy: 0.57406 |  0:00:28s\n",
            "epoch 15 | loss: 0.23728 | train_accuracy: 0.62317 | valid_accuracy: 0.61229 |  0:00:30s\n",
            "epoch 16 | loss: 0.23355 | train_accuracy: 0.63692 | valid_accuracy: 0.63754 |  0:00:33s\n",
            "epoch 17 | loss: 0.2367  | train_accuracy: 0.64073 | valid_accuracy: 0.63276 |  0:00:38s\n",
            "epoch 18 | loss: 0.21343 | train_accuracy: 0.63985 | valid_accuracy: 0.62799 |  0:00:39s\n",
            "epoch 19 | loss: 0.21614 | train_accuracy: 0.67466 | valid_accuracy: 0.67031 |  0:00:40s\n",
            "epoch 20 | loss: 0.21633 | train_accuracy: 0.67642 | valid_accuracy: 0.67645 |  0:00:42s\n",
            "epoch 21 | loss: 0.21306 | train_accuracy: 0.71094 | valid_accuracy: 0.70375 |  0:00:43s\n",
            "epoch 22 | loss: 0.19189 | train_accuracy: 0.72323 | valid_accuracy: 0.71604 |  0:00:45s\n",
            "epoch 23 | loss: 0.22779 | train_accuracy: 0.70421 | valid_accuracy: 0.69352 |  0:00:46s\n",
            "epoch 24 | loss: 0.22901 | train_accuracy: 0.70597 | valid_accuracy: 0.70375 |  0:00:48s\n",
            "epoch 25 | loss: 0.21985 | train_accuracy: 0.78555 | valid_accuracy: 0.77338 |  0:00:50s\n",
            "epoch 26 | loss: 0.2111  | train_accuracy: 0.77736 | valid_accuracy: 0.75836 |  0:00:52s\n",
            "epoch 27 | loss: 0.21541 | train_accuracy: 0.76799 | valid_accuracy: 0.74471 |  0:00:53s\n",
            "epoch 28 | loss: 0.23404 | train_accuracy: 0.85752 | valid_accuracy: 0.84915 |  0:00:55s\n",
            "epoch 29 | loss: 0.24194 | train_accuracy: 0.86571 | valid_accuracy: 0.85529 |  0:00:56s\n",
            "epoch 30 | loss: 0.22668 | train_accuracy: 0.83675 | valid_accuracy: 0.82867 |  0:00:58s\n",
            "epoch 31 | loss: 0.22361 | train_accuracy: 0.90228 | valid_accuracy: 0.88123 |  0:01:01s\n",
            "epoch 32 | loss: 0.21541 | train_accuracy: 0.86805 | valid_accuracy: 0.84573 |  0:01:03s\n",
            "epoch 33 | loss: 0.20708 | train_accuracy: 0.82007 | valid_accuracy: 0.81297 |  0:01:05s\n",
            "epoch 34 | loss: 0.22758 | train_accuracy: 0.90053 | valid_accuracy: 0.88191 |  0:01:06s\n",
            "epoch 35 | loss: 0.21818 | train_accuracy: 0.89789 | valid_accuracy: 0.89556 |  0:01:08s\n",
            "epoch 36 | loss: 0.21294 | train_accuracy: 0.89409 | valid_accuracy: 0.86485 |  0:01:09s\n",
            "epoch 37 | loss: 0.22536 | train_accuracy: 0.92598 | valid_accuracy: 0.90785 |  0:01:11s\n",
            "epoch 38 | loss: 0.25685 | train_accuracy: 0.92276 | valid_accuracy: 0.90785 |  0:01:13s\n",
            "epoch 39 | loss: 0.23155 | train_accuracy: 0.92803 | valid_accuracy: 0.90102 |  0:01:14s\n",
            "epoch 40 | loss: 0.22738 | train_accuracy: 0.90696 | valid_accuracy: 0.88055 |  0:01:17s\n",
            "epoch 41 | loss: 0.22581 | train_accuracy: 0.92598 | valid_accuracy: 0.90239 |  0:01:19s\n",
            "epoch 42 | loss: 0.23157 | train_accuracy: 0.91691 | valid_accuracy: 0.89625 |  0:01:20s\n",
            "epoch 43 | loss: 0.21402 | train_accuracy: 0.93125 | valid_accuracy: 0.9058  |  0:01:22s\n",
            "epoch 44 | loss: 0.27143 | train_accuracy: 0.91135 | valid_accuracy: 0.8942  |  0:01:23s\n",
            "epoch 45 | loss: 0.26388 | train_accuracy: 0.91164 | valid_accuracy: 0.88737 |  0:01:24s\n",
            "epoch 46 | loss: 0.24033 | train_accuracy: 0.91867 | valid_accuracy: 0.90444 |  0:01:26s\n",
            "epoch 47 | loss: 0.24373 | train_accuracy: 0.92686 | valid_accuracy: 0.90375 |  0:01:27s\n",
            "epoch 48 | loss: 0.23196 | train_accuracy: 0.93008 | valid_accuracy: 0.91672 |  0:01:29s\n",
            "epoch 49 | loss: 0.20494 | train_accuracy: 0.92949 | valid_accuracy: 0.91536 |  0:01:31s\n",
            "epoch 50 | loss: 0.20451 | train_accuracy: 0.92774 | valid_accuracy: 0.91468 |  0:01:33s\n",
            "epoch 51 | loss: 0.19945 | train_accuracy: 0.90667 | valid_accuracy: 0.8901  |  0:01:35s\n",
            "epoch 52 | loss: 0.21263 | train_accuracy: 0.92744 | valid_accuracy: 0.89352 |  0:01:36s\n",
            "epoch 53 | loss: 0.24273 | train_accuracy: 0.91252 | valid_accuracy: 0.89147 |  0:01:37s\n",
            "epoch 54 | loss: 0.22774 | train_accuracy: 0.91896 | valid_accuracy: 0.89283 |  0:01:39s\n",
            "epoch 55 | loss: 0.23896 | train_accuracy: 0.88268 | valid_accuracy: 0.86894 |  0:01:40s\n",
            "epoch 56 | loss: 0.25139 | train_accuracy: 0.91633 | valid_accuracy: 0.90375 |  0:01:42s\n",
            "epoch 57 | loss: 0.22896 | train_accuracy: 0.92861 | valid_accuracy: 0.91331 |  0:01:44s\n",
            "epoch 58 | loss: 0.21666 | train_accuracy: 0.93066 | valid_accuracy: 0.91468 |  0:01:46s\n",
            "epoch 59 | loss: 0.20431 | train_accuracy: 0.94383 | valid_accuracy: 0.92014 |  0:01:47s\n",
            "epoch 60 | loss: 0.19295 | train_accuracy: 0.94149 | valid_accuracy: 0.92628 |  0:01:49s\n",
            "epoch 61 | loss: 0.19976 | train_accuracy: 0.91164 | valid_accuracy: 0.88805 |  0:01:50s\n",
            "epoch 62 | loss: 0.19913 | train_accuracy: 0.94997 | valid_accuracy: 0.93106 |  0:01:52s\n",
            "epoch 63 | loss: 0.19475 | train_accuracy: 0.93505 | valid_accuracy: 0.91536 |  0:01:53s\n",
            "epoch 64 | loss: 0.17585 | train_accuracy: 0.94792 | valid_accuracy: 0.92833 |  0:01:55s\n",
            "epoch 65 | loss: 0.17483 | train_accuracy: 0.94353 | valid_accuracy: 0.91877 |  0:01:56s\n",
            "epoch 66 | loss: 0.17235 | train_accuracy: 0.94207 | valid_accuracy: 0.91809 |  0:01:59s\n",
            "epoch 67 | loss: 0.16507 | train_accuracy: 0.91311 | valid_accuracy: 0.89966 |  0:02:00s\n",
            "epoch 68 | loss: 0.18679 | train_accuracy: 0.94909 | valid_accuracy: 0.93242 |  0:02:02s\n",
            "epoch 69 | loss: 0.19203 | train_accuracy: 0.95026 | valid_accuracy: 0.92491 |  0:02:03s\n",
            "epoch 70 | loss: 0.19029 | train_accuracy: 0.945   | valid_accuracy: 0.92355 |  0:02:04s\n",
            "epoch 71 | loss: 0.18467 | train_accuracy: 0.94617 | valid_accuracy: 0.91741 |  0:02:06s\n",
            "epoch 72 | loss: 0.21016 | train_accuracy: 0.92013 | valid_accuracy: 0.90785 |  0:02:07s\n",
            "epoch 73 | loss: 0.23608 | train_accuracy: 0.91516 | valid_accuracy: 0.90102 |  0:02:09s\n",
            "epoch 74 | loss: 0.20661 | train_accuracy: 0.93739 | valid_accuracy: 0.90717 |  0:02:11s\n",
            "epoch 75 | loss: 0.20027 | train_accuracy: 0.92422 | valid_accuracy: 0.91604 |  0:02:13s\n",
            "epoch 76 | loss: 0.18696 | train_accuracy: 0.94178 | valid_accuracy: 0.91877 |  0:02:14s\n",
            "epoch 77 | loss: 0.20031 | train_accuracy: 0.91194 | valid_accuracy: 0.89966 |  0:02:16s\n",
            "epoch 78 | loss: 0.19932 | train_accuracy: 0.94353 | valid_accuracy: 0.92287 |  0:02:17s\n",
            "epoch 79 | loss: 0.17946 | train_accuracy: 0.94236 | valid_accuracy: 0.91195 |  0:02:19s\n",
            "epoch 80 | loss: 0.18661 | train_accuracy: 0.9526  | valid_accuracy: 0.9215  |  0:02:20s\n",
            "epoch 81 | loss: 0.16617 | train_accuracy: 0.95728 | valid_accuracy: 0.93106 |  0:02:22s\n",
            "epoch 82 | loss: 0.18683 | train_accuracy: 0.94675 | valid_accuracy: 0.91399 |  0:02:24s\n",
            "epoch 83 | loss: 0.2236  | train_accuracy: 0.93329 | valid_accuracy: 0.91126 |  0:02:26s\n",
            "epoch 84 | loss: 0.22731 | train_accuracy: 0.92569 | valid_accuracy: 0.9099  |  0:02:28s\n",
            "epoch 85 | loss: 0.20133 | train_accuracy: 0.92481 | valid_accuracy: 0.90785 |  0:02:29s\n",
            "epoch 86 | loss: 0.19153 | train_accuracy: 0.94149 | valid_accuracy: 0.91945 |  0:02:31s\n",
            "epoch 87 | loss: 0.18828 | train_accuracy: 0.9529  | valid_accuracy: 0.93311 |  0:02:32s\n",
            "epoch 88 | loss: 0.17328 | train_accuracy: 0.95348 | valid_accuracy: 0.93379 |  0:02:34s\n",
            "epoch 89 | loss: 0.17964 | train_accuracy: 0.95611 | valid_accuracy: 0.93447 |  0:02:35s\n",
            "epoch 90 | loss: 0.16841 | train_accuracy: 0.95816 | valid_accuracy: 0.94334 |  0:02:37s\n",
            "epoch 91 | loss: 0.17122 | train_accuracy: 0.92978 | valid_accuracy: 0.91195 |  0:02:39s\n",
            "epoch 92 | loss: 0.17226 | train_accuracy: 0.93944 | valid_accuracy: 0.92218 |  0:02:41s\n",
            "epoch 93 | loss: 0.16398 | train_accuracy: 0.94646 | valid_accuracy: 0.93106 |  0:02:42s\n",
            "epoch 94 | loss: 0.16046 | train_accuracy: 0.95436 | valid_accuracy: 0.93652 |  0:02:44s\n",
            "epoch 95 | loss: 0.1601  | train_accuracy: 0.9526  | valid_accuracy: 0.93515 |  0:02:45s\n",
            "epoch 96 | loss: 0.19683 | train_accuracy: 0.92861 | valid_accuracy: 0.90717 |  0:02:47s\n",
            "epoch 97 | loss: 0.18663 | train_accuracy: 0.95611 | valid_accuracy: 0.93242 |  0:02:49s\n",
            "epoch 98 | loss: 0.177   | train_accuracy: 0.95026 | valid_accuracy: 0.92696 |  0:02:50s\n",
            "epoch 99 | loss: 0.16701 | train_accuracy: 0.94061 | valid_accuracy: 0.92082 |  0:02:52s\n",
            "Stop training because you reached max_epochs = 100 with best_epoch = 90 and best_valid_accuracy = 0.94334\n"
          ]
        }
      ]
    },
    {
      "cell_type": "code",
      "source": [
        "# Make predictions on the test set\n",
        "y_pred_tabnet = tabnet_classifier.predict(X_test_scaled.values)\n",
        "\n",
        "# Evaluate TabNet performance\n",
        "print(\"\\nTabNet Classification Report:\")\n",
        "print(classification_report(y_test, y_pred_tabnet, target_names=['Normal', 'Suspect', 'Pathological']))\n",
        "\n",
        "# Confusion Matrix for TabNet\n",
        "conf_matrix_tabnet = confusion_matrix(y_test, y_pred_tabnet)\n",
        "plt.figure(figsize=(8, 6))\n",
        "sns.heatmap(conf_matrix_tabnet, annot=True, fmt='d', cmap='Greens',\n",
        "            xticklabels=['Normal', 'Suspect', 'Pathological'],\n",
        "            yticklabels=['Normal', 'Suspect', 'Pathological'])\n",
        "plt.title('TabNet Confusion Matrix')\n",
        "plt.xlabel('Predicted Label')\n",
        "plt.ylabel('True Label')\n",
        "plt.show()"
      ],
      "metadata": {
        "colab": {
          "base_uri": "https://localhost:8080/",
          "height": 778
        },
        "id": "yFDpMhTguRbh",
        "outputId": "44506d46-78ed-4381-f755-db90750a8553"
      },
      "execution_count": 12,
      "outputs": [
        {
          "output_type": "stream",
          "name": "stdout",
          "text": [
            "\n",
            "TabNet Classification Report:\n",
            "              precision    recall  f1-score   support\n",
            "\n",
            "      Normal       0.98      0.91      0.95       493\n",
            "     Suspect       0.89      0.94      0.92       477\n",
            "Pathological       0.95      0.98      0.97       495\n",
            "\n",
            "    accuracy                           0.94      1465\n",
            "   macro avg       0.94      0.94      0.94      1465\n",
            "weighted avg       0.95      0.94      0.94      1465\n",
            "\n"
          ]
        },
        {
          "output_type": "display_data",
          "data": {
            "text/plain": [
              "<Figure size 800x600 with 2 Axes>"
            ],
            "image/png": "[encoded data removed]"
          },
          "metadata": {}
        }
      ]
    },
    {
      "cell_type": "code",
      "source": [
        "# Extract feature importances using SHAP\n",
        "print(\"\\nGenerating SHAP values for TabNet...\")\n",
        "explainer = shap.Explainer(tabnet_classifier)\n",
        "shap_values = explainer(X_test_scaled.values)\n",
        "\n",
        "# SHAP Summary Plot\n",
        "print(\"\\nGenerating SHAP Summary Plot for TabNet...\")\n",
        "shap.summary_plot(shap_values, X_test_scaled, feature_names=X.columns, show=False)\n",
        "plt.title('SHAP Summary Plot for TabNet')\n",
        "plt.tight_layout()\n",
        "plt.show()\n",
        "\n",
        "# Check the type and structure of shap_values\n",
        "print(f\"Type of shap_values: {type(shap_values)}\")"
      ],
      "metadata": {
        "id": "jIbbTMjRuRdl"
      },
      "execution_count": null,
      "outputs": []
    },
    {
      "cell_type": "code",
      "source": [],
      "metadata": {
        "id": "7C2W_oGiuRf6"
      },
      "execution_count": null,
      "outputs": []
    },
    {
      "cell_type": "code",
      "source": [],
      "metadata": {
        "id": "nbYIi4iiuRiI"
      },
      "execution_count": null,
      "outputs": []
    },
    {
      "cell_type": "code",
      "source": [],
      "metadata": {
        "id": "WjWtMdz_uRkQ"
      },
      "execution_count": null,
      "outputs": []
    },
    {
      "cell_type": "code",
      "source": [],
      "metadata": {
        "id": "R7fpynJMuGuN"
      },
      "execution_count": null,
      "outputs": []
    },
    {
      "cell_type": "code",
      "source": [],
      "metadata": {
        "id": "TQvEDS6RuGwz"
      },
      "execution_count": null,
      "outputs": []
    },
    {
      "cell_type": "code",
      "source": [],
      "metadata": {
        "id": "qKXtAmPkuGza"
      },
      "execution_count": null,
      "outputs": []
    },
    {
      "cell_type": "code",
      "source": [],
      "metadata": {
        "id": "FikAcjGJuG1n"
      },
      "execution_count": null,
      "outputs": []
    },
    {
      "cell_type": "code",
      "source": [],
      "metadata": {
        "id": "hOi1mqSPuG3u"
      },
      "execution_count": null,
      "outputs": []
    }
  ]
}