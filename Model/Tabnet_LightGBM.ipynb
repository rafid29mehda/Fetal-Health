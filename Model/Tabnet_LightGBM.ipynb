{
  "nbformat": 4,
  "nbformat_minor": 0,
  "metadata": {
    "colab": {
      "provenance": []
    },
    "kernelspec": {
      "name": "python3",
      "display_name": "Python 3"
    },
    "language_info": {
      "name": "python"
    }
  },
  "cells": [
    {
      "cell_type": "code",
      "execution_count": 1,
      "metadata": {
        "colab": {
          "base_uri": "https://localhost:8080/"
        },
        "id": "_0QpMVmekW_2",
        "outputId": "d371d9c4-0e23-4ea8-c5d5-95941e7816e2"
      },
      "outputs": [
        {
          "output_type": "stream",
          "name": "stdout",
          "text": [
            "Requirement already satisfied: pytorch-tabnet in /usr/local/lib/python3.10/dist-packages (4.1.0)\n",
            "Requirement already satisfied: numpy>=1.17 in /usr/local/lib/python3.10/dist-packages (from pytorch-tabnet) (1.26.4)\n",
            "Requirement already satisfied: scikit_learn>0.21 in /usr/local/lib/python3.10/dist-packages (from pytorch-tabnet) (1.6.0)\n",
            "Requirement already satisfied: scipy>1.4 in /usr/local/lib/python3.10/dist-packages (from pytorch-tabnet) (1.13.1)\n",
            "Requirement already satisfied: torch>=1.3 in /usr/local/lib/python3.10/dist-packages (from pytorch-tabnet) (2.5.1+cu121)\n",
            "Requirement already satisfied: tqdm>=4.36 in /usr/local/lib/python3.10/dist-packages (from pytorch-tabnet) (4.67.1)\n",
            "Requirement already satisfied: joblib>=1.2.0 in /usr/local/lib/python3.10/dist-packages (from scikit_learn>0.21->pytorch-tabnet) (1.4.2)\n",
            "Requirement already satisfied: threadpoolctl>=3.1.0 in /usr/local/lib/python3.10/dist-packages (from scikit_learn>0.21->pytorch-tabnet) (3.5.0)\n",
            "Requirement already satisfied: filelock in /usr/local/lib/python3.10/dist-packages (from torch>=1.3->pytorch-tabnet) (3.16.1)\n",
            "Requirement already satisfied: typing-extensions>=4.8.0 in /usr/local/lib/python3.10/dist-packages (from torch>=1.3->pytorch-tabnet) (4.12.2)\n",
            "Requirement already satisfied: networkx in /usr/local/lib/python3.10/dist-packages (from torch>=1.3->pytorch-tabnet) (3.4.2)\n",
            "Requirement already satisfied: jinja2 in /usr/local/lib/python3.10/dist-packages (from torch>=1.3->pytorch-tabnet) (3.1.4)\n",
            "Requirement already satisfied: fsspec in /usr/local/lib/python3.10/dist-packages (from torch>=1.3->pytorch-tabnet) (2024.10.0)\n",
            "Requirement already satisfied: sympy==1.13.1 in /usr/local/lib/python3.10/dist-packages (from torch>=1.3->pytorch-tabnet) (1.13.1)\n",
            "Requirement already satisfied: mpmath<1.4,>=1.1.0 in /usr/local/lib/python3.10/dist-packages (from sympy==1.13.1->torch>=1.3->pytorch-tabnet) (1.3.0)\n",
            "Requirement already satisfied: MarkupSafe>=2.0 in /usr/local/lib/python3.10/dist-packages (from jinja2->torch>=1.3->pytorch-tabnet) (3.0.2)\n",
            "Requirement already satisfied: lightgbm in /usr/local/lib/python3.10/dist-packages (4.5.0)\n",
            "Requirement already satisfied: numpy>=1.17.0 in /usr/local/lib/python3.10/dist-packages (from lightgbm) (1.26.4)\n",
            "Requirement already satisfied: scipy in /usr/local/lib/python3.10/dist-packages (from lightgbm) (1.13.1)\n",
            "\u001b[31mERROR: Could not find a version that satisfies the requirement scikit-learn-contrib (from versions: none)\u001b[0m\u001b[31m\n",
            "\u001b[0m\u001b[31mERROR: No matching distribution found for scikit-learn-contrib\u001b[0m\u001b[31m\n",
            "\u001b[0m"
          ]
        }
      ],
      "source": [
        "# Install pytorch-tabnet\n",
        "!pip install pytorch-tabnet\n",
        "\n",
        "# Install LightGBM\n",
        "!pip install lightgbm\n",
        "\n",
        "# Optional: Install scikit-learn-contrib for any additional functionalities\n",
        "!pip install scikit-learn-contrib\n"
      ]
    },
    {
      "cell_type": "code",
      "source": [
        "!pip install dask-expr\n",
        "\n",
        "# Data manipulation and analysis\n",
        "import pandas as pd\n",
        "import numpy as np\n",
        "\n",
        "# Visualization\n",
        "import matplotlib.pyplot as plt\n",
        "import seaborn as sns\n",
        "\n",
        "# Preprocessing and modeling\n",
        "from sklearn.model_selection import train_test_split, StratifiedKFold\n",
        "from sklearn.preprocessing import StandardScaler\n",
        "from sklearn.ensemble import RandomForestClassifier\n",
        "from sklearn.metrics import classification_report, confusion_matrix, accuracy_score\n",
        "from sklearn.linear_model import LogisticRegression\n",
        "\n",
        "# Handling imbalanced data\n",
        "from imblearn.over_sampling import SMOTE\n",
        "\n",
        "# Traditional ML\n",
        "import lightgbm as lgb\n",
        "\n",
        "# Deep Learning Model\n",
        "from pytorch_tabnet.tab_model import TabNetClassifier\n",
        "\n",
        "# Explainable AI\n",
        "import shap\n",
        "\n",
        "# Meta-Learner\n",
        "from sklearn.linear_model import LogisticRegression\n",
        "\n",
        "# Suppress warnings for cleaner output\n",
        "import warnings\n",
        "warnings.filterwarnings('ignore')\n"
      ],
      "metadata": {
        "colab": {
          "base_uri": "https://localhost:8080/"
        },
        "id": "k8eCt5FWkeok",
        "outputId": "0a66b246-b09f-4011-ee44-b8bd0186f25e"
      },
      "execution_count": 2,
      "outputs": [
        {
          "output_type": "stream",
          "name": "stdout",
          "text": [
            "Requirement already satisfied: dask-expr in /usr/local/lib/python3.10/dist-packages (1.1.21)\n",
            "Requirement already satisfied: dask==2024.12.1 in /usr/local/lib/python3.10/dist-packages (from dask-expr) (2024.12.1)\n",
            "Requirement already satisfied: pyarrow>=14.0.1 in /usr/local/lib/python3.10/dist-packages (from dask-expr) (17.0.0)\n",
            "Requirement already satisfied: pandas>=2 in /usr/local/lib/python3.10/dist-packages (from dask-expr) (2.2.2)\n",
            "Requirement already satisfied: click>=8.1 in /usr/local/lib/python3.10/dist-packages (from dask==2024.12.1->dask-expr) (8.1.7)\n",
            "Requirement already satisfied: cloudpickle>=3.0.0 in /usr/local/lib/python3.10/dist-packages (from dask==2024.12.1->dask-expr) (3.1.0)\n",
            "Requirement already satisfied: fsspec>=2021.09.0 in /usr/local/lib/python3.10/dist-packages (from dask==2024.12.1->dask-expr) (2024.10.0)\n",
            "Requirement already satisfied: packaging>=20.0 in /usr/local/lib/python3.10/dist-packages (from dask==2024.12.1->dask-expr) (24.2)\n",
            "Requirement already satisfied: partd>=1.4.0 in /usr/local/lib/python3.10/dist-packages (from dask==2024.12.1->dask-expr) (1.4.2)\n",
            "Requirement already satisfied: pyyaml>=5.3.1 in /usr/local/lib/python3.10/dist-packages (from dask==2024.12.1->dask-expr) (6.0.2)\n",
            "Requirement already satisfied: toolz>=0.10.0 in /usr/local/lib/python3.10/dist-packages (from dask==2024.12.1->dask-expr) (0.12.1)\n",
            "Requirement already satisfied: importlib_metadata>=4.13.0 in /usr/local/lib/python3.10/dist-packages (from dask==2024.12.1->dask-expr) (8.5.0)\n",
            "Requirement already satisfied: numpy>=1.22.4 in /usr/local/lib/python3.10/dist-packages (from pandas>=2->dask-expr) (1.26.4)\n",
            "Requirement already satisfied: python-dateutil>=2.8.2 in /usr/local/lib/python3.10/dist-packages (from pandas>=2->dask-expr) (2.8.2)\n",
            "Requirement already satisfied: pytz>=2020.1 in /usr/local/lib/python3.10/dist-packages (from pandas>=2->dask-expr) (2024.2)\n",
            "Requirement already satisfied: tzdata>=2022.7 in /usr/local/lib/python3.10/dist-packages (from pandas>=2->dask-expr) (2024.2)\n",
            "Requirement already satisfied: zipp>=3.20 in /usr/local/lib/python3.10/dist-packages (from importlib_metadata>=4.13.0->dask==2024.12.1->dask-expr) (3.21.0)\n",
            "Requirement already satisfied: locket in /usr/local/lib/python3.10/dist-packages (from partd>=1.4.0->dask==2024.12.1->dask-expr) (1.0.0)\n",
            "Requirement already satisfied: six>=1.5 in /usr/local/lib/python3.10/dist-packages (from python-dateutil>=2.8.2->pandas>=2->dask-expr) (1.17.0)\n"
          ]
        }
      ]
    },
    {
      "cell_type": "code",
      "source": [
        "# Replace 'fetal_health.csv' with your actual file path if different\n",
        "data = pd.read_csv('/content/fetal_health.csv')\n",
        "\n",
        "# Display the first five rows to verify\n",
        "print(\"First five rows of the dataset:\")\n",
        "print(data.head())\n",
        "\n",
        "# Check the shape of the dataset\n",
        "print(f\"Dataset Shape: {data.shape}\")\n",
        "\n",
        "# Convert 'fetal_health' to integer\n",
        "data['fetal_health'] = data['fetal_health'].astype(int)\n",
        "\n",
        "# Mapping numerical classes to descriptive labels\n",
        "health_mapping = {1: 'Normal', 2: 'Suspect', 3: 'Pathological'}\n",
        "data['fetal_health_label'] = data['fetal_health'].map(health_mapping)\n",
        "\n",
        "# Features (all columns except 'fetal_health' and 'fetal_health_label')\n",
        "X = data.drop(['fetal_health', 'fetal_health_label'], axis=1)\n",
        "\n",
        "# Target variable\n",
        "y = data['fetal_health']\n",
        "\n",
        "# Split the data (80% train, 20% test) with stratification\n",
        "X_train, X_test, y_train, y_test = train_test_split(\n",
        "    X, y, test_size=0.2, random_state=42, stratify=y\n",
        ")\n",
        "\n",
        "# Initialize SMOTE\n",
        "smote = SMOTE(random_state=42)\n",
        "\n",
        "# Apply SMOTE to the training data\n",
        "X_train_resampled, y_train_resampled = smote.fit_resample(X_train, y_train)\n",
        "\n",
        "# Initialize the StandardScaler\n",
        "scaler = StandardScaler()\n",
        "\n",
        "# Fit the scaler on the resampled training data and transform\n",
        "X_train_scaled = scaler.fit_transform(X_train_resampled)\n",
        "\n",
        "# Transform the test data\n",
        "X_test_scaled = scaler.transform(X_test)\n",
        "\n",
        "# Convert the scaled arrays back to DataFrames for easier handling\n",
        "X_train_scaled = pd.DataFrame(X_train_scaled, columns=X.columns, index=X_train_resampled.index)\n",
        "X_test_scaled = pd.DataFrame(X_test_scaled, columns=X.columns, index=X_test.index)\n",
        "\n",
        "# Verify scaling by checking means and standard deviations\n",
        "print(\"\\nMean of Scaled Training Features (Should be ~0):\")\n",
        "print(X_train_scaled.mean())\n",
        "\n",
        "print(\"\\nStandard Deviation of Scaled Training Features (Should be ~1):\")\n",
        "print(X_train_scaled.std())\n"
      ],
      "metadata": {
        "colab": {
          "base_uri": "https://localhost:8080/"
        },
        "id": "ekTYjRR9keqw",
        "outputId": "8775a45d-f5b7-4ab8-a8b0-888c8d9a8a7f"
      },
      "execution_count": 3,
      "outputs": [
        {
          "output_type": "stream",
          "name": "stdout",
          "text": [
            "First five rows of the dataset:\n",
            "   baseline value  accelerations  fetal_movement  uterine_contractions  \\\n",
            "0           120.0          0.000             0.0                 0.000   \n",
            "1           132.0          0.006             0.0                 0.006   \n",
            "2           133.0          0.003             0.0                 0.008   \n",
            "3           134.0          0.003             0.0                 0.008   \n",
            "4           132.0          0.007             0.0                 0.008   \n",
            "\n",
            "   light_decelerations  severe_decelerations  prolongued_decelerations  \\\n",
            "0                0.000                   0.0                       0.0   \n",
            "1                0.003                   0.0                       0.0   \n",
            "2                0.003                   0.0                       0.0   \n",
            "3                0.003                   0.0                       0.0   \n",
            "4                0.000                   0.0                       0.0   \n",
            "\n",
            "   abnormal_short_term_variability  mean_value_of_short_term_variability  \\\n",
            "0                             73.0                                   0.5   \n",
            "1                             17.0                                   2.1   \n",
            "2                             16.0                                   2.1   \n",
            "3                             16.0                                   2.4   \n",
            "4                             16.0                                   2.4   \n",
            "\n",
            "   percentage_of_time_with_abnormal_long_term_variability  ...  histogram_min  \\\n",
            "0                                               43.0       ...           62.0   \n",
            "1                                                0.0       ...           68.0   \n",
            "2                                                0.0       ...           68.0   \n",
            "3                                                0.0       ...           53.0   \n",
            "4                                                0.0       ...           53.0   \n",
            "\n",
            "   histogram_max  histogram_number_of_peaks  histogram_number_of_zeroes  \\\n",
            "0          126.0                        2.0                         0.0   \n",
            "1          198.0                        6.0                         1.0   \n",
            "2          198.0                        5.0                         1.0   \n",
            "3          170.0                       11.0                         0.0   \n",
            "4          170.0                        9.0                         0.0   \n",
            "\n",
            "   histogram_mode  histogram_mean  histogram_median  histogram_variance  \\\n",
            "0           120.0           137.0             121.0                73.0   \n",
            "1           141.0           136.0             140.0                12.0   \n",
            "2           141.0           135.0             138.0                13.0   \n",
            "3           137.0           134.0             137.0                13.0   \n",
            "4           137.0           136.0             138.0                11.0   \n",
            "\n",
            "   histogram_tendency  fetal_health  \n",
            "0                 1.0           2.0  \n",
            "1                 0.0           1.0  \n",
            "2                 0.0           1.0  \n",
            "3                 1.0           1.0  \n",
            "4                 1.0           1.0  \n",
            "\n",
            "[5 rows x 22 columns]\n",
            "Dataset Shape: (2126, 22)\n",
            "\n",
            "Mean of Scaled Training Features (Should be ~0):\n",
            "baseline value                                            5.657130e-16\n",
            "accelerations                                            -5.728740e-17\n",
            "fetal_movement                                            1.432185e-17\n",
            "uterine_contractions                                     -4.296555e-17\n",
            "light_decelerations                                      -3.580462e-17\n",
            "severe_decelerations                                      7.160925e-17\n",
            "prolongued_decelerations                                 -1.718622e-16\n",
            "abnormal_short_term_variability                           0.000000e+00\n",
            "mean_value_of_short_term_variability                      5.012647e-17\n",
            "percentage_of_time_with_abnormal_long_term_variability   -5.728740e-17\n",
            "mean_value_of_long_term_variability                      -8.593109e-17\n",
            "histogram_width                                           9.130179e-17\n",
            "histogram_min                                             3.705778e-16\n",
            "histogram_max                                             9.022765e-16\n",
            "histogram_number_of_peaks                                 1.924498e-16\n",
            "histogram_number_of_zeroes                                1.217357e-16\n",
            "histogram_mode                                            2.721151e-16\n",
            "histogram_mean                                            1.432185e-16\n",
            "histogram_median                                         -4.010118e-16\n",
            "histogram_variance                                        1.432185e-17\n",
            "histogram_tendency                                       -2.864370e-17\n",
            "dtype: float64\n",
            "\n",
            "Standard Deviation of Scaled Training Features (Should be ~1):\n",
            "baseline value                                            1.000126\n",
            "accelerations                                             1.000126\n",
            "fetal_movement                                            1.000126\n",
            "uterine_contractions                                      1.000126\n",
            "light_decelerations                                       1.000126\n",
            "severe_decelerations                                      1.000126\n",
            "prolongued_decelerations                                  1.000126\n",
            "abnormal_short_term_variability                           1.000126\n",
            "mean_value_of_short_term_variability                      1.000126\n",
            "percentage_of_time_with_abnormal_long_term_variability    1.000126\n",
            "mean_value_of_long_term_variability                       1.000126\n",
            "histogram_width                                           1.000126\n",
            "histogram_min                                             1.000126\n",
            "histogram_max                                             1.000126\n",
            "histogram_number_of_peaks                                 1.000126\n",
            "histogram_number_of_zeroes                                1.000126\n",
            "histogram_mode                                            1.000126\n",
            "histogram_mean                                            1.000126\n",
            "histogram_median                                          1.000126\n",
            "histogram_variance                                        1.000126\n",
            "histogram_tendency                                        1.000126\n",
            "dtype: float64\n"
          ]
        }
      ]
    },
    {
      "cell_type": "code",
      "source": [
        "# Initialize the LightGBM Classifier\n",
        "lgb_classifier = lgb.LGBMClassifier(\n",
        "    n_estimators=100,\n",
        "    learning_rate=0.05,\n",
        "    num_leaves=31,\n",
        "    objective='multiclass',\n",
        "    class_weight='balanced',\n",
        "    random_state=42\n",
        ")\n",
        "\n",
        "# Train the LightGBM model on the resampled and scaled training data\n",
        "lgb_classifier.fit(X_train_scaled, y_train_resampled)\n",
        "\n",
        "# Make predictions on the test set\n",
        "y_pred_lgb = lgb_classifier.predict(X_test_scaled)\n",
        "\n",
        "# Evaluate LightGBM performance\n",
        "print(\"\\nLightGBM Classification Report:\")\n",
        "print(classification_report(y_test, y_pred_lgb, target_names=['Normal', 'Suspect', 'Pathological']))\n",
        "\n",
        "# Confusion Matrix for LightGBM\n",
        "conf_matrix_lgb = confusion_matrix(y_test, y_pred_lgb)\n",
        "plt.figure(figsize=(8, 6))\n",
        "sns.heatmap(conf_matrix_lgb, annot=True, fmt='d', cmap='Blues',\n",
        "            xticklabels=['Normal', 'Suspect', 'Pathological'],\n",
        "            yticklabels=['Normal', 'Suspect', 'Pathological'])\n",
        "plt.title('LightGBM Confusion Matrix')\n",
        "plt.xlabel('Predicted Label')\n",
        "plt.ylabel('True Label')\n",
        "plt.show()\n"
      ],
      "metadata": {
        "colab": {
          "base_uri": "https://localhost:8080/",
          "height": 957
        },
        "id": "SzU297PLketW",
        "outputId": "1c50f48e-1532-4370-b84a-f803ac592d38"
      },
      "execution_count": 4,
      "outputs": [
        {
          "output_type": "stream",
          "name": "stdout",
          "text": [
            "[LightGBM] [Warning] Found whitespace in feature_names, replace with underlines\n",
            "[LightGBM] [Info] Auto-choosing row-wise multi-threading, the overhead of testing was 0.001199 seconds.\n",
            "You can set `force_row_wise=true` to remove the overhead.\n",
            "And if memory is not enough, you can set `force_col_wise=true`.\n",
            "[LightGBM] [Info] Total Bins 5110\n",
            "[LightGBM] [Info] Number of data points in the train set: 3969, number of used features: 21\n",
            "[LightGBM] [Info] Start training from score -1.098612\n",
            "[LightGBM] [Info] Start training from score -1.098612\n",
            "[LightGBM] [Info] Start training from score -1.098612\n",
            "[LightGBM] [Warning] No further splits with positive gain, best gain: -inf\n",
            "\n",
            "LightGBM Classification Report:\n",
            "              precision    recall  f1-score   support\n",
            "\n",
            "      Normal       0.97      0.97      0.97       332\n",
            "     Suspect       0.84      0.81      0.83        59\n",
            "Pathological       0.86      0.91      0.89        35\n",
            "\n",
            "    accuracy                           0.94       426\n",
            "   macro avg       0.89      0.90      0.90       426\n",
            "weighted avg       0.94      0.94      0.94       426\n",
            "\n"
          ]
        },
        {
          "output_type": "display_data",
          "data": {
            "text/plain": [
              "<Figure size 800x600 with 2 Axes>"
            ],
            "image/png": "[encoded data removed]"
          },
          "metadata": {}
        }
      ]
    },
    {
      "cell_type": "code",
      "source": [
        "import torch\n",
        "\n",
        "\n",
        "# Initialize the TabNet Classifier\n",
        "tabnet_classifier = TabNetClassifier(\n",
        "    n_d=64,                # Dimension of the decision step\n",
        "    n_a=64,                # Dimension of the attention step\n",
        "    n_steps=5,             # Number of steps in the architecture\n",
        "    gamma=1.3,             # Relaxation parameter\n",
        "    lambda_sparse=1e-3,    # Sparse regularization\n",
        "    optimizer_fn=torch.optim.Adam,\n",
        "    optimizer_params=dict(lr=2e-2),\n",
        "    mask_type='sparsemax', # \"sparsemax\" or \"entmax\"\n",
        "    verbose=1\n",
        ")\n",
        "\n",
        "# Train the TabNet model on the resampled and scaled training data\n",
        "tabnet_classifier.fit(\n",
        "    X_train=X_train_scaled.values,\n",
        "    y_train=y_train_resampled.values,\n",
        "    eval_set=[(X_train_scaled.values, y_train_resampled.values), (X_test_scaled.values, y_test.values)],\n",
        "    eval_name=['train', 'valid'],\n",
        "    eval_metric=['accuracy'],\n",
        "    max_epochs=100,\n",
        "    patience=20,\n",
        "    batch_size=256,\n",
        "    virtual_batch_size=128\n",
        ")\n",
        "\n",
        "# Make predictions on the test set\n",
        "y_pred_tabnet = tabnet_classifier.predict(X_test_scaled.values)\n",
        "\n",
        "# Evaluate TabNet performance\n",
        "print(\"\\nTabNet Classification Report:\")\n",
        "print(classification_report(y_test, y_pred_tabnet, target_names=['Normal', 'Suspect', 'Pathological']))\n",
        "\n",
        "# Confusion Matrix for TabNet\n",
        "conf_matrix_tabnet = confusion_matrix(y_test, y_pred_tabnet)\n",
        "plt.figure(figsize=(8, 6))\n",
        "sns.heatmap(conf_matrix_tabnet, annot=True, fmt='d', cmap='Greens',\n",
        "            xticklabels=['Normal', 'Suspect', 'Pathological'],\n",
        "            yticklabels=['Normal', 'Suspect', 'Pathological'])\n",
        "plt.title('TabNet Confusion Matrix')\n",
        "plt.xlabel('Predicted Label')\n",
        "plt.ylabel('True Label')\n",
        "plt.show()\n"
      ],
      "metadata": {
        "colab": {
          "base_uri": "https://localhost:8080/",
          "height": 1000
        },
        "id": "AGOY1omHkevz",
        "outputId": "d0d576c7-0fbd-4aea-dcb1-2238e98cf743"
      },
      "execution_count": 6,
      "outputs": [
        {
          "output_type": "stream",
          "name": "stdout",
          "text": [
            "epoch 0  | loss: 1.08343 | train_accuracy: 0.74074 | valid_accuracy: 0.67606 |  0:00:03s\n",
            "epoch 1  | loss: 0.46399 | train_accuracy: 0.78609 | valid_accuracy: 0.76526 |  0:00:05s\n",
            "epoch 2  | loss: 0.39552 | train_accuracy: 0.84656 | valid_accuracy: 0.87324 |  0:00:06s\n",
            "epoch 3  | loss: 0.30245 | train_accuracy: 0.86521 | valid_accuracy: 0.84507 |  0:00:08s\n",
            "epoch 4  | loss: 0.32991 | train_accuracy: 0.91484 | valid_accuracy: 0.86385 |  0:00:10s\n",
            "epoch 5  | loss: 0.28965 | train_accuracy: 0.91988 | valid_accuracy: 0.88498 |  0:00:18s\n",
            "epoch 6  | loss: 0.22813 | train_accuracy: 0.935   | valid_accuracy: 0.88263 |  0:00:22s\n",
            "epoch 7  | loss: 0.23524 | train_accuracy: 0.94104 | valid_accuracy: 0.87324 |  0:00:25s\n",
            "epoch 8  | loss: 0.23436 | train_accuracy: 0.92794 | valid_accuracy: 0.8615  |  0:00:29s\n",
            "epoch 9  | loss: 0.22598 | train_accuracy: 0.93449 | valid_accuracy: 0.88498 |  0:00:33s\n",
            "epoch 10 | loss: 0.21006 | train_accuracy: 0.93374 | valid_accuracy: 0.85915 |  0:00:35s\n",
            "epoch 11 | loss: 0.24404 | train_accuracy: 0.88209 | valid_accuracy: 0.84977 |  0:00:37s\n",
            "epoch 12 | loss: 0.23875 | train_accuracy: 0.91358 | valid_accuracy: 0.82864 |  0:00:38s\n",
            "epoch 13 | loss: 0.24019 | train_accuracy: 0.91938 | valid_accuracy: 0.89202 |  0:00:40s\n",
            "epoch 14 | loss: 0.23034 | train_accuracy: 0.90955 | valid_accuracy: 0.84977 |  0:00:42s\n",
            "epoch 15 | loss: 0.20575 | train_accuracy: 0.93449 | valid_accuracy: 0.84272 |  0:00:44s\n",
            "epoch 16 | loss: 0.20362 | train_accuracy: 0.936   | valid_accuracy: 0.88028 |  0:00:46s\n",
            "epoch 17 | loss: 0.17303 | train_accuracy: 0.94961 | valid_accuracy: 0.90845 |  0:00:48s\n",
            "epoch 18 | loss: 0.16982 | train_accuracy: 0.93525 | valid_accuracy: 0.90376 |  0:00:50s\n",
            "epoch 19 | loss: 0.2003  | train_accuracy: 0.94281 | valid_accuracy: 0.88263 |  0:00:51s\n",
            "epoch 20 | loss: 0.16981 | train_accuracy: 0.95087 | valid_accuracy: 0.86385 |  0:00:53s\n",
            "epoch 21 | loss: 0.16924 | train_accuracy: 0.9486  | valid_accuracy: 0.88732 |  0:00:55s\n",
            "epoch 22 | loss: 0.17447 | train_accuracy: 0.95087 | valid_accuracy: 0.90141 |  0:00:57s\n",
            "epoch 23 | loss: 0.15589 | train_accuracy: 0.95591 | valid_accuracy: 0.88732 |  0:00:59s\n",
            "epoch 24 | loss: 0.18148 | train_accuracy: 0.95742 | valid_accuracy: 0.87324 |  0:01:01s\n",
            "epoch 25 | loss: 0.13684 | train_accuracy: 0.95893 | valid_accuracy: 0.89906 |  0:01:03s\n",
            "epoch 26 | loss: 0.1497  | train_accuracy: 0.95364 | valid_accuracy: 0.91784 |  0:01:04s\n",
            "epoch 27 | loss: 0.17883 | train_accuracy: 0.95314 | valid_accuracy: 0.92019 |  0:01:06s\n",
            "epoch 28 | loss: 0.14799 | train_accuracy: 0.94306 | valid_accuracy: 0.89437 |  0:01:08s\n",
            "epoch 29 | loss: 0.13313 | train_accuracy: 0.95868 | valid_accuracy: 0.9061  |  0:01:10s\n",
            "epoch 30 | loss: 0.15152 | train_accuracy: 0.95314 | valid_accuracy: 0.89671 |  0:01:13s\n",
            "epoch 31 | loss: 0.15172 | train_accuracy: 0.93953 | valid_accuracy: 0.88028 |  0:01:14s\n",
            "epoch 32 | loss: 0.14749 | train_accuracy: 0.95288 | valid_accuracy: 0.89671 |  0:01:16s\n",
            "epoch 33 | loss: 0.14014 | train_accuracy: 0.95465 | valid_accuracy: 0.90845 |  0:01:18s\n",
            "epoch 34 | loss: 0.17726 | train_accuracy: 0.9486  | valid_accuracy: 0.92254 |  0:01:20s\n",
            "epoch 35 | loss: 0.15275 | train_accuracy: 0.96044 | valid_accuracy: 0.88732 |  0:01:21s\n",
            "epoch 36 | loss: 0.14387 | train_accuracy: 0.94281 | valid_accuracy: 0.88498 |  0:01:23s\n",
            "epoch 37 | loss: 0.1662  | train_accuracy: 0.95364 | valid_accuracy: 0.88498 |  0:01:26s\n",
            "epoch 38 | loss: 0.14487 | train_accuracy: 0.9554  | valid_accuracy: 0.88498 |  0:01:28s\n",
            "epoch 39 | loss: 0.14937 | train_accuracy: 0.93802 | valid_accuracy: 0.91315 |  0:01:29s\n",
            "epoch 40 | loss: 0.14613 | train_accuracy: 0.9675  | valid_accuracy: 0.90141 |  0:01:31s\n",
            "epoch 41 | loss: 0.14874 | train_accuracy: 0.96271 | valid_accuracy: 0.89437 |  0:01:33s\n",
            "epoch 42 | loss: 0.13376 | train_accuracy: 0.95792 | valid_accuracy: 0.88732 |  0:01:35s\n",
            "epoch 43 | loss: 0.12902 | train_accuracy: 0.96674 | valid_accuracy: 0.90376 |  0:01:38s\n",
            "epoch 44 | loss: 0.15219 | train_accuracy: 0.95566 | valid_accuracy: 0.89202 |  0:01:40s\n",
            "epoch 45 | loss: 0.14686 | train_accuracy: 0.96977 | valid_accuracy: 0.90376 |  0:01:42s\n",
            "epoch 46 | loss: 0.12991 | train_accuracy: 0.93928 | valid_accuracy: 0.88263 |  0:01:44s\n",
            "epoch 47 | loss: 0.15485 | train_accuracy: 0.95591 | valid_accuracy: 0.86854 |  0:01:45s\n",
            "epoch 48 | loss: 0.16215 | train_accuracy: 0.93827 | valid_accuracy: 0.86385 |  0:01:47s\n",
            "epoch 49 | loss: 0.14368 | train_accuracy: 0.95944 | valid_accuracy: 0.86854 |  0:01:49s\n",
            "epoch 50 | loss: 0.13827 | train_accuracy: 0.97178 | valid_accuracy: 0.88967 |  0:01:51s\n",
            "epoch 51 | loss: 0.11619 | train_accuracy: 0.97027 | valid_accuracy: 0.88967 |  0:01:54s\n",
            "epoch 52 | loss: 0.10665 | train_accuracy: 0.97052 | valid_accuracy: 0.88732 |  0:01:55s\n",
            "epoch 53 | loss: 0.11072 | train_accuracy: 0.97405 | valid_accuracy: 0.88732 |  0:01:57s\n",
            "epoch 54 | loss: 0.09592 | train_accuracy: 0.97254 | valid_accuracy: 0.89906 |  0:01:59s\n",
            "\n",
            "Early stopping occurred at epoch 54 with best_epoch = 34 and best_valid_accuracy = 0.92254\n",
            "\n",
            "TabNet Classification Report:\n",
            "              precision    recall  f1-score   support\n",
            "\n",
            "      Normal       0.97      0.94      0.96       332\n",
            "     Suspect       0.74      0.81      0.77        59\n",
            "Pathological       0.82      0.91      0.86        35\n",
            "\n",
            "    accuracy                           0.92       426\n",
            "   macro avg       0.84      0.89      0.87       426\n",
            "weighted avg       0.93      0.92      0.92       426\n",
            "\n"
          ]
        },
        {
          "output_type": "display_data",
          "data": {
            "text/plain": [
              "<Figure size 800x600 with 2 Axes>"
            ],
            "image/png": "[encoded data removed]"
          },
          "metadata": {}
        }
      ]
    },
    {
      "cell_type": "code",
      "source": [
        "# Generate predictions for training data using cross-validation to prevent overfitting\n",
        "\n",
        "from sklearn.model_selection import KFold, StratifiedKFold\n",
        "\n",
        "# Initialize KFold\n",
        "n_folds = 5\n",
        "kf = StratifiedKFold(n_splits=n_folds, shuffle=True, random_state=42)\n",
        "\n",
        "# Initialize arrays to hold out-of-fold predictions for training data\n",
        "oof_preds_lgb = np.zeros((X_train_scaled.shape[0], 3))  # 3 classes\n",
        "oof_preds_tabnet = np.zeros((X_train_scaled.shape[0], 3))  # 3 classes\n",
        "\n",
        "# Initialize arrays to hold test set predictions\n",
        "test_preds_lgb = np.zeros((X_test_scaled.shape[0], 3))\n",
        "test_preds_tabnet = np.zeros((X_test_scaled.shape[0], 3))\n",
        "\n",
        "print(\"Generating out-of-fold predictions...\")\n",
        "\n",
        "for fold, (train_idx, valid_idx) in enumerate(kf.split(X_train_scaled, y_train_resampled)):\n",
        "    print(f\"Fold {fold + 1}\")\n",
        "\n",
        "    # Split data\n",
        "    X_tr, X_val = X_train_scaled.iloc[train_idx], X_train_scaled.iloc[valid_idx]\n",
        "    y_tr, y_val = y_train_resampled.iloc[train_idx], y_train_resampled.iloc[valid_idx]\n",
        "\n",
        "    # LightGBM\n",
        "    lgb_fold = lgb.LGBMClassifier(\n",
        "        n_estimators=100,\n",
        "        learning_rate=0.05,\n",
        "        num_leaves=31,\n",
        "        objective='multiclass',\n",
        "        class_weight='balanced',\n",
        "        random_state=42\n",
        "    )\n",
        "    lgb_fold.fit(X_tr, y_tr)\n",
        "    oof_preds_lgb[valid_idx] = lgb_fold.predict_proba(X_val)\n",
        "    test_preds_lgb += lgb_fold.predict_proba(X_test_scaled) / n_folds\n",
        "\n",
        "    # TabNet\n",
        "    tabnet_fold = TabNetClassifier(\n",
        "        n_d=64,\n",
        "        n_a=64,\n",
        "        n_steps=5,\n",
        "        gamma=1.3,\n",
        "        lambda_sparse=1e-3,\n",
        "        optimizer_fn=torch.optim.Adam,\n",
        "        optimizer_params=dict(lr=2e-2),\n",
        "        mask_type='sparsemax',\n",
        "        verbose=0\n",
        "    )\n",
        "    tabnet_fold.fit(\n",
        "        X_train=X_tr.values,\n",
        "        y_train=y_tr.values,\n",
        "        eval_set=[(X_val.values, y_val.values)],\n",
        "        eval_name=['valid'],\n",
        "        eval_metric=['accuracy'],\n",
        "        max_epochs=100,\n",
        "        patience=20,\n",
        "        batch_size=256,\n",
        "        virtual_batch_size=128\n",
        "        # Removed 'reset=True' parameter\n",
        "    )\n",
        "    oof_preds_tabnet[valid_idx] = tabnet_fold.predict_proba(X_val.values)\n",
        "    test_preds_tabnet += tabnet_fold.predict_proba(X_test_scaled.values) / n_folds\n",
        "\n",
        "print(\"Out-of-fold predictions generated.\")\n"
      ],
      "metadata": {
        "colab": {
          "base_uri": "https://localhost:8080/"
        },
        "id": "sTm0HXZIkeyf",
        "outputId": "7b5a1dcf-dd0a-4069-f54b-aa6961a39161"
      },
      "execution_count": 8,
      "outputs": [
        {
          "output_type": "stream",
          "name": "stdout",
          "text": [
            "Generating out-of-fold predictions...\n",
            "Fold 1\n",
            "[LightGBM] [Warning] Found whitespace in feature_names, replace with underlines\n",
            "[LightGBM] [Info] Auto-choosing row-wise multi-threading, the overhead of testing was 0.000762 seconds.\n",
            "You can set `force_row_wise=true` to remove the overhead.\n",
            "And if memory is not enough, you can set `force_col_wise=true`.\n",
            "[LightGBM] [Info] Total Bins 5097\n",
            "[LightGBM] [Info] Number of data points in the train set: 3175, number of used features: 21\n",
            "[LightGBM] [Info] Start training from score -1.098612\n",
            "[LightGBM] [Info] Start training from score -1.098612\n",
            "[LightGBM] [Info] Start training from score -1.098612\n",
            "[LightGBM] [Warning] No further splits with positive gain, best gain: -inf\n",
            "\n",
            "Early stopping occurred at epoch 48 with best_epoch = 28 and best_valid_accuracy = 0.95088\n",
            "Fold 2\n",
            "[LightGBM] [Warning] Found whitespace in feature_names, replace with underlines\n",
            "[LightGBM] [Info] Auto-choosing row-wise multi-threading, the overhead of testing was 0.000442 seconds.\n",
            "You can set `force_row_wise=true` to remove the overhead.\n",
            "And if memory is not enough, you can set `force_col_wise=true`.\n",
            "[LightGBM] [Info] Total Bins 5099\n",
            "[LightGBM] [Info] Number of data points in the train set: 3175, number of used features: 21\n",
            "[LightGBM] [Info] Start training from score -1.098612\n",
            "[LightGBM] [Info] Start training from score -1.098612\n",
            "[LightGBM] [Info] Start training from score -1.098612\n",
            "[LightGBM] [Warning] No further splits with positive gain, best gain: -inf\n",
            "\n",
            "Early stopping occurred at epoch 63 with best_epoch = 43 and best_valid_accuracy = 0.95718\n",
            "Fold 3\n",
            "[LightGBM] [Warning] Found whitespace in feature_names, replace with underlines\n",
            "[LightGBM] [Info] Auto-choosing col-wise multi-threading, the overhead of testing was 0.001332 seconds.\n",
            "You can set `force_col_wise=true` to remove the overhead.\n",
            "[LightGBM] [Info] Total Bins 5106\n",
            "[LightGBM] [Info] Number of data points in the train set: 3175, number of used features: 21\n",
            "[LightGBM] [Info] Start training from score -1.098612\n",
            "[LightGBM] [Info] Start training from score -1.098612\n",
            "[LightGBM] [Info] Start training from score -1.098612\n",
            "[LightGBM] [Warning] No further splits with positive gain, best gain: -inf\n",
            "\n",
            "Early stopping occurred at epoch 52 with best_epoch = 32 and best_valid_accuracy = 0.95214\n",
            "Fold 4\n",
            "[LightGBM] [Warning] Found whitespace in feature_names, replace with underlines\n",
            "[LightGBM] [Info] Auto-choosing row-wise multi-threading, the overhead of testing was 0.000434 seconds.\n",
            "You can set `force_row_wise=true` to remove the overhead.\n",
            "And if memory is not enough, you can set `force_col_wise=true`.\n",
            "[LightGBM] [Info] Total Bins 5108\n",
            "[LightGBM] [Info] Number of data points in the train set: 3175, number of used features: 21\n",
            "[LightGBM] [Info] Start training from score -1.098612\n",
            "[LightGBM] [Info] Start training from score -1.098612\n",
            "[LightGBM] [Info] Start training from score -1.098612\n",
            "[LightGBM] [Warning] No further splits with positive gain, best gain: -inf\n",
            "\n",
            "Early stopping occurred at epoch 98 with best_epoch = 78 and best_valid_accuracy = 0.96977\n",
            "Fold 5\n",
            "[LightGBM] [Warning] Found whitespace in feature_names, replace with underlines\n",
            "[LightGBM] [Info] Auto-choosing col-wise multi-threading, the overhead of testing was 0.001456 seconds.\n",
            "You can set `force_col_wise=true` to remove the overhead.\n",
            "[LightGBM] [Info] Total Bins 5107\n",
            "[LightGBM] [Info] Number of data points in the train set: 3176, number of used features: 21\n",
            "[LightGBM] [Info] Start training from score -1.098612\n",
            "[LightGBM] [Info] Start training from score -1.098612\n",
            "[LightGBM] [Info] Start training from score -1.098612\n",
            "[LightGBM] [Warning] No further splits with positive gain, best gain: -inf\n",
            "Stop training because you reached max_epochs = 100 with best_epoch = 80 and best_valid_accuracy = 0.97478\n",
            "Out-of-fold predictions generated.\n"
          ]
        }
      ]
    },
    {
      "cell_type": "code",
      "source": [
        "# Create meta-features for the training set\n",
        "meta_X_train = np.hstack((oof_preds_lgb, oof_preds_tabnet))\n",
        "\n",
        "# Create meta-features for the test set\n",
        "meta_X_test = np.hstack((test_preds_lgb, test_preds_tabnet))\n",
        "\n",
        "# Define the meta-learner target\n",
        "meta_y_train = y_train_resampled.values\n"
      ],
      "metadata": {
        "id": "ONmy7YpomkM9"
      },
      "execution_count": 9,
      "outputs": []
    },
    {
      "cell_type": "code",
      "source": [
        "# Initialize the Logistic Regression meta-learner\n",
        "meta_learner = LogisticRegression(\n",
        "    multi_class='multinomial',\n",
        "    solver='lbfgs',\n",
        "    max_iter=1000,\n",
        "    random_state=42\n",
        ")\n",
        "\n",
        "# Train the meta-learner on the meta-features\n",
        "meta_learner.fit(meta_X_train, meta_y_train)\n",
        "\n",
        "# Make predictions on the test set meta-features\n",
        "y_pred_ensemble = meta_learner.predict(meta_X_test)\n",
        "\n",
        "# Evaluate the Ensemble Model\n",
        "print(\"\\nEnsemble Model Classification Report:\")\n",
        "print(classification_report(y_test, y_pred_ensemble, target_names=['Normal', 'Suspect', 'Pathological']))\n",
        "\n",
        "# Confusion Matrix for Ensemble Model\n",
        "conf_matrix_ensemble = confusion_matrix(y_test, y_pred_ensemble)\n",
        "plt.figure(figsize=(8, 6))\n",
        "sns.heatmap(conf_matrix_ensemble, annot=True, fmt='d', cmap='Oranges',\n",
        "            xticklabels=['Normal', 'Suspect', 'Pathological'],\n",
        "            yticklabels=['Normal', 'Suspect', 'Pathological'])\n",
        "plt.title('Ensemble Model Confusion Matrix')\n",
        "plt.xlabel('Predicted Label')\n",
        "plt.ylabel('True Label')\n",
        "plt.show()\n",
        "\n",
        "# Overall Accuracy\n",
        "accuracy = accuracy_score(y_test, y_pred_ensemble)\n",
        "print(f\"Ensemble Model Accuracy: {accuracy:.4f}\")\n"
      ],
      "metadata": {
        "colab": {
          "base_uri": "https://localhost:8080/",
          "height": 796
        },
        "id": "TF6ik-c0mkPV",
        "outputId": "c1363bf3-f7fb-4d08-d41b-9a64e087d2b4"
      },
      "execution_count": 10,
      "outputs": [
        {
          "output_type": "stream",
          "name": "stdout",
          "text": [
            "\n",
            "Ensemble Model Classification Report:\n",
            "              precision    recall  f1-score   support\n",
            "\n",
            "      Normal       0.97      0.97      0.97       332\n",
            "     Suspect       0.83      0.81      0.82        59\n",
            "Pathological       0.86      0.91      0.89        35\n",
            "\n",
            "    accuracy                           0.94       426\n",
            "   macro avg       0.89      0.90      0.89       426\n",
            "weighted avg       0.94      0.94      0.94       426\n",
            "\n"
          ]
        },
        {
          "output_type": "display_data",
          "data": {
            "text/plain": [
              "<Figure size 800x600 with 2 Axes>"
            ],
            "image/png": "[encoded data removed]"
          },
          "metadata": {}
        },
        {
          "output_type": "stream",
          "name": "stdout",
          "text": [
            "Ensemble Model Accuracy: 0.9413\n"
          ]
        }
      ]
    },
    {
      "cell_type": "code",
      "source": [
        "# Individual Models' Accuracy\n",
        "accuracy_lgb = accuracy_score(y_test, y_pred_lgb)\n",
        "accuracy_tabnet = accuracy_score(y_test, y_pred_tabnet)\n",
        "\n",
        "print(f\"LightGBM Accuracy: {accuracy_lgb:.4f}\")\n",
        "print(f\"TabNet Accuracy: {accuracy_tabnet:.4f}\")\n",
        "print(f\"Ensemble Model Accuracy: {accuracy:.4f}\")\n"
      ],
      "metadata": {
        "colab": {
          "base_uri": "https://localhost:8080/"
        },
        "id": "97r9ZLHZmkR6",
        "outputId": "acd5a616-d6f0-48ad-e692-6b4fe5806944"
      },
      "execution_count": 11,
      "outputs": [
        {
          "output_type": "stream",
          "name": "stdout",
          "text": [
            "LightGBM Accuracy: 0.9437\n",
            "TabNet Accuracy: 0.9225\n",
            "Ensemble Model Accuracy: 0.9413\n"
          ]
        }
      ]
    },
    {
      "cell_type": "code",
      "source": [
        "# Coefficients of the meta-learner\n",
        "meta_coefficients = meta_learner.coef_\n",
        "\n",
        "# Create a DataFrame to display the coefficients\n",
        "coeff_df = pd.DataFrame(meta_coefficients, columns=['LightGBM_Normal', 'LightGBM_Suspect', 'LightGBM_Pathological',\n",
        "                                                    'TabNet_Normal', 'TabNet_Suspect', 'TabNet_Pathological'])\n",
        "\n",
        "print(\"\\nMeta-Learner Coefficients:\")\n",
        "print(coeff_df)\n"
      ],
      "metadata": {
        "colab": {
          "base_uri": "https://localhost:8080/"
        },
        "id": "28tRmD2_mkUQ",
        "outputId": "5bf6b839-ee44-4195-e483-45bb3d58ed51"
      },
      "execution_count": 12,
      "outputs": [
        {
          "output_type": "stream",
          "name": "stdout",
          "text": [
            "\n",
            "Meta-Learner Coefficients:\n",
            "   LightGBM_Normal  LightGBM_Suspect  LightGBM_Pathological  TabNet_Normal  \\\n",
            "0         2.758106         -1.262713              -1.353910       1.691451   \n",
            "1        -0.888154          2.183606              -1.212743       0.194530   \n",
            "2        -1.869952         -0.920893               2.566653      -1.885982   \n",
            "\n",
            "   TabNet_Suspect  TabNet_Pathological  \n",
            "0       -0.309023            -1.240945  \n",
            "1        0.965746            -1.077567  \n",
            "2       -0.656723             2.318513  \n"
          ]
        }
      ]
    },
    {
      "cell_type": "code",
      "source": [
        "import joblib\n",
        "\n",
        "# Save the meta-learner\n",
        "joblib.dump(meta_learner, 'meta_learner.pkl')\n",
        "\n",
        "# Save the scaler\n",
        "joblib.dump(scaler, 'scaler.pkl')\n",
        "\n",
        "# Save the LightGBM model\n",
        "joblib.dump(lgb_classifier, 'lightgbm_model.pkl')\n",
        "\n",
        "# Save the TabNet model\n",
        "tabnet_classifier.save_model('tabnet_model.zip')\n",
        "\n",
        "print(\"Models have been saved successfully.\")\n"
      ],
      "metadata": {
        "colab": {
          "base_uri": "https://localhost:8080/"
        },
        "id": "2-3wuAZGmkW9",
        "outputId": "2ea9867c-2c38-4b05-b2ef-781b823dc991"
      },
      "execution_count": 13,
      "outputs": [
        {
          "output_type": "stream",
          "name": "stdout",
          "text": [
            "Successfully saved model at tabnet_model.zip.zip\n",
            "Models have been saved successfully.\n"
          ]
        }
      ]
    },
    {
      "cell_type": "code",
      "source": [
        "# Load the saved models\n",
        "loaded_meta_learner = joblib.load('meta_learner.pkl')\n",
        "loaded_lgb_classifier = joblib.load('lightgbm_model.pkl')\n",
        "loaded_scaler = joblib.load('scaler.pkl')\n",
        "\n",
        "# Load the TabNet model\n",
        "loaded_tabnet = TabNetClassifier()\n",
        "loaded_tabnet.load_model('/content/tabnet_model.zip.zip')\n",
        "\n",
        "# Example: Predicting on a new sample\n",
        "# Replace 'new_sample' with actual data\n",
        "# new_sample = pd.DataFrame({...})  # Ensure it has the same features as X\n",
        "\n",
        "# For demonstration, we'll use the first instance from the test set\n",
        "new_sample = X_test.iloc[[0]]\n",
        "new_sample_scaled = loaded_scaler.transform(new_sample)\n",
        "\n",
        "# Get base model predictions\n",
        "lgb_pred_proba = loaded_lgb_classifier.predict_proba(new_sample_scaled)\n",
        "tabnet_pred_proba = loaded_tabnet.predict_proba(new_sample_scaled)\n",
        "\n",
        "# Create meta-features\n",
        "meta_features = np.hstack((lgb_pred_proba, tabnet_pred_proba))\n",
        "\n",
        "# Predict using the meta-learner\n",
        "ensemble_pred = loaded_meta_learner.predict(meta_features)\n",
        "\n",
        "# Map numerical prediction to labels\n",
        "ensemble_pred_label = health_mapping[ensemble_pred[0]]\n",
        "print(f\"Ensemble Prediction for the new sample: {ensemble_pred_label}\")\n"
      ],
      "metadata": {
        "colab": {
          "base_uri": "https://localhost:8080/"
        },
        "id": "xJSyBQB8ke01",
        "outputId": "820f2c97-6cd6-4387-cbef-f595dd60e898"
      },
      "execution_count": 16,
      "outputs": [
        {
          "output_type": "stream",
          "name": "stdout",
          "text": [
            "Ensemble Prediction for the new sample: Normal\n"
          ]
        }
      ]
    },
    {
      "cell_type": "code",
      "source": [
        "# Since the meta-learner is a Logistic Regression model, feature importances can be derived from its coefficients\n",
        "\n",
        "# Create a DataFrame for meta-learner coefficients\n",
        "meta_coefficients_df = pd.DataFrame(meta_learner.coef_, columns=['LightGBM_Normal', 'LightGBM_Suspect', 'LightGBM_Pathological',\n",
        "                                                                 'TabNet_Normal', 'TabNet_Suspect', 'TabNet_Pathological'],\n",
        "                                    index=['Normal', 'Suspect', 'Pathological'])\n",
        "\n",
        "print(\"\\nMeta-Learner Coefficients:\")\n",
        "print(meta_coefficients_df)\n",
        "\n",
        "# Plot the coefficients\n",
        "meta_coefficients_df.plot(kind='bar', figsize=(10, 6))\n",
        "plt.title('Meta-Learner Coefficients')\n",
        "plt.ylabel('Coefficient Value')\n",
        "plt.xticks(rotation=0)\n",
        "plt.legend(title='Base Model Predictions')\n",
        "plt.show()\n"
      ],
      "metadata": {
        "colab": {
          "base_uri": "https://localhost:8080/",
          "height": 741
        },
        "id": "q7vtGbUcke3M",
        "outputId": "7cf42d15-50a2-4ea0-8ec6-00eaadf67666"
      },
      "execution_count": 17,
      "outputs": [
        {
          "output_type": "stream",
          "name": "stdout",
          "text": [
            "\n",
            "Meta-Learner Coefficients:\n",
            "              LightGBM_Normal  LightGBM_Suspect  LightGBM_Pathological  \\\n",
            "Normal               2.758106         -1.262713              -1.353910   \n",
            "Suspect             -0.888154          2.183606              -1.212743   \n",
            "Pathological        -1.869952         -0.920893               2.566653   \n",
            "\n",
            "              TabNet_Normal  TabNet_Suspect  TabNet_Pathological  \n",
            "Normal             1.691451       -0.309023            -1.240945  \n",
            "Suspect            0.194530        0.965746            -1.077567  \n",
            "Pathological      -1.885982       -0.656723             2.318513  \n"
          ]
        },
        {
          "output_type": "display_data",
          "data": {
            "text/plain": [
              "<Figure size 1000x600 with 1 Axes>"
            ],
            "image/png": "[encoded data removed]"
          },
          "metadata": {}
        }
      ]
    },
    {
      "cell_type": "code",
      "source": [],
      "metadata": {
        "id": "rGjY8l4Hke5h"
      },
      "execution_count": null,
      "outputs": []
    },
    {
      "cell_type": "code",
      "source": [],
      "metadata": {
        "id": "yyexwhOSke75"
      },
      "execution_count": null,
      "outputs": []
    }
  ]
}